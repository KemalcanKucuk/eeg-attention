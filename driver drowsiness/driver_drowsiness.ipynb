{
 "cells": [
  {
   "cell_type": "code",
   "execution_count": 32,
   "metadata": {},
   "outputs": [],
   "source": [
    "import numpy as np\n",
    "import pandas as pd\n",
    "import scipy.io\n",
    "import matplotlib.pyplot as plt\n",
    "from scipy import signal\n",
    "import librosa as lr\n",
    "import librosa.feature as lrf\n",
    "import sklearn as sk\n",
    "from sklearn.metrics import confusion_matrix, ConfusionMatrixDisplay\n",
    "import xgboost as xgb\n",
    "from sklearn.preprocessing import MinMaxScaler\n",
    "import warnings\n",
    "warnings.simplefilter(action='ignore', category=FutureWarning)\n",
    "warnings.simplefilter(action='ignore', category=UserWarning)\n",
    "from scipy.signal import welch\n",
    "from sklearn.linear_model import Lasso\n",
    "import scipy.stats as stats\n",
    "from sklearn.metrics import classification_report\n",
    "from sklearn.metrics import recall_score\n",
    "from sklearn.metrics import precision_score\n",
    "from sklearn.metrics import accuracy_score\n",
    "from sklearn.metrics import f1_score\n",
    "from sklearn.metrics import roc_curve, roc_auc_score\n",
    "from sklearn.metrics import log_loss\n",
    "from sklearn.metrics import classification_report\n",
    "import pywt\n",
    "from pywt import *\n",
    "from scipy.signal import periodogram\n",
    "import numpy as np\n",
    "import matplotlib.pyplot as plt\n",
    "from scipy.signal import hilbert\n"
   ]
  },
  {
   "cell_type": "code",
   "execution_count": 33,
   "metadata": {},
   "outputs": [],
   "source": [
    "np.random.seed(100)"
   ]
  },
  {
   "cell_type": "code",
   "execution_count": 34,
   "metadata": {},
   "outputs": [],
   "source": [
    "data_dict = scipy.io.loadmat('dataset.mat')"
   ]
  },
  {
   "cell_type": "code",
   "execution_count": 35,
   "metadata": {},
   "outputs": [],
   "source": [
    "subjects = data_dict[\"subindex\"]\n",
    "states = data_dict[\"substate\"]\n",
    "data = data_dict[\"EEGsample\"]"
   ]
  },
  {
   "cell_type": "code",
   "execution_count": 36,
   "metadata": {},
   "outputs": [],
   "source": [
    "subjects = pd.DataFrame(subjects)\n",
    "states = pd.DataFrame(states)\n",
    "#data = np.reshape(data,(60660,384))\n",
    "#data = pd.DataFrame(data)\n",
    "#data = data.to_numpy()\n",
    "\n",
    "#CHANNEL DENEMECE\n",
    "\n",
    "\n",
    "#data = data[:,[3, 4, 13, 14, 27, 28, 29],:]\n",
    "#data_temp = np.concatenate((data[:,0,:],data[:,1,:],data[:,2,:],data[:,3,:],data[:,4,:],data[:,5,:],data[:,6,:],data[:,7,:],data[:,8,:],data[:,9,:],data[:,10,:],data[:,11,:],data[:,12,:],data[:,13,:],data[:,14,:],data[:,15,:],data[:,16,:],data[:,17,:],data[:,18,:],data[:,19,:],data[:,20,:],data[:,21,:],data[:,22,:],data[:,23,:],data[:,24,:],data[:,25,:],data[:,26,:],data[:,27,:],data[:,28,:],data[:,29,:]))\n",
    "data_temp = np.concatenate((data[:,3,:],data[:,5,:],data[:,13,:],data[:,14,:],data[:,28,:]))\n",
    "#data_temp = np.concatenate((data[:,28,:]))\n",
    "#data_temp = data[:,5,:]\n",
    "#data_temp = np.concatenate((data[:,0,:],data[:,1,:],data[:,2,:],data[:,3,:],data[:,4,:],data[:,5,:],data[:,6,:],data[:,7,:],data[:,8,:],data[:,9,:],data[:,10,:],data[:,11,:]))\n",
    "data = data_temp"
   ]
  },
  {
   "cell_type": "code",
   "execution_count": 37,
   "metadata": {},
   "outputs": [],
   "source": [
    "#BU FONKSİYON PERFORMANSI ARTTIRMADI SİLEBİLİRİZ GİBİ\n",
    "\n",
    "def hjorth_parameters(eeg_signal):\n",
    "    # Calculate the first derivative (slope) of the EEG signal\n",
    "    diff_signal = np.diff(eeg_signal)\n",
    "    \n",
    "    # Calculate the variance (activity) of the original signal\n",
    "    activity = np.var(eeg_signal)\n",
    "    \n",
    "    # Calculate the variance (activity) of the first derivative (slope)\n",
    "    mobility = np.var(diff_signal)\n",
    "    \n",
    "    # Calculate the mobility parameter (square root of mobility divided by activity)\n",
    "    mobility /= activity\n",
    "    \n",
    "    # Calculate the second derivative of the EEG signal\n",
    "    diff2_signal = np.diff(diff_signal)\n",
    "    \n",
    "    # Calculate the complexity (square root of the mobility divided by the mobility of the first derivative)\n",
    "    complexity = np.sqrt(mobility / (np.var(diff2_signal) / activity))\n",
    "    \n",
    "    return activity, mobility, complexity"
   ]
  },
  {
   "cell_type": "code",
   "execution_count": 38,
   "metadata": {},
   "outputs": [],
   "source": [
    "def feature_extraction(signal):\n",
    "    \n",
    "    n_mfcc =5\n",
    "    feature_vector = []\n",
    "    extracted_features = []\n",
    "    # Timbral Texture Features\n",
    "    feature_vector.append([lrf.spectral_centroid(signal)]) # Spectral Centroid\n",
    "    feature_vector.append([lrf.spectral_rolloff(signal)]) # Rolloff\n",
    "    #feature_vector.append([lr.onset.onset_strength(signal)]) # Flux\n",
    "    #feature_vector.append(lr.feature.zero_crossing_rate(signal)) # Zero Crossings\n",
    "    feature_vector.append([[np.array(np.sum(np.abs(np.diff(np.sign(signal)))) / (2 * len(signal)))]])\n",
    "    \n",
    "    for mfcc in lrf.mfcc(signal, n_mfcc=n_mfcc): # First 5 MFCCs\n",
    "        feature_vector.append([mfcc])\n",
    "    \n",
    "    for chroma in lrf.chroma_stft(signal, n_chroma=15): #chromagram\n",
    "        feature_vector.append([chroma])\n",
    "\n",
    "    n_mel = 10\n",
    "    for mel in lr.power_to_db(lrf.melspectrogram(signal))[:n_mel, :] :\n",
    "        feature_vector.append([mel])\n",
    "    \n",
    "    #feature_vector.append([np.mean(signal)]) #no\n",
    "    #feature_vector.append([np.var(signal)]) #no\n",
    "    #feature_vector.append([stats.skew(signal)]) #no\n",
    "    #feature_vector.append([stats.kurtosis(signal)]) #no\n",
    "\n",
    "    #activity, mobility, complexity = hjorth_parameters(signal) #no\n",
    "    #feature_vector.append([activity]) #no\n",
    "    #feature_vector.append([mobility]) #no\n",
    "    #feature_vector.append([complexity]) #no\n",
    "\n",
    "    #feature_vector.append([np.sqrt(np.mean(signal**2))]) #no\n",
    "\n",
    "\n",
    "    \n",
    "    wavelet = 'db4' #nasıl çalışıyor veya doğru mu b\n",
    "    frequency_bands = {\n",
    "    'delta': (1, 4),\n",
    "    'theta': (4, 8),\n",
    "    'alpha': (8, 13),\n",
    "    'beta': (13, 30),\n",
    "    'gamma': (30,64)\n",
    "}\n",
    "    # Iterate over each frequency band\n",
    "    band_powers = {}\n",
    "    sampling_frequency = 128\n",
    "\n",
    "    # Calculate the power spectral density (PSD) using Welch's method\n",
    "    frequencies, psd = welch(signal, fs=sampling_frequency, nperseg=1024)\n",
    "\n",
    "    # Iterate over each frequency band\n",
    "    for band, (low_freq, high_freq) in frequency_bands.items():\n",
    "        # Find indices corresponding to the specified frequency range\n",
    "        band_indices = np.where((frequencies >= low_freq) & (frequencies < high_freq))\n",
    "        # Integrate PSD within the band's frequency range to compute band power\n",
    "        band_power = np.trapz(psd[band_indices], frequencies[band_indices])\n",
    "        band_powers[band] = band_power\n",
    "        feature_vector.append([[band_power]])\n",
    "    \n",
    "    feature_vector.append([[band_powers['gamma']/band_powers['beta']]])\n",
    "    feature_vector.append([[band_powers['gamma']/band_powers['alpha']]])\n",
    "    feature_vector.append([[band_powers['gamma']/band_powers['theta']]])\n",
    "    feature_vector.append([[band_powers['gamma']/band_powers['delta']]])\n",
    "    feature_vector.append([[band_powers['beta']/band_powers['alpha']]])\n",
    "    feature_vector.append([[band_powers['beta']/band_powers['theta']]])\n",
    "    feature_vector.append([[band_powers['beta']/band_powers['delta']]])\n",
    "    feature_vector.append([[band_powers['alpha']/band_powers['theta']]])\n",
    "    feature_vector.append([[band_powers['alpha']/band_powers['delta']]])\n",
    "    feature_vector.append([[band_powers['theta']/band_powers['delta']]])\n",
    "    \n",
    "    '''\n",
    "    [cA5, cD5, cD4, cD3, cD2, cD1] = wavedec(signal, 'db1', level=5)\n",
    "    coeffs = [cA5, cD5, cD4, cD3, cD2, cD1]\n",
    "    db1 = pywt.Wavelet('db1')\n",
    "    \n",
    "    re0 = pywt.waverec([coeffs[0]], db1)\n",
    "    re1 = pywt.waverec([coeffs[1]], db1)\n",
    "    re2 = pywt.waverec([coeffs[2]], db1)\n",
    "    re3 = pywt.waverec([coeffs[3]], db1)\n",
    "    re4 = pywt.waverec([coeffs[4]], db1)\n",
    "    re5 = pywt.waverec([coeffs[5]], db1)\n",
    "\n",
    "    re0_p = np.sum(np.power(re0,2)/len(re0))\n",
    "    re1_p = np.sum(np.power(re1,2)/len(re1))\n",
    "    re2_p = np.sum(np.power(re2,2)/len(re2))\n",
    "    re3_p = np.sum(np.power(re3,2)/len(re3))\n",
    "    re4_p = np.sum(np.power(re4,2)/len(re4))\n",
    "    re5_p = np.sum(np.power(re5,2)/len(re5))\n",
    "    \n",
    "    feature_vector.append([[re0_p]])\n",
    "    feature_vector.append([[re1_p]])\n",
    "    feature_vector.append([[re2_p]])\n",
    "    feature_vector.append([[re3_p]])\n",
    "    feature_vector.append([[re4_p]])\n",
    "    feature_vector.append([[re5_p]])\n",
    "    \n",
    "    feature_vector.append([[re5_p/re4_p]])\n",
    "    feature_vector.append([[re5_p/re3_p]])\n",
    "    feature_vector.append([[re5_p/re2_p]])\n",
    "    feature_vector.append([[re5_p/re1_p]])\n",
    "    feature_vector.append([[re5_p/re0_p]])\n",
    "    feature_vector.append([[re4_p/re3_p]])\n",
    "    feature_vector.append([[re4_p/re2_p]])\n",
    "    feature_vector.append([[re4_p/re1_p]])\n",
    "    feature_vector.append([[re4_p/re0_p]])\n",
    "    feature_vector.append([[re3_p/re2_p]])\n",
    "    feature_vector.append([[re3_p/re1_p]])\n",
    "    feature_vector.append([[re3_p/re0_p]])\n",
    "    feature_vector.append([[re2_p/re1_p]])\n",
    "    feature_vector.append([[re2_p/re0_p]])\n",
    "    feature_vector.append([[re1_p/re0_p]])\n",
    "    '''\n",
    "    '''\n",
    "    # Pitch Content Features\n",
    "    n_mel = 10\n",
    "    n_tonnetz = 6\n",
    "    #feature_vector.append(lr.beat.tempo(signal)) # Tempo #bu kötü yapiyor\n",
    "    \n",
    "    for chroma in lrf.chroma_stft(signal, n_chroma=12): #bu iyi yapiyor\n",
    "        feature_vector.append([chroma])\n",
    "        \n",
    "    for mel in lr.power_to_db(lrf.melspectrogram(signal))[:n_mel, :] : #bu iyi\n",
    "        feature_vector.append([mel])\n",
    "    \n",
    "    #for tonal in lrf.tonnetz(signal)[:n_tonnetz, :] : #daha kötü gibi\n",
    "    #    feature_vector.append(tonal)\n",
    "    '''\n",
    "    for feature in feature_vector:\n",
    "        extracted_features.append(feature)\n",
    "        #extracted_features.append(np.mean(feature))\n",
    "        #extracted_features.append(np.std(feature)) \n",
    "    \n",
    "    '''    \n",
    "    # Rhythymic Content Features\n",
    "    peaks = -np.sort(-lr.onset.onset_strength(signal, sr = 128))\n",
    "    A0 = peaks[0]\n",
    "    A1 = peaks[1]\n",
    "    RA = A1/A0    \n",
    "    \n",
    "    extracted_features.append(np.mean(lrf.tempogram(signal)))\n",
    "    extracted_features.append(A0)\n",
    "    extracted_features.append(A1)\n",
    "    extracted_features.append(RA)\n",
    "    '''\n",
    "    return np.array(extracted_features)"
   ]
  },
  {
   "cell_type": "code",
   "execution_count": 39,
   "metadata": {},
   "outputs": [
    {
     "name": "stdout",
     "output_type": "stream",
     "text": [
      "140.94291710853577\n"
     ]
    }
   ],
   "source": [
    "import time\n",
    "\n",
    "start = time.time()\n",
    "\n",
    "boncuk = []\n",
    "for i in range(data.shape[0]):\n",
    "    powers = feature_extraction(data[i,:])\n",
    "    boncuk.append(powers)\n",
    "\n",
    "end = time.time()\n",
    "print(end-start) \n",
    "#zaman olc"
   ]
  },
  {
   "cell_type": "code",
   "execution_count": 40,
   "metadata": {},
   "outputs": [],
   "source": [
    "boncuk1 = np.array(boncuk)"
   ]
  },
  {
   "cell_type": "code",
   "execution_count": 41,
   "metadata": {},
   "outputs": [],
   "source": [
    "boncuk1 = boncuk1[:,:,0,0]"
   ]
  },
  {
   "cell_type": "code",
   "execution_count": 42,
   "metadata": {},
   "outputs": [],
   "source": [
    "df = pd.DataFrame.from_dict(boncuk1)"
   ]
  },
  {
   "cell_type": "code",
   "execution_count": 43,
   "metadata": {},
   "outputs": [],
   "source": [
    "df.to_csv(\"eeg_featuresold.csv\")"
   ]
  },
  {
   "cell_type": "code",
   "execution_count": 44,
   "metadata": {},
   "outputs": [],
   "source": [
    "df = pd.read_csv('eeg_featuresold.csv')\n",
    "df = df.drop('Unnamed: 0', axis=1)"
   ]
  },
  {
   "cell_type": "code",
   "execution_count": 45,
   "metadata": {},
   "outputs": [],
   "source": [
    "X = df\n",
    "y = states\n",
    "y = np.concatenate((y,y,y,y,y))"
   ]
  },
  {
   "cell_type": "code",
   "execution_count": 46,
   "metadata": {},
   "outputs": [],
   "source": [
    "from sklearn.model_selection import train_test_split\n",
    "from sklearn.preprocessing import StandardScaler\n",
    "\n",
    "X_train, X_test, y_train, y_test = train_test_split(X, y, test_size=0.2,random_state=1)\n",
    "display_labels = [\"focused\",\"drowsy\"]\n",
    "\n",
    "# apply normalization after splitting to avoid leakage\n",
    "scaler = StandardScaler()\n",
    "X_train = scaler.fit_transform(X_train)\n",
    "X_test = scaler.transform(X_test)\n"
   ]
  },
  {
   "cell_type": "code",
   "execution_count": 47,
   "metadata": {},
   "outputs": [
    {
     "data": {
      "text/plain": [
       "'\\nfrom sklearn.decomposition import PCA\\nfrom sklearn.preprocessing import LabelEncoder, StandardScaler\\n\\n#y = y.reset_index(drop=True)\\n\\npca = PCA(n_components = 0.999)\\nX_train = pca.fit_transform(X_train)\\nX_test = pca.transform(X_test)\\n#X = dataPCA\\nvariance = pd.DataFrame(pca.explained_variance_ratio_)\\nprint(pca.explained_variance_ratio_)\\nprint(np.sum(pca.explained_variance_ratio_))\\n'"
      ]
     },
     "execution_count": 47,
     "metadata": {},
     "output_type": "execute_result"
    }
   ],
   "source": [
    "# Encode the genre labels\n",
    "'''\n",
    "from sklearn.decomposition import PCA\n",
    "from sklearn.preprocessing import LabelEncoder, StandardScaler\n",
    "\n",
    "#y = y.reset_index(drop=True)\n",
    "\n",
    "pca = PCA(n_components = 0.999)\n",
    "X_train = pca.fit_transform(X_train)\n",
    "X_test = pca.transform(X_test)\n",
    "#X = dataPCA\n",
    "variance = pd.DataFrame(pca.explained_variance_ratio_)\n",
    "print(pca.explained_variance_ratio_)\n",
    "print(np.sum(pca.explained_variance_ratio_))\n",
    "'''"
   ]
  },
  {
   "cell_type": "code",
   "execution_count": 48,
   "metadata": {},
   "outputs": [
    {
     "name": "stdout",
     "output_type": "stream",
     "text": [
      "Accuracy of K-NN classifier on training set: 0.8634\n",
      "Accuracy of K-NN classifier on test set: 0.7913\n"
     ]
    }
   ],
   "source": [
    "from sklearn.neighbors import KNeighborsClassifier\n",
    "knn = KNeighborsClassifier()\n",
    "knn.fit(X_train, y_train)\n",
    "print('Accuracy of K-NN classifier on training set: {:.4f}'\n",
    "     .format(knn.score(X_train, y_train)))\n",
    "print('Accuracy of K-NN classifier on test set: {:.4f}'\n",
    "     .format(knn.score(X_test, y_test)))"
   ]
  },
  {
   "cell_type": "code",
   "execution_count": 49,
   "metadata": {},
   "outputs": [
    {
     "name": "stdout",
     "output_type": "stream",
     "text": [
      "KNN Matrix\n"
     ]
    },
    {
     "data": {
      "text/plain": [
       "<sklearn.metrics._plot.confusion_matrix.ConfusionMatrixDisplay at 0x17f335510>"
      ]
     },
     "execution_count": 49,
     "metadata": {},
     "output_type": "execute_result"
    },
    {
     "data": {
      "image/png": "[encoded data removed]",
      "text/plain": [
       "<Figure size 640x480 with 2 Axes>"
      ]
     },
     "metadata": {},
     "output_type": "display_data"
    }
   ],
   "source": [
    "knn_cm = confusion_matrix(y_test, knn.predict(X_test))\n",
    "knn_disp = ConfusionMatrixDisplay(confusion_matrix=knn_cm,display_labels=display_labels)\n",
    "print(\"KNN Matrix\")\n",
    "knn_disp.plot()"
   ]
  },
  {
   "cell_type": "code",
   "execution_count": 50,
   "metadata": {},
   "outputs": [
    {
     "name": "stdout",
     "output_type": "stream",
     "text": [
      "Accuracy of RandomForestClassifier classifier on training set: 1.0000\n",
      "Accuracy of RandomForestClassifier classifier on test set: 0.7908\n"
     ]
    }
   ],
   "source": [
    "from sklearn.ensemble import RandomForestClassifier\n",
    "rf = RandomForestClassifier(n_estimators=100).fit(X_train, y_train)\n",
    "print('Accuracy of RandomForestClassifier classifier on training set: {:.4f}'\n",
    "     .format(rf.score(X_train, y_train)))\n",
    "print('Accuracy of RandomForestClassifier classifier on test set: {:.4f}'\n",
    "     .format(rf.score(X_test, y_test)))"
   ]
  },
  {
   "cell_type": "code",
   "execution_count": 51,
   "metadata": {},
   "outputs": [
    {
     "name": "stdout",
     "output_type": "stream",
     "text": [
      "DT Matrix\n"
     ]
    },
    {
     "data": {
      "text/plain": [
       "<sklearn.metrics._plot.confusion_matrix.ConfusionMatrixDisplay at 0x17f5ef190>"
      ]
     },
     "execution_count": 51,
     "metadata": {},
     "output_type": "execute_result"
    },
    {
     "data": {
      "image/png": "[encoded data removed]",
      "text/plain": [
       "<Figure size 640x480 with 2 Axes>"
      ]
     },
     "metadata": {},
     "output_type": "display_data"
    }
   ],
   "source": [
    "rf_cm = confusion_matrix(y_test, rf.predict(X_test))\n",
    "rf_disp = ConfusionMatrixDisplay(confusion_matrix=rf_cm,display_labels=display_labels)\n",
    "print(\"DT Matrix\")\n",
    "rf_disp.plot()"
   ]
  },
  {
   "cell_type": "code",
   "execution_count": 62,
   "metadata": {},
   "outputs": [
    {
     "ename": "KeyboardInterrupt",
     "evalue": "",
     "output_type": "error",
     "traceback": [
      "\u001b[0;31m---------------------------------------------------------------------------\u001b[0m",
      "\u001b[0;31mKeyboardInterrupt\u001b[0m                         Traceback (most recent call last)",
      "\u001b[1;32m/Users/efe/Documents/eeg-attention/driver drowsiness/driver_drowsiness.ipynb Cell 21\u001b[0m line \u001b[0;36m2\n\u001b[1;32m      <a href='vscode-notebook-cell:/Users/efe/Documents/eeg-attention/driver%20drowsiness/driver_drowsiness.ipynb#X26sZmlsZQ%3D%3D?line=0'>1</a>\u001b[0m \u001b[39mfrom\u001b[39;00m \u001b[39msklearn\u001b[39;00m\u001b[39m.\u001b[39;00m\u001b[39mensemble\u001b[39;00m \u001b[39mimport\u001b[39;00m GradientBoostingClassifier\n\u001b[0;32m----> <a href='vscode-notebook-cell:/Users/efe/Documents/eeg-attention/driver%20drowsiness/driver_drowsiness.ipynb#X26sZmlsZQ%3D%3D?line=1'>2</a>\u001b[0m clf \u001b[39m=\u001b[39m GradientBoostingClassifier(loss\u001b[39m=\u001b[39;49m\u001b[39m'\u001b[39;49m\u001b[39mlog_loss\u001b[39;49m\u001b[39m'\u001b[39;49m,n_estimators\u001b[39m=\u001b[39;49m\u001b[39m300\u001b[39;49m, learning_rate\u001b[39m=\u001b[39;49m\u001b[39m0.1\u001b[39;49m, max_depth\u001b[39m=\u001b[39;49m\u001b[39m10\u001b[39;49m, random_state\u001b[39m=\u001b[39;49m\u001b[39m1\u001b[39;49m)\u001b[39m.\u001b[39;49mfit(X_train, y_train)\n\u001b[1;32m      <a href='vscode-notebook-cell:/Users/efe/Documents/eeg-attention/driver%20drowsiness/driver_drowsiness.ipynb#X26sZmlsZQ%3D%3D?line=2'>3</a>\u001b[0m \u001b[39mprint\u001b[39m(\u001b[39m'\u001b[39m\u001b[39mAccuracy of GradientBoostingClassifier on training set: \u001b[39m\u001b[39m{:.8f}\u001b[39;00m\u001b[39m'\u001b[39m\n\u001b[1;32m      <a href='vscode-notebook-cell:/Users/efe/Documents/eeg-attention/driver%20drowsiness/driver_drowsiness.ipynb#X26sZmlsZQ%3D%3D?line=3'>4</a>\u001b[0m      \u001b[39m.\u001b[39mformat(clf\u001b[39m.\u001b[39mscore(X_train, y_train)))\n\u001b[1;32m      <a href='vscode-notebook-cell:/Users/efe/Documents/eeg-attention/driver%20drowsiness/driver_drowsiness.ipynb#X26sZmlsZQ%3D%3D?line=4'>5</a>\u001b[0m \u001b[39mprint\u001b[39m(\u001b[39m'\u001b[39m\u001b[39mAccuracy of GradientBoostingClassifier on test set: \u001b[39m\u001b[39m{:.8f}\u001b[39;00m\u001b[39m'\u001b[39m\n\u001b[1;32m      <a href='vscode-notebook-cell:/Users/efe/Documents/eeg-attention/driver%20drowsiness/driver_drowsiness.ipynb#X26sZmlsZQ%3D%3D?line=5'>6</a>\u001b[0m      \u001b[39m.\u001b[39mformat(clf\u001b[39m.\u001b[39mscore(X_test, y_test)))\n",
      "File \u001b[0;32m/opt/homebrew/lib/python3.10/site-packages/sklearn/ensemble/_gb.py:668\u001b[0m, in \u001b[0;36mBaseGradientBoosting.fit\u001b[0;34m(self, X, y, sample_weight, monitor)\u001b[0m\n\u001b[1;32m    665\u001b[0m     \u001b[39mself\u001b[39m\u001b[39m.\u001b[39m_resize_state()\n\u001b[1;32m    667\u001b[0m \u001b[39m# fit the boosting stages\u001b[39;00m\n\u001b[0;32m--> 668\u001b[0m n_stages \u001b[39m=\u001b[39m \u001b[39mself\u001b[39;49m\u001b[39m.\u001b[39;49m_fit_stages(\n\u001b[1;32m    669\u001b[0m     X,\n\u001b[1;32m    670\u001b[0m     y,\n\u001b[1;32m    671\u001b[0m     raw_predictions,\n\u001b[1;32m    672\u001b[0m     sample_weight,\n\u001b[1;32m    673\u001b[0m     \u001b[39mself\u001b[39;49m\u001b[39m.\u001b[39;49m_rng,\n\u001b[1;32m    674\u001b[0m     X_val,\n\u001b[1;32m    675\u001b[0m     y_val,\n\u001b[1;32m    676\u001b[0m     sample_weight_val,\n\u001b[1;32m    677\u001b[0m     begin_at_stage,\n\u001b[1;32m    678\u001b[0m     monitor,\n\u001b[1;32m    679\u001b[0m )\n\u001b[1;32m    681\u001b[0m \u001b[39m# change shape of arrays after fit (early-stopping or additional ests)\u001b[39;00m\n\u001b[1;32m    682\u001b[0m \u001b[39mif\u001b[39;00m n_stages \u001b[39m!=\u001b[39m \u001b[39mself\u001b[39m\u001b[39m.\u001b[39mestimators_\u001b[39m.\u001b[39mshape[\u001b[39m0\u001b[39m]:\n",
      "File \u001b[0;32m/opt/homebrew/lib/python3.10/site-packages/sklearn/ensemble/_gb.py:745\u001b[0m, in \u001b[0;36mBaseGradientBoosting._fit_stages\u001b[0;34m(self, X, y, raw_predictions, sample_weight, random_state, X_val, y_val, sample_weight_val, begin_at_stage, monitor)\u001b[0m\n\u001b[1;32m    738\u001b[0m     old_oob_score \u001b[39m=\u001b[39m loss_(\n\u001b[1;32m    739\u001b[0m         y[\u001b[39m~\u001b[39msample_mask],\n\u001b[1;32m    740\u001b[0m         raw_predictions[\u001b[39m~\u001b[39msample_mask],\n\u001b[1;32m    741\u001b[0m         sample_weight[\u001b[39m~\u001b[39msample_mask],\n\u001b[1;32m    742\u001b[0m     )\n\u001b[1;32m    744\u001b[0m \u001b[39m# fit next stage of trees\u001b[39;00m\n\u001b[0;32m--> 745\u001b[0m raw_predictions \u001b[39m=\u001b[39m \u001b[39mself\u001b[39;49m\u001b[39m.\u001b[39;49m_fit_stage(\n\u001b[1;32m    746\u001b[0m     i,\n\u001b[1;32m    747\u001b[0m     X,\n\u001b[1;32m    748\u001b[0m     y,\n\u001b[1;32m    749\u001b[0m     raw_predictions,\n\u001b[1;32m    750\u001b[0m     sample_weight,\n\u001b[1;32m    751\u001b[0m     sample_mask,\n\u001b[1;32m    752\u001b[0m     random_state,\n\u001b[1;32m    753\u001b[0m     X_csc,\n\u001b[1;32m    754\u001b[0m     X_csr,\n\u001b[1;32m    755\u001b[0m )\n\u001b[1;32m    757\u001b[0m \u001b[39m# track deviance (= loss)\u001b[39;00m\n\u001b[1;32m    758\u001b[0m \u001b[39mif\u001b[39;00m do_oob:\n",
      "File \u001b[0;32m/opt/homebrew/lib/python3.10/site-packages/sklearn/ensemble/_gb.py:247\u001b[0m, in \u001b[0;36mBaseGradientBoosting._fit_stage\u001b[0;34m(self, i, X, y, raw_predictions, sample_weight, sample_mask, random_state, X_csc, X_csr)\u001b[0m\n\u001b[1;32m    244\u001b[0m     sample_weight \u001b[39m=\u001b[39m sample_weight \u001b[39m*\u001b[39m sample_mask\u001b[39m.\u001b[39mastype(np\u001b[39m.\u001b[39mfloat64)\n\u001b[1;32m    246\u001b[0m X \u001b[39m=\u001b[39m X_csr \u001b[39mif\u001b[39;00m X_csr \u001b[39mis\u001b[39;00m \u001b[39mnot\u001b[39;00m \u001b[39mNone\u001b[39;00m \u001b[39melse\u001b[39;00m X\n\u001b[0;32m--> 247\u001b[0m tree\u001b[39m.\u001b[39;49mfit(X, residual, sample_weight\u001b[39m=\u001b[39;49msample_weight, check_input\u001b[39m=\u001b[39;49m\u001b[39mFalse\u001b[39;49;00m)\n\u001b[1;32m    249\u001b[0m \u001b[39m# update tree leaves\u001b[39;00m\n\u001b[1;32m    250\u001b[0m loss\u001b[39m.\u001b[39mupdate_terminal_regions(\n\u001b[1;32m    251\u001b[0m     tree\u001b[39m.\u001b[39mtree_,\n\u001b[1;32m    252\u001b[0m     X,\n\u001b[0;32m   (...)\u001b[0m\n\u001b[1;32m    259\u001b[0m     k\u001b[39m=\u001b[39mk,\n\u001b[1;32m    260\u001b[0m )\n",
      "File \u001b[0;32m/opt/homebrew/lib/python3.10/site-packages/sklearn/tree/_classes.py:1342\u001b[0m, in \u001b[0;36mDecisionTreeRegressor.fit\u001b[0;34m(self, X, y, sample_weight, check_input)\u001b[0m\n\u001b[1;32m   1313\u001b[0m \u001b[39mdef\u001b[39;00m \u001b[39mfit\u001b[39m(\u001b[39mself\u001b[39m, X, y, sample_weight\u001b[39m=\u001b[39m\u001b[39mNone\u001b[39;00m, check_input\u001b[39m=\u001b[39m\u001b[39mTrue\u001b[39;00m):\n\u001b[1;32m   1314\u001b[0m     \u001b[39m\"\"\"Build a decision tree regressor from the training set (X, y).\u001b[39;00m\n\u001b[1;32m   1315\u001b[0m \n\u001b[1;32m   1316\u001b[0m \u001b[39m    Parameters\u001b[39;00m\n\u001b[0;32m   (...)\u001b[0m\n\u001b[1;32m   1339\u001b[0m \u001b[39m        Fitted estimator.\u001b[39;00m\n\u001b[1;32m   1340\u001b[0m \u001b[39m    \"\"\"\u001b[39;00m\n\u001b[0;32m-> 1342\u001b[0m     \u001b[39msuper\u001b[39;49m()\u001b[39m.\u001b[39;49mfit(\n\u001b[1;32m   1343\u001b[0m         X,\n\u001b[1;32m   1344\u001b[0m         y,\n\u001b[1;32m   1345\u001b[0m         sample_weight\u001b[39m=\u001b[39;49msample_weight,\n\u001b[1;32m   1346\u001b[0m         check_input\u001b[39m=\u001b[39;49mcheck_input,\n\u001b[1;32m   1347\u001b[0m     )\n\u001b[1;32m   1348\u001b[0m     \u001b[39mreturn\u001b[39;00m \u001b[39mself\u001b[39m\n",
      "File \u001b[0;32m/opt/homebrew/lib/python3.10/site-packages/sklearn/tree/_classes.py:458\u001b[0m, in \u001b[0;36mBaseDecisionTree.fit\u001b[0;34m(self, X, y, sample_weight, check_input)\u001b[0m\n\u001b[1;32m    447\u001b[0m \u001b[39melse\u001b[39;00m:\n\u001b[1;32m    448\u001b[0m     builder \u001b[39m=\u001b[39m BestFirstTreeBuilder(\n\u001b[1;32m    449\u001b[0m         splitter,\n\u001b[1;32m    450\u001b[0m         min_samples_split,\n\u001b[0;32m   (...)\u001b[0m\n\u001b[1;32m    455\u001b[0m         \u001b[39mself\u001b[39m\u001b[39m.\u001b[39mmin_impurity_decrease,\n\u001b[1;32m    456\u001b[0m     )\n\u001b[0;32m--> 458\u001b[0m builder\u001b[39m.\u001b[39;49mbuild(\u001b[39mself\u001b[39;49m\u001b[39m.\u001b[39;49mtree_, X, y, sample_weight)\n\u001b[1;32m    460\u001b[0m \u001b[39mif\u001b[39;00m \u001b[39mself\u001b[39m\u001b[39m.\u001b[39mn_outputs_ \u001b[39m==\u001b[39m \u001b[39m1\u001b[39m \u001b[39mand\u001b[39;00m is_classifier(\u001b[39mself\u001b[39m):\n\u001b[1;32m    461\u001b[0m     \u001b[39mself\u001b[39m\u001b[39m.\u001b[39mn_classes_ \u001b[39m=\u001b[39m \u001b[39mself\u001b[39m\u001b[39m.\u001b[39mn_classes_[\u001b[39m0\u001b[39m]\n",
      "\u001b[0;31mKeyboardInterrupt\u001b[0m: "
     ]
    }
   ],
   "source": [
    "from sklearn.ensemble import GradientBoostingClassifier\n",
    "clf = GradientBoostingClassifier(loss='log_loss',n_estimators=300, learning_rate=0.1, max_depth=10, random_state=1).fit(X_train, y_train)\n",
    "print('Accuracy of GradientBoostingClassifier on training set: {:.8f}'\n",
    "     .format(clf.score(X_train, y_train)))\n",
    "print('Accuracy of GradientBoostingClassifier on test set: {:.8f}'\n",
    "     .format(clf.score(X_test, y_test)))"
   ]
  },
  {
   "cell_type": "code",
   "execution_count": 53,
   "metadata": {},
   "outputs": [
    {
     "name": "stdout",
     "output_type": "stream",
     "text": [
      "DT Matrix\n"
     ]
    },
    {
     "data": {
      "text/plain": [
       "<sklearn.metrics._plot.confusion_matrix.ConfusionMatrixDisplay at 0x17f77ef20>"
      ]
     },
     "execution_count": 53,
     "metadata": {},
     "output_type": "execute_result"
    },
    {
     "data": {
      "image/png": "[encoded data removed]",
      "text/plain": [
       "<Figure size 640x480 with 2 Axes>"
      ]
     },
     "metadata": {},
     "output_type": "display_data"
    }
   ],
   "source": [
    "clf_cm = confusion_matrix(y_test, clf.predict(X_test))\n",
    "clf_disp = ConfusionMatrixDisplay(confusion_matrix=clf_cm,display_labels=display_labels)\n",
    "print(\"DT Matrix\")\n",
    "clf_disp.plot()"
   ]
  },
  {
   "cell_type": "code",
   "execution_count": 54,
   "metadata": {},
   "outputs": [
    {
     "name": "stdout",
     "output_type": "stream",
     "text": [
      "              precision    recall  f1-score   support\n",
      "\n",
      "           0       0.80      0.84      0.82      1008\n",
      "           1       0.83      0.79      0.81      1014\n",
      "\n",
      "    accuracy                           0.82      2022\n",
      "   macro avg       0.82      0.82      0.82      2022\n",
      "weighted avg       0.82      0.82      0.82      2022\n",
      "\n"
     ]
    }
   ],
   "source": [
    "print(classification_report(y_test, clf.predict(X_test), labels=[0,1]))"
   ]
  },
  {
   "cell_type": "code",
   "execution_count": 55,
   "metadata": {},
   "outputs": [
    {
     "name": "stdout",
     "output_type": "stream",
     "text": [
      "XG BOOST STATS\n",
      "Sensitivity (Recall): 0.7948717948717948\n",
      "Precision: 0.8309278350515464\n",
      "Accuracy (Recall): 0.8160237388724035\n",
      "f1_score: 0.8125\n",
      "AUC: 0.816086691086691\n",
      "logloss: 6.3543797986574315\n"
     ]
    }
   ],
   "source": [
    "print(\"XG BOOST STATS\")\n",
    "sensitivity = recall_score(y_test, clf.predict(X_test))\n",
    "print(\"Sensitivity (Recall):\", sensitivity)\n",
    "\n",
    "precision = precision_score(y_test, clf.predict(X_test))\n",
    "print(\"Precision:\", precision)\n",
    "\n",
    "accuracy = accuracy_score(y_test, clf.predict(X_test))\n",
    "print(\"Accuracy (Recall):\", accuracy)\n",
    "    \n",
    "f1 = f1_score(y_test, clf.predict(X_test))\n",
    "print(\"f1_score:\", f1)\n",
    "\n",
    "fpr, tpr, thresholds = roc_curve(y_test, clf.predict(X_test))\n",
    "auc = roc_auc_score(y_test, clf.predict(X_test))\n",
    "print(\"AUC:\", auc)\n",
    "\n",
    "logloss = log_loss(y_test, clf.predict(X_test))\n",
    "print(\"logloss:\", logloss)"
   ]
  },
  {
   "cell_type": "code",
   "execution_count": 56,
   "metadata": {},
   "outputs": [
    {
     "name": "stdout",
     "output_type": "stream",
     "text": [
      "Accuracy of NN classifier on training set: 0.9301\n",
      "Accuracy of NN classifier on test set: 0.7557\n"
     ]
    }
   ],
   "source": [
    "import sklearn as sk\n",
    "from sklearn.neural_network import MLPClassifier\n",
    "NN = MLPClassifier(activation='relu',solver='adam', alpha=1e-2, learning_rate='adaptive', max_iter=1000000, hidden_layer_sizes=(60,2), random_state=1)\n",
    "NN.fit(X_train, y_train)\n",
    "print('Accuracy of NN classifier on training set: {:.4f}'\n",
    "     .format(NN.score(X_train, y_train)))\n",
    "print('Accuracy of NN classifier on test set: {:.4f}'\n",
    "     .format(NN.score(X_test, y_test)))"
   ]
  },
  {
   "cell_type": "code",
   "execution_count": 57,
   "metadata": {},
   "outputs": [
    {
     "name": "stdout",
     "output_type": "stream",
     "text": [
      "Accuracy of SVM classifier on training set: 0.8153\n",
      "Accuracy of SVM classifier on test set: 0.7849\n"
     ]
    }
   ],
   "source": [
    "from sklearn.svm import SVC\n",
    "svm = SVC(C=1.0, kernel='rbf', degree=10, gamma='scale', coef0=0.0, shrinking=True, probability=False, tol=0.001, cache_size=200, class_weight=None, verbose=False, max_iter=-1, decision_function_shape='ovr', break_ties=False, random_state=1)\n",
    "svm.fit(X_train, y_train)\n",
    "print('Accuracy of SVM classifier on training set: {:.4f}'\n",
    "     .format(svm.score(X_train, y_train)))\n",
    "print('Accuracy of SVM classifier on test set: {:.4f}'\n",
    "     .format(svm.score(X_test, y_test)))\n",
    "\n"
   ]
  },
  {
   "cell_type": "code",
   "execution_count": 58,
   "metadata": {},
   "outputs": [],
   "source": [
    "df1 = pd.read_csv('1.csv')\n",
    "df2 = pd.read_csv('2.csv')"
   ]
  },
  {
   "cell_type": "code",
   "execution_count": 59,
   "metadata": {},
   "outputs": [
    {
     "data": {
      "text/html": [
       "<div>\n",
       "<style scoped>\n",
       "    .dataframe tbody tr th:only-of-type {\n",
       "        vertical-align: middle;\n",
       "    }\n",
       "\n",
       "    .dataframe tbody tr th {\n",
       "        vertical-align: top;\n",
       "    }\n",
       "\n",
       "    .dataframe thead th {\n",
       "        text-align: right;\n",
       "    }\n",
       "</style>\n",
       "<table border=\"1\" class=\"dataframe\">\n",
       "  <thead>\n",
       "    <tr style=\"text-align: right;\">\n",
       "      <th></th>\n",
       "      <th>Unnamed: 0</th>\n",
       "      <th>0</th>\n",
       "      <th>1</th>\n",
       "    </tr>\n",
       "  </thead>\n",
       "  <tbody>\n",
       "    <tr>\n",
       "      <th>0</th>\n",
       "      <td>0</td>\n",
       "      <td>3590.459896</td>\n",
       "      <td>6675.292969</td>\n",
       "    </tr>\n",
       "    <tr>\n",
       "      <th>1</th>\n",
       "      <td>1</td>\n",
       "      <td>3752.577012</td>\n",
       "      <td>6998.291016</td>\n",
       "    </tr>\n",
       "    <tr>\n",
       "      <th>2</th>\n",
       "      <td>2</td>\n",
       "      <td>3647.662002</td>\n",
       "      <td>7105.957031</td>\n",
       "    </tr>\n",
       "    <tr>\n",
       "      <th>3</th>\n",
       "      <td>3</td>\n",
       "      <td>3649.478683</td>\n",
       "      <td>6901.391602</td>\n",
       "    </tr>\n",
       "    <tr>\n",
       "      <th>4</th>\n",
       "      <td>4</td>\n",
       "      <td>3782.088471</td>\n",
       "      <td>7116.723633</td>\n",
       "    </tr>\n",
       "  </tbody>\n",
       "</table>\n",
       "</div>"
      ],
      "text/plain": [
       "   Unnamed: 0            0            1\n",
       "0           0  3590.459896  6675.292969\n",
       "1           1  3752.577012  6998.291016\n",
       "2           2  3647.662002  7105.957031\n",
       "3           3  3649.478683  6901.391602\n",
       "4           4  3782.088471  7116.723633"
      ]
     },
     "execution_count": 59,
     "metadata": {},
     "output_type": "execute_result"
    }
   ],
   "source": [
    "df1.head()      "
   ]
  },
  {
   "cell_type": "code",
   "execution_count": 60,
   "metadata": {},
   "outputs": [
    {
     "data": {
      "text/html": [
       "<div>\n",
       "<style scoped>\n",
       "    .dataframe tbody tr th:only-of-type {\n",
       "        vertical-align: middle;\n",
       "    }\n",
       "\n",
       "    .dataframe tbody tr th {\n",
       "        vertical-align: top;\n",
       "    }\n",
       "\n",
       "    .dataframe thead th {\n",
       "        text-align: right;\n",
       "    }\n",
       "</style>\n",
       "<table border=\"1\" class=\"dataframe\">\n",
       "  <thead>\n",
       "    <tr style=\"text-align: right;\">\n",
       "      <th></th>\n",
       "      <th>Unnamed: 0</th>\n",
       "      <th>channels</th>\n",
       "      <th>spc_cnt</th>\n",
       "      <th>spc_roff</th>\n",
       "      <th>label</th>\n",
       "    </tr>\n",
       "  </thead>\n",
       "  <tbody>\n",
       "    <tr>\n",
       "      <th>0</th>\n",
       "      <td>0</td>\n",
       "      <td>F3</td>\n",
       "      <td>3590.459896</td>\n",
       "      <td>6675.292969</td>\n",
       "      <td>0</td>\n",
       "    </tr>\n",
       "    <tr>\n",
       "      <th>1</th>\n",
       "      <td>1</td>\n",
       "      <td>F3</td>\n",
       "      <td>3752.577012</td>\n",
       "      <td>6998.291016</td>\n",
       "      <td>0</td>\n",
       "    </tr>\n",
       "    <tr>\n",
       "      <th>2</th>\n",
       "      <td>2</td>\n",
       "      <td>F3</td>\n",
       "      <td>3647.662002</td>\n",
       "      <td>7105.957031</td>\n",
       "      <td>0</td>\n",
       "    </tr>\n",
       "    <tr>\n",
       "      <th>3</th>\n",
       "      <td>3</td>\n",
       "      <td>F3</td>\n",
       "      <td>3649.478683</td>\n",
       "      <td>6901.391602</td>\n",
       "      <td>0</td>\n",
       "    </tr>\n",
       "    <tr>\n",
       "      <th>4</th>\n",
       "      <td>4</td>\n",
       "      <td>F3</td>\n",
       "      <td>3782.088471</td>\n",
       "      <td>7116.723633</td>\n",
       "      <td>0</td>\n",
       "    </tr>\n",
       "  </tbody>\n",
       "</table>\n",
       "</div>"
      ],
      "text/plain": [
       "   Unnamed: 0 channels      spc_cnt     spc_roff  label\n",
       "0           0       F3  3590.459896  6675.292969      0\n",
       "1           1       F3  3752.577012  6998.291016      0\n",
       "2           2       F3  3647.662002  7105.957031      0\n",
       "3           3       F3  3649.478683  6901.391602      0\n",
       "4           4       F3  3782.088471  7116.723633      0"
      ]
     },
     "execution_count": 60,
     "metadata": {},
     "output_type": "execute_result"
    }
   ],
   "source": [
    "df2.head()"
   ]
  },
  {
   "cell_type": "code",
   "execution_count": 61,
   "metadata": {},
   "outputs": [
    {
     "ename": "IndexError",
     "evalue": "index 4 is out of bounds for axis 0 with size 3",
     "output_type": "error",
     "traceback": [
      "\u001b[0;31m---------------------------------------------------------------------------\u001b[0m",
      "\u001b[0;31mIndexError\u001b[0m                                Traceback (most recent call last)",
      "\u001b[1;32m/Users/efe/Documents/eeg-attention/driver drowsiness/driver_drowsiness.ipynb Cell 30\u001b[0m line \u001b[0;36m1\n\u001b[0;32m----> <a href='vscode-notebook-cell:/Users/efe/Documents/eeg-attention/driver%20drowsiness/driver_drowsiness.ipynb#X41sZmlsZQ%3D%3D?line=0'>1</a>\u001b[0m df1\u001b[39m.\u001b[39;49minsert(loc \u001b[39m=\u001b[39;49m \u001b[39m4\u001b[39;49m, column \u001b[39m=\u001b[39;49m \u001b[39m'\u001b[39;49m\u001b[39mlabel\u001b[39;49m\u001b[39m'\u001b[39;49m, value \u001b[39m=\u001b[39;49m df2[\u001b[39m'\u001b[39;49m\u001b[39mlabel\u001b[39;49m\u001b[39m'\u001b[39;49m])\n",
      "File \u001b[0;32m/opt/homebrew/lib/python3.10/site-packages/pandas/core/frame.py:4819\u001b[0m, in \u001b[0;36mDataFrame.insert\u001b[0;34m(self, loc, column, value, allow_duplicates)\u001b[0m\n\u001b[1;32m   4816\u001b[0m     \u001b[39mraise\u001b[39;00m \u001b[39mTypeError\u001b[39;00m(\u001b[39m\"\u001b[39m\u001b[39mloc must be int\u001b[39m\u001b[39m\"\u001b[39m)\n\u001b[1;32m   4818\u001b[0m value \u001b[39m=\u001b[39m \u001b[39mself\u001b[39m\u001b[39m.\u001b[39m_sanitize_column(value)\n\u001b[0;32m-> 4819\u001b[0m \u001b[39mself\u001b[39;49m\u001b[39m.\u001b[39;49m_mgr\u001b[39m.\u001b[39;49minsert(loc, column, value)\n",
      "File \u001b[0;32m/opt/homebrew/lib/python3.10/site-packages/pandas/core/internals/managers.py:1402\u001b[0m, in \u001b[0;36mBlockManager.insert\u001b[0;34m(self, loc, item, value)\u001b[0m\n\u001b[1;32m   1392\u001b[0m \u001b[39m\"\"\"\u001b[39;00m\n\u001b[1;32m   1393\u001b[0m \u001b[39mInsert item at selected position.\u001b[39;00m\n\u001b[1;32m   1394\u001b[0m \n\u001b[0;32m   (...)\u001b[0m\n\u001b[1;32m   1399\u001b[0m \u001b[39mvalue : np.ndarray or ExtensionArray\u001b[39;00m\n\u001b[1;32m   1400\u001b[0m \u001b[39m\"\"\"\u001b[39;00m\n\u001b[1;32m   1401\u001b[0m \u001b[39m# insert to the axis; this could possibly raise a TypeError\u001b[39;00m\n\u001b[0;32m-> 1402\u001b[0m new_axis \u001b[39m=\u001b[39m \u001b[39mself\u001b[39;49m\u001b[39m.\u001b[39;49mitems\u001b[39m.\u001b[39;49minsert(loc, item)\n\u001b[1;32m   1404\u001b[0m \u001b[39mif\u001b[39;00m value\u001b[39m.\u001b[39mndim \u001b[39m==\u001b[39m \u001b[39m2\u001b[39m:\n\u001b[1;32m   1405\u001b[0m     value \u001b[39m=\u001b[39m value\u001b[39m.\u001b[39mT\n",
      "File \u001b[0;32m/opt/homebrew/lib/python3.10/site-packages/pandas/core/indexes/base.py:6928\u001b[0m, in \u001b[0;36mIndex.insert\u001b[0;34m(self, loc, item)\u001b[0m\n\u001b[1;32m   6921\u001b[0m \u001b[39mif\u001b[39;00m arr\u001b[39m.\u001b[39mdtype \u001b[39m!=\u001b[39m \u001b[39mobject\u001b[39m \u001b[39mor\u001b[39;00m \u001b[39mnot\u001b[39;00m \u001b[39misinstance\u001b[39m(\n\u001b[1;32m   6922\u001b[0m     item, (\u001b[39mtuple\u001b[39m, np\u001b[39m.\u001b[39mdatetime64, np\u001b[39m.\u001b[39mtimedelta64)\n\u001b[1;32m   6923\u001b[0m ):\n\u001b[1;32m   6924\u001b[0m     \u001b[39m# with object-dtype we need to worry about numpy incorrectly casting\u001b[39;00m\n\u001b[1;32m   6925\u001b[0m     \u001b[39m# dt64/td64 to integer, also about treating tuples as sequences\u001b[39;00m\n\u001b[1;32m   6926\u001b[0m     \u001b[39m# special-casing dt64/td64 https://github.com/numpy/numpy/issues/12550\u001b[39;00m\n\u001b[1;32m   6927\u001b[0m     casted \u001b[39m=\u001b[39m arr\u001b[39m.\u001b[39mdtype\u001b[39m.\u001b[39mtype(item)\n\u001b[0;32m-> 6928\u001b[0m     new_values \u001b[39m=\u001b[39m np\u001b[39m.\u001b[39;49minsert(arr, loc, casted)\n\u001b[1;32m   6930\u001b[0m \u001b[39melse\u001b[39;00m:\n\u001b[1;32m   6931\u001b[0m     \u001b[39m# error: No overload variant of \"insert\" matches argument types\u001b[39;00m\n\u001b[1;32m   6932\u001b[0m     \u001b[39m# \"ndarray[Any, Any]\", \"int\", \"None\"\u001b[39;00m\n\u001b[1;32m   6933\u001b[0m     new_values \u001b[39m=\u001b[39m np\u001b[39m.\u001b[39minsert(arr, loc, \u001b[39mNone\u001b[39;00m)  \u001b[39m# type: ignore[call-overload]\u001b[39;00m\n",
      "File \u001b[0;32m<__array_function__ internals>:180\u001b[0m, in \u001b[0;36minsert\u001b[0;34m(*args, **kwargs)\u001b[0m\n",
      "File \u001b[0;32m/opt/homebrew/lib/python3.10/site-packages/numpy/lib/function_base.py:5332\u001b[0m, in \u001b[0;36minsert\u001b[0;34m(arr, obj, values, axis)\u001b[0m\n\u001b[1;32m   5330\u001b[0m index \u001b[39m=\u001b[39m indices\u001b[39m.\u001b[39mitem()\n\u001b[1;32m   5331\u001b[0m \u001b[39mif\u001b[39;00m index \u001b[39m<\u001b[39m \u001b[39m-\u001b[39mN \u001b[39mor\u001b[39;00m index \u001b[39m>\u001b[39m N:\n\u001b[0;32m-> 5332\u001b[0m     \u001b[39mraise\u001b[39;00m \u001b[39mIndexError\u001b[39;00m(\u001b[39mf\u001b[39m\u001b[39m\"\u001b[39m\u001b[39mindex \u001b[39m\u001b[39m{\u001b[39;00mobj\u001b[39m}\u001b[39;00m\u001b[39m is out of bounds for axis \u001b[39m\u001b[39m{\u001b[39;00maxis\u001b[39m}\u001b[39;00m\u001b[39m \u001b[39m\u001b[39m\"\u001b[39m\n\u001b[1;32m   5333\u001b[0m                      \u001b[39mf\u001b[39m\u001b[39m\"\u001b[39m\u001b[39mwith size \u001b[39m\u001b[39m{\u001b[39;00mN\u001b[39m}\u001b[39;00m\u001b[39m\"\u001b[39m)\n\u001b[1;32m   5334\u001b[0m \u001b[39mif\u001b[39;00m (index \u001b[39m<\u001b[39m \u001b[39m0\u001b[39m):\n\u001b[1;32m   5335\u001b[0m     index \u001b[39m+\u001b[39m\u001b[39m=\u001b[39m N\n",
      "\u001b[0;31mIndexError\u001b[0m: index 4 is out of bounds for axis 0 with size 3"
     ]
    }
   ],
   "source": [
    "df1.insert(loc = 4, column = 'label', value = df2['label'])"
   ]
  },
  {
   "cell_type": "code",
   "execution_count": null,
   "metadata": {},
   "outputs": [],
   "source": [
    "df2.columns = df1.columns\n"
   ]
  },
  {
   "cell_type": "code",
   "execution_count": null,
   "metadata": {},
   "outputs": [],
   "source": [
    "df2.to_csv('newcsv.csv')"
   ]
  },
  {
   "cell_type": "code",
   "execution_count": null,
   "metadata": {},
   "outputs": [
    {
     "data": {
      "text/plain": [
       "True"
      ]
     },
     "execution_count": 552,
     "metadata": {},
     "output_type": "execute_result"
    }
   ],
   "source": [
    "df1.equals(df2)"
   ]
  },
  {
   "cell_type": "code",
   "execution_count": null,
   "metadata": {},
   "outputs": [],
   "source": [
    "df2 = df2.drop('label', axis = 1)"
   ]
  },
  {
   "cell_type": "code",
   "execution_count": 63,
   "metadata": {},
   "outputs": [
    {
     "name": "stdout",
     "output_type": "stream",
     "text": [
      "Accuracy of GradientBoostingClassifier on training set: 1.00000000\n",
      "Accuracy of GradientBoostingClassifier on test set: 0.81602374\n"
     ]
    }
   ],
   "source": [
    "print('Accuracy of GradientBoostingClassifier on training set: {:.8f}'\n",
    "     .format(clf.score(X_train, y_train)))\n",
    "print('Accuracy of GradientBoostingClassifier on test set: {:.8f}'\n",
    "     .format(clf.score(X_test, y_test)))\n"
   ]
  }
 ],
 "metadata": {
  "kernelspec": {
   "display_name": "Python 3",
   "language": "python",
   "name": "python3"
  },
  "language_info": {
   "codemirror_mode": {
    "name": "ipython",
    "version": 3
   },
   "file_extension": ".py",
   "mimetype": "text/x-python",
   "name": "python",
   "nbconvert_exporter": "python",
   "pygments_lexer": "ipython3",
   "version": "3.10.10"
  },
  "orig_nbformat": 4
 },
 "nbformat": 4,
 "nbformat_minor": 2
}
