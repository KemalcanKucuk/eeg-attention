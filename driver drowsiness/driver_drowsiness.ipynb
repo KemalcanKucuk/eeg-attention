{
 "cells": [
  {
   "cell_type": "code",
   "execution_count": 4,
   "metadata": {},
   "outputs": [],
   "source": [
    "import numpy as np\n",
    "import pandas as pd\n",
    "import scipy.io\n",
    "import matplotlib.pyplot as plt\n",
    "from scipy import signal\n",
    "import librosa as lr\n",
    "import librosa.feature as lrf\n",
    "import sklearn as sk\n",
    "from sklearn.metrics import confusion_matrix, ConfusionMatrixDisplay\n",
    "import xgboost as xgb\n",
    "from sklearn.preprocessing import MinMaxScaler\n",
    "import warnings\n",
    "warnings.simplefilter(action='ignore', category=FutureWarning)\n",
    "warnings.simplefilter(action='ignore', category=UserWarning)\n",
    "from scipy.signal import welch\n",
    "from sklearn.linear_model import Lasso\n",
    "import scipy.stats as stats\n",
    "from sklearn.metrics import classification_report\n",
    "from sklearn.metrics import recall_score\n",
    "from sklearn.metrics import precision_score\n",
    "from sklearn.metrics import accuracy_score\n",
    "from sklearn.metrics import f1_score\n",
    "from sklearn.metrics import roc_curve, roc_auc_score\n",
    "from sklearn.metrics import log_loss\n",
    "from sklearn.metrics import classification_report\n",
    "import pywt\n",
    "from pywt import *\n",
    "from scipy.signal import periodogram\n",
    "import numpy as np\n",
    "import matplotlib.pyplot as plt\n",
    "from pyemd import emd\n",
    "from scipy.signal import hilbert\n"
   ]
  },
  {
   "cell_type": "code",
   "execution_count": null,
   "metadata": {},
   "outputs": [],
   "source": [
    "#bazinnngggg"
   ]
  },
  {
   "cell_type": "code",
   "execution_count": 11,
   "metadata": {},
   "outputs": [],
   "source": [
    "data_dict = scipy.io.loadmat('dataset.mat')"
   ]
  },
  {
   "cell_type": "code",
   "execution_count": 12,
   "metadata": {},
   "outputs": [],
   "source": [
    "subjects = data_dict[\"subindex\"]\n",
    "states = data_dict[\"substate\"]\n",
    "data = data_dict[\"EEGsample\"]"
   ]
  },
  {
   "cell_type": "code",
   "execution_count": 13,
   "metadata": {},
   "outputs": [],
   "source": [
    "subjects = pd.DataFrame(subjects)\n",
    "states = pd.DataFrame(states)\n",
    "#data = np.reshape(data,(60660,384))\n",
    "#data = pd.DataFrame(data)\n",
    "#data = data.to_numpy()\n",
    "\n",
    "#CHANNEL DENEMECE\n",
    "\n",
    "\n",
    "#data = data[:,[3, 4, 13, 14, 27, 28, 29],:]\n",
    "#data_temp = np.concatenate((data[:,0,:],data[:,1,:],data[:,2,:],data[:,3,:],data[:,4,:],data[:,5,:],data[:,6,:],data[:,7,:],data[:,8,:],data[:,9,:],data[:,10,:],data[:,11,:],data[:,12,:],data[:,13,:],data[:,14,:],data[:,15,:],data[:,16,:],data[:,17,:],data[:,18,:],data[:,19,:],data[:,20,:],data[:,21,:],data[:,22,:],data[:,23,:],data[:,24,:],data[:,25,:],data[:,26,:],data[:,27,:],data[:,28,:],data[:,29,:]))\n",
    "data_temp = np.concatenate((data[:,3,:],data[:,5,:],data[:,13,:],data[:,14,:],data[:,28,:]))\n",
    "#data_temp = np.concatenate((data[:,28,:]))\n",
    "#data_temp = data[:,5,:]\n",
    "#data_temp = np.concatenate((data[:,0,:],data[:,1,:],data[:,2,:],data[:,3,:],data[:,4,:],data[:,5,:],data[:,6,:],data[:,7,:],data[:,8,:],data[:,9,:],data[:,10,:],data[:,11,:]))\n",
    "data = data_temp"
   ]
  },
  {
   "cell_type": "code",
   "execution_count": 14,
   "metadata": {},
   "outputs": [],
   "source": [
    "#BU FONKSİYON PERFORMANSI ARTTIRMADI SİLEBİLİRİZ GİBİ\n",
    "\n",
    "def hjorth_parameters(eeg_signal):\n",
    "    # Calculate the first derivative (slope) of the EEG signal\n",
    "    diff_signal = np.diff(eeg_signal)\n",
    "    \n",
    "    # Calculate the variance (activity) of the original signal\n",
    "    activity = np.var(eeg_signal)\n",
    "    \n",
    "    # Calculate the variance (activity) of the first derivative (slope)\n",
    "    mobility = np.var(diff_signal)\n",
    "    \n",
    "    # Calculate the mobility parameter (square root of mobility divided by activity)\n",
    "    mobility /= activity\n",
    "    \n",
    "    # Calculate the second derivative of the EEG signal\n",
    "    diff2_signal = np.diff(diff_signal)\n",
    "    \n",
    "    # Calculate the complexity (square root of the mobility divided by the mobility of the first derivative)\n",
    "    complexity = np.sqrt(mobility / (np.var(diff2_signal) / activity))\n",
    "    \n",
    "    return activity, mobility, complexity"
   ]
  },
  {
   "cell_type": "code",
   "execution_count": 176,
   "metadata": {},
   "outputs": [],
   "source": [
    "def feature_extraction(signal):\n",
    "    \n",
    "    n_mfcc = 5 \n",
    "    feature_vector = []\n",
    "    extracted_features = []\n",
    "    # Timbral Texture Features\n",
    "    feature_vector.append([lrf.spectral_centroid(signal)]) # Spectral Centroid\n",
    "    feature_vector.append([lrf.spectral_rolloff(signal)]) # Rolloff\n",
    "    #feature_vector.append([lr.onset.onset_strength(signal)]) # Flux\n",
    "    #feature_vector.append(lr.feature.zero_crossing_rate(signal)) # Zero Crossings\n",
    "    feature_vector.append([[np.array(np.sum(np.abs(np.diff(np.sign(signal)))) / (2 * len(signal)))]])\n",
    "    \n",
    "    for mfcc in lrf.mfcc(signal, n_mfcc=n_mfcc): # First 5 MFCCs\n",
    "        feature_vector.append([mfcc])\n",
    "    \n",
    "    for chroma in lrf.chroma_stft(signal, n_chroma=12): #chromagram\n",
    "        feature_vector.append([chroma])\n",
    "\n",
    "    n_mel = 10\n",
    "    for mel in lr.power_to_db(lrf.melspectrogram(signal))[:n_mel, :] :\n",
    "        feature_vector.append([mel])\n",
    "    \n",
    "    #feature_vector.append([np.mean(signal)]) #no\n",
    "    #feature_vector.append([np.var(signal)]) #no\n",
    "    #feature_vector.append([stats.skew(signal)]) #no\n",
    "    #feature_vector.append([stats.kurtosis(signal)]) #no\n",
    "\n",
    "    #activity, mobility, complexity = hjorth_parameters(signal) #no\n",
    "    #feature_vector.append([activity]) #no\n",
    "    #feature_vector.append([mobility]) #no\n",
    "    #feature_vector.append([complexity]) #no\n",
    "\n",
    "    #feature_vector.append([np.sqrt(np.mean(signal**2))]) #no\n",
    "\n",
    "\n",
    "    \n",
    "    wavelet = 'db4' #nasıl çalışıyor veya doğru mu b\n",
    "    frequency_bands = {\n",
    "    'delta': (1, 4),\n",
    "    'theta': (4, 8),\n",
    "    'alpha': (8, 13),\n",
    "    'beta': (13, 30),\n",
    "    'gamma': (30,64)\n",
    "}\n",
    "    # Iterate over each frequency band\n",
    "    band_powers = {}\n",
    "    sampling_frequency = 128\n",
    "\n",
    "    # Calculate the power spectral density (PSD) using Welch's method\n",
    "    frequencies, psd = welch(signal, fs=sampling_frequency, nperseg=1024)\n",
    "\n",
    "    # Iterate over each frequency band\n",
    "    for band, (low_freq, high_freq) in frequency_bands.items():\n",
    "        # Find indices corresponding to the specified frequency range\n",
    "        band_indices = np.where((frequencies >= low_freq) & (frequencies < high_freq))\n",
    "        # Integrate PSD within the band's frequency range to compute band power\n",
    "        band_power = np.trapz(psd[band_indices], frequencies[band_indices])\n",
    "        band_powers[band] = band_power\n",
    "        feature_vector.append([[band_power]])\n",
    "    \n",
    "    feature_vector.append([[band_powers['gamma']/band_powers['beta']]])\n",
    "    feature_vector.append([[band_powers['gamma']/band_powers['alpha']]])\n",
    "    feature_vector.append([[band_powers['gamma']/band_powers['theta']]])\n",
    "    feature_vector.append([[band_powers['gamma']/band_powers['delta']]])\n",
    "    feature_vector.append([[band_powers['beta']/band_powers['alpha']]])\n",
    "    feature_vector.append([[band_powers['beta']/band_powers['theta']]])\n",
    "    feature_vector.append([[band_powers['beta']/band_powers['delta']]])\n",
    "    feature_vector.append([[band_powers['alpha']/band_powers['theta']]])\n",
    "    feature_vector.append([[band_powers['alpha']/band_powers['delta']]])\n",
    "    feature_vector.append([[band_powers['theta']/band_powers['delta']]])\n",
    "    \n",
    "    '''\n",
    "    [cA5, cD5, cD4, cD3, cD2, cD1] = wavedec(signal, 'db1', level=5)\n",
    "    coeffs = [cA5, cD5, cD4, cD3, cD2, cD1]\n",
    "    db1 = pywt.Wavelet('db1')\n",
    "    \n",
    "    re0 = pywt.waverec([coeffs[0]], db1)\n",
    "    re1 = pywt.waverec([coeffs[1]], db1)\n",
    "    re2 = pywt.waverec([coeffs[2]], db1)\n",
    "    re3 = pywt.waverec([coeffs[3]], db1)\n",
    "    re4 = pywt.waverec([coeffs[4]], db1)\n",
    "    re5 = pywt.waverec([coeffs[5]], db1)\n",
    "\n",
    "    re0_p = np.sum(np.power(re0,2)/len(re0))\n",
    "    re1_p = np.sum(np.power(re1,2)/len(re1))\n",
    "    re2_p = np.sum(np.power(re2,2)/len(re2))\n",
    "    re3_p = np.sum(np.power(re3,2)/len(re3))\n",
    "    re4_p = np.sum(np.power(re4,2)/len(re4))\n",
    "    re5_p = np.sum(np.power(re5,2)/len(re5))\n",
    "    \n",
    "    feature_vector.append([[re0_p]])\n",
    "    feature_vector.append([[re1_p]])\n",
    "    feature_vector.append([[re2_p]])\n",
    "    feature_vector.append([[re3_p]])\n",
    "    feature_vector.append([[re4_p]])\n",
    "    feature_vector.append([[re5_p]])\n",
    "    \n",
    "    feature_vector.append([[re5_p/re4_p]])\n",
    "    feature_vector.append([[re5_p/re3_p]])\n",
    "    feature_vector.append([[re5_p/re2_p]])\n",
    "    feature_vector.append([[re5_p/re1_p]])\n",
    "    feature_vector.append([[re5_p/re0_p]])\n",
    "    feature_vector.append([[re4_p/re3_p]])\n",
    "    feature_vector.append([[re4_p/re2_p]])\n",
    "    feature_vector.append([[re4_p/re1_p]])\n",
    "    feature_vector.append([[re4_p/re0_p]])\n",
    "    feature_vector.append([[re3_p/re2_p]])\n",
    "    feature_vector.append([[re3_p/re1_p]])\n",
    "    feature_vector.append([[re3_p/re0_p]])\n",
    "    feature_vector.append([[re2_p/re1_p]])\n",
    "    feature_vector.append([[re2_p/re0_p]])\n",
    "    feature_vector.append([[re1_p/re0_p]])\n",
    "    '''\n",
    "    '''\n",
    "    # Pitch Content Features\n",
    "    n_mel = 10\n",
    "    n_tonnetz = 6\n",
    "    #feature_vector.append(lr.beat.tempo(signal)) # Tempo #bu kötü yapiyor\n",
    "    \n",
    "    for chroma in lrf.chroma_stft(signal, n_chroma=12): #bu iyi yapiyor\n",
    "        feature_vector.append([chroma])\n",
    "        \n",
    "    for mel in lr.power_to_db(lrf.melspectrogram(signal))[:n_mel, :] : #bu iyi\n",
    "        feature_vector.append([mel])\n",
    "    \n",
    "    #for tonal in lrf.tonnetz(signal)[:n_tonnetz, :] : #daha kötü gibi\n",
    "    #    feature_vector.append(tonal)\n",
    "    '''\n",
    "    for feature in feature_vector:\n",
    "        extracted_features.append(feature)\n",
    "        #extracted_features.append(np.mean(feature))\n",
    "        #extracted_features.append(np.std(feature)) \n",
    "    \n",
    "    '''    \n",
    "    # Rhythymic Content Features\n",
    "    peaks = -np.sort(-lr.onset.onset_strength(signal, sr = 128))\n",
    "    A0 = peaks[0]\n",
    "    A1 = peaks[1]\n",
    "    RA = A1/A0    \n",
    "    \n",
    "    extracted_features.append(np.mean(lrf.tempogram(signal)))\n",
    "    extracted_features.append(A0)\n",
    "    extracted_features.append(A1)\n",
    "    extracted_features.append(RA)\n",
    "    '''\n",
    "    return np.array(extracted_features)"
   ]
  },
  {
   "cell_type": "code",
   "execution_count": 177,
   "metadata": {},
   "outputs": [
    {
     "name": "stdout",
     "output_type": "stream",
     "text": [
      "131.69907093048096\n"
     ]
    }
   ],
   "source": [
    "import time\n",
    "\n",
    "start = time.time()\n",
    "\n",
    "boncuk = []\n",
    "for i in range(data.shape[0]):\n",
    "    powers = feature_extraction(data[i,:])\n",
    "    boncuk.append(powers)\n",
    "\n",
    "end = time.time()\n",
    "print(end-start) \n",
    "#zaman olc"
   ]
  },
  {
   "cell_type": "code",
   "execution_count": 178,
   "metadata": {},
   "outputs": [],
   "source": [
    "boncuk1 = np.array(boncuk)"
   ]
  },
  {
   "cell_type": "code",
   "execution_count": 179,
   "metadata": {},
   "outputs": [],
   "source": [
    "boncuk1 = boncuk1[:,:,0,0]"
   ]
  },
  {
   "cell_type": "code",
   "execution_count": 180,
   "metadata": {},
   "outputs": [],
   "source": [
    "df = pd.DataFrame.from_dict(boncuk1)"
   ]
  },
  {
   "cell_type": "code",
   "execution_count": 181,
   "metadata": {},
   "outputs": [],
   "source": [
    "df.to_csv(\"eeg_features.csv\")"
   ]
  },
  {
   "cell_type": "code",
   "execution_count": 182,
   "metadata": {},
   "outputs": [],
   "source": [
    "df = pd.read_csv('eeg_features.csv')\n",
    "df = df.drop('Unnamed: 0', axis=1)"
   ]
  },
  {
   "cell_type": "code",
   "execution_count": 183,
   "metadata": {},
   "outputs": [],
   "source": [
    "X = df\n",
    "y = states\n",
    "y = np.concatenate((y,y,y,y,y))"
   ]
  },
  {
   "cell_type": "code",
   "execution_count": 184,
   "metadata": {},
   "outputs": [],
   "source": [
    "from sklearn.model_selection import train_test_split\n",
    "from sklearn.preprocessing import StandardScaler\n",
    "\n",
    "X_train, X_test, y_train, y_test = train_test_split(X, y, test_size=0.2,random_state=1)\n",
    "display_labels = [\"focused\",\"drowsy\"]\n",
    "\n",
    "# apply normalization after splitting to avoid leakage\n",
    "scaler = StandardScaler()\n",
    "X_train = scaler.fit_transform(X_train)\n",
    "X_test = scaler.transform(X_test)\n"
   ]
  },
  {
   "cell_type": "code",
   "execution_count": 185,
   "metadata": {},
   "outputs": [
    {
     "data": {
      "text/plain": [
       "'\\nfrom sklearn.decomposition import PCA\\nfrom sklearn.preprocessing import LabelEncoder, StandardScaler\\n\\n#y = y.reset_index(drop=True)\\n\\npca = PCA(n_components = 0.999)\\nX_train = pca.fit_transform(X_train)\\nX_test = pca.transform(X_test)\\n#X = dataPCA\\nvariance = pd.DataFrame(pca.explained_variance_ratio_)\\nprint(pca.explained_variance_ratio_)\\nprint(np.sum(pca.explained_variance_ratio_))\\n'"
      ]
     },
     "execution_count": 185,
     "metadata": {},
     "output_type": "execute_result"
    }
   ],
   "source": [
    "# Encode the genre labels\n",
    "'''\n",
    "from sklearn.decomposition import PCA\n",
    "from sklearn.preprocessing import LabelEncoder, StandardScaler\n",
    "\n",
    "#y = y.reset_index(drop=True)\n",
    "\n",
    "pca = PCA(n_components = 0.999)\n",
    "X_train = pca.fit_transform(X_train)\n",
    "X_test = pca.transform(X_test)\n",
    "#X = dataPCA\n",
    "variance = pd.DataFrame(pca.explained_variance_ratio_)\n",
    "print(pca.explained_variance_ratio_)\n",
    "print(np.sum(pca.explained_variance_ratio_))\n",
    "'''"
   ]
  },
  {
   "cell_type": "code",
   "execution_count": 186,
   "metadata": {},
   "outputs": [
    {
     "name": "stdout",
     "output_type": "stream",
     "text": [
      "Accuracy of K-NN classifier on training set: 0.8724\n",
      "Accuracy of K-NN classifier on test set: 0.7893\n"
     ]
    }
   ],
   "source": [
    "from sklearn.neighbors import KNeighborsClassifier\n",
    "knn = KNeighborsClassifier()\n",
    "knn.fit(X_train, y_train)\n",
    "print('Accuracy of K-NN classifier on training set: {:.4f}'\n",
    "     .format(knn.score(X_train, y_train)))\n",
    "print('Accuracy of K-NN classifier on test set: {:.4f}'\n",
    "     .format(knn.score(X_test, y_test)))"
   ]
  },
  {
   "cell_type": "code",
   "execution_count": 187,
   "metadata": {},
   "outputs": [
    {
     "name": "stdout",
     "output_type": "stream",
     "text": [
      "KNN Matrix\n"
     ]
    },
    {
     "data": {
      "text/plain": [
       "<sklearn.metrics._plot.confusion_matrix.ConfusionMatrixDisplay at 0x2845aeaa0>"
      ]
     },
     "execution_count": 187,
     "metadata": {},
     "output_type": "execute_result"
    },
    {
     "data": {
      "image/png": "[encoded data removed]",
      "text/plain": [
       "<Figure size 640x480 with 2 Axes>"
      ]
     },
     "metadata": {},
     "output_type": "display_data"
    }
   ],
   "source": [
    "knn_cm = confusion_matrix(y_test, knn.predict(X_test))\n",
    "knn_disp = ConfusionMatrixDisplay(confusion_matrix=knn_cm,display_labels=display_labels)\n",
    "print(\"KNN Matrix\")\n",
    "knn_disp.plot()"
   ]
  },
  {
   "cell_type": "code",
   "execution_count": 188,
   "metadata": {},
   "outputs": [
    {
     "name": "stdout",
     "output_type": "stream",
     "text": [
      "Accuracy of RandomForestClassifier classifier on training set: 1.0000\n",
      "Accuracy of RandomForestClassifier classifier on test set: 0.7972\n"
     ]
    }
   ],
   "source": [
    "from sklearn.ensemble import RandomForestClassifier\n",
    "rf = RandomForestClassifier(n_estimators=100).fit(X_train, y_train)\n",
    "print('Accuracy of RandomForestClassifier classifier on training set: {:.4f}'\n",
    "     .format(rf.score(X_train, y_train)))\n",
    "print('Accuracy of RandomForestClassifier classifier on test set: {:.4f}'\n",
    "     .format(rf.score(X_test, y_test)))"
   ]
  },
  {
   "cell_type": "code",
   "execution_count": 189,
   "metadata": {},
   "outputs": [
    {
     "name": "stdout",
     "output_type": "stream",
     "text": [
      "DT Matrix\n"
     ]
    },
    {
     "data": {
      "text/plain": [
       "<sklearn.metrics._plot.confusion_matrix.ConfusionMatrixDisplay at 0x289dbf670>"
      ]
     },
     "execution_count": 189,
     "metadata": {},
     "output_type": "execute_result"
    },
    {
     "data": {
      "image/png": "[encoded data removed]",
      "text/plain": [
       "<Figure size 640x480 with 2 Axes>"
      ]
     },
     "metadata": {},
     "output_type": "display_data"
    }
   ],
   "source": [
    "rf_cm = confusion_matrix(y_test, rf.predict(X_test))\n",
    "rf_disp = ConfusionMatrixDisplay(confusion_matrix=rf_cm,display_labels=display_labels)\n",
    "print(\"DT Matrix\")\n",
    "rf_disp.plot()"
   ]
  },
  {
   "cell_type": "code",
   "execution_count": 190,
   "metadata": {},
   "outputs": [
    {
     "name": "stdout",
     "output_type": "stream",
     "text": [
      "Accuracy of GradientBoostingClassifier on training set: 1.0000\n",
      "Accuracy of GradientBoostingClassifier on test set: 0.8096\n"
     ]
    }
   ],
   "source": [
    "from sklearn.ensemble import GradientBoostingClassifier\n",
    "clf = GradientBoostingClassifier(loss='log_loss',n_estimators=300, learning_rate=0.1, max_depth=10, random_state=1).fit(X_train, y_train)\n",
    "print('Accuracy of GradientBoostingClassifier on training set: {:.4f}'\n",
    "     .format(clf.score(X_train, y_train)))\n",
    "print('Accuracy of GradientBoostingClassifier on test set: {:.4f}'\n",
    "     .format(clf.score(X_test, y_test)))"
   ]
  },
  {
   "cell_type": "code",
   "execution_count": 191,
   "metadata": {},
   "outputs": [
    {
     "name": "stdout",
     "output_type": "stream",
     "text": [
      "DT Matrix\n"
     ]
    },
    {
     "data": {
      "text/plain": [
       "<sklearn.metrics._plot.confusion_matrix.ConfusionMatrixDisplay at 0x2845eee90>"
      ]
     },
     "execution_count": 191,
     "metadata": {},
     "output_type": "execute_result"
    },
    {
     "data": {
      "image/png": "[encoded data removed]",
      "text/plain": [
       "<Figure size 640x480 with 2 Axes>"
      ]
     },
     "metadata": {},
     "output_type": "display_data"
    }
   ],
   "source": [
    "clf_cm = confusion_matrix(y_test, clf.predict(X_test))\n",
    "clf_disp = ConfusionMatrixDisplay(confusion_matrix=clf_cm,display_labels=display_labels)\n",
    "print(\"DT Matrix\")\n",
    "clf_disp.plot()"
   ]
  },
  {
   "cell_type": "code",
   "execution_count": 192,
   "metadata": {},
   "outputs": [
    {
     "name": "stdout",
     "output_type": "stream",
     "text": [
      "              precision    recall  f1-score   support\n",
      "\n",
      "           0       0.80      0.82      0.81      1008\n",
      "           1       0.82      0.80      0.81      1014\n",
      "\n",
      "    accuracy                           0.81      2022\n",
      "   macro avg       0.81      0.81      0.81      2022\n",
      "weighted avg       0.81      0.81      0.81      2022\n",
      "\n"
     ]
    }
   ],
   "source": [
    "print(classification_report(y_test, clf.predict(X_test), labels=[0,1]))"
   ]
  },
  {
   "cell_type": "code",
   "execution_count": 193,
   "metadata": {},
   "outputs": [
    {
     "name": "stdout",
     "output_type": "stream",
     "text": [
      "XG BOOST STATS\n",
      "Sensitivity (Recall): 0.7958579881656804\n",
      "Precision: 0.8192893401015229\n",
      "Accuracy (Recall): 0.8095944609297725\n",
      "f1_score: 0.8074037018509255\n",
      "AUC: 0.8096353432891894\n",
      "logloss: 6.576444728181596\n"
     ]
    }
   ],
   "source": [
    "print(\"XG BOOST STATS\")\n",
    "sensitivity = recall_score(y_test, clf.predict(X_test))\n",
    "print(\"Sensitivity (Recall):\", sensitivity)\n",
    "\n",
    "precision = precision_score(y_test, clf.predict(X_test))\n",
    "print(\"Precision:\", precision)\n",
    "\n",
    "accuracy = accuracy_score(y_test, clf.predict(X_test))\n",
    "print(\"Accuracy (Recall):\", accuracy)\n",
    "    \n",
    "f1 = f1_score(y_test, clf.predict(X_test))\n",
    "print(\"f1_score:\", f1)\n",
    "\n",
    "fpr, tpr, thresholds = roc_curve(y_test, clf.predict(X_test))\n",
    "auc = roc_auc_score(y_test, clf.predict(X_test))\n",
    "print(\"AUC:\", auc)\n",
    "\n",
    "logloss = log_loss(y_test, clf.predict(X_test))\n",
    "print(\"logloss:\", logloss)"
   ]
  },
  {
   "cell_type": "code",
   "execution_count": 194,
   "metadata": {},
   "outputs": [
    {
     "name": "stdout",
     "output_type": "stream",
     "text": [
      "Accuracy of NN classifier on training set: 0.9519\n",
      "Accuracy of NN classifier on test set: 0.7760\n"
     ]
    }
   ],
   "source": [
    "import sklearn as sk\n",
    "from sklearn.neural_network import MLPClassifier\n",
    "NN = MLPClassifier(activation='relu',solver='adam', alpha=1e-2, learning_rate='adaptive', max_iter=1000000, hidden_layer_sizes=(60,2), random_state=1)\n",
    "NN.fit(X_train, y_train)\n",
    "print('Accuracy of NN classifier on training set: {:.4f}'\n",
    "     .format(NN.score(X_train, y_train)))\n",
    "print('Accuracy of NN classifier on test set: {:.4f}'\n",
    "     .format(NN.score(X_test, y_test)))"
   ]
  },
  {
   "cell_type": "code",
   "execution_count": 195,
   "metadata": {},
   "outputs": [
    {
     "name": "stdout",
     "output_type": "stream",
     "text": [
      "Accuracy of SVM classifier on training set: 0.8208\n",
      "Accuracy of SVM classifier on test set: 0.7844\n"
     ]
    }
   ],
   "source": [
    "from sklearn.svm import SVC\n",
    "svm = SVC(C=1.0, kernel='rbf', degree=10, gamma='scale', coef0=0.0, shrinking=True, probability=False, tol=0.001, cache_size=200, class_weight=None, verbose=False, max_iter=-1, decision_function_shape='ovr', break_ties=False, random_state=1)\n",
    "svm.fit(X_train, y_train)\n",
    "print('Accuracy of SVM classifier on training set: {:.4f}'\n",
    "     .format(svm.score(X_train, y_train)))\n",
    "print('Accuracy of SVM classifier on test set: {:.4f}'\n",
    "     .format(svm.score(X_test, y_test)))\n"
   ]
  }
 ],
 "metadata": {
  "kernelspec": {
   "display_name": "Python 3",
   "language": "python",
   "name": "python3"
  },
  "language_info": {
   "codemirror_mode": {
    "name": "ipython",
    "version": 3
   },
   "file_extension": ".py",
   "mimetype": "text/x-python",
   "name": "python",
   "nbconvert_exporter": "python",
   "pygments_lexer": "ipython3",
   "version": "3.10.10"
  },
  "orig_nbformat": 4
 },
 "nbformat": 4,
 "nbformat_minor": 2
}
