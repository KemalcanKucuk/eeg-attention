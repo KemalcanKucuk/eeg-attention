{
 "cells": [
  {
   "cell_type": "code",
   "execution_count": 2,
   "metadata": {},
   "outputs": [],
   "source": [
    "import numpy as np\n",
    "import pandas as pd\n",
    "\n",
    "from utils import *\n",
    "from training import *"
   ]
  },
  {
   "cell_type": "markdown",
   "metadata": {},
   "source": [
    "## Individually calculate performances of each channel"
   ]
  },
  {
   "cell_type": "code",
   "execution_count": 8,
   "metadata": {},
   "outputs": [],
   "source": [
    "# select the channels to be processed\n",
    "all_channels =  [\"Fp1\", \"Fp2\", \"F7\", \"F3\", \"Fz\", \"F4\", \"F8\", \"FT7\", \"FC3\", \"FCZ\", \"FC4\", \"FT8\", \"T3\", \"C3\", \"Cz\", \"C4\", \"T4\", \"TP7\", \"CP3\", \"CPz\", \"CP4\", \"TP8\", \"T5\", \"P3\", \"PZ\", \"P4\", \"T6\", \"O1\", \"Oz\" , \"O2\"]\n",
    "csv_file = 'eeg_features.csv'\n",
    "models = ['K-NN', 'K-NN1', 'K-NN2', 'K-NN3', 'SVM', 'DTC', 'RFC', 'Logistic Regression', 'NN', 'GBC']\n",
    "dataset = data_loader(path = csv_file)\n",
    "#reduced_dataset = channel_selection(dataset, all_channels)\n",
    "#all_features = reduced_dataset.columns[:len(reduced_dataset.columns) - 1]"
   ]
  },
  {
   "cell_type": "code",
   "execution_count": 10,
   "metadata": {},
   "outputs": [
    {
     "name": "stderr",
     "output_type": "stream",
     "text": [
      "100%|██████████| 30/30 [13:06<00:00, 26.20s/it]"
     ]
    },
    {
     "name": "stdout",
     "output_type": "stream",
     "text": [
      "786.0755877494812\n"
     ]
    },
    {
     "name": "stderr",
     "output_type": "stream",
     "text": [
      "\n"
     ]
    }
   ],
   "source": [
    "#all_channels_perf = pd.DataFrame(columns=all_channels)\n",
    "#all_channels_perf = dict.fromkeys(all_channels, None)\n",
    "all_channels_perf = {}\n",
    "\n",
    "import time, tqdm\n",
    "start = time.time()\n",
    "\n",
    "for channel in tqdm.tqdm(all_channels):\n",
    "    reduced_dataset = channel_selection(dataset, [channel])\n",
    "    all_features = reduced_dataset.columns[:len(reduced_dataset.columns) - 1]\n",
    "    data = data_preparation(dataset=reduced_dataset, feature_subset=all_features)\n",
    "    for model in models:\n",
    "        all_channels_perf[channel + '-' + model] = model_training(data, model, stats=False)\n",
    "\n",
    "end = time.time()\n",
    "print(end-start)"
   ]
  },
  {
   "cell_type": "code",
   "execution_count": 11,
   "metadata": {},
   "outputs": [],
   "source": [
    "all_channels_perf_df = pd.DataFrame.from_dict(all_channels_perf)\n",
    "all_channels_perf_df.to_csv('indv_channel_perfs.csv')\n",
    "\n",
    "#df = all_channels_perf_df\n",
    "#sorted_df = df.sort_values(df.last_valid_index(), axis=1)\n",
    "#sorted_df.to_csv('sorted.csv')"
   ]
  },
  {
   "cell_type": "markdown",
   "metadata": {},
   "source": [
    "## Calculate the performances of channel combinations"
   ]
  },
  {
   "cell_type": "markdown",
   "metadata": {},
   "source": [
    "## Calculate the features performances"
   ]
  },
  {
   "cell_type": "code",
   "execution_count": 17,
   "metadata": {},
   "outputs": [],
   "source": [
    "csv_file = 'eeg_features.csv'\n",
    "models = ['K-NN', 'K-NN1', 'K-NN2', 'K-NN3', 'SVM', 'DTC', 'RFC', 'Logistic Regression', 'NN', 'GBC']\n",
    "models = ['SVM']\n",
    "dataset = data_loader(path = csv_file)\n",
    "\n",
    "selected_channels = [\"Cz\",\"CP3\",\"CPz\",\"P3\"]\n",
    "reduced_dataset = channel_selection(dataset, selected_channels)\n",
    "all_features = reduced_dataset.columns[:len(reduced_dataset.columns) - 1]"
   ]
  },
  {
   "cell_type": "code",
   "execution_count": 18,
   "metadata": {},
   "outputs": [],
   "source": [
    "time_features = ['skew', 'kurtosis', 'rms', 'activity', 'mobility', 'complexity']\n",
    "\n",
    "freq_features = ['spc_cnt', 'spc_roff', 'zc', 'slope', 'mean_abs_sec_dif', 'dfa']\n",
    "\n",
    "coeffs = ['mfcc_0', 'mfcc_1', 'mfcc_2', 'mfcc_3',\n",
    "       'mfcc_4', 'mfcc_5', 'mfcc_6', 'mfcc_7', 'mfcc_8', 'mfcc_9', 'chr_0',\n",
    "       'chr_1', 'chr_2', 'chr_3', 'chr_4', 'chr_5', 'chr_6', 'chr_7', 'chr_8',\n",
    "       'chr_9', 'chr_10', 'chr_11', 'chr_12', 'chr_13', 'chr_14', 'chr_15',\n",
    "       'chr_16', 'chr_17', 'chr_18', 'chr_19', 'mel_0', 'mel_1', 'mel_2',\n",
    "       'mel_3', 'mel_4', 'mel_5', 'mel_6', 'mel_7', 'mel_8', 'mel_9', 'mel_10',\n",
    "       'mel_11', 'mel_12', 'mel_13', 'mel_14', 'ton_0', 'ton_1', 'ton_2', 'ton_3', 'ton_4', 'ton_5']\n",
    "\n",
    "bands = ['delta_power', 'theta_power',\n",
    "       'alpha_power', 'beta_power', 'gamma_power', 'gamma_beta', 'gamma_alpha',\n",
    "       'gamma_theta', 'gamma_delta', 'beta_alpha', 'beta_theta', 'beta_delta',\n",
    "       'alpha_theta', 'alpha_delta', 'theta_delta']"
   ]
  },
  {
   "cell_type": "code",
   "execution_count": 39,
   "metadata": {},
   "outputs": [
    {
     "name": "stdout",
     "output_type": "stream",
     "text": [
      "\n",
      "==== Stats_dict for the SVM model ====\n",
      "Training Accuracy:  1.0\n",
      "Test Accuracy:  0.9375772558714462\n",
      "Sensitivity (Recall): 0.9751552795031055\n",
      "Precision: 0.9064665127020786\n",
      "F1_score: 0.9395571514063434\n",
      "AUC: 0.9377621415965712\n",
      "Logloss: 2.2499437529671398\n",
      "\n"
     ]
    },
    {
     "data": {
      "text/plain": [
       "{'training_acc': 1.0,\n",
       " 'test_acc': 0.9375772558714462,\n",
       " 'sensitivity': 0.9751552795031055,\n",
       " 'precision': 0.9064665127020786,\n",
       " 'f1': 0.9395571514063434,\n",
       " 'auc': 0.9377621415965712,\n",
       " 'logloss': 2.2499437529671398}"
      ]
     },
     "execution_count": 39,
     "metadata": {},
     "output_type": "execute_result"
    }
   ],
   "source": [
    "data_combined = data_preparation(dataset=reduced_dataset, feature_subset=bands+time_features+freq_features+coeffs)\n",
    "model_training(data, 'SVM', stats=True, cm=False)"
   ]
  },
  {
   "cell_type": "code",
   "execution_count": 36,
   "metadata": {},
   "outputs": [
    {
     "name": "stdout",
     "output_type": "stream",
     "text": [
      "\n",
      "==== Stats_dict for the SVM model ====\n",
      "Training Accuracy:  1.0\n",
      "Test Accuracy:  0.9468479604449939\n",
      "Sensitivity (Recall): 0.9664596273291925\n",
      "Precision: 0.929510155316607\n",
      "F1_score: 0.9476248477466505\n",
      "AUC: 0.9469444508109678\n",
      "Logloss: 1.9157936906452875\n",
      "\n"
     ]
    }
   ],
   "source": [
    "data_coeffs = data_preparation(dataset=reduced_dataset, feature_subset=coeffs)\n",
    "model_training(data, 'SVM', stats=True, cm=False)"
   ]
  },
  {
   "cell_type": "code",
   "execution_count": null,
   "metadata": {},
   "outputs": [],
   "source": []
  }
 ],
 "metadata": {
  "kernelspec": {
   "display_name": "paws",
   "language": "python",
   "name": "python3"
  },
  "language_info": {
   "codemirror_mode": {
    "name": "ipython",
    "version": 3
   },
   "file_extension": ".py",
   "mimetype": "text/x-python",
   "name": "python",
   "nbconvert_exporter": "python",
   "pygments_lexer": "ipython3",
   "version": "3.9.6"
  }
 },
 "nbformat": 4,
 "nbformat_minor": 2
}
