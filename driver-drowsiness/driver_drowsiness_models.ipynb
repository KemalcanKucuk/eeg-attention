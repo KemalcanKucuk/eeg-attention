{
 "cells": [
  {
   "cell_type": "markdown",
   "metadata": {},
   "source": [
    "## Dependencies"
   ]
  },
  {
   "cell_type": "code",
   "execution_count": 1,
   "metadata": {},
   "outputs": [],
   "source": [
    "import numpy as np\n",
    "import pandas as pd\n",
    "from sklearn.linear_model import Lasso\n",
    "import scipy.stats as stats\n",
    "from sklearn.metrics import classification_report\n",
    "from sklearn.metrics import recall_score\n",
    "from sklearn.metrics import precision_score\n",
    "from sklearn.metrics import accuracy_score\n",
    "from sklearn.metrics import f1_score\n",
    "from sklearn.metrics import roc_curve, roc_auc_score\n",
    "from sklearn.metrics import log_loss\n",
    "from sklearn.metrics import classification_report\n",
    "import sklearn as sk\n",
    "from sklearn.metrics import confusion_matrix, ConfusionMatrixDisplay\n",
    "import xgboost as xgb\n",
    "from sklearn.preprocessing import MinMaxScaler\n",
    "#from ipynb.fs.full.driver_drowsiness_extraction import select_channel\n",
    "import numpy as np\n",
    "import pandas as pd\n",
    "from scipy import stats"
   ]
  },
  {
   "cell_type": "code",
   "execution_count": 56,
   "metadata": {},
   "outputs": [],
   "source": [
    "def channel_selection(features, labels, channel_list):\n",
    "    '''\n",
    "    Select the desired channels from the total feature dataset\n",
    "    '''\n",
    "    selected_channels = []\n",
    "    for channel in channel_list:\n",
    "        selected_channels.append(features.loc[features['channels'] == channel])\n",
    "    return (pd.concat(selected_channels).drop('channels', axis=1))"
   ]
  },
  {
   "cell_type": "code",
   "execution_count": 54,
   "metadata": {},
   "outputs": [],
   "source": [
    "def feature_selection(selected_channels, feature_subset):\n",
    "    ''' \n",
    "    Select the desired subset of features to prepare training data on.\n",
    "    '''\n",
    "    selected_features = pd.DataFrame()\n",
    "    for feature in feature_subset:\n",
    "        selected_features[feature] = selected_channels[feature]\n",
    "    # temporary sanity check, will delete\n",
    "    # print(selected_features.head())\n",
    "    return selected_features.to_numpy()"
   ]
  },
  {
   "cell_type": "markdown",
   "metadata": {},
   "source": [
    "## I/O"
   ]
  },
  {
   "cell_type": "code",
   "execution_count": 57,
   "metadata": {},
   "outputs": [],
   "source": [
    "# load the feature dataset as a dataframe\n",
    "csv_file = 'eeg_features.csv'\n",
    "df = pd.read_csv(csv_file,float_precision='round_trip')\n",
    "df = df.drop('Unnamed: 0', axis=1)"
   ]
  },
  {
   "cell_type": "code",
   "execution_count": 58,
   "metadata": {},
   "outputs": [],
   "source": [
    "# split the dataset to features and labels\n",
    "features = df.drop('label', axis=1)\n",
    "labels = df.iloc[:,-1:]\n",
    "display_labels = ['drowsy' if label == 1 else 'alert' for label in labels['label'].unique()]"
   ]
  },
  {
   "cell_type": "markdown",
   "metadata": {},
   "source": [
    "## Feature Selection"
   ]
  },
  {
   "cell_type": "code",
   "execution_count": 59,
   "metadata": {},
   "outputs": [],
   "source": [
    "channel_list = ['F3', 'F4','C3','Cz','Oz']\n",
    "selected_channels = channel_selection(features=features, labels=labels, channel_list=channel_list)\n",
    "X = feature_selection(selected_channels=selected_channels, feature_subset=selected_channels.columns) # select every feature\n",
    "y = labels[0:2022*len(channel_list)].to_numpy()"
   ]
  },
  {
   "cell_type": "code",
   "execution_count": 60,
   "metadata": {},
   "outputs": [],
   "source": [
    "from sklearn.model_selection import train_test_split\n",
    "from sklearn.preprocessing import StandardScaler\n",
    "\n",
    "X_train, X_test, y_train, y_test = train_test_split(X, y, test_size=0.2,random_state=1)\n",
    "\n",
    "# apply normalization after splitting to avoid leakage\n",
    "scaler = StandardScaler()\n",
    "X_train = scaler.fit_transform(X_train)\n",
    "X_test = scaler.transform(X_test)\n"
   ]
  },
  {
   "cell_type": "code",
   "execution_count": 61,
   "metadata": {},
   "outputs": [],
   "source": [
    "from sklearn.neighbors import KNeighborsClassifier\n",
    "from sklearn.tree import DecisionTreeClassifier\n",
    "from sklearn.ensemble import RandomForestClassifier, GradientBoostingClassifier\n",
    "from sklearn.linear_model import LogisticRegression\n",
    "from sklearn.svm import SVC\n",
    "from sklearn.neural_network import MLPClassifier\n",
    "import warnings\n",
    "from sklearn.exceptions import DataConversionWarning\n",
    "warnings.filterwarnings(action='ignore', category=DataConversionWarning)\n",
    "\n",
    "def model_training(model_family, display_labels, stats=False, cm=False):\n",
    "\n",
    "  if model_family == 'K-NN':\n",
    "    model = KNeighborsClassifier()\n",
    "  elif model_family == 'DTC':\n",
    "    model = DecisionTreeClassifier()\n",
    "  elif model_family == 'RFC':\n",
    "    model = RandomForestClassifier(n_estimators=100)\n",
    "  elif model_family == 'Logistic Regression':\n",
    "    model = LogisticRegression(max_iter=5000)\n",
    "  elif model_family == 'SVM':\n",
    "    model = SVC(C=1.0, kernel='rbf', degree=10, gamma='scale', coef0=0.0, shrinking=True, probability=False, tol=0.001, cache_size=200, class_weight=None, verbose=False, max_iter=-1, decision_function_shape='ovr', break_ties=False, random_state=1)\n",
    "  elif model_family == 'NN':\n",
    "    model = MLPClassifier(activation='relu',solver='adam', alpha=1e-2, learning_rate='adaptive', max_iter=1000000, hidden_layer_sizes=(60,2), random_state=1)\n",
    "  elif model_family == 'GBC':\n",
    "    model = GradientBoostingClassifier(loss='log_loss',n_estimators=300, learning_rate=0.1, max_depth=10, random_state=1)\n",
    "\n",
    "  model.fit(X_train, y_train)\n",
    "  print('Accuracy of {} classifier on training set: {:.8f}'\n",
    "     .format(model_family, model.score(X_train, y_train)))\n",
    "  print('Accuracy of {} classifier on test set: {:.8f}'\n",
    "     .format(model_family, model.score(X_test, y_test)))\n",
    "\n",
    "  if stats:\n",
    "    print()\n",
    "    print(\"==== Stats for the {} model ====\".format(model_family))\n",
    "    sensitivity = recall_score(y_test, model.predict(X_test))\n",
    "    print(\"Sensitivity (Recall):\", sensitivity)\n",
    "\n",
    "    precision = precision_score(y_test, model.predict(X_test))\n",
    "    print(\"Precision:\", precision)\n",
    "\n",
    "    accuracy = accuracy_score(y_test, model.predict(X_test))\n",
    "    print(\"Accuracy (Recall):\", accuracy)\n",
    "        \n",
    "    f1 = f1_score(y_test, model.predict(X_test))\n",
    "    print(\"F1_score:\", f1)\n",
    "\n",
    "    fpr, tpr, thresholds = roc_curve(y_test, model.predict(X_test))\n",
    "    auc = roc_auc_score(y_test, model.predict(X_test))\n",
    "    print(\"AUC:\", auc)\n",
    "\n",
    "    logloss = log_loss(y_test, model.predict(X_test))\n",
    "    print(\"Logloss:\", logloss)\n",
    "    print()\n",
    "\n",
    "  if cm:\n",
    "    model_cm = confusion_matrix(y_test, model.predict(X_test))\n",
    "    model_disp = ConfusionMatrixDisplay(confusion_matrix=model_cm,display_labels=display_labels)\n",
    "    model_disp.plot()"
   ]
  },
  {
   "cell_type": "code",
   "execution_count": 62,
   "metadata": {},
   "outputs": [
    {
     "name": "stdout",
     "output_type": "stream",
     "text": [
      "Accuracy of GBC classifier on training set: 1.00000000\n",
      "Accuracy of GBC classifier on test set: 0.81651830\n",
      "\n",
      "==== Stats for the GBC model ====\n",
      "Sensitivity (Recall): 0.7928994082840237\n",
      "Precision: 0.8331606217616581\n",
      "Accuracy (Recall): 0.8165182987141444\n",
      "F1_score: 0.8125315816068721\n",
      "AUC: 0.8165885930309008\n",
      "Logloss: 6.61335084439291\n",
      "\n"
     ]
    }
   ],
   "source": [
    "models = ['GBC']\n",
    "for model in models:\n",
    "    model_training(model, display_labels, stats=True, cm=False)\n",
    "    "
   ]
  },
  {
   "cell_type": "markdown",
   "metadata": {},
   "source": [
    "## Testing and Processing"
   ]
  },
  {
   "cell_type": "markdown",
   "metadata": {},
   "source": [
    "## Evaluation"
   ]
  },
  {
   "cell_type": "code",
   "execution_count": 63,
   "metadata": {},
   "outputs": [],
   "source": [
    "# TODO: select different feature subsets, then apply the p-value thresholding to see if there's any inconsistencies\n",
    "# after that we can either implement the p values as a function to select the top performers of a subset (subset of the subset)\n",
    "# or we can just select our own features and do the processing on them\n",
    "\n",
    "# if we're going to use multiple subsets then write another function definition for the preparation of X_train and Y_train etc.\n",
    "# the function should return x_train y_train x_test y_test and it should take the selected feature subset as the input\n",
    "# after that we can run the selections in their respective cells to see the performances of different models\n",
    "# this can also allow us to compare the model performances with respect to feature selection which could make a great performance matrix\n",
    "\n",
    "# P-Value Thresholding for Feature Selection\n",
    "p_values = []\n",
    "\n",
    "X_p = df.drop('channels',axis = 1)\n",
    "X_p = X_p.drop('label',axis = 1)\n",
    "\n",
    "y_p = y.flatten()\n",
    "y_p = pd.Series(y_p)\n",
    "\n",
    "\n",
    "#y_p = pd.Series(y['0'])\n",
    "for feature in X_p.columns:\n",
    "    t_stat, p_value = stats.ttest_ind(X_p[feature][y_p == 0], X_p[feature][y_p == 1])\n",
    "    p_values.append(p_value)\n",
    "\n",
    "alpha = 0.05\n",
    "\n",
    "# Select features with p-values below the significance level\n",
    "selected_features = [X_p.columns[i] for i, p in enumerate(p_values) if p < alpha]\n",
    "# Alternatively, you can rank features by p-value\n",
    "sorted_features = [x for _, x in sorted(zip(p_values, X_p.columns))]"
   ]
  },
  {
   "cell_type": "code",
   "execution_count": null,
   "metadata": {},
   "outputs": [],
   "source": [
    "'''\n",
    "from sklearn.decomposition import PCA\n",
    "from sklearn.preprocessing import LabelEncoder, StandardScaler\n",
    "\n",
    "#y = y.reset_index(drop=True)\n",
    "\n",
    "pca = PCA(n_components = 0.999)\n",
    "X_train = pca.fit_transform(X_train)\n",
    "X_test = pca.transform(X_test)\n",
    "#X = dataPCA\n",
    "variance = pd.DataFrame(pca.explained_variance_ratio_)\n",
    "print(pca.explained_variance_ratio_)\n",
    "print(np.sum(pca.explained_variance_ratio_))\n",
    "'''"
   ]
  }
 ],
 "metadata": {
  "kernelspec": {
   "display_name": "paws",
   "language": "python",
   "name": "python3"
  },
  "language_info": {
   "codemirror_mode": {
    "name": "ipython",
    "version": 3
   },
   "file_extension": ".py",
   "mimetype": "text/x-python",
   "name": "python",
   "nbconvert_exporter": "python",
   "pygments_lexer": "ipython3",
   "version": "3.9.6"
  }
 },
 "nbformat": 4,
 "nbformat_minor": 2
}
