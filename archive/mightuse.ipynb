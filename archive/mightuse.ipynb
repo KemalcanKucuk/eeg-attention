{
 "cells": [
  {
   "cell_type": "code",
   "execution_count": null,
   "metadata": {},
   "outputs": [],
   "source": [
    "ds = True\n",
    "ds_rate = 0.01\n",
    "ds_channels, ds_labels = data_loader(path=csv_file, channel_list=channel_list, ds = ds, ds_rate = ds_rate)\n",
    "min_n = 2\n",
    "max_n = 10\n",
    "result_df = feature_combination(feature_subset=high_rank_subset, \n",
    "                    selected_channels=ds_channels, \n",
    "                    selected_labels=ds_labels, \n",
    "                    training = True,\n",
    "                    min_n = min_n, \n",
    "                    max_n = max_n\n",
    "                    )"
   ]
  },
  {
   "cell_type": "markdown",
   "metadata": {},
   "source": [
    "### Batch Testing"
   ]
  },
  {
   "cell_type": "code",
   "execution_count": null,
   "metadata": {},
   "outputs": [],
   "source": [
    "ds = True\n",
    "min_n = 2\n",
    "max_n = 3\n",
    "target = 'test_acc'\n",
    "acc_threshold = 0.75\n",
    "\n",
    "\n",
    "for ds_rate in range(2, 3):\n",
    "    ds_rate /= 100\n",
    "    filename = 'thr-' + str(acc_threshold) + '_ds-' + str(ds_rate) + '.csv'\n",
    "    ds_channels, ds_labels = data_loader(path=csv_file, channel_list=channel_list, ds = ds, ds_rate = ds_rate)\n",
    "    # i was testing the functions you can delete [:6] from high rank\n",
    "    result_df = feature_combination(feature_subset=high_rank_subset, \n",
    "                    selected_channels=ds_channels, \n",
    "                    selected_labels=ds_labels,\n",
    "                    models=['K-NN'],\n",
    "                    training = True,\n",
    "                    min_n = min_n, \n",
    "                    max_n = max_n\n",
    "                    )\n",
    "\n",
    "    combination_evaluation(result_df=result_df, target=target, filename = filename, acc_threshold=acc_threshold)"
   ]
  }
 ],
 "metadata": {
  "language_info": {
   "name": "python"
  }
 },
 "nbformat": 4,
 "nbformat_minor": 2
}
