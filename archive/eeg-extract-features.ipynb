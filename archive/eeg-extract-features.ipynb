{
 "cells": [
  {
   "attachments": {},
   "cell_type": "markdown",
   "id": "1ee8b672",
   "metadata": {
    "papermill": {
     "duration": 0.023843,
     "end_time": "2022-09-22T07:22:46.443323",
     "exception": false,
     "start_time": "2022-09-22T07:22:46.419480",
     "status": "completed"
    },
    "tags": []
   },
   "source": [
    "# EEG Feature Extraction\n"
   ]
  },
  {
   "attachments": {},
   "cell_type": "markdown",
   "id": "7131706d",
   "metadata": {
    "papermill": {
     "duration": 0.018896,
     "end_time": "2022-09-22T07:22:46.482468",
     "exception": false,
     "start_time": "2022-09-22T07:22:46.463572",
     "status": "completed"
    },
    "tags": []
   },
   "source": [
    "## Importing all required libraries\n"
   ]
  },
  {
   "cell_type": "code",
   "execution_count": 461,
   "id": "e40b87dc",
   "metadata": {
    "execution": {
     "iopub.execute_input": "2022-09-22T07:22:46.540103Z",
     "iopub.status.busy": "2022-09-22T07:22:46.539024Z",
     "iopub.status.idle": "2022-09-22T07:22:47.628484Z",
     "shell.execute_reply": "2022-09-22T07:22:47.627610Z",
     "shell.execute_reply.started": "2022-09-22T07:12:02.806360Z"
    },
    "papermill": {
     "duration": 1.125879,
     "end_time": "2022-09-22T07:22:47.628684",
     "exception": false,
     "start_time": "2022-09-22T07:22:46.502805",
     "status": "completed"
    },
    "tags": []
   },
   "outputs": [],
   "source": [
    "import numpy as np\n",
    "import pandas as pd\n",
    "import os\n",
    "import scipy.io\n",
    "import matplotlib.pyplot as plt\n",
    "from scipy import signal\n",
    "import librosa as lr\n",
    "import librosa.feature as lrf\n",
    "import sklearn as sk\n",
    "from sklearn.metrics import confusion_matrix, ConfusionMatrixDisplay\n",
    "import xgboost as xgb\n",
    "from sklearn.preprocessing import MinMaxScaler"
   ]
  },
  {
   "attachments": {},
   "cell_type": "markdown",
   "id": "35c1ee6d",
   "metadata": {
    "papermill": {
     "duration": 0.01886,
     "end_time": "2022-09-22T07:22:47.666070",
     "exception": false,
     "start_time": "2022-09-22T07:22:47.647210",
     "status": "completed"
    },
    "tags": []
   },
   "source": [
    "## Importing data"
   ]
  },
  {
   "attachments": {},
   "cell_type": "markdown",
   "id": "199aa1eb",
   "metadata": {
    "papermill": {
     "duration": 0.017674,
     "end_time": "2022-09-22T07:22:47.701853",
     "exception": false,
     "start_time": "2022-09-22T07:22:47.684179",
     "status": "completed"
    },
    "tags": []
   },
   "source": [
    "Open data (in Matlab format)"
   ]
  },
  {
   "cell_type": "code",
   "execution_count": 462,
   "id": "2c273ce6",
   "metadata": {
    "execution": {
     "iopub.execute_input": "2022-09-22T07:22:47.743087Z",
     "iopub.status.busy": "2022-09-22T07:22:47.742352Z",
     "iopub.status.idle": "2022-09-22T07:22:48.452197Z",
     "shell.execute_reply": "2022-09-22T07:22:48.451442Z",
     "shell.execute_reply.started": "2022-09-22T07:12:03.997542Z"
    },
    "papermill": {
     "duration": 0.731283,
     "end_time": "2022-09-22T07:22:48.452349",
     "exception": false,
     "start_time": "2022-09-22T07:22:47.721066",
     "status": "completed"
    },
    "tags": []
   },
   "outputs": [
    {
     "data": {
      "text/plain": [
       "array([[ 32.,   0.,   0., ...,   0.,   0.,   0.],\n",
       "       [ 33.,   0.,   0., ...,   0.,   0.,   0.],\n",
       "       [ 34.,   0.,   0., ...,   0.,   0.,   0.],\n",
       "       ...,\n",
       "       [123.,   0., 474., ...,   0.,   0.,   0.],\n",
       "       [124.,   0., 459., ...,   0.,   0.,   0.],\n",
       "       [125.,   0.,   0., ...,   0.,   0.,   0.]])"
      ]
     },
     "execution_count": 462,
     "metadata": {},
     "output_type": "execute_result"
    }
   ],
   "source": [
    "data_root = 'EEG Data/'\n",
    "\n",
    "files = os.listdir(data_root)\n",
    "\n",
    "mat = scipy.io.loadmat(data_root + files[1])\n",
    "\n",
    "mat['o']['sampFreq'][0][0][0][0]\n",
    "\n",
    "data = mat['o']['data'][0, 0]\n",
    "FS = mat['o']['sampFreq'][0][0][0][0]\n",
    "\n",
    "data\n",
    "#bazinga"
   ]
  },
  {
   "cell_type": "code",
   "execution_count": 463,
   "id": "b037c560",
   "metadata": {},
   "outputs": [],
   "source": [
    "def feature_extraction(signal):\n",
    "    n_mfcc = 5 \n",
    "    feature_vector = []\n",
    "    extracted_features = []\n",
    "    # Timbral Texture Features\n",
    "    feature_vector.append(lrf.spectral_centroid(signal)) # Spectral Centroid\n",
    "    feature_vector.append(lrf.spectral_rolloff(signal)) # Rolloff\n",
    "    feature_vector.append(lr.onset.onset_strength(signal)) # Flux\n",
    "    feature_vector.append(lr.zero_crossings(signal)) # Zero Crossings\n",
    "    for mfcc in lrf.mfcc(signal, n_mfcc=n_mfcc): # First 5 MFCCs\n",
    "        feature_vector.append(mfcc)\n",
    "\n",
    "    # Pitch Content Features\n",
    "    n_mel = 10\n",
    "    n_tonnetz = 6\n",
    "    feature_vector.append(lr.beat.tempo(signal)) # Tempo\n",
    "    \n",
    "    for chroma in lrf.chroma_stft(signal, n_chroma=12): # First 5 MFCCs\n",
    "        feature_vector.append(chroma)\n",
    "        \n",
    "    for mel in lr.power_to_db(lrf.melspectrogram(signal))[:n_mel, :] :\n",
    "        feature_vector.append(mel)\n",
    "    \n",
    "    for tonal in lrf.tonnetz(signal)[:n_tonnetz, :] :\n",
    "        feature_vector.append(tonal)\n",
    "        \n",
    "    for feature in feature_vector:\n",
    "        extracted_features.append(np.mean(feature))\n",
    "        extracted_features.append(np.std(feature)) \n",
    "        \n",
    "    # Rhythymic Content Features\n",
    "    peaks = -np.sort(-lr.onset.onset_strength(signal).flatten())\n",
    "    A0 = peaks[0]\n",
    "    A1 = peaks[1]\n",
    "    RA = A1/A0    \n",
    "    \n",
    "    extracted_features.append(np.mean(lrf.tempogram(signal)))\n",
    "    extracted_features.append(A0)\n",
    "    extracted_features.append(A1)\n",
    "    extracted_features.append(RA)\n",
    "    \n",
    "    return np.array(extracted_features)"
   ]
  },
  {
   "attachments": {},
   "cell_type": "markdown",
   "id": "76f59d0d",
   "metadata": {
    "papermill": {
     "duration": 0.018124,
     "end_time": "2022-09-22T07:22:48.489133",
     "exception": false,
     "start_time": "2022-09-22T07:22:48.471009",
     "status": "completed"
    },
    "tags": []
   },
   "source": [
    "Define channel names following the descripiton of the data set:\n",
    "\n",
    "4-'EDAF3' 5-'EDF7'\n",
    "6-'EDF3' 7-'EDFC5'\n",
    "8-'EDT7' 9-'EDP7'\n",
    "10-'EDO1' 11-'EDO2'\n",
    "12-'EDP8' 13-'EDT8'\n",
    "14-'EDFC6' 15-'EDF4'\n",
    "16-'EDF8' 17-'EDAF4'"
   ]
  },
  {
   "cell_type": "code",
   "execution_count": 464,
   "id": "93e4b3e3",
   "metadata": {
    "execution": {
     "iopub.execute_input": "2022-09-22T07:22:48.534465Z",
     "iopub.status.busy": "2022-09-22T07:22:48.533709Z",
     "iopub.status.idle": "2022-09-22T07:22:48.536473Z",
     "shell.execute_reply": "2022-09-22T07:22:48.536970Z",
     "shell.execute_reply.started": "2022-09-22T07:12:04.547803Z"
    },
    "papermill": {
     "duration": 0.028058,
     "end_time": "2022-09-22T07:22:48.537164",
     "exception": false,
     "start_time": "2022-09-22T07:22:48.509106",
     "status": "completed"
    },
    "tags": []
   },
   "outputs": [],
   "source": [
    "channel_indices = np.array(range(3, 17))\n",
    "channel_names = ['AF3', 'F7', 'F3', 'FC5', 'T7', 'P7', 'O1', 'O2', 'P8', 'T8', 'FC6', 'F4', 'F8', 'AF4']\n",
    "channel_map = dict(zip(channel_names, channel_indices))"
   ]
  },
  {
   "cell_type": "code",
   "execution_count": 465,
   "id": "1d078750",
   "metadata": {},
   "outputs": [
    {
     "data": {
      "text/plain": [
       "{'AF3': 3,\n",
       " 'F7': 4,\n",
       " 'F3': 5,\n",
       " 'FC5': 6,\n",
       " 'T7': 7,\n",
       " 'P7': 8,\n",
       " 'O1': 9,\n",
       " 'O2': 10,\n",
       " 'P8': 11,\n",
       " 'T8': 12,\n",
       " 'FC6': 13,\n",
       " 'F4': 14,\n",
       " 'F8': 15,\n",
       " 'AF4': 16}"
      ]
     },
     "execution_count": 465,
     "metadata": {},
     "output_type": "execute_result"
    }
   ],
   "source": [
    "channel_map"
   ]
  },
  {
   "cell_type": "code",
   "execution_count": 435,
   "id": "c695b121",
   "metadata": {
    "execution": {
     "iopub.execute_input": "2022-09-22T07:22:48.577515Z",
     "iopub.status.busy": "2022-09-22T07:22:48.576773Z",
     "iopub.status.idle": "2022-09-22T07:22:48.582399Z",
     "shell.execute_reply": "2022-09-22T07:22:48.581830Z",
     "shell.execute_reply.started": "2022-09-22T07:12:04.557106Z"
    },
    "papermill": {
     "duration": 0.026951,
     "end_time": "2022-09-22T07:22:48.582575",
     "exception": false,
     "start_time": "2022-09-22T07:22:48.555624",
     "status": "completed"
    },
    "tags": []
   },
   "outputs": [],
   "source": [
    "df = pd.DataFrame.from_dict(data)"
   ]
  },
  {
   "attachments": {},
   "cell_type": "markdown",
   "id": "be704625",
   "metadata": {
    "papermill": {
     "duration": 0.019934,
     "end_time": "2022-09-22T07:22:48.621711",
     "exception": false,
     "start_time": "2022-09-22T07:22:48.601777",
     "status": "completed"
    },
    "tags": []
   },
   "source": [
    "Plot a single channel"
   ]
  },
  {
   "cell_type": "code",
   "execution_count": 466,
   "id": "33caf552",
   "metadata": {
    "execution": {
     "iopub.execute_input": "2022-09-22T07:22:48.670985Z",
     "iopub.status.busy": "2022-09-22T07:22:48.664904Z",
     "iopub.status.idle": "2022-09-22T07:22:48.870274Z",
     "shell.execute_reply": "2022-09-22T07:22:48.869663Z",
     "shell.execute_reply.started": "2022-09-22T07:14:57.580936Z"
    },
    "papermill": {
     "duration": 0.230249,
     "end_time": "2022-09-22T07:22:48.870428",
     "exception": false,
     "start_time": "2022-09-22T07:22:48.640179",
     "status": "completed"
    },
    "tags": []
   },
   "outputs": [
    {
     "data": {
      "text/plain": [
       "Text(0, 0.5, 'EEG channel AF3')"
      ]
     },
     "execution_count": 466,
     "metadata": {},
     "output_type": "execute_result"
    },
    {
     "data": {
      "image/png": "[encoded data removed]",
      "text/plain": [
       "<Figure size 640x480 with 1 Axes>"
      ]
     },
     "metadata": {},
     "output_type": "display_data"
    }
   ],
   "source": [
    "i_ch = 0\n",
    "time = np.arange(1000) / FS\n",
    "channel = data[:1000, channel_indices[i_ch]]\n",
    "plt.plot(time, channel)\n",
    "plt.xlabel('time (s)')\n",
    "plt.ylabel(f'EEG channel {channel_names[i_ch]}')"
   ]
  },
  {
   "attachments": {},
   "cell_type": "markdown",
   "id": "e4e31458",
   "metadata": {
    "papermill": {
     "duration": 0.019315,
     "end_time": "2022-09-22T07:22:48.910816",
     "exception": false,
     "start_time": "2022-09-22T07:22:48.891501",
     "status": "completed"
    },
    "tags": []
   },
   "source": [
    "## Extract features"
   ]
  },
  {
   "attachments": {},
   "cell_type": "markdown",
   "id": "836d249b",
   "metadata": {
    "papermill": {
     "duration": 0.019732,
     "end_time": "2022-09-22T07:22:48.950276",
     "exception": false,
     "start_time": "2022-09-22T07:22:48.930544",
     "status": "completed"
    },
    "tags": []
   },
   "source": [
    "Define states (according to the comments on the Data source).\n",
    "\n",
    "The states seem to be defined arbitrarily as 10 min adjacent periods.\n",
    "\n",
    "- 1st 10 minutes of data(t=0 min to t=10 min) is for \"focussed\" state\n",
    "- 2nd 10 minutes of data(t=10 min to t=20 min) is for \"unfocussed\" state\n",
    "- Remaining data(t=20 min to onwards) is for \"Drowsed\" state"
   ]
  },
  {
   "cell_type": "code",
   "execution_count": 467,
   "id": "a6ded8cc",
   "metadata": {
    "execution": {
     "iopub.execute_input": "2022-09-22T07:22:48.996207Z",
     "iopub.status.busy": "2022-09-22T07:22:48.995477Z",
     "iopub.status.idle": "2022-09-22T07:22:48.999017Z",
     "shell.execute_reply": "2022-09-22T07:22:48.998314Z",
     "shell.execute_reply.started": "2022-09-22T07:12:04.788988Z"
    },
    "papermill": {
     "duration": 0.029092,
     "end_time": "2022-09-22T07:22:48.999171",
     "exception": false,
     "start_time": "2022-09-22T07:22:48.970079",
     "status": "completed"
    },
    "tags": []
   },
   "outputs": [],
   "source": [
    "#burada çıkarmak istediğin state'i commentle\n",
    "#burada çıkarınca X'te o state kalmıyor daha sonra aşağıda y için aynısını yapıyoruz\n",
    "#aynısı bir aşağıdaki blok için de yap\n",
    "\n",
    "states = {\n",
    "  'focused': data[:FS * 10 * 60, :],\n",
    "  'unfocused': data[FS * 10 * 60:FS * 20 * 60, :],\n",
    "  'drowsy': data[FS * 30 * 60:, :]\n",
    "}"
   ]
  },
  {
   "attachments": {},
   "cell_type": "markdown",
   "id": "6b26253d",
   "metadata": {
    "execution": {
     "iopub.execute_input": "2022-09-22T07:17:03.191303Z",
     "iopub.status.busy": "2022-09-22T07:17:03.190526Z",
     "iopub.status.idle": "2022-09-22T07:17:03.199502Z",
     "shell.execute_reply": "2022-09-22T07:17:03.197659Z",
     "shell.execute_reply.started": "2022-09-22T07:17:03.191246Z"
    },
    "papermill": {
     "duration": 0.01956,
     "end_time": "2022-09-22T07:22:49.039250",
     "exception": false,
     "start_time": "2022-09-22T07:22:49.019690",
     "status": "completed"
    },
    "tags": []
   },
   "source": [
    "Define frequency bands"
   ]
  },
  {
   "cell_type": "code",
   "execution_count": 468,
   "id": "89988d84",
   "metadata": {
    "execution": {
     "iopub.execute_input": "2022-09-22T07:22:49.135232Z",
     "iopub.status.busy": "2022-09-22T07:22:49.134478Z",
     "iopub.status.idle": "2022-09-22T07:22:49.137611Z",
     "shell.execute_reply": "2022-09-22T07:22:49.138135Z",
     "shell.execute_reply.started": "2022-09-22T07:12:04.812304Z"
    },
    "papermill": {
     "duration": 0.030216,
     "end_time": "2022-09-22T07:22:49.138339",
     "exception": false,
     "start_time": "2022-09-22T07:22:49.108123",
     "status": "completed"
    },
    "tags": []
   },
   "outputs": [],
   "source": [
    "#burada da çıkar\n",
    "\n",
    "def get_data(filename):\n",
    "    mat = scipy.io.loadmat(os.path.join(data_root, filename))\n",
    "    data = mat['o']['data'][0, 0]\n",
    "    FS = mat['o']['sampFreq'][0][0][0][0]\n",
    "\n",
    "    states = {\n",
    "     'focused': data[:FS * 10 * 60, :],\n",
    "      'unfocused': data[FS * 10 * 60:FS * 20 * 60, :],\n",
    "      'drowsy': data[FS * 30 * 60:, :]\n",
    "    }\n",
    "    return states"
   ]
  },
  {
   "attachments": {},
   "cell_type": "markdown",
   "id": "d6a077f5",
   "metadata": {
    "papermill": {
     "duration": 0.019948,
     "end_time": "2022-09-22T07:22:49.230784",
     "exception": false,
     "start_time": "2022-09-22T07:22:49.210836",
     "status": "completed"
    },
    "tags": []
   },
   "source": [
    "Select subjects"
   ]
  },
  {
   "cell_type": "code",
   "execution_count": 469,
   "id": "df200ab3",
   "metadata": {
    "execution": {
     "iopub.execute_input": "2022-09-22T07:22:49.277826Z",
     "iopub.status.busy": "2022-09-22T07:22:49.276866Z",
     "iopub.status.idle": "2022-09-22T07:22:49.279331Z",
     "shell.execute_reply": "2022-09-22T07:22:49.278615Z",
     "shell.execute_reply.started": "2022-09-22T07:12:04.835932Z"
    },
    "papermill": {
     "duration": 0.027508,
     "end_time": "2022-09-22T07:22:49.279502",
     "exception": false,
     "start_time": "2022-09-22T07:22:49.251994",
     "status": "completed"
    },
    "tags": []
   },
   "outputs": [],
   "source": [
    "# bunu degistirin\n",
    "subjects = [1, 2, 3, 4, 5, 6, 7, 8, 9, 10, 11, 12, 13, 14, 15, 16, 17, 18, 19, 20, 21, 22, 23, 23, 24, 25, 26, 27, 29, 30, 31, 32, 33, 34]"
   ]
  },
  {
   "attachments": {},
   "cell_type": "markdown",
   "id": "637aaa5d",
   "metadata": {
    "papermill": {
     "duration": 0.020783,
     "end_time": "2022-09-22T07:22:49.321342",
     "exception": false,
     "start_time": "2022-09-22T07:22:49.300559",
     "status": "completed"
    },
    "tags": []
   },
   "source": [
    "Extract EEG features -> mean powers in delta, alpha, beta, gamma frequency bands"
   ]
  },
  {
   "cell_type": "code",
   "execution_count": null,
   "id": "1b1ba8b0",
   "metadata": {
    "execution": {
     "iopub.execute_input": "2022-09-22T07:22:49.371399Z",
     "iopub.status.busy": "2022-09-22T07:22:49.370612Z",
     "iopub.status.idle": "2022-09-22T07:22:52.806083Z",
     "shell.execute_reply": "2022-09-22T07:22:52.806608Z",
     "shell.execute_reply.started": "2022-09-22T07:12:04.847409Z"
    },
    "papermill": {
     "duration": 3.463867,
     "end_time": "2022-09-22T07:22:52.806866",
     "exception": false,
     "start_time": "2022-09-22T07:22:49.342999",
     "status": "completed"
    },
    "tags": []
   },
   "outputs": [],
   "source": [
    "# windowed processing\n",
    "'''\n",
    "rows_list = []\n",
    "window_size = FS * 20 * 60\n",
    "for subject_idx in subjects:\n",
    "    states = get_data(f\"eeg_record{subject_idx}.mat\")\n",
    "    for ch_name, ch_idx in channel_map.items():\n",
    "        for state, eeg in states.items():\n",
    "            data = eeg[:, ch_idx]\n",
    "            for i in range(len(data) - window_size + 1):\n",
    "                print(\"new window: \", window)\n",
    "                window = data[i:i+window_size]\n",
    "                powers = feature_extraction(window)\n",
    "                rows_list.append(powers)\n",
    "'''\n",
    "\n",
    "# brute processing\n",
    "rows_list = []\n",
    "for subject_idx in subjects:\n",
    "    states = get_data(f\"eeg_record{subject_idx}.mat\")\n",
    "    for ch_name, ch_idx in channel_map.items():\n",
    "        for state, eeg in states.items():\n",
    "            data = eeg[:, ch_idx]\n",
    "            print(\"new data: \", data)\n",
    "            powers = feature_extraction(data)\n",
    "            rows_list.append(powers)"
   ]
  },
  {
   "cell_type": "code",
   "execution_count": 492,
   "id": "7d990b24",
   "metadata": {
    "execution": {
     "iopub.execute_input": "2022-09-22T07:22:52.852914Z",
     "iopub.status.busy": "2022-09-22T07:22:52.851911Z",
     "iopub.status.idle": "2022-09-22T07:22:52.863724Z",
     "shell.execute_reply": "2022-09-22T07:22:52.864356Z",
     "shell.execute_reply.started": "2022-09-22T07:12:07.517878Z"
    },
    "papermill": {
     "duration": 0.036185,
     "end_time": "2022-09-22T07:22:52.864566",
     "exception": false,
     "start_time": "2022-09-22T07:22:52.828381",
     "status": "completed"
    },
    "tags": []
   },
   "outputs": [],
   "source": [
    "df = pd.DataFrame.from_dict(rows_list)"
   ]
  },
  {
   "attachments": {},
   "cell_type": "markdown",
   "id": "fbbc77ed",
   "metadata": {
    "papermill": {
     "duration": 0.021212,
     "end_time": "2022-09-22T07:22:52.909210",
     "exception": false,
     "start_time": "2022-09-22T07:22:52.887998",
     "status": "completed"
    },
    "tags": []
   },
   "source": [
    "## Explore and export data"
   ]
  },
  {
   "attachments": {},
   "cell_type": "markdown",
   "id": "71358230",
   "metadata": {
    "papermill": {
     "duration": 0.02415,
     "end_time": "2022-09-22T07:22:53.131867",
     "exception": false,
     "start_time": "2022-09-22T07:22:53.107717",
     "status": "completed"
    },
    "tags": []
   },
   "source": [
    "Save the features to CSV file"
   ]
  },
  {
   "cell_type": "code",
   "execution_count": 493,
   "id": "7b196b46",
   "metadata": {
    "execution": {
     "iopub.execute_input": "2022-09-22T07:22:53.179385Z",
     "iopub.status.busy": "2022-09-22T07:22:53.178658Z",
     "iopub.status.idle": "2022-09-22T07:22:53.192880Z",
     "shell.execute_reply": "2022-09-22T07:22:53.192107Z",
     "shell.execute_reply.started": "2022-09-22T07:12:07.602344Z"
    },
    "papermill": {
     "duration": 0.038465,
     "end_time": "2022-09-22T07:22:53.193047",
     "exception": false,
     "start_time": "2022-09-22T07:22:53.154582",
     "status": "completed"
    },
    "tags": []
   },
   "outputs": [],
   "source": [
    "#reads the data from the created csv\n",
    "df.to_csv(\"eeg_features.csv\")"
   ]
  },
  {
   "cell_type": "code",
   "execution_count": 494,
   "id": "d0107966",
   "metadata": {},
   "outputs": [
    {
     "name": "stdout",
     "output_type": "stream",
     "text": [
      "              0           1          2           3         4         5   \\\n",
      "0      66.200043  182.265216  87.059738  414.464274  0.354640  1.800302   \n",
      "1      54.391798  171.324774  69.662051  388.566564  0.026082  0.022306   \n",
      "2      50.161959  159.849419  61.523438  357.470617  0.090831  0.560171   \n",
      "3     114.078138  169.302234  95.402072  398.455860  1.169854  1.525890   \n",
      "4     101.381752  159.753208  77.362667  372.528173  1.143094  1.280544   \n",
      "...          ...         ...        ...         ...       ...       ...   \n",
      "1423   57.018891  170.881792  69.662051  388.914127  0.041521  0.125609   \n",
      "1424   33.804919   95.056985  28.875470  207.704828  0.065996  0.385430   \n",
      "1425   91.984664  164.961968  69.519447  387.781285  0.867845  0.394852   \n",
      "1426   93.151961  165.070062  69.733353  388.799676  0.844736  0.444035   \n",
      "1427   82.172750   90.841054  28.968020  208.630967  0.848484  0.418160   \n",
      "\n",
      "            6         7           8          9   ...        70        71  \\\n",
      "0     0.000013  0.003608  374.122901  78.734078  ...  0.029987  0.048175   \n",
      "1     0.000013  0.003608  359.621586  64.664703  ...  0.043684  0.057589   \n",
      "2     0.000013  0.003570  363.012859  62.205150  ...  0.034202  0.054589   \n",
      "3     0.000013  0.003608  484.617510  58.436731  ...  0.015664  0.043497   \n",
      "4     0.000013  0.003608  468.519902  52.857222  ...  0.013698  0.027035   \n",
      "...        ...       ...         ...        ...  ...       ...       ...   \n",
      "1423  0.000013  0.003608  357.364496  64.674050  ...  0.031087  0.056522   \n",
      "1424  0.000006  0.002366  354.457356  37.519136  ...  0.016099  0.044720   \n",
      "1425  0.000013  0.003608  448.683628  49.787091  ...  0.014241  0.040611   \n",
      "1426  0.000013  0.003608  450.494598  49.498758  ...  0.028900  0.028196   \n",
      "1427  0.000006  0.002366  457.811315  28.256881  ...  0.013920  0.032402   \n",
      "\n",
      "            72        73        74        75        76         77         78  \\\n",
      "0     0.011483  0.017568  0.010964  0.016565  0.008513  15.949466  12.038649   \n",
      "1     0.012982  0.022928  0.012962  0.021153  0.153714   0.132725   0.111517   \n",
      "2     0.008055  0.025688  0.009698  0.022056  0.088231   6.776934   1.752192   \n",
      "3     0.007956  0.009954  0.017395  0.020750  0.097465  11.009517   8.124961   \n",
      "4     0.014845  0.014972 -0.001928  0.010391  0.117388   6.797969   6.264803   \n",
      "...        ...       ...       ...       ...       ...        ...        ...   \n",
      "1423  0.011434  0.023190  0.013742  0.020686  0.019687   0.904446   0.755485   \n",
      "1424  0.006265  0.020041  0.002632  0.017755  0.048921   4.711923   4.680492   \n",
      "1425  0.008533  0.012695  0.012187  0.014137  0.202417   2.708787   2.178766   \n",
      "1426  0.012026  0.022458  0.002288  0.013220  0.206735   4.794817   1.723505   \n",
      "1427 -0.000388  0.015343  0.004823  0.015228  0.244533   4.230219   2.400209   \n",
      "\n",
      "            79  \n",
      "0     0.754799  \n",
      "1     0.840213  \n",
      "2     0.258552  \n",
      "3     0.737994  \n",
      "4     0.921570  \n",
      "...        ...  \n",
      "1423  0.835302  \n",
      "1424  0.993329  \n",
      "1425  0.804333  \n",
      "1426  0.359452  \n",
      "1427  0.567396  \n",
      "\n",
      "[1428 rows x 80 columns]\n"
     ]
    }
   ],
   "source": [
    "print(df)"
   ]
  },
  {
   "cell_type": "code",
   "execution_count": 495,
   "id": "6d834c8b",
   "metadata": {},
   "outputs": [],
   "source": [
    "df = pd.read_csv('eeg_features.csv')\n",
    "df = df.drop('Unnamed: 0', axis=1)"
   ]
  },
  {
   "cell_type": "code",
   "execution_count": 496,
   "id": "b27082c1",
   "metadata": {},
   "outputs": [],
   "source": [
    "X = df\n",
    "#19th column is only 0.\n",
    "#X.pop('19')\n",
    "\n",
    "#labels vector is set up this way to match the sizes.\n",
    "y = pd.read_csv('labels.csv')\n",
    "y = y['state']\n",
    "y = pd.concat([y,y,y,y,y,y,y])\n",
    "y = y.head(1428)\n",
    "y = pd.DataFrame(y) # convert from pandas series to pandas df"
   ]
  },
  {
   "cell_type": "code",
   "execution_count": 497,
   "id": "5d0844ee",
   "metadata": {},
   "outputs": [
    {
     "name": "stdout",
     "output_type": "stream",
     "text": [
      "               0           1          2           3         4         5  \\\n",
      "0      66.200043  182.265216  87.059738  414.464274  0.354640  1.800302   \n",
      "1      54.391798  171.324774  69.662051  388.566564  0.026082  0.022306   \n",
      "2      50.161959  159.849419  61.523438  357.470617  0.090831  0.560171   \n",
      "3     114.078138  169.302234  95.402072  398.455860  1.169854  1.525890   \n",
      "4     101.381752  159.753208  77.362667  372.528173  1.143094  1.280544   \n",
      "...          ...         ...        ...         ...       ...       ...   \n",
      "1423   57.018891  170.881792  69.662051  388.914127  0.041521  0.125609   \n",
      "1424   33.804919   95.056985  28.875470  207.704828  0.065996  0.385430   \n",
      "1425   91.984664  164.961968  69.519447  387.781285  0.867845  0.394852   \n",
      "1426   93.151961  165.070062  69.733353  388.799676  0.844736  0.444035   \n",
      "1427   82.172750   90.841054  28.968020  208.630967  0.848484  0.418160   \n",
      "\n",
      "             6         7           8          9  ...        70        71  \\\n",
      "0     0.000013  0.003608  374.122901  78.734078  ...  0.029987  0.048175   \n",
      "1     0.000013  0.003608  359.621586  64.664703  ...  0.043684  0.057589   \n",
      "2     0.000013  0.003570  363.012859  62.205150  ...  0.034202  0.054589   \n",
      "3     0.000013  0.003608  484.617510  58.436731  ...  0.015664  0.043497   \n",
      "4     0.000013  0.003608  468.519902  52.857222  ...  0.013698  0.027035   \n",
      "...        ...       ...         ...        ...  ...       ...       ...   \n",
      "1423  0.000013  0.003608  357.364496  64.674050  ...  0.031087  0.056522   \n",
      "1424  0.000006  0.002366  354.457356  37.519136  ...  0.016099  0.044720   \n",
      "1425  0.000013  0.003608  448.683628  49.787091  ...  0.014241  0.040611   \n",
      "1426  0.000013  0.003608  450.494598  49.498758  ...  0.028900  0.028196   \n",
      "1427  0.000006  0.002366  457.811315  28.256881  ...  0.013920  0.032402   \n",
      "\n",
      "            72        73        74        75        76         77         78  \\\n",
      "0     0.011483  0.017568  0.010964  0.016565  0.008513  15.949466  12.038649   \n",
      "1     0.012982  0.022928  0.012962  0.021153  0.153714   0.132725   0.111517   \n",
      "2     0.008055  0.025688  0.009698  0.022056  0.088231   6.776934   1.752192   \n",
      "3     0.007956  0.009954  0.017395  0.020750  0.097465  11.009517   8.124961   \n",
      "4     0.014845  0.014972 -0.001928  0.010391  0.117388   6.797969   6.264803   \n",
      "...        ...       ...       ...       ...       ...        ...        ...   \n",
      "1423  0.011434  0.023190  0.013742  0.020686  0.019687   0.904446   0.755485   \n",
      "1424  0.006265  0.020041  0.002632  0.017755  0.048921   4.711923   4.680492   \n",
      "1425  0.008533  0.012695  0.012187  0.014137  0.202417   2.708787   2.178766   \n",
      "1426  0.012026  0.022458  0.002288  0.013220  0.206735   4.794817   1.723505   \n",
      "1427 -0.000388  0.015343  0.004823  0.015228  0.244533   4.230219   2.400209   \n",
      "\n",
      "            79  \n",
      "0     0.754799  \n",
      "1     0.840213  \n",
      "2     0.258552  \n",
      "3     0.737994  \n",
      "4     0.921570  \n",
      "...        ...  \n",
      "1423  0.835302  \n",
      "1424  0.993329  \n",
      "1425  0.804333  \n",
      "1426  0.359452  \n",
      "1427  0.567396  \n",
      "\n",
      "[1428 rows x 80 columns]\n"
     ]
    }
   ],
   "source": [
    "print(X)"
   ]
  },
  {
   "cell_type": "code",
   "execution_count": 498,
   "id": "5eb391cb",
   "metadata": {},
   "outputs": [
    {
     "name": "stdout",
     "output_type": "stream",
     "text": [
      "         state\n",
      "0      focused\n",
      "1    unfocused\n",
      "2       drowsy\n",
      "3      focused\n",
      "4    unfocused\n",
      "..         ...\n",
      "163  unfocused\n",
      "164     drowsy\n",
      "165    focused\n",
      "166  unfocused\n",
      "167     drowsy\n",
      "\n",
      "[1428 rows x 1 columns]\n"
     ]
    }
   ],
   "source": [
    "print(y)"
   ]
  },
  {
   "cell_type": "code",
   "execution_count": 507,
   "id": "d80741d5",
   "metadata": {},
   "outputs": [
    {
     "name": "stdout",
     "output_type": "stream",
     "text": [
      "       state\n",
      "0        NaN\n",
      "1        NaN\n",
      "2     drowsy\n",
      "3        NaN\n",
      "4        NaN\n",
      "...      ...\n",
      "1423     NaN\n",
      "1424  drowsy\n",
      "1425     NaN\n",
      "1426     NaN\n",
      "1427  drowsy\n",
      "\n",
      "[1428 rows x 1 columns]\n",
      "[   0    1    3    4    6    7    9   10   12   13   15   16   18   19\n",
      "   21   22   24   25   27   28   30   31   33   34   36   37   39   40\n",
      "   42   43   45   46   48   49   51   52   54   55   57   58   60   61\n",
      "   63   64   66   67   69   70   72   73   75   76   78   79   81   82\n",
      "   84   85   87   88   90   91   93   94   96   97   99  100  102  103\n",
      "  105  106  108  109  111  112  114  115  117  118  120  121  123  124\n",
      "  126  127  129  130  132  133  135  136  138  139  141  142  144  145\n",
      "  147  148  150  151  153  154  156  157  159  160  162  163  165  166\n",
      "  168  169  171  172  174  175  177  178  180  181  183  184  186  187\n",
      "  189  190  192  193  195  196  198  199  201  202  204  205  207  208\n",
      "  210  211  213  214  216  217  219  220  222  223  225  226  228  229\n",
      "  231  232  234  235  237  238  240  241  243  244  246  247  249  250\n",
      "  252  253  255  256  258  259  261  262  264  265  267  268  270  271\n",
      "  273  274  276  277  279  280  282  283  285  286  288  289  291  292\n",
      "  294  295  297  298  300  301  303  304  306  307  309  310  312  313\n",
      "  315  316  318  319  321  322  324  325  327  328  330  331  333  334\n",
      "  336  337  339  340  342  343  345  346  348  349  351  352  354  355\n",
      "  357  358  360  361  363  364  366  367  369  370  372  373  375  376\n",
      "  378  379  381  382  384  385  387  388  390  391  393  394  396  397\n",
      "  399  400  402  403  405  406  408  409  411  412  414  415  417  418\n",
      "  420  421  423  424  426  427  429  430  432  433  435  436  438  439\n",
      "  441  442  444  445  447  448  450  451  453  454  456  457  459  460\n",
      "  462  463  465  466  468  469  471  472  474  475  477  478  480  481\n",
      "  483  484  486  487  489  490  492  493  495  496  498  499  501  502\n",
      "  504  505  507  508  510  511  513  514  516  517  519  520  522  523\n",
      "  525  526  528  529  531  532  534  535  537  538  540  541  543  544\n",
      "  546  547  549  550  552  553  555  556  558  559  561  562  564  565\n",
      "  567  568  570  571  573  574  576  577  579  580  582  583  585  586\n",
      "  588  589  591  592  594  595  597  598  600  601  603  604  606  607\n",
      "  609  610  612  613  615  616  618  619  621  622  624  625  627  628\n",
      "  630  631  633  634  636  637  639  640  642  643  645  646  648  649\n",
      "  651  652  654  655  657  658  660  661  663  664  666  667  669  670\n",
      "  672  673  675  676  678  679  681  682  684  685  687  688  690  691\n",
      "  693  694  696  697  699  700  702  703  705  706  708  709  711  712\n",
      "  714  715  717  718  720  721  723  724  726  727  729  730  732  733\n",
      "  735  736  738  739  741  742  744  745  747  748  750  751  753  754\n",
      "  756  757  759  760  762  763  765  766  768  769  771  772  774  775\n",
      "  777  778  780  781  783  784  786  787  789  790  792  793  795  796\n",
      "  798  799  801  802  804  805  807  808  810  811  813  814  816  817\n",
      "  819  820  822  823  825  826  828  829  831  832  834  835  837  838\n",
      "  840  841  843  844  846  847  849  850  852  853  855  856  858  859\n",
      "  861  862  864  865  867  868  870  871  873  874  876  877  879  880\n",
      "  882  883  885  886  888  889  891  892  894  895  897  898  900  901\n",
      "  903  904  906  907  909  910  912  913  915  916  918  919  921  922\n",
      "  924  925  927  928  930  931  933  934  936  937  939  940  942  943\n",
      "  945  946  948  949  951  952  954  955  957  958  960  961  963  964\n",
      "  966  967  969  970  972  973  975  976  978  979  981  982  984  985\n",
      "  987  988  990  991  993  994  996  997  999 1000 1002 1003 1005 1006\n",
      " 1008 1009 1011 1012 1014 1015 1017 1018 1020 1021 1023 1024 1026 1027\n",
      " 1029 1030 1032 1033 1035 1036 1038 1039 1041 1042 1044 1045 1047 1048\n",
      " 1050 1051 1053 1054 1056 1057 1059 1060 1062 1063 1065 1066 1068 1069\n",
      " 1071 1072 1074 1075 1077 1078 1080 1081 1083 1084 1086 1087 1089 1090\n",
      " 1092 1093 1095 1096 1098 1099 1101 1102 1104 1105 1107 1108 1110 1111\n",
      " 1113 1114 1116 1117 1119 1120 1122 1123 1125 1126 1128 1129 1131 1132\n",
      " 1134 1135 1137 1138 1140 1141 1143 1144 1146 1147 1149 1150 1152 1153\n",
      " 1155 1156 1158 1159 1161 1162 1164 1165 1167 1168 1170 1171 1173 1174\n",
      " 1176 1177 1179 1180 1182 1183 1185 1186 1188 1189 1191 1192 1194 1195\n",
      " 1197 1198 1200 1201 1203 1204 1206 1207 1209 1210 1212 1213 1215 1216\n",
      " 1218 1219 1221 1222 1224 1225 1227 1228 1230 1231 1233 1234 1236 1237\n",
      " 1239 1240 1242 1243 1245 1246 1248 1249 1251 1252 1254 1255 1257 1258\n",
      " 1260 1261 1263 1264 1266 1267 1269 1270 1272 1273 1275 1276 1278 1279\n",
      " 1281 1282 1284 1285 1287 1288 1290 1291 1293 1294 1296 1297 1299 1300\n",
      " 1302 1303 1305 1306 1308 1309 1311 1312 1314 1315 1317 1318 1320 1321\n",
      " 1323 1324 1326 1327 1329 1330 1332 1333 1335 1336 1338 1339 1341 1342\n",
      " 1344 1345 1347 1348 1350 1351 1353 1354 1356 1357 1359 1360 1362 1363\n",
      " 1365 1366 1368 1369 1371 1372 1374 1375 1377 1378 1380 1381 1383 1384\n",
      " 1386 1387 1389 1390 1392 1393 1395 1396 1398 1399 1401 1402 1404 1405\n",
      " 1407 1408 1410 1411 1413 1414 1416 1417 1419 1420 1422 1423 1425 1426]\n",
      "          state\n",
      "0       focused\n",
      "1     unfocused\n",
      "3       focused\n",
      "4     unfocused\n",
      "6       focused\n",
      "...         ...\n",
      "1420  unfocused\n",
      "1422    focused\n",
      "1423  unfocused\n",
      "1425    focused\n",
      "1426  unfocused\n",
      "\n",
      "[952 rows x 1 columns]\n"
     ]
    }
   ],
   "source": [
    "#burada X'e yaptığımızı y için yapıyoruz\n",
    "#\"drowsy\" yazan kısım çıkarmak istediğimiz state\n",
    "#iki stringi de değiştirmen lazım\n",
    "\n",
    "indexes = y[y == \"drowsy\"]\n",
    "print(indexes)\n",
    "nan_indexes = indexes.isna().any(axis=1).to_numpy().nonzero()[0]\n",
    "print(nan_indexes)\n",
    "\n",
    "y_2 = y[y != \"drowsy\"]\n",
    "\n",
    "y_2 = y_2.dropna()\n",
    "print(y_2)"
   ]
  },
  {
   "cell_type": "code",
   "execution_count": 502,
   "id": "5373fffa",
   "metadata": {},
   "outputs": [
    {
     "name": "stdout",
     "output_type": "stream",
     "text": [
      "               0           1          2           3         4         5  \\\n",
      "0      66.200043  182.265216  87.059738  414.464274  0.354640  1.800302   \n",
      "1      54.391798  171.324774  69.662051  388.566564  0.026082  0.022306   \n",
      "3     114.078138  169.302234  95.402072  398.455860  1.169854  1.525890   \n",
      "4     101.381752  159.753208  77.362667  372.528173  1.143094  1.280544   \n",
      "6     100.021972  172.868220  92.549992  402.922091  1.179447  1.614722   \n",
      "...          ...         ...        ...         ...       ...       ...   \n",
      "1420   50.527830  171.960867  69.662051  388.566564  0.042488  0.196297   \n",
      "1422   55.734982  171.167701  69.733353  389.137167  0.023490  0.080751   \n",
      "1423   57.018891  170.881792  69.662051  388.914127  0.041521  0.125609   \n",
      "1425   91.984664  164.961968  69.519447  387.781285  0.867845  0.394852   \n",
      "1426   93.151961  165.070062  69.733353  388.799676  0.844736  0.444035   \n",
      "\n",
      "             6         7           8          9  ...        70        71  \\\n",
      "0     0.000013  0.003608  374.122901  78.734078  ...  0.029987  0.048175   \n",
      "1     0.000013  0.003608  359.621586  64.664703  ...  0.043684  0.057589   \n",
      "3     0.000013  0.003608  484.617510  58.436731  ...  0.015664  0.043497   \n",
      "4     0.000013  0.003608  468.519902  52.857222  ...  0.013698  0.027035   \n",
      "6     0.000013  0.003608  482.893245  64.065810  ...  0.025849  0.025279   \n",
      "...        ...       ...         ...        ...  ...       ...       ...   \n",
      "1420  0.000013  0.003608  356.294773  64.729479  ...  0.039080  0.055638   \n",
      "1422  0.000013  0.003608  357.014306  64.713797  ...  0.031880  0.050939   \n",
      "1423  0.000013  0.003608  357.364496  64.674050  ...  0.031087  0.056522   \n",
      "1425  0.000013  0.003608  448.683628  49.787091  ...  0.014241  0.040611   \n",
      "1426  0.000013  0.003608  450.494598  49.498758  ...  0.028900  0.028196   \n",
      "\n",
      "            72        73        74        75        76         77         78  \\\n",
      "0     0.011483  0.017568  0.010964  0.016565  0.008513  15.949466  12.038649   \n",
      "1     0.012982  0.022928  0.012962  0.021153  0.153714   0.132725   0.111517   \n",
      "3     0.007956  0.009954  0.017395  0.020750  0.097465  11.009517   8.124961   \n",
      "4     0.014845  0.014972 -0.001928  0.010391  0.117388   6.797969   6.264803   \n",
      "6     0.009842  0.011258  0.011872  0.015633  0.095639  11.013625   8.470237   \n",
      "...        ...       ...       ...       ...       ...        ...        ...   \n",
      "1420  0.011076  0.023671  0.008209  0.023650  0.009410   1.668372   1.049385   \n",
      "1422  0.012926  0.021930  0.011824  0.019653  0.016830   0.856287   0.464908   \n",
      "1423  0.011434  0.023190  0.013742  0.020686  0.019687   0.904446   0.755485   \n",
      "1425  0.008533  0.012695  0.012187  0.014137  0.202417   2.708787   2.178766   \n",
      "1426  0.012026  0.022458  0.002288  0.013220  0.206735   4.794817   1.723505   \n",
      "\n",
      "            79  \n",
      "0     0.754799  \n",
      "1     0.840213  \n",
      "3     0.737994  \n",
      "4     0.921570  \n",
      "6     0.769069  \n",
      "...        ...  \n",
      "1420  0.628988  \n",
      "1422  0.542935  \n",
      "1423  0.835302  \n",
      "1425  0.804333  \n",
      "1426  0.359452  \n",
      "\n",
      "[952 rows x 80 columns]\n"
     ]
    }
   ],
   "source": [
    "#bura gereksiz\n",
    "#yukarida cikiyor zaten burada eksiltmeye gerek yok boyle daha hizli \n",
    "#hic anlatamadim ama trust me\n",
    "#X_2= X.loc[nan_indexes]\n",
    "#print(X_2)"
   ]
  },
  {
   "attachments": {},
   "cell_type": "markdown",
   "id": "0e30a689",
   "metadata": {},
   "source": [
    "Test-Training Split"
   ]
  },
  {
   "cell_type": "code",
   "execution_count": 504,
   "id": "2d590d98",
   "metadata": {},
   "outputs": [],
   "source": [
    "from sklearn.model_selection import train_test_split\n",
    "from sklearn.preprocessing import StandardScaler\n",
    "\n",
    "X_train, X_test, y_train, y_test = train_test_split(X_2, y_2, test_size=0.2,random_state=1)\n",
    "display_labels = [\"focused\",\"drowsy\"]\n",
    "\n",
    "# apply normalization after splitting to avoid leakage\n",
    "scaler = StandardScaler()\n",
    "X_train = scaler.fit_transform(X_train)\n",
    "X_test = scaler.transform(X_test)"
   ]
  },
  {
   "attachments": {},
   "cell_type": "markdown",
   "id": "becfb18b",
   "metadata": {},
   "source": [
    "PCA (0.999 explained variance)"
   ]
  },
  {
   "cell_type": "code",
   "execution_count": 505,
   "id": "041cdb47",
   "metadata": {},
   "outputs": [
    {
     "name": "stdout",
     "output_type": "stream",
     "text": [
      "[3.76476152e-01 2.18267534e-01 7.15681219e-02 5.02985906e-02\n",
      " 3.20898996e-02 2.43161113e-02 2.02414283e-02 1.88024408e-02\n",
      " 1.55121968e-02 1.48963294e-02 1.38931996e-02 1.30323721e-02\n",
      " 1.29627414e-02 1.11524517e-02 1.08967031e-02 8.96208636e-03\n",
      " 8.78205698e-03 7.33241379e-03 7.15220656e-03 6.53689212e-03\n",
      " 6.19191340e-03 5.01106204e-03 4.45448203e-03 4.16978563e-03\n",
      " 3.76272836e-03 3.46513604e-03 3.39474122e-03 2.85489443e-03\n",
      " 2.63874672e-03 2.50018365e-03 2.05021035e-03 1.80505031e-03\n",
      " 1.71012811e-03 1.54208327e-03 1.25650873e-03 1.20052586e-03\n",
      " 1.15212192e-03 9.43533626e-04 7.02183507e-04 6.67440335e-04\n",
      " 5.93868348e-04 5.16402555e-04 4.57122567e-04 4.04366490e-04\n",
      " 3.84471416e-04 3.36765462e-04 2.82216768e-04 2.62095573e-04\n",
      " 2.38699774e-04 2.21260853e-04 1.73023122e-04 1.60972061e-04\n",
      " 1.44294527e-04 1.36796423e-04 1.27384167e-04]\n",
      "0.9990851288139906\n"
     ]
    }
   ],
   "source": [
    "# Encode the genre labels\n",
    "from sklearn.decomposition import PCA\n",
    "from sklearn.preprocessing import LabelEncoder, StandardScaler\n",
    "\n",
    "y = y.reset_index(drop=True)\n",
    "\n",
    "pca = PCA(n_components = 0.999)\n",
    "X_train = pca.fit_transform(X_train)\n",
    "X_test = pca.transform(X_test)\n",
    "#X = dataPCA\n",
    "variance = pd.DataFrame(pca.explained_variance_ratio_)\n",
    "print(pca.explained_variance_ratio_)\n",
    "print(np.sum(pca.explained_variance_ratio_))\n"
   ]
  },
  {
   "attachments": {},
   "cell_type": "markdown",
   "id": "fe5827d5",
   "metadata": {},
   "source": [
    "KNN Classifier"
   ]
  },
  {
   "cell_type": "code",
   "execution_count": 506,
   "id": "89170b22",
   "metadata": {},
   "outputs": [
    {
     "name": "stdout",
     "output_type": "stream",
     "text": [
      "Accuracy of K-NN classifier on training set: 0.8476\n",
      "Accuracy of K-NN classifier on test set: 0.7225\n"
     ]
    },
    {
     "name": "stderr",
     "output_type": "stream",
     "text": [
      "/opt/homebrew/lib/python3.10/site-packages/sklearn/neighbors/_classification.py:207: DataConversionWarning: A column-vector y was passed when a 1d array was expected. Please change the shape of y to (n_samples,), for example using ravel().\n",
      "  return self._fit(X, y)\n"
     ]
    }
   ],
   "source": [
    "from sklearn.neighbors import KNeighborsClassifier\n",
    "knn = KNeighborsClassifier()\n",
    "knn.fit(X_train, y_train)\n",
    "print('Accuracy of K-NN classifier on training set: {:.4f}'\n",
    "     .format(knn.score(X_train, y_train)))\n",
    "print('Accuracy of K-NN classifier on test set: {:.4f}'\n",
    "     .format(knn.score(X_test, y_test)))"
   ]
  },
  {
   "cell_type": "code",
   "execution_count": 490,
   "id": "ffdee964",
   "metadata": {},
   "outputs": [
    {
     "name": "stdout",
     "output_type": "stream",
     "text": [
      "KNN Matrix\n"
     ]
    },
    {
     "data": {
      "text/plain": [
       "<sklearn.metrics._plot.confusion_matrix.ConfusionMatrixDisplay at 0x2891550c0>"
      ]
     },
     "execution_count": 490,
     "metadata": {},
     "output_type": "execute_result"
    },
    {
     "data": {
      "image/png": "[encoded data removed]",
      "text/plain": [
       "<Figure size 640x480 with 2 Axes>"
      ]
     },
     "metadata": {},
     "output_type": "display_data"
    }
   ],
   "source": [
    "knn_cm = confusion_matrix(y_test, knn.predict(X_test))\n",
    "knn_disp = ConfusionMatrixDisplay(confusion_matrix=knn_cm,display_labels=display_labels)\n",
    "print(\"KNN Matrix\")\n",
    "knn_disp.plot()"
   ]
  },
  {
   "attachments": {},
   "cell_type": "markdown",
   "id": "becc23e8",
   "metadata": {},
   "source": [
    "Decision Tree Classifier"
   ]
  },
  {
   "cell_type": "code",
   "execution_count": 329,
   "id": "eaa34c9a",
   "metadata": {},
   "outputs": [
    {
     "name": "stdout",
     "output_type": "stream",
     "text": [
      "Accuracy of Decision Tree classifier on training set: 1.0000\n",
      "Accuracy of Decision Tree classifier on test set: 0.5969\n"
     ]
    }
   ],
   "source": [
    "from sklearn.tree import DecisionTreeClassifier\n",
    "dt = DecisionTreeClassifier().fit(X_train, y_train)\n",
    "print('Accuracy of Decision Tree classifier on training set: {:.4f}'\n",
    "     .format(dt.score(X_train, y_train)))\n",
    "print('Accuracy of Decision Tree classifier on test set: {:.4f}'\n",
    "     .format(dt.score(X_test, y_test)))"
   ]
  },
  {
   "cell_type": "code",
   "execution_count": 330,
   "id": "6520c265",
   "metadata": {},
   "outputs": [
    {
     "name": "stdout",
     "output_type": "stream",
     "text": [
      "DT Matrix\n"
     ]
    },
    {
     "data": {
      "text/plain": [
       "<sklearn.metrics._plot.confusion_matrix.ConfusionMatrixDisplay at 0x2ab9976d0>"
      ]
     },
     "execution_count": 330,
     "metadata": {},
     "output_type": "execute_result"
    },
    {
     "data": {
      "image/png": "[encoded data removed]",
      "text/plain": [
       "<Figure size 640x480 with 2 Axes>"
      ]
     },
     "metadata": {},
     "output_type": "display_data"
    }
   ],
   "source": [
    "dt_cm = confusion_matrix(y_test, dt.predict(X_test))\n",
    "dt_disp = ConfusionMatrixDisplay(confusion_matrix=dt_cm,display_labels=display_labels)\n",
    "print(\"DT Matrix\")\n",
    "dt_disp.plot()"
   ]
  },
  {
   "attachments": {},
   "cell_type": "markdown",
   "id": "b1beeaef",
   "metadata": {},
   "source": [
    "Random Forest Classifier"
   ]
  },
  {
   "cell_type": "code",
   "execution_count": 299,
   "id": "d379314a",
   "metadata": {},
   "outputs": [
    {
     "name": "stdout",
     "output_type": "stream",
     "text": [
      "Accuracy of RandomForestClassifier classifier on training set: 1.0000\n",
      "Accuracy of RandomForestClassifier classifier on test set: 0.9686\n"
     ]
    },
    {
     "name": "stderr",
     "output_type": "stream",
     "text": [
      "/var/folders/4f/8lp82fhn6rj3fmpmwgsvbxf00000gn/T/ipykernel_97420/1193651153.py:2: DataConversionWarning: A column-vector y was passed when a 1d array was expected. Please change the shape of y to (n_samples,), for example using ravel().\n",
      "  rf = RandomForestClassifier(n_estimators=100).fit(X_train, y_train)\n"
     ]
    }
   ],
   "source": [
    "from sklearn.ensemble import RandomForestClassifier\n",
    "rf = RandomForestClassifier(n_estimators=100).fit(X_train, y_train)\n",
    "print('Accuracy of RandomForestClassifier classifier on training set: {:.4f}'\n",
    "     .format(rf.score(X_train, y_train)))\n",
    "print('Accuracy of RandomForestClassifier classifier on test set: {:.4f}'\n",
    "     .format(rf.score(X_test, y_test)))"
   ]
  },
  {
   "cell_type": "code",
   "execution_count": 300,
   "id": "42d6d73d",
   "metadata": {},
   "outputs": [
    {
     "name": "stdout",
     "output_type": "stream",
     "text": [
      "DT Matrix\n"
     ]
    },
    {
     "data": {
      "text/plain": [
       "<sklearn.metrics._plot.confusion_matrix.ConfusionMatrixDisplay at 0x297f66710>"
      ]
     },
     "execution_count": 300,
     "metadata": {},
     "output_type": "execute_result"
    },
    {
     "data": {
      "image/png": "[encoded data removed]",
      "text/plain": [
       "<Figure size 640x480 with 2 Axes>"
      ]
     },
     "metadata": {},
     "output_type": "display_data"
    }
   ],
   "source": [
    "rf_cm = confusion_matrix(y_test, rf.predict(X_test))\n",
    "rf_disp = ConfusionMatrixDisplay(confusion_matrix=rf_cm,display_labels=display_labels)\n",
    "print(\"DT Matrix\")\n",
    "rf_disp.plot()"
   ]
  },
  {
   "attachments": {},
   "cell_type": "markdown",
   "id": "fbd03ea0",
   "metadata": {},
   "source": [
    "Logistic Regression Classifier"
   ]
  },
  {
   "cell_type": "code",
   "execution_count": 325,
   "id": "4ebbbc90",
   "metadata": {},
   "outputs": [
    {
     "name": "stdout",
     "output_type": "stream",
     "text": [
      "Accuracy of Logistic regression classifier on training set: 0.7332\n",
      "Accuracy of Logistic regression classifier on test set: 0.6754\n"
     ]
    },
    {
     "name": "stderr",
     "output_type": "stream",
     "text": [
      "/opt/homebrew/lib/python3.10/site-packages/sklearn/utils/validation.py:1111: DataConversionWarning: A column-vector y was passed when a 1d array was expected. Please change the shape of y to (n_samples, ), for example using ravel().\n",
      "  y = column_or_1d(y, warn=True)\n"
     ]
    }
   ],
   "source": [
    "from sklearn.linear_model import LogisticRegression\n",
    "logreg = LogisticRegression(max_iter=5000)\n",
    "logreg.fit(X_train, y_train)\n",
    "print('Accuracy of Logistic regression classifier on training set: {:.4f}'\n",
    "     .format(logreg.score(X_train, y_train)))\n",
    "print('Accuracy of Logistic regression classifier on test set: {:.4f}'\n",
    "     .format(logreg.score(X_test, y_test)))"
   ]
  },
  {
   "cell_type": "code",
   "execution_count": 326,
   "id": "43e63623",
   "metadata": {},
   "outputs": [
    {
     "name": "stdout",
     "output_type": "stream",
     "text": [
      "lr Matrix\n"
     ]
    },
    {
     "data": {
      "text/plain": [
       "<sklearn.metrics._plot.confusion_matrix.ConfusionMatrixDisplay at 0x299202590>"
      ]
     },
     "execution_count": 326,
     "metadata": {},
     "output_type": "execute_result"
    },
    {
     "data": {
      "image/png": "[encoded data removed]",
      "text/plain": [
       "<Figure size 640x480 with 2 Axes>"
      ]
     },
     "metadata": {},
     "output_type": "display_data"
    }
   ],
   "source": [
    "logreg_cm = confusion_matrix(y_test, logreg.predict(X_test))\n",
    "logreg_disp = ConfusionMatrixDisplay(confusion_matrix=logreg_cm,display_labels=display_labels)\n",
    "print(\"lr Matrix\")\n",
    "logreg_disp.plot()"
   ]
  },
  {
   "attachments": {},
   "cell_type": "markdown",
   "id": "8cdb879e",
   "metadata": {},
   "source": [
    "SVM Classifier"
   ]
  },
  {
   "cell_type": "code",
   "execution_count": 491,
   "id": "4afe4bea",
   "metadata": {},
   "outputs": [
    {
     "name": "stdout",
     "output_type": "stream",
     "text": [
      "Accuracy of SVM classifier on training set: 1.0000\n",
      "Accuracy of SVM classifier on test set: 0.9948\n"
     ]
    },
    {
     "name": "stderr",
     "output_type": "stream",
     "text": [
      "/opt/homebrew/lib/python3.10/site-packages/sklearn/utils/validation.py:1111: DataConversionWarning: A column-vector y was passed when a 1d array was expected. Please change the shape of y to (n_samples, ), for example using ravel().\n",
      "  y = column_or_1d(y, warn=True)\n"
     ]
    }
   ],
   "source": [
    "from sklearn.svm import SVC\n",
    "svm = SVC(C=1.0, kernel='linear', degree=10, gamma='scale', coef0=0.0, shrinking=True, probability=False, tol=0.001, cache_size=200, class_weight=None, verbose=False, max_iter=-1, decision_function_shape='ovr', break_ties=False, random_state=1)\n",
    "svm.fit(X_train, y_train)\n",
    "print('Accuracy of SVM classifier on training set: {:.4f}'\n",
    "     .format(svm.score(X_train, y_train)))\n",
    "print('Accuracy of SVM classifier on test set: {:.4f}'\n",
    "     .format(svm.score(X_test, y_test)))\n"
   ]
  },
  {
   "cell_type": "code",
   "execution_count": 459,
   "id": "6b10ab1a",
   "metadata": {},
   "outputs": [
    {
     "name": "stdout",
     "output_type": "stream",
     "text": [
      "SVM Matrix\n"
     ]
    },
    {
     "ename": "ValueError",
     "evalue": "The number of FixedLocator locations (2), usually from a call to set_ticks, does not match the number of ticklabels (3).",
     "output_type": "error",
     "traceback": [
      "\u001b[0;31m---------------------------------------------------------------------------\u001b[0m",
      "\u001b[0;31mValueError\u001b[0m                                Traceback (most recent call last)",
      "Cell \u001b[0;32mIn[459], line 6\u001b[0m\n\u001b[1;32m      3\u001b[0m svm_disp \u001b[39m=\u001b[39m ConfusionMatrixDisplay(confusion_matrix\u001b[39m=\u001b[39msvm_cm,\n\u001b[1;32m      4\u001b[0m                                display_labels\u001b[39m=\u001b[39mdisplay_labels)\n\u001b[1;32m      5\u001b[0m \u001b[39mprint\u001b[39m(\u001b[39m\"\u001b[39m\u001b[39mSVM Matrix\u001b[39m\u001b[39m\"\u001b[39m)\n\u001b[0;32m----> 6\u001b[0m svm_disp\u001b[39m.\u001b[39;49mplot()\n",
      "File \u001b[0;32m/opt/homebrew/lib/python3.10/site-packages/sklearn/metrics/_plot/confusion_matrix.py:172\u001b[0m, in \u001b[0;36mConfusionMatrixDisplay.plot\u001b[0;34m(self, include_values, cmap, xticks_rotation, values_format, ax, colorbar, im_kw)\u001b[0m\n\u001b[1;32m    170\u001b[0m \u001b[39mif\u001b[39;00m colorbar:\n\u001b[1;32m    171\u001b[0m     fig\u001b[39m.\u001b[39mcolorbar(\u001b[39mself\u001b[39m\u001b[39m.\u001b[39mim_, ax\u001b[39m=\u001b[39max)\n\u001b[0;32m--> 172\u001b[0m ax\u001b[39m.\u001b[39;49mset(\n\u001b[1;32m    173\u001b[0m     xticks\u001b[39m=\u001b[39;49mnp\u001b[39m.\u001b[39;49marange(n_classes),\n\u001b[1;32m    174\u001b[0m     yticks\u001b[39m=\u001b[39;49mnp\u001b[39m.\u001b[39;49marange(n_classes),\n\u001b[1;32m    175\u001b[0m     xticklabels\u001b[39m=\u001b[39;49mdisplay_labels,\n\u001b[1;32m    176\u001b[0m     yticklabels\u001b[39m=\u001b[39;49mdisplay_labels,\n\u001b[1;32m    177\u001b[0m     ylabel\u001b[39m=\u001b[39;49m\u001b[39m\"\u001b[39;49m\u001b[39mTrue label\u001b[39;49m\u001b[39m\"\u001b[39;49m,\n\u001b[1;32m    178\u001b[0m     xlabel\u001b[39m=\u001b[39;49m\u001b[39m\"\u001b[39;49m\u001b[39mPredicted label\u001b[39;49m\u001b[39m\"\u001b[39;49m,\n\u001b[1;32m    179\u001b[0m )\n\u001b[1;32m    181\u001b[0m ax\u001b[39m.\u001b[39mset_ylim((n_classes \u001b[39m-\u001b[39m \u001b[39m0.5\u001b[39m, \u001b[39m-\u001b[39m\u001b[39m0.5\u001b[39m))\n\u001b[1;32m    182\u001b[0m plt\u001b[39m.\u001b[39msetp(ax\u001b[39m.\u001b[39mget_xticklabels(), rotation\u001b[39m=\u001b[39mxticks_rotation)\n",
      "File \u001b[0;32m/opt/homebrew/lib/python3.10/site-packages/matplotlib/artist.py:117\u001b[0m, in \u001b[0;36mArtist.__init_subclass__.<locals>.<lambda>\u001b[0;34m(self, **kwargs)\u001b[0m\n\u001b[1;32m    109\u001b[0m \u001b[39mif\u001b[39;00m \u001b[39mnot\u001b[39;00m \u001b[39mhasattr\u001b[39m(\u001b[39mcls\u001b[39m\u001b[39m.\u001b[39mset, \u001b[39m'\u001b[39m\u001b[39m_autogenerated_signature\u001b[39m\u001b[39m'\u001b[39m):\n\u001b[1;32m    110\u001b[0m     \u001b[39m# Don't overwrite cls.set if the subclass or one of its parents\u001b[39;00m\n\u001b[1;32m    111\u001b[0m     \u001b[39m# has defined a set method set itself.\u001b[39;00m\n\u001b[1;32m    112\u001b[0m     \u001b[39m# If there was no explicit definition, cls.set is inherited from\u001b[39;00m\n\u001b[1;32m    113\u001b[0m     \u001b[39m# the hierarchy of auto-generated set methods, which hold the\u001b[39;00m\n\u001b[1;32m    114\u001b[0m     \u001b[39m# flag _autogenerated_signature.\u001b[39;00m\n\u001b[1;32m    115\u001b[0m     \u001b[39mreturn\u001b[39;00m\n\u001b[0;32m--> 117\u001b[0m \u001b[39mcls\u001b[39m\u001b[39m.\u001b[39mset \u001b[39m=\u001b[39m \u001b[39mlambda\u001b[39;00m \u001b[39mself\u001b[39m, \u001b[39m*\u001b[39m\u001b[39m*\u001b[39mkwargs: Artist\u001b[39m.\u001b[39;49mset(\u001b[39mself\u001b[39;49m, \u001b[39m*\u001b[39;49m\u001b[39m*\u001b[39;49mkwargs)\n\u001b[1;32m    118\u001b[0m \u001b[39mcls\u001b[39m\u001b[39m.\u001b[39mset\u001b[39m.\u001b[39m\u001b[39m__name__\u001b[39m \u001b[39m=\u001b[39m \u001b[39m\"\u001b[39m\u001b[39mset\u001b[39m\u001b[39m\"\u001b[39m\n\u001b[1;32m    119\u001b[0m \u001b[39mcls\u001b[39m\u001b[39m.\u001b[39mset\u001b[39m.\u001b[39m\u001b[39m__qualname__\u001b[39m \u001b[39m=\u001b[39m \u001b[39mf\u001b[39m\u001b[39m\"\u001b[39m\u001b[39m{\u001b[39;00m\u001b[39mcls\u001b[39m\u001b[39m.\u001b[39m\u001b[39m__qualname__\u001b[39m\u001b[39m}\u001b[39;00m\u001b[39m.set\u001b[39m\u001b[39m\"\u001b[39m\n",
      "File \u001b[0;32m/opt/homebrew/lib/python3.10/site-packages/matplotlib/artist.py:1194\u001b[0m, in \u001b[0;36mArtist.set\u001b[0;34m(self, **kwargs)\u001b[0m\n\u001b[1;32m   1190\u001b[0m \u001b[39mdef\u001b[39;00m \u001b[39mset\u001b[39m(\u001b[39mself\u001b[39m, \u001b[39m*\u001b[39m\u001b[39m*\u001b[39mkwargs):\n\u001b[1;32m   1191\u001b[0m     \u001b[39m# docstring and signature are auto-generated via\u001b[39;00m\n\u001b[1;32m   1192\u001b[0m     \u001b[39m# Artist._update_set_signature_and_docstring() at the end of the\u001b[39;00m\n\u001b[1;32m   1193\u001b[0m     \u001b[39m# module.\u001b[39;00m\n\u001b[0;32m-> 1194\u001b[0m     \u001b[39mreturn\u001b[39;00m \u001b[39mself\u001b[39;49m\u001b[39m.\u001b[39;49m_internal_update(cbook\u001b[39m.\u001b[39;49mnormalize_kwargs(kwargs, \u001b[39mself\u001b[39;49m))\n",
      "File \u001b[0;32m/opt/homebrew/lib/python3.10/site-packages/matplotlib/artist.py:1186\u001b[0m, in \u001b[0;36mArtist._internal_update\u001b[0;34m(self, kwargs)\u001b[0m\n\u001b[1;32m   1179\u001b[0m \u001b[39mdef\u001b[39;00m \u001b[39m_internal_update\u001b[39m(\u001b[39mself\u001b[39m, kwargs):\n\u001b[1;32m   1180\u001b[0m     \u001b[39m\"\"\"\u001b[39;00m\n\u001b[1;32m   1181\u001b[0m \u001b[39m    Update artist properties without prenormalizing them, but generating\u001b[39;00m\n\u001b[1;32m   1182\u001b[0m \u001b[39m    errors as if calling `set`.\u001b[39;00m\n\u001b[1;32m   1183\u001b[0m \n\u001b[1;32m   1184\u001b[0m \u001b[39m    The lack of prenormalization is to maintain backcompatibility.\u001b[39;00m\n\u001b[1;32m   1185\u001b[0m \u001b[39m    \"\"\"\u001b[39;00m\n\u001b[0;32m-> 1186\u001b[0m     \u001b[39mreturn\u001b[39;00m \u001b[39mself\u001b[39;49m\u001b[39m.\u001b[39;49m_update_props(\n\u001b[1;32m   1187\u001b[0m         kwargs, \u001b[39m\"\u001b[39;49m\u001b[39m{cls.__name__}\u001b[39;49;00m\u001b[39m.set() got an unexpected keyword argument \u001b[39;49m\u001b[39m\"\u001b[39;49m\n\u001b[1;32m   1188\u001b[0m         \u001b[39m\"\u001b[39;49m\u001b[39m{prop_name!r}\u001b[39;49;00m\u001b[39m\"\u001b[39;49m)\n",
      "File \u001b[0;32m/opt/homebrew/lib/python3.10/site-packages/matplotlib/artist.py:1162\u001b[0m, in \u001b[0;36mArtist._update_props\u001b[0;34m(self, props, errfmt)\u001b[0m\n\u001b[1;32m   1159\u001b[0m             \u001b[39mif\u001b[39;00m \u001b[39mnot\u001b[39;00m callable(func):\n\u001b[1;32m   1160\u001b[0m                 \u001b[39mraise\u001b[39;00m \u001b[39mAttributeError\u001b[39;00m(\n\u001b[1;32m   1161\u001b[0m                     errfmt\u001b[39m.\u001b[39mformat(\u001b[39mcls\u001b[39m\u001b[39m=\u001b[39m\u001b[39mtype\u001b[39m(\u001b[39mself\u001b[39m), prop_name\u001b[39m=\u001b[39mk))\n\u001b[0;32m-> 1162\u001b[0m             ret\u001b[39m.\u001b[39mappend(func(v))\n\u001b[1;32m   1163\u001b[0m \u001b[39mif\u001b[39;00m ret:\n\u001b[1;32m   1164\u001b[0m     \u001b[39mself\u001b[39m\u001b[39m.\u001b[39mpchanged()\n",
      "File \u001b[0;32m/opt/homebrew/lib/python3.10/site-packages/matplotlib/axes/_base.py:73\u001b[0m, in \u001b[0;36m_axis_method_wrapper.__set_name__.<locals>.wrapper\u001b[0;34m(self, *args, **kwargs)\u001b[0m\n\u001b[1;32m     72\u001b[0m \u001b[39mdef\u001b[39;00m \u001b[39mwrapper\u001b[39m(\u001b[39mself\u001b[39m, \u001b[39m*\u001b[39margs, \u001b[39m*\u001b[39m\u001b[39m*\u001b[39mkwargs):\n\u001b[0;32m---> 73\u001b[0m     \u001b[39mreturn\u001b[39;00m get_method(\u001b[39mself\u001b[39;49m)(\u001b[39m*\u001b[39;49margs, \u001b[39m*\u001b[39;49m\u001b[39m*\u001b[39;49mkwargs)\n",
      "File \u001b[0;32m/opt/homebrew/lib/python3.10/site-packages/matplotlib/axis.py:1968\u001b[0m, in \u001b[0;36mAxis._set_ticklabels\u001b[0;34m(self, labels, fontdict, minor, **kwargs)\u001b[0m\n\u001b[1;32m   1966\u001b[0m \u001b[39mif\u001b[39;00m fontdict \u001b[39mis\u001b[39;00m \u001b[39mnot\u001b[39;00m \u001b[39mNone\u001b[39;00m:\n\u001b[1;32m   1967\u001b[0m     kwargs\u001b[39m.\u001b[39mupdate(fontdict)\n\u001b[0;32m-> 1968\u001b[0m \u001b[39mreturn\u001b[39;00m \u001b[39mself\u001b[39;49m\u001b[39m.\u001b[39;49mset_ticklabels(labels, minor\u001b[39m=\u001b[39;49mminor, \u001b[39m*\u001b[39;49m\u001b[39m*\u001b[39;49mkwargs)\n",
      "File \u001b[0;32m/opt/homebrew/lib/python3.10/site-packages/matplotlib/axis.py:1890\u001b[0m, in \u001b[0;36mAxis.set_ticklabels\u001b[0;34m(self, ticklabels, minor, **kwargs)\u001b[0m\n\u001b[1;32m   1886\u001b[0m \u001b[39mif\u001b[39;00m \u001b[39misinstance\u001b[39m(locator, mticker\u001b[39m.\u001b[39mFixedLocator):\n\u001b[1;32m   1887\u001b[0m     \u001b[39m# Passing [] as a list of ticklabels is often used as a way to\u001b[39;00m\n\u001b[1;32m   1888\u001b[0m     \u001b[39m# remove all tick labels, so only error for > 0 ticklabels\u001b[39;00m\n\u001b[1;32m   1889\u001b[0m     \u001b[39mif\u001b[39;00m \u001b[39mlen\u001b[39m(locator\u001b[39m.\u001b[39mlocs) \u001b[39m!=\u001b[39m \u001b[39mlen\u001b[39m(ticklabels) \u001b[39mand\u001b[39;00m \u001b[39mlen\u001b[39m(ticklabels) \u001b[39m!=\u001b[39m \u001b[39m0\u001b[39m:\n\u001b[0;32m-> 1890\u001b[0m         \u001b[39mraise\u001b[39;00m \u001b[39mValueError\u001b[39;00m(\n\u001b[1;32m   1891\u001b[0m             \u001b[39m\"\u001b[39m\u001b[39mThe number of FixedLocator locations\u001b[39m\u001b[39m\"\u001b[39m\n\u001b[1;32m   1892\u001b[0m             \u001b[39mf\u001b[39m\u001b[39m\"\u001b[39m\u001b[39m (\u001b[39m\u001b[39m{\u001b[39;00m\u001b[39mlen\u001b[39m(locator\u001b[39m.\u001b[39mlocs)\u001b[39m}\u001b[39;00m\u001b[39m), usually from a call to\u001b[39m\u001b[39m\"\u001b[39m\n\u001b[1;32m   1893\u001b[0m             \u001b[39m\"\u001b[39m\u001b[39m set_ticks, does not match\u001b[39m\u001b[39m\"\u001b[39m\n\u001b[1;32m   1894\u001b[0m             \u001b[39mf\u001b[39m\u001b[39m\"\u001b[39m\u001b[39m the number of ticklabels (\u001b[39m\u001b[39m{\u001b[39;00m\u001b[39mlen\u001b[39m(ticklabels)\u001b[39m}\u001b[39;00m\u001b[39m).\u001b[39m\u001b[39m\"\u001b[39m)\n\u001b[1;32m   1895\u001b[0m     tickd \u001b[39m=\u001b[39m {loc: lab \u001b[39mfor\u001b[39;00m loc, lab \u001b[39min\u001b[39;00m \u001b[39mzip\u001b[39m(locator\u001b[39m.\u001b[39mlocs, ticklabels)}\n\u001b[1;32m   1896\u001b[0m     func \u001b[39m=\u001b[39m functools\u001b[39m.\u001b[39mpartial(\u001b[39mself\u001b[39m\u001b[39m.\u001b[39m_format_with_dict, tickd)\n",
      "\u001b[0;31mValueError\u001b[0m: The number of FixedLocator locations (2), usually from a call to set_ticks, does not match the number of ticklabels (3)."
     ]
    },
    {
     "data": {
      "image/png": "[encoded data removed]",
      "text/plain": [
       "<Figure size 640x480 with 2 Axes>"
      ]
     },
     "metadata": {},
     "output_type": "display_data"
    }
   ],
   "source": [
    "svm_cm = confusion_matrix(y_test, svm.predict(X_test))\n",
    "display_labels = [\"focused\",\"unfocused\",'drowsy']\n",
    "svm_disp = ConfusionMatrixDisplay(confusion_matrix=svm_cm,\n",
    "                               display_labels=display_labels)\n",
    "print(\"SVM Matrix\")\n",
    "svm_disp.plot()"
   ]
  },
  {
   "attachments": {},
   "cell_type": "markdown",
   "id": "9c1cde46",
   "metadata": {},
   "source": [
    "Neural Network Classifier"
   ]
  },
  {
   "cell_type": "code",
   "execution_count": 248,
   "id": "2852119e",
   "metadata": {},
   "outputs": [
    {
     "name": "stderr",
     "output_type": "stream",
     "text": [
      "/opt/homebrew/lib/python3.10/site-packages/sklearn/neural_network/_multilayer_perceptron.py:1118: DataConversionWarning: A column-vector y was passed when a 1d array was expected. Please change the shape of y to (n_samples, ), for example using ravel().\n",
      "  y = column_or_1d(y, warn=True)\n"
     ]
    },
    {
     "name": "stdout",
     "output_type": "stream",
     "text": [
      "Accuracy of NN classifier on training set: 0.9974\n",
      "Accuracy of NN classifier on test set: 0.7435\n"
     ]
    }
   ],
   "source": [
    "import sklearn as sk\n",
    "from sklearn.neural_network import MLPClassifier\n",
    "NN = MLPClassifier(activation='logistic',solver='adam', alpha=1e-2, learning_rate='adaptive', max_iter=1000000, hidden_layer_sizes=(40), random_state=1)\n",
    "NN.fit(X_train, y_train)\n",
    "print('Accuracy of NN classifier on training set: {:.4f}'\n",
    "     .format(NN.score(X_train, y_train)))\n",
    "print('Accuracy of NN classifier on test set: {:.4f}'\n",
    "     .format(NN.score(X_test, y_test)))"
   ]
  },
  {
   "cell_type": "code",
   "execution_count": 249,
   "id": "54f86061",
   "metadata": {},
   "outputs": [
    {
     "name": "stdout",
     "output_type": "stream",
     "text": [
      "NN Matrix\n"
     ]
    },
    {
     "ename": "ValueError",
     "evalue": "The number of FixedLocator locations (2), usually from a call to set_ticks, does not match the number of ticklabels (3).",
     "output_type": "error",
     "traceback": [
      "\u001b[0;31m---------------------------------------------------------------------------\u001b[0m",
      "\u001b[0;31mValueError\u001b[0m                                Traceback (most recent call last)",
      "Cell \u001b[0;32mIn[249], line 4\u001b[0m\n\u001b[1;32m      2\u001b[0m NN_disp \u001b[39m=\u001b[39m ConfusionMatrixDisplay(confusion_matrix\u001b[39m=\u001b[39mNN_cm,display_labels\u001b[39m=\u001b[39mdisplay_labels)\n\u001b[1;32m      3\u001b[0m \u001b[39mprint\u001b[39m(\u001b[39m\"\u001b[39m\u001b[39mNN Matrix\u001b[39m\u001b[39m\"\u001b[39m)\n\u001b[0;32m----> 4\u001b[0m NN_disp\u001b[39m.\u001b[39;49mplot()\n",
      "File \u001b[0;32m/opt/homebrew/lib/python3.10/site-packages/sklearn/metrics/_plot/confusion_matrix.py:172\u001b[0m, in \u001b[0;36mConfusionMatrixDisplay.plot\u001b[0;34m(self, include_values, cmap, xticks_rotation, values_format, ax, colorbar, im_kw)\u001b[0m\n\u001b[1;32m    170\u001b[0m \u001b[39mif\u001b[39;00m colorbar:\n\u001b[1;32m    171\u001b[0m     fig\u001b[39m.\u001b[39mcolorbar(\u001b[39mself\u001b[39m\u001b[39m.\u001b[39mim_, ax\u001b[39m=\u001b[39max)\n\u001b[0;32m--> 172\u001b[0m ax\u001b[39m.\u001b[39;49mset(\n\u001b[1;32m    173\u001b[0m     xticks\u001b[39m=\u001b[39;49mnp\u001b[39m.\u001b[39;49marange(n_classes),\n\u001b[1;32m    174\u001b[0m     yticks\u001b[39m=\u001b[39;49mnp\u001b[39m.\u001b[39;49marange(n_classes),\n\u001b[1;32m    175\u001b[0m     xticklabels\u001b[39m=\u001b[39;49mdisplay_labels,\n\u001b[1;32m    176\u001b[0m     yticklabels\u001b[39m=\u001b[39;49mdisplay_labels,\n\u001b[1;32m    177\u001b[0m     ylabel\u001b[39m=\u001b[39;49m\u001b[39m\"\u001b[39;49m\u001b[39mTrue label\u001b[39;49m\u001b[39m\"\u001b[39;49m,\n\u001b[1;32m    178\u001b[0m     xlabel\u001b[39m=\u001b[39;49m\u001b[39m\"\u001b[39;49m\u001b[39mPredicted label\u001b[39;49m\u001b[39m\"\u001b[39;49m,\n\u001b[1;32m    179\u001b[0m )\n\u001b[1;32m    181\u001b[0m ax\u001b[39m.\u001b[39mset_ylim((n_classes \u001b[39m-\u001b[39m \u001b[39m0.5\u001b[39m, \u001b[39m-\u001b[39m\u001b[39m0.5\u001b[39m))\n\u001b[1;32m    182\u001b[0m plt\u001b[39m.\u001b[39msetp(ax\u001b[39m.\u001b[39mget_xticklabels(), rotation\u001b[39m=\u001b[39mxticks_rotation)\n",
      "File \u001b[0;32m/opt/homebrew/lib/python3.10/site-packages/matplotlib/artist.py:117\u001b[0m, in \u001b[0;36mArtist.__init_subclass__.<locals>.<lambda>\u001b[0;34m(self, **kwargs)\u001b[0m\n\u001b[1;32m    109\u001b[0m \u001b[39mif\u001b[39;00m \u001b[39mnot\u001b[39;00m \u001b[39mhasattr\u001b[39m(\u001b[39mcls\u001b[39m\u001b[39m.\u001b[39mset, \u001b[39m'\u001b[39m\u001b[39m_autogenerated_signature\u001b[39m\u001b[39m'\u001b[39m):\n\u001b[1;32m    110\u001b[0m     \u001b[39m# Don't overwrite cls.set if the subclass or one of its parents\u001b[39;00m\n\u001b[1;32m    111\u001b[0m     \u001b[39m# has defined a set method set itself.\u001b[39;00m\n\u001b[1;32m    112\u001b[0m     \u001b[39m# If there was no explicit definition, cls.set is inherited from\u001b[39;00m\n\u001b[1;32m    113\u001b[0m     \u001b[39m# the hierarchy of auto-generated set methods, which hold the\u001b[39;00m\n\u001b[1;32m    114\u001b[0m     \u001b[39m# flag _autogenerated_signature.\u001b[39;00m\n\u001b[1;32m    115\u001b[0m     \u001b[39mreturn\u001b[39;00m\n\u001b[0;32m--> 117\u001b[0m \u001b[39mcls\u001b[39m\u001b[39m.\u001b[39mset \u001b[39m=\u001b[39m \u001b[39mlambda\u001b[39;00m \u001b[39mself\u001b[39m, \u001b[39m*\u001b[39m\u001b[39m*\u001b[39mkwargs: Artist\u001b[39m.\u001b[39;49mset(\u001b[39mself\u001b[39;49m, \u001b[39m*\u001b[39;49m\u001b[39m*\u001b[39;49mkwargs)\n\u001b[1;32m    118\u001b[0m \u001b[39mcls\u001b[39m\u001b[39m.\u001b[39mset\u001b[39m.\u001b[39m\u001b[39m__name__\u001b[39m \u001b[39m=\u001b[39m \u001b[39m\"\u001b[39m\u001b[39mset\u001b[39m\u001b[39m\"\u001b[39m\n\u001b[1;32m    119\u001b[0m \u001b[39mcls\u001b[39m\u001b[39m.\u001b[39mset\u001b[39m.\u001b[39m\u001b[39m__qualname__\u001b[39m \u001b[39m=\u001b[39m \u001b[39mf\u001b[39m\u001b[39m\"\u001b[39m\u001b[39m{\u001b[39;00m\u001b[39mcls\u001b[39m\u001b[39m.\u001b[39m\u001b[39m__qualname__\u001b[39m\u001b[39m}\u001b[39;00m\u001b[39m.set\u001b[39m\u001b[39m\"\u001b[39m\n",
      "File \u001b[0;32m/opt/homebrew/lib/python3.10/site-packages/matplotlib/artist.py:1194\u001b[0m, in \u001b[0;36mArtist.set\u001b[0;34m(self, **kwargs)\u001b[0m\n\u001b[1;32m   1190\u001b[0m \u001b[39mdef\u001b[39;00m \u001b[39mset\u001b[39m(\u001b[39mself\u001b[39m, \u001b[39m*\u001b[39m\u001b[39m*\u001b[39mkwargs):\n\u001b[1;32m   1191\u001b[0m     \u001b[39m# docstring and signature are auto-generated via\u001b[39;00m\n\u001b[1;32m   1192\u001b[0m     \u001b[39m# Artist._update_set_signature_and_docstring() at the end of the\u001b[39;00m\n\u001b[1;32m   1193\u001b[0m     \u001b[39m# module.\u001b[39;00m\n\u001b[0;32m-> 1194\u001b[0m     \u001b[39mreturn\u001b[39;00m \u001b[39mself\u001b[39;49m\u001b[39m.\u001b[39;49m_internal_update(cbook\u001b[39m.\u001b[39;49mnormalize_kwargs(kwargs, \u001b[39mself\u001b[39;49m))\n",
      "File \u001b[0;32m/opt/homebrew/lib/python3.10/site-packages/matplotlib/artist.py:1186\u001b[0m, in \u001b[0;36mArtist._internal_update\u001b[0;34m(self, kwargs)\u001b[0m\n\u001b[1;32m   1179\u001b[0m \u001b[39mdef\u001b[39;00m \u001b[39m_internal_update\u001b[39m(\u001b[39mself\u001b[39m, kwargs):\n\u001b[1;32m   1180\u001b[0m     \u001b[39m\"\"\"\u001b[39;00m\n\u001b[1;32m   1181\u001b[0m \u001b[39m    Update artist properties without prenormalizing them, but generating\u001b[39;00m\n\u001b[1;32m   1182\u001b[0m \u001b[39m    errors as if calling `set`.\u001b[39;00m\n\u001b[1;32m   1183\u001b[0m \n\u001b[1;32m   1184\u001b[0m \u001b[39m    The lack of prenormalization is to maintain backcompatibility.\u001b[39;00m\n\u001b[1;32m   1185\u001b[0m \u001b[39m    \"\"\"\u001b[39;00m\n\u001b[0;32m-> 1186\u001b[0m     \u001b[39mreturn\u001b[39;00m \u001b[39mself\u001b[39;49m\u001b[39m.\u001b[39;49m_update_props(\n\u001b[1;32m   1187\u001b[0m         kwargs, \u001b[39m\"\u001b[39;49m\u001b[39m{cls.__name__}\u001b[39;49;00m\u001b[39m.set() got an unexpected keyword argument \u001b[39;49m\u001b[39m\"\u001b[39;49m\n\u001b[1;32m   1188\u001b[0m         \u001b[39m\"\u001b[39;49m\u001b[39m{prop_name!r}\u001b[39;49;00m\u001b[39m\"\u001b[39;49m)\n",
      "File \u001b[0;32m/opt/homebrew/lib/python3.10/site-packages/matplotlib/artist.py:1162\u001b[0m, in \u001b[0;36mArtist._update_props\u001b[0;34m(self, props, errfmt)\u001b[0m\n\u001b[1;32m   1159\u001b[0m             \u001b[39mif\u001b[39;00m \u001b[39mnot\u001b[39;00m callable(func):\n\u001b[1;32m   1160\u001b[0m                 \u001b[39mraise\u001b[39;00m \u001b[39mAttributeError\u001b[39;00m(\n\u001b[1;32m   1161\u001b[0m                     errfmt\u001b[39m.\u001b[39mformat(\u001b[39mcls\u001b[39m\u001b[39m=\u001b[39m\u001b[39mtype\u001b[39m(\u001b[39mself\u001b[39m), prop_name\u001b[39m=\u001b[39mk))\n\u001b[0;32m-> 1162\u001b[0m             ret\u001b[39m.\u001b[39mappend(func(v))\n\u001b[1;32m   1163\u001b[0m \u001b[39mif\u001b[39;00m ret:\n\u001b[1;32m   1164\u001b[0m     \u001b[39mself\u001b[39m\u001b[39m.\u001b[39mpchanged()\n",
      "File \u001b[0;32m/opt/homebrew/lib/python3.10/site-packages/matplotlib/axes/_base.py:73\u001b[0m, in \u001b[0;36m_axis_method_wrapper.__set_name__.<locals>.wrapper\u001b[0;34m(self, *args, **kwargs)\u001b[0m\n\u001b[1;32m     72\u001b[0m \u001b[39mdef\u001b[39;00m \u001b[39mwrapper\u001b[39m(\u001b[39mself\u001b[39m, \u001b[39m*\u001b[39margs, \u001b[39m*\u001b[39m\u001b[39m*\u001b[39mkwargs):\n\u001b[0;32m---> 73\u001b[0m     \u001b[39mreturn\u001b[39;00m get_method(\u001b[39mself\u001b[39;49m)(\u001b[39m*\u001b[39;49margs, \u001b[39m*\u001b[39;49m\u001b[39m*\u001b[39;49mkwargs)\n",
      "File \u001b[0;32m/opt/homebrew/lib/python3.10/site-packages/matplotlib/axis.py:1968\u001b[0m, in \u001b[0;36mAxis._set_ticklabels\u001b[0;34m(self, labels, fontdict, minor, **kwargs)\u001b[0m\n\u001b[1;32m   1966\u001b[0m \u001b[39mif\u001b[39;00m fontdict \u001b[39mis\u001b[39;00m \u001b[39mnot\u001b[39;00m \u001b[39mNone\u001b[39;00m:\n\u001b[1;32m   1967\u001b[0m     kwargs\u001b[39m.\u001b[39mupdate(fontdict)\n\u001b[0;32m-> 1968\u001b[0m \u001b[39mreturn\u001b[39;00m \u001b[39mself\u001b[39;49m\u001b[39m.\u001b[39;49mset_ticklabels(labels, minor\u001b[39m=\u001b[39;49mminor, \u001b[39m*\u001b[39;49m\u001b[39m*\u001b[39;49mkwargs)\n",
      "File \u001b[0;32m/opt/homebrew/lib/python3.10/site-packages/matplotlib/axis.py:1890\u001b[0m, in \u001b[0;36mAxis.set_ticklabels\u001b[0;34m(self, ticklabels, minor, **kwargs)\u001b[0m\n\u001b[1;32m   1886\u001b[0m \u001b[39mif\u001b[39;00m \u001b[39misinstance\u001b[39m(locator, mticker\u001b[39m.\u001b[39mFixedLocator):\n\u001b[1;32m   1887\u001b[0m     \u001b[39m# Passing [] as a list of ticklabels is often used as a way to\u001b[39;00m\n\u001b[1;32m   1888\u001b[0m     \u001b[39m# remove all tick labels, so only error for > 0 ticklabels\u001b[39;00m\n\u001b[1;32m   1889\u001b[0m     \u001b[39mif\u001b[39;00m \u001b[39mlen\u001b[39m(locator\u001b[39m.\u001b[39mlocs) \u001b[39m!=\u001b[39m \u001b[39mlen\u001b[39m(ticklabels) \u001b[39mand\u001b[39;00m \u001b[39mlen\u001b[39m(ticklabels) \u001b[39m!=\u001b[39m \u001b[39m0\u001b[39m:\n\u001b[0;32m-> 1890\u001b[0m         \u001b[39mraise\u001b[39;00m \u001b[39mValueError\u001b[39;00m(\n\u001b[1;32m   1891\u001b[0m             \u001b[39m\"\u001b[39m\u001b[39mThe number of FixedLocator locations\u001b[39m\u001b[39m\"\u001b[39m\n\u001b[1;32m   1892\u001b[0m             \u001b[39mf\u001b[39m\u001b[39m\"\u001b[39m\u001b[39m (\u001b[39m\u001b[39m{\u001b[39;00m\u001b[39mlen\u001b[39m(locator\u001b[39m.\u001b[39mlocs)\u001b[39m}\u001b[39;00m\u001b[39m), usually from a call to\u001b[39m\u001b[39m\"\u001b[39m\n\u001b[1;32m   1893\u001b[0m             \u001b[39m\"\u001b[39m\u001b[39m set_ticks, does not match\u001b[39m\u001b[39m\"\u001b[39m\n\u001b[1;32m   1894\u001b[0m             \u001b[39mf\u001b[39m\u001b[39m\"\u001b[39m\u001b[39m the number of ticklabels (\u001b[39m\u001b[39m{\u001b[39;00m\u001b[39mlen\u001b[39m(ticklabels)\u001b[39m}\u001b[39;00m\u001b[39m).\u001b[39m\u001b[39m\"\u001b[39m)\n\u001b[1;32m   1895\u001b[0m     tickd \u001b[39m=\u001b[39m {loc: lab \u001b[39mfor\u001b[39;00m loc, lab \u001b[39min\u001b[39;00m \u001b[39mzip\u001b[39m(locator\u001b[39m.\u001b[39mlocs, ticklabels)}\n\u001b[1;32m   1896\u001b[0m     func \u001b[39m=\u001b[39m functools\u001b[39m.\u001b[39mpartial(\u001b[39mself\u001b[39m\u001b[39m.\u001b[39m_format_with_dict, tickd)\n",
      "\u001b[0;31mValueError\u001b[0m: The number of FixedLocator locations (2), usually from a call to set_ticks, does not match the number of ticklabels (3)."
     ]
    },
    {
     "data": {
      "image/png": "[encoded data removed]",
      "text/plain": [
       "<Figure size 640x480 with 2 Axes>"
      ]
     },
     "metadata": {},
     "output_type": "display_data"
    }
   ],
   "source": [
    "NN_cm = confusion_matrix(y_test, NN.predict(X_test))\n",
    "NN_disp = ConfusionMatrixDisplay(confusion_matrix=NN_cm,display_labels=display_labels)\n",
    "print(\"NN Matrix\")\n",
    "NN_disp.plot()"
   ]
  },
  {
   "attachments": {},
   "cell_type": "markdown",
   "id": "fb3d5105",
   "metadata": {},
   "source": [
    "Gradient Boosting Classifier"
   ]
  },
  {
   "cell_type": "code",
   "execution_count": 157,
   "id": "19bdf917",
   "metadata": {},
   "outputs": [
    {
     "name": "stderr",
     "output_type": "stream",
     "text": [
      "/opt/homebrew/lib/python3.10/site-packages/sklearn/ensemble/_gb.py:570: DataConversionWarning: A column-vector y was passed when a 1d array was expected. Please change the shape of y to (n_samples, ), for example using ravel().\n",
      "  y = column_or_1d(y, warn=True)\n"
     ]
    },
    {
     "name": "stdout",
     "output_type": "stream",
     "text": [
      "Accuracy of GradientBoostingClassifier on training set: 1.0000\n",
      "Accuracy of GradientBoostingClassifier on test set: 0.6021\n"
     ]
    }
   ],
   "source": [
    "from sklearn.ensemble import GradientBoostingClassifier\n",
    "clf = GradientBoostingClassifier(n_estimators=200, learning_rate=0.1, max_depth=10, random_state=1).fit(X_train, y_train)\n",
    "print('Accuracy of GradientBoostingClassifier on training set: {:.4f}'\n",
    "     .format(clf.score(X_train, y_train)))\n",
    "print('Accuracy of GradientBoostingClassifier on test set: {:.4f}'\n",
    "     .format(clf.score(X_test, y_test)))"
   ]
  },
  {
   "cell_type": "code",
   "execution_count": 158,
   "id": "93fae659",
   "metadata": {},
   "outputs": [
    {
     "name": "stdout",
     "output_type": "stream",
     "text": [
      "clf Matrix\n"
     ]
    },
    {
     "ename": "ValueError",
     "evalue": "The number of FixedLocator locations (2), usually from a call to set_ticks, does not match the number of ticklabels (3).",
     "output_type": "error",
     "traceback": [
      "\u001b[0;31m---------------------------------------------------------------------------\u001b[0m",
      "\u001b[0;31mValueError\u001b[0m                                Traceback (most recent call last)",
      "Cell \u001b[0;32mIn[158], line 4\u001b[0m\n\u001b[1;32m      2\u001b[0m clf_disp \u001b[39m=\u001b[39m ConfusionMatrixDisplay(confusion_matrix\u001b[39m=\u001b[39mclf_cm,display_labels\u001b[39m=\u001b[39mdisplay_labels)\n\u001b[1;32m      3\u001b[0m \u001b[39mprint\u001b[39m(\u001b[39m\"\u001b[39m\u001b[39mclf Matrix\u001b[39m\u001b[39m\"\u001b[39m)\n\u001b[0;32m----> 4\u001b[0m clf_disp\u001b[39m.\u001b[39;49mplot()\n",
      "File \u001b[0;32m/opt/homebrew/lib/python3.10/site-packages/sklearn/metrics/_plot/confusion_matrix.py:172\u001b[0m, in \u001b[0;36mConfusionMatrixDisplay.plot\u001b[0;34m(self, include_values, cmap, xticks_rotation, values_format, ax, colorbar, im_kw)\u001b[0m\n\u001b[1;32m    170\u001b[0m \u001b[39mif\u001b[39;00m colorbar:\n\u001b[1;32m    171\u001b[0m     fig\u001b[39m.\u001b[39mcolorbar(\u001b[39mself\u001b[39m\u001b[39m.\u001b[39mim_, ax\u001b[39m=\u001b[39max)\n\u001b[0;32m--> 172\u001b[0m ax\u001b[39m.\u001b[39;49mset(\n\u001b[1;32m    173\u001b[0m     xticks\u001b[39m=\u001b[39;49mnp\u001b[39m.\u001b[39;49marange(n_classes),\n\u001b[1;32m    174\u001b[0m     yticks\u001b[39m=\u001b[39;49mnp\u001b[39m.\u001b[39;49marange(n_classes),\n\u001b[1;32m    175\u001b[0m     xticklabels\u001b[39m=\u001b[39;49mdisplay_labels,\n\u001b[1;32m    176\u001b[0m     yticklabels\u001b[39m=\u001b[39;49mdisplay_labels,\n\u001b[1;32m    177\u001b[0m     ylabel\u001b[39m=\u001b[39;49m\u001b[39m\"\u001b[39;49m\u001b[39mTrue label\u001b[39;49m\u001b[39m\"\u001b[39;49m,\n\u001b[1;32m    178\u001b[0m     xlabel\u001b[39m=\u001b[39;49m\u001b[39m\"\u001b[39;49m\u001b[39mPredicted label\u001b[39;49m\u001b[39m\"\u001b[39;49m,\n\u001b[1;32m    179\u001b[0m )\n\u001b[1;32m    181\u001b[0m ax\u001b[39m.\u001b[39mset_ylim((n_classes \u001b[39m-\u001b[39m \u001b[39m0.5\u001b[39m, \u001b[39m-\u001b[39m\u001b[39m0.5\u001b[39m))\n\u001b[1;32m    182\u001b[0m plt\u001b[39m.\u001b[39msetp(ax\u001b[39m.\u001b[39mget_xticklabels(), rotation\u001b[39m=\u001b[39mxticks_rotation)\n",
      "File \u001b[0;32m/opt/homebrew/lib/python3.10/site-packages/matplotlib/artist.py:117\u001b[0m, in \u001b[0;36mArtist.__init_subclass__.<locals>.<lambda>\u001b[0;34m(self, **kwargs)\u001b[0m\n\u001b[1;32m    109\u001b[0m \u001b[39mif\u001b[39;00m \u001b[39mnot\u001b[39;00m \u001b[39mhasattr\u001b[39m(\u001b[39mcls\u001b[39m\u001b[39m.\u001b[39mset, \u001b[39m'\u001b[39m\u001b[39m_autogenerated_signature\u001b[39m\u001b[39m'\u001b[39m):\n\u001b[1;32m    110\u001b[0m     \u001b[39m# Don't overwrite cls.set if the subclass or one of its parents\u001b[39;00m\n\u001b[1;32m    111\u001b[0m     \u001b[39m# has defined a set method set itself.\u001b[39;00m\n\u001b[1;32m    112\u001b[0m     \u001b[39m# If there was no explicit definition, cls.set is inherited from\u001b[39;00m\n\u001b[1;32m    113\u001b[0m     \u001b[39m# the hierarchy of auto-generated set methods, which hold the\u001b[39;00m\n\u001b[1;32m    114\u001b[0m     \u001b[39m# flag _autogenerated_signature.\u001b[39;00m\n\u001b[1;32m    115\u001b[0m     \u001b[39mreturn\u001b[39;00m\n\u001b[0;32m--> 117\u001b[0m \u001b[39mcls\u001b[39m\u001b[39m.\u001b[39mset \u001b[39m=\u001b[39m \u001b[39mlambda\u001b[39;00m \u001b[39mself\u001b[39m, \u001b[39m*\u001b[39m\u001b[39m*\u001b[39mkwargs: Artist\u001b[39m.\u001b[39;49mset(\u001b[39mself\u001b[39;49m, \u001b[39m*\u001b[39;49m\u001b[39m*\u001b[39;49mkwargs)\n\u001b[1;32m    118\u001b[0m \u001b[39mcls\u001b[39m\u001b[39m.\u001b[39mset\u001b[39m.\u001b[39m\u001b[39m__name__\u001b[39m \u001b[39m=\u001b[39m \u001b[39m\"\u001b[39m\u001b[39mset\u001b[39m\u001b[39m\"\u001b[39m\n\u001b[1;32m    119\u001b[0m \u001b[39mcls\u001b[39m\u001b[39m.\u001b[39mset\u001b[39m.\u001b[39m\u001b[39m__qualname__\u001b[39m \u001b[39m=\u001b[39m \u001b[39mf\u001b[39m\u001b[39m\"\u001b[39m\u001b[39m{\u001b[39;00m\u001b[39mcls\u001b[39m\u001b[39m.\u001b[39m\u001b[39m__qualname__\u001b[39m\u001b[39m}\u001b[39;00m\u001b[39m.set\u001b[39m\u001b[39m\"\u001b[39m\n",
      "File \u001b[0;32m/opt/homebrew/lib/python3.10/site-packages/matplotlib/artist.py:1194\u001b[0m, in \u001b[0;36mArtist.set\u001b[0;34m(self, **kwargs)\u001b[0m\n\u001b[1;32m   1190\u001b[0m \u001b[39mdef\u001b[39;00m \u001b[39mset\u001b[39m(\u001b[39mself\u001b[39m, \u001b[39m*\u001b[39m\u001b[39m*\u001b[39mkwargs):\n\u001b[1;32m   1191\u001b[0m     \u001b[39m# docstring and signature are auto-generated via\u001b[39;00m\n\u001b[1;32m   1192\u001b[0m     \u001b[39m# Artist._update_set_signature_and_docstring() at the end of the\u001b[39;00m\n\u001b[1;32m   1193\u001b[0m     \u001b[39m# module.\u001b[39;00m\n\u001b[0;32m-> 1194\u001b[0m     \u001b[39mreturn\u001b[39;00m \u001b[39mself\u001b[39;49m\u001b[39m.\u001b[39;49m_internal_update(cbook\u001b[39m.\u001b[39;49mnormalize_kwargs(kwargs, \u001b[39mself\u001b[39;49m))\n",
      "File \u001b[0;32m/opt/homebrew/lib/python3.10/site-packages/matplotlib/artist.py:1186\u001b[0m, in \u001b[0;36mArtist._internal_update\u001b[0;34m(self, kwargs)\u001b[0m\n\u001b[1;32m   1179\u001b[0m \u001b[39mdef\u001b[39;00m \u001b[39m_internal_update\u001b[39m(\u001b[39mself\u001b[39m, kwargs):\n\u001b[1;32m   1180\u001b[0m     \u001b[39m\"\"\"\u001b[39;00m\n\u001b[1;32m   1181\u001b[0m \u001b[39m    Update artist properties without prenormalizing them, but generating\u001b[39;00m\n\u001b[1;32m   1182\u001b[0m \u001b[39m    errors as if calling `set`.\u001b[39;00m\n\u001b[1;32m   1183\u001b[0m \n\u001b[1;32m   1184\u001b[0m \u001b[39m    The lack of prenormalization is to maintain backcompatibility.\u001b[39;00m\n\u001b[1;32m   1185\u001b[0m \u001b[39m    \"\"\"\u001b[39;00m\n\u001b[0;32m-> 1186\u001b[0m     \u001b[39mreturn\u001b[39;00m \u001b[39mself\u001b[39;49m\u001b[39m.\u001b[39;49m_update_props(\n\u001b[1;32m   1187\u001b[0m         kwargs, \u001b[39m\"\u001b[39;49m\u001b[39m{cls.__name__}\u001b[39;49;00m\u001b[39m.set() got an unexpected keyword argument \u001b[39;49m\u001b[39m\"\u001b[39;49m\n\u001b[1;32m   1188\u001b[0m         \u001b[39m\"\u001b[39;49m\u001b[39m{prop_name!r}\u001b[39;49;00m\u001b[39m\"\u001b[39;49m)\n",
      "File \u001b[0;32m/opt/homebrew/lib/python3.10/site-packages/matplotlib/artist.py:1162\u001b[0m, in \u001b[0;36mArtist._update_props\u001b[0;34m(self, props, errfmt)\u001b[0m\n\u001b[1;32m   1159\u001b[0m             \u001b[39mif\u001b[39;00m \u001b[39mnot\u001b[39;00m callable(func):\n\u001b[1;32m   1160\u001b[0m                 \u001b[39mraise\u001b[39;00m \u001b[39mAttributeError\u001b[39;00m(\n\u001b[1;32m   1161\u001b[0m                     errfmt\u001b[39m.\u001b[39mformat(\u001b[39mcls\u001b[39m\u001b[39m=\u001b[39m\u001b[39mtype\u001b[39m(\u001b[39mself\u001b[39m), prop_name\u001b[39m=\u001b[39mk))\n\u001b[0;32m-> 1162\u001b[0m             ret\u001b[39m.\u001b[39mappend(func(v))\n\u001b[1;32m   1163\u001b[0m \u001b[39mif\u001b[39;00m ret:\n\u001b[1;32m   1164\u001b[0m     \u001b[39mself\u001b[39m\u001b[39m.\u001b[39mpchanged()\n",
      "File \u001b[0;32m/opt/homebrew/lib/python3.10/site-packages/matplotlib/axes/_base.py:73\u001b[0m, in \u001b[0;36m_axis_method_wrapper.__set_name__.<locals>.wrapper\u001b[0;34m(self, *args, **kwargs)\u001b[0m\n\u001b[1;32m     72\u001b[0m \u001b[39mdef\u001b[39;00m \u001b[39mwrapper\u001b[39m(\u001b[39mself\u001b[39m, \u001b[39m*\u001b[39margs, \u001b[39m*\u001b[39m\u001b[39m*\u001b[39mkwargs):\n\u001b[0;32m---> 73\u001b[0m     \u001b[39mreturn\u001b[39;00m get_method(\u001b[39mself\u001b[39;49m)(\u001b[39m*\u001b[39;49margs, \u001b[39m*\u001b[39;49m\u001b[39m*\u001b[39;49mkwargs)\n",
      "File \u001b[0;32m/opt/homebrew/lib/python3.10/site-packages/matplotlib/axis.py:1968\u001b[0m, in \u001b[0;36mAxis._set_ticklabels\u001b[0;34m(self, labels, fontdict, minor, **kwargs)\u001b[0m\n\u001b[1;32m   1966\u001b[0m \u001b[39mif\u001b[39;00m fontdict \u001b[39mis\u001b[39;00m \u001b[39mnot\u001b[39;00m \u001b[39mNone\u001b[39;00m:\n\u001b[1;32m   1967\u001b[0m     kwargs\u001b[39m.\u001b[39mupdate(fontdict)\n\u001b[0;32m-> 1968\u001b[0m \u001b[39mreturn\u001b[39;00m \u001b[39mself\u001b[39;49m\u001b[39m.\u001b[39;49mset_ticklabels(labels, minor\u001b[39m=\u001b[39;49mminor, \u001b[39m*\u001b[39;49m\u001b[39m*\u001b[39;49mkwargs)\n",
      "File \u001b[0;32m/opt/homebrew/lib/python3.10/site-packages/matplotlib/axis.py:1890\u001b[0m, in \u001b[0;36mAxis.set_ticklabels\u001b[0;34m(self, ticklabels, minor, **kwargs)\u001b[0m\n\u001b[1;32m   1886\u001b[0m \u001b[39mif\u001b[39;00m \u001b[39misinstance\u001b[39m(locator, mticker\u001b[39m.\u001b[39mFixedLocator):\n\u001b[1;32m   1887\u001b[0m     \u001b[39m# Passing [] as a list of ticklabels is often used as a way to\u001b[39;00m\n\u001b[1;32m   1888\u001b[0m     \u001b[39m# remove all tick labels, so only error for > 0 ticklabels\u001b[39;00m\n\u001b[1;32m   1889\u001b[0m     \u001b[39mif\u001b[39;00m \u001b[39mlen\u001b[39m(locator\u001b[39m.\u001b[39mlocs) \u001b[39m!=\u001b[39m \u001b[39mlen\u001b[39m(ticklabels) \u001b[39mand\u001b[39;00m \u001b[39mlen\u001b[39m(ticklabels) \u001b[39m!=\u001b[39m \u001b[39m0\u001b[39m:\n\u001b[0;32m-> 1890\u001b[0m         \u001b[39mraise\u001b[39;00m \u001b[39mValueError\u001b[39;00m(\n\u001b[1;32m   1891\u001b[0m             \u001b[39m\"\u001b[39m\u001b[39mThe number of FixedLocator locations\u001b[39m\u001b[39m\"\u001b[39m\n\u001b[1;32m   1892\u001b[0m             \u001b[39mf\u001b[39m\u001b[39m\"\u001b[39m\u001b[39m (\u001b[39m\u001b[39m{\u001b[39;00m\u001b[39mlen\u001b[39m(locator\u001b[39m.\u001b[39mlocs)\u001b[39m}\u001b[39;00m\u001b[39m), usually from a call to\u001b[39m\u001b[39m\"\u001b[39m\n\u001b[1;32m   1893\u001b[0m             \u001b[39m\"\u001b[39m\u001b[39m set_ticks, does not match\u001b[39m\u001b[39m\"\u001b[39m\n\u001b[1;32m   1894\u001b[0m             \u001b[39mf\u001b[39m\u001b[39m\"\u001b[39m\u001b[39m the number of ticklabels (\u001b[39m\u001b[39m{\u001b[39;00m\u001b[39mlen\u001b[39m(ticklabels)\u001b[39m}\u001b[39;00m\u001b[39m).\u001b[39m\u001b[39m\"\u001b[39m)\n\u001b[1;32m   1895\u001b[0m     tickd \u001b[39m=\u001b[39m {loc: lab \u001b[39mfor\u001b[39;00m loc, lab \u001b[39min\u001b[39;00m \u001b[39mzip\u001b[39m(locator\u001b[39m.\u001b[39mlocs, ticklabels)}\n\u001b[1;32m   1896\u001b[0m     func \u001b[39m=\u001b[39m functools\u001b[39m.\u001b[39mpartial(\u001b[39mself\u001b[39m\u001b[39m.\u001b[39m_format_with_dict, tickd)\n",
      "\u001b[0;31mValueError\u001b[0m: The number of FixedLocator locations (2), usually from a call to set_ticks, does not match the number of ticklabels (3)."
     ]
    },
    {
     "data": {
      "image/png": "[encoded data removed]",
      "text/plain": [
       "<Figure size 640x480 with 2 Axes>"
      ]
     },
     "metadata": {},
     "output_type": "display_data"
    }
   ],
   "source": [
    "clf_cm = confusion_matrix(y_test, clf.predict(X_test))\n",
    "clf_disp = ConfusionMatrixDisplay(confusion_matrix=clf_cm,display_labels=display_labels)\n",
    "print(\"clf Matrix\")\n",
    "clf_disp.plot()"
   ]
  }
 ],
 "metadata": {
  "kernelspec": {
   "display_name": "venv",
   "language": "python",
   "name": "venv"
  },
  "language_info": {
   "codemirror_mode": {
    "name": "ipython",
    "version": 3
   },
   "file_extension": ".py",
   "mimetype": "text/x-python",
   "name": "python",
   "nbconvert_exporter": "python",
   "pygments_lexer": "ipython3",
   "version": "3.7.9"
  },
  "papermill": {
   "default_parameters": {},
   "duration": 16.882514,
   "end_time": "2022-09-22T07:22:54.596071",
   "environment_variables": {},
   "exception": null,
   "input_path": "__notebook__.ipynb",
   "output_path": "__notebook__.ipynb",
   "parameters": {},
   "start_time": "2022-09-22T07:22:37.713557",
   "version": "2.3.3"
  },
  "vscode": {
   "interpreter": {
    "hash": "b0fa6594d8f4cbf19f97940f81e996739fb7646882a419484c72d19e05852a7e"
   }
  }
 },
 "nbformat": 4,
 "nbformat_minor": 5
}
