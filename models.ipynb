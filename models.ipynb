{
 "cells": [
  {
   "cell_type": "markdown",
   "metadata": {},
   "source": [
    "## Dependencies"
   ]
  },
  {
   "cell_type": "code",
   "execution_count": 1,
   "metadata": {},
   "outputs": [],
   "source": [
    "import numpy as np\n",
    "import pandas as pd\n",
    "\n",
    "import utils, constants, training"
   ]
  },
  {
   "cell_type": "markdown",
   "metadata": {},
   "source": [
    "## I/O - Initialization"
   ]
  },
  {
   "cell_type": "code",
   "execution_count": 2,
   "metadata": {},
   "outputs": [],
   "source": [
    "# select the channels to be processed\n",
    "dataset = utils.data_loader(path = constants.MAIN_CSV_FILE)\n",
    "reduced_dataset = utils.channel_selection(dataset, constants.SELECTED_CHANNELS)\n",
    "data = utils.data_preparation(dataset=reduced_dataset, feature_subset=constants.ALL_FEATURES)"
   ]
  },
  {
   "cell_type": "markdown",
   "metadata": {},
   "source": [
    "## Training"
   ]
  },
  {
   "cell_type": "code",
   "execution_count": 3,
   "metadata": {},
   "outputs": [
    {
     "name": "stdout",
     "output_type": "stream",
     "text": [
      "\n",
      "==== Stats_dict for the K-NN model ====\n",
      "Training Accuracy:  0.7497681607418857\n",
      "Test Accuracy:  0.7478368355995055\n",
      "Sensitivity (Recall): 0.7552795031055901\n",
      "Precision: 0.7423687423687424\n",
      "F1_score: 0.7487684729064039\n",
      "AUC: 0.7478734538898184\n",
      "Logloss: 9.088881695154388\n",
      "\n",
      "\n",
      "==== Stats_dict for the SVM model ====\n",
      "Training Accuracy:  1.0\n",
      "Test Accuracy:  0.907292954264524\n",
      "Sensitivity (Recall): 0.9304347826086956\n",
      "Precision: 0.8884934756820878\n",
      "F1_score: 0.9089805825242718\n",
      "AUC: 0.9074068131985668\n",
      "Logloss: 3.3415006232185247\n",
      "\n",
      "\n",
      "==== Stats_dict for the DTC model ====\n",
      "Training Accuracy:  0.8284389489953632\n",
      "Test Accuracy:  0.76946847960445\n",
      "Sensitivity (Recall): 0.7515527950310559\n",
      "Precision: 0.7776349614395887\n",
      "F1_score: 0.764371446620341\n",
      "AUC: 0.7693803335548883\n",
      "Logloss: 8.309198216403397\n",
      "\n",
      "\n",
      "==== Stats_dict for the RFC model ====\n",
      "Training Accuracy:  1.0\n",
      "Test Accuracy:  0.8393077873918418\n",
      "Sensitivity (Recall): 0.8571428571428571\n",
      "Precision: 0.8263473053892215\n",
      "F1_score: 0.8414634146341463\n",
      "AUC: 0.8393955368125109\n",
      "Logloss: 5.791934413578776\n",
      "\n",
      "\n",
      "==== Stats_dict for the LR model ====\n",
      "Training Accuracy:  0.772952086553323\n",
      "Test Accuracy:  0.7571075401730532\n",
      "Sensitivity (Recall): 0.7614906832298136\n",
      "Precision: 0.7530712530712531\n",
      "F1_score: 0.7572575663990117\n",
      "AUC: 0.7571291054525452\n",
      "Logloss: 8.754731632832534\n",
      "\n",
      "\n",
      "==== Stats_dict for the NN model ====\n",
      "Training Accuracy:  0.9562596599690881\n",
      "Test Accuracy:  0.811495673671199\n",
      "Sensitivity (Recall): 0.7962732919254658\n",
      "Precision: 0.819693094629156\n",
      "F1_score: 0.8078134845620667\n",
      "AUC: 0.8114207788040614\n",
      "Logloss: 6.794384600544333\n",
      "\n"
     ]
    },
    {
     "name": "stderr",
     "output_type": "stream",
     "text": [
      "/Users/kemalcankucuk/Documents/PAWS Work/eeg-attention/paws/lib/python3.9/site-packages/sklearn/neural_network/_multilayer_perceptron.py:691: ConvergenceWarning: Stochastic Optimizer: Maximum iterations (200) reached and the optimization hasn't converged yet.\n",
      "  warnings.warn(\n"
     ]
    },
    {
     "name": "stdout",
     "output_type": "stream",
     "text": [
      "\n",
      "==== Stats_dict for the NN-def model ====\n",
      "Training Accuracy:  0.9496136012364761\n",
      "Test Accuracy:  0.8343634116192831\n",
      "Sensitivity (Recall): 0.8732919254658386\n",
      "Precision: 0.80897583429229\n",
      "F1_score: 0.8399044205495818\n",
      "AUC: 0.8345549418227102\n",
      "Logloss: 5.97014778015043\n",
      "\n",
      "\n",
      "==== Stats_dict for the SVM-def model ====\n",
      "Training Accuracy:  0.8432766615146832\n",
      "Test Accuracy:  0.8176761433868974\n",
      "Sensitivity (Recall): 0.8273291925465839\n",
      "Precision: 0.8102189781021898\n",
      "F1_score: 0.8186846957590659\n",
      "AUC: 0.8177236368636978\n",
      "Logloss: 6.5716178923297655\n",
      "\n",
      "\n",
      "==== Stats_dict for the XGB model ====\n",
      "Training Accuracy:  1.0\n",
      "Test Accuracy:  0.865265760197775\n",
      "Sensitivity (Recall): 0.8807453416149068\n",
      "Precision: 0.8531889290012034\n",
      "F1_score: 0.8667481662591687\n",
      "AUC: 0.8653419204999503\n",
      "Logloss: 4.856314239077589\n",
      "\n"
     ]
    }
   ],
   "source": [
    "model_accs = {}\n",
    "for model in constants.ALL_MODELS:\n",
    "    model_accs[model] = training.model_training(data, model, stats=True, cm=False)"
   ]
  },
  {
   "cell_type": "code",
   "execution_count": 4,
   "metadata": {},
   "outputs": [],
   "source": [
    "model_test_accs = {}\n",
    "for model in model_accs:\n",
    "    model_test_accs[model] = model_accs[model]['test_acc']"
   ]
  },
  {
   "cell_type": "code",
   "execution_count": 5,
   "metadata": {},
   "outputs": [
    {
     "data": {
      "image/png": "[encoded data removed]",
      "text/plain": [
       "<Figure size 640x480 with 1 Axes>"
      ]
     },
     "metadata": {},
     "output_type": "display_data"
    }
   ],
   "source": [
    "import matplotlib.pyplot as plt\n",
    "#for key in model_accs:\n",
    "#    x = np.linspace(1,len(model_accs[key]), len(model_accs[key]))\n",
    "#    plt.plot(x, model_accs[key])\n",
    "plt.rcParams[\"figure.autolayout\"] = True\n",
    "plt.bar(model_test_accs.keys(), model_test_accs.values(), color ='darkblue', \n",
    "        width = 0.3)        \n",
    "plt.grid()\n",
    "#plt.legend(models)\n",
    "plt.savefig('model accuracy comparison.png', bbox_inches='tight', dpi=500)\n",
    "plt.show()\n"
   ]
  }
 ],
 "metadata": {
  "kernelspec": {
   "display_name": "paws",
   "language": "python",
   "name": "python3"
  },
  "language_info": {
   "codemirror_mode": {
    "name": "ipython",
    "version": 3
   },
   "file_extension": ".py",
   "mimetype": "text/x-python",
   "name": "python",
   "nbconvert_exporter": "python",
   "pygments_lexer": "ipython3",
   "version": "3.9.6"
  }
 },
 "nbformat": 4,
 "nbformat_minor": 2
}
