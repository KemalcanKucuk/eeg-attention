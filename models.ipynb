{
 "cells": [
  {
   "cell_type": "markdown",
   "metadata": {},
   "source": [
    "## Dependencies"
   ]
  },
  {
   "cell_type": "code",
   "execution_count": 1,
   "metadata": {},
   "outputs": [],
   "source": [
    "import numpy as np\n",
    "import pandas as pd\n",
    "\n",
    "from utils import *"
   ]
  },
  {
   "cell_type": "markdown",
   "metadata": {},
   "source": [
    "## I/O - Initialization"
   ]
  },
  {
   "cell_type": "code",
   "execution_count": 2,
   "metadata": {},
   "outputs": [],
   "source": [
    "# select the channels to be processed\n",
    "channel_list = ['F3', 'F4', 'C3', 'Cz', 'Oz', 'Fp1', 'Fp2', 'FT7', 'F8', 'Fz', 'C4']\n",
    "csv_file = 'eeg_features.csv'\n",
    "selected_channels, selected_labels = data_loader(path = csv_file, channel_list = channel_list, ds = False, ds_rate = 1)"
   ]
  },
  {
   "cell_type": "code",
   "execution_count": 3,
   "metadata": {},
   "outputs": [],
   "source": [
    "# select the models to be trained\n",
    "models = ['GBC', 'K-NN', 'SVM', 'DTC', 'RFC', 'Logistic Regression', 'NN']\n",
    "data = data_preparation(selected_channels=selected_channels, selected_labels=selected_labels, feature_subset=selected_channels.columns)"
   ]
  },
  {
   "cell_type": "markdown",
   "metadata": {},
   "source": [
    "## Training"
   ]
  },
  {
   "cell_type": "code",
   "execution_count": 4,
   "metadata": {},
   "outputs": [
    {
     "name": "stdout",
     "output_type": "stream",
     "text": [
      "Accuracy of GBC classifier on training set: 1.00000000\n",
      "Accuracy of GBC classifier on test set: 0.82153293\n",
      "\n",
      "==== Stats for the GBC model ====\n",
      "Sensitivity (Recall): 0.8004415011037528\n",
      "Precision: 0.8412993039443155\n",
      "Accuracy (Recall): 0.8215329287480333\n",
      "F1_score: 0.8203619909502262\n",
      "AUC: 0.8219240472551732\n",
      "Logloss: 6.432605257576763\n",
      "\n",
      "Accuracy of K-NN classifier on training set: 0.92103636\n",
      "Accuracy of K-NN classifier on test set: 0.87547764\n",
      "\n",
      "==== Stats for the K-NN model ====\n",
      "Sensitivity (Recall): 0.8494481236203091\n",
      "Precision: 0.9003275620028077\n",
      "Accuracy (Recall): 0.8754776354236907\n",
      "F1_score: 0.8741481144934121\n",
      "AUC: 0.8759603255464183\n",
      "Logloss: 4.4882409479817715\n",
      "\n",
      "Accuracy of SVM classifier on training set: 0.84229753\n",
      "Accuracy of SVM classifier on test set: 0.80692290\n",
      "\n",
      "==== Stats for the SVM model ====\n",
      "Sensitivity (Recall): 0.788962472406181\n",
      "Precision: 0.8242619926199262\n",
      "Accuracy (Recall): 0.8069229040233761\n",
      "F1_score: 0.8062260320324836\n",
      "AUC: 0.8072559614778156\n",
      "Logloss: 6.959203924758739\n",
      "\n",
      "Accuracy of DTC classifier on training set: 1.00000000\n",
      "Accuracy of DTC classifier on test set: 0.67498314\n",
      "\n",
      "==== Stats for the DTC model ====\n",
      "Sensitivity (Recall): 0.6737306843267108\n",
      "Precision: 0.6833855799373041\n",
      "Accuracy (Recall): 0.6749831422791639\n",
      "F1_score: 0.6785237883503779\n",
      "AUC: 0.6750063678043811\n",
      "Logloss: 11.714794965309823\n",
      "\n",
      "Accuracy of RFC classifier on training set: 1.00000000\n",
      "Accuracy of RFC classifier on test set: 0.79073949\n",
      "\n",
      "==== Stats for the RFC model ====\n",
      "Sensitivity (Recall): 0.776158940397351\n",
      "Precision: 0.8056828597616865\n",
      "Accuracy (Recall): 0.7907394920206788\n",
      "F1_score: 0.7906453789071284\n",
      "AUC: 0.7910098731290784\n",
      "Logloss: 7.5425132176372385\n",
      "\n",
      "Accuracy of Logistic Regression classifier on training set: 0.71505648\n",
      "Accuracy of Logistic Regression classifier on test set: 0.71251967\n",
      "\n",
      "==== Stats for the Logistic Regression model ====\n",
      "Sensitivity (Recall): 0.7249448123620309\n",
      "Precision: 0.7145343777197564\n",
      "Accuracy (Recall): 0.7125196673409755\n",
      "F1_score: 0.7197019504711812\n",
      "AUC: 0.7122892559978652\n",
      "Logloss: 10.361841466549974\n",
      "\n",
      "Accuracy of NN classifier on training set: 0.94284269\n",
      "Accuracy of NN classifier on test set: 0.77455608\n",
      "\n",
      "==== Stats for the NN model ====\n",
      "Sensitivity (Recall): 0.7748344370860927\n",
      "Precision: 0.780693950177936\n",
      "Accuracy (Recall): 0.7745560800179816\n",
      "F1_score: 0.7777531575448703\n",
      "AUC: 0.7745509181767459\n",
      "Logloss: 8.125822510515734\n",
      "\n"
     ]
    }
   ],
   "source": [
    "for model in models:\n",
    "    model_training(data, model, stats=True, cm=False, verbose=True)"
   ]
  }
 ],
 "metadata": {
  "kernelspec": {
   "display_name": "paws",
   "language": "python",
   "name": "python3"
  },
  "language_info": {
   "codemirror_mode": {
    "name": "ipython",
    "version": 3
   },
   "file_extension": ".py",
   "mimetype": "text/x-python",
   "name": "python",
   "nbconvert_exporter": "python",
   "pygments_lexer": "ipython3",
   "version": "3.9.6"
  }
 },
 "nbformat": 4,
 "nbformat_minor": 2
}
