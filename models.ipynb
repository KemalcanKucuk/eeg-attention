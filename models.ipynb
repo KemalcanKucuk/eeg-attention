{
 "cells": [
  {
   "cell_type": "markdown",
   "metadata": {},
   "source": [
    "## Dependencies"
   ]
  },
  {
   "cell_type": "code",
   "execution_count": 1,
   "metadata": {},
   "outputs": [],
   "source": [
    "import numpy as np\n",
    "import pandas as pd\n",
    "\n",
    "from utils import *"
   ]
  },
  {
   "cell_type": "markdown",
   "metadata": {},
   "source": [
    "## I/O - Initialization"
   ]
  },
  {
   "cell_type": "code",
   "execution_count": 4,
   "metadata": {},
   "outputs": [],
   "source": [
    "# select the channels to be processed\n",
    "channel_list = ['F3', 'F4', 'C3', 'Cz', 'Oz', 'Fp1', 'Fp2', 'FT7', 'F8', 'Fz', 'C4']\n",
    "csv_file = 'eeg_features.csv'\n",
    "dataset = data_loader(path = csv_file)\n",
    "reduced_dataset = channel_selection(dataset, channel_list)\n",
    "all_features = reduced_dataset.columns[:len(reduced_dataset.columns) - 1]"
   ]
  },
  {
   "cell_type": "code",
   "execution_count": 5,
   "metadata": {},
   "outputs": [],
   "source": [
    "# select the models to be trained\n",
    "models = ['GBC', 'K-NN', 'SVM', 'DTC', 'RFC', 'Logistic Regression', 'NN']\n",
    "data = data_preparation(dataset=reduced_dataset, feature_subset=all_features)"
   ]
  },
  {
   "cell_type": "markdown",
   "metadata": {},
   "source": [
    "## Training"
   ]
  },
  {
   "cell_type": "code",
   "execution_count": 6,
   "metadata": {},
   "outputs": [
    {
     "name": "stdout",
     "output_type": "stream",
     "text": [
      "Accuracy of GBC classifier on training set: 1.00000000\n",
      "Accuracy of GBC classifier on test set: 0.82265678\n",
      "Accuracy of K-NN classifier on training set: 0.92407126\n",
      "Accuracy of K-NN classifier on test set: 0.87345471\n",
      "Accuracy of SVM classifier on training set: 0.84505142\n",
      "Accuracy of SVM classifier on test set: 0.80647336\n",
      "Accuracy of DTC classifier on training set: 1.00000000\n",
      "Accuracy of DTC classifier on test set: 0.67340976\n",
      "Accuracy of RFC classifier on training set: 1.00000000\n",
      "Accuracy of RFC classifier on test set: 0.78040009\n",
      "Accuracy of Logistic Regression classifier on training set: 0.71415725\n",
      "Accuracy of Logistic Regression classifier on test set: 0.70937289\n",
      "Accuracy of NN classifier on training set: 0.93688529\n",
      "Accuracy of NN classifier on test set: 0.77433131\n"
     ]
    }
   ],
   "source": [
    "for model in models:\n",
    "    model_training(data, model, stats=False, cm=False, verbose=True)"
   ]
  },
  {
   "cell_type": "code",
   "execution_count": null,
   "metadata": {},
   "outputs": [],
   "source": []
  }
 ],
 "metadata": {
  "kernelspec": {
   "display_name": "paws",
   "language": "python",
   "name": "python3"
  },
  "language_info": {
   "codemirror_mode": {
    "name": "ipython",
    "version": 3
   },
   "file_extension": ".py",
   "mimetype": "text/x-python",
   "name": "python",
   "nbconvert_exporter": "python",
   "pygments_lexer": "ipython3",
   "version": "3.9.6"
  }
 },
 "nbformat": 4,
 "nbformat_minor": 2
}
