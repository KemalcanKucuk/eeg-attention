{
 "cells": [
  {
   "cell_type": "markdown",
   "metadata": {},
   "source": [
    "## Dependencies"
   ]
  },
  {
   "cell_type": "code",
   "execution_count": 1,
   "metadata": {},
   "outputs": [],
   "source": [
    "import numpy as np\n",
    "import pandas as pd\n",
    "\n",
    "from utils import *"
   ]
  },
  {
   "cell_type": "markdown",
   "metadata": {},
   "source": [
    "## I/O - Initialization"
   ]
  },
  {
   "cell_type": "code",
   "execution_count": 2,
   "metadata": {},
   "outputs": [],
   "source": [
    "# load the feature dataset as a dataframe\n",
    "csv_file = 'eeg_features.csv'\n",
    "df = pd.read_csv(csv_file,float_precision='round_trip')\n",
    "df = df.drop('Unnamed: 0', axis=1)"
   ]
  },
  {
   "cell_type": "code",
   "execution_count": 3,
   "metadata": {},
   "outputs": [],
   "source": [
    "# split the dataset to features and labels\n",
    "features = df.drop('label', axis=1)\n",
    "labels = df.iloc[:,-1:]\n",
    "display_labels = ['drowsy' if label == 1 else 'alert' for label in labels['label'].unique()]"
   ]
  },
  {
   "cell_type": "code",
   "execution_count": 4,
   "metadata": {},
   "outputs": [],
   "source": [
    "# select the channels to be processed\n",
    "channel_list = ['F3', 'F4','C3','Cz','Oz']\n",
    "\n",
    "# select the models to be trained\n",
    "models = ['GBC', 'K-NN', 'SVM', 'DTC', 'RFC', 'Logistic Regression', 'NN']\n",
    "\n",
    "selected_channels, selected_labels = channel_selection(features=features, labels=labels, channel_list=channel_list)\n",
    "data = data_preparation(selected_channels=selected_channels, selected_labels=selected_labels, feature_subset=selected_channels.columns)"
   ]
  },
  {
   "cell_type": "markdown",
   "metadata": {},
   "source": [
    "## Training"
   ]
  },
  {
   "cell_type": "code",
   "execution_count": 8,
   "metadata": {},
   "outputs": [
    {
     "name": "stdout",
     "output_type": "stream",
     "text": [
      "\n",
      "==== Stats for the GBC model ====\n",
      "Sensitivity (Recall): 0.7741617357001972\n",
      "Precision: 0.8219895287958116\n",
      "Accuracy (Recall): 0.8026706231454006\n",
      "F1_score: 0.7973590655154901\n",
      "AUC: 0.8027554710247017\n",
      "Logloss: 7.112471662837658\n",
      "\n",
      "\n",
      "==== Stats for the K-NN model ====\n",
      "Sensitivity (Recall): 0.7435897435897436\n",
      "Precision: 0.827661909989023\n",
      "Accuracy (Recall): 0.7937685459940653\n",
      "F1_score: 0.7833766233766234\n",
      "AUC: 0.7939178876678876\n",
      "Logloss: 7.433335046123567\n",
      "\n",
      "\n",
      "==== Stats for the SVM model ====\n",
      "Sensitivity (Recall): 0.7465483234714004\n",
      "Precision: 0.801906779661017\n",
      "Accuracy (Recall): 0.7804154302670623\n",
      "F1_score: 0.7732379979570991\n",
      "AUC: 0.7805162252277638\n",
      "Logloss: 7.914630121052431\n",
      "\n",
      "\n",
      "==== Stats for the DTC model ====\n",
      "Sensitivity (Recall): 0.6932938856015779\n",
      "Precision: 0.6871945259042033\n",
      "Accuracy (Recall): 0.6879327398615233\n",
      "F1_score: 0.6902307314678447\n",
      "AUC: 0.6879167840706302\n",
      "Logloss: 11.248044158522712\n",
      "\n",
      "\n",
      "==== Stats for the RFC model ====\n",
      "Sensitivity (Recall): 0.7672583826429981\n",
      "Precision: 0.809573361082206\n",
      "Accuracy (Recall): 0.7927794263105836\n",
      "F1_score: 0.7878481012658228\n",
      "AUC: 0.7928553817976894\n",
      "Logloss: 7.468986533155334\n",
      "\n",
      "\n",
      "==== Stats for the Logistic Regression model ====\n",
      "Sensitivity (Recall): 0.7603550295857988\n",
      "Precision: 0.7434908389585342\n",
      "Accuracy (Recall): 0.748269040553907\n",
      "F1_score: 0.7518283764017551\n",
      "AUC: 0.748233070348455\n",
      "Logloss: 9.07330344958488\n",
      "\n",
      "\n",
      "==== Stats for the NN model ====\n",
      "Sensitivity (Recall): 0.7554240631163708\n",
      "Precision: 0.7487781036168133\n",
      "Accuracy (Recall): 0.7502472799208705\n",
      "F1_score: 0.7520864015709376\n",
      "AUC: 0.7502318728280266\n",
      "Logloss: 9.002000475521346\n",
      "\n"
     ]
    }
   ],
   "source": [
    "for model in models:\n",
    "    model_training(data, model, display_labels, stats=True, cm=False, verbose=False)"
   ]
  }
 ],
 "metadata": {
  "kernelspec": {
   "display_name": "paws",
   "language": "python",
   "name": "python3"
  },
  "language_info": {
   "codemirror_mode": {
    "name": "ipython",
    "version": 3
   },
   "file_extension": ".py",
   "mimetype": "text/x-python",
   "name": "python",
   "nbconvert_exporter": "python",
   "pygments_lexer": "ipython3",
   "version": "3.9.6"
  }
 },
 "nbformat": 4,
 "nbformat_minor": 2
}
