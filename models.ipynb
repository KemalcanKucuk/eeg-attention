{
 "cells": [
  {
   "cell_type": "markdown",
   "metadata": {},
   "source": [
    "## Dependencies"
   ]
  },
  {
   "cell_type": "code",
   "execution_count": 1,
   "metadata": {},
   "outputs": [],
   "source": [
    "import numpy as np\n",
    "import pandas as pd\n",
    "\n",
    "from utils import *"
   ]
  },
  {
   "cell_type": "markdown",
   "metadata": {},
   "source": [
    "## I/O - Initialization"
   ]
  },
  {
   "cell_type": "code",
   "execution_count": 2,
   "metadata": {},
   "outputs": [],
   "source": [
    "# select the channels to be processed\n",
    "#channel_list = ['F3', 'F4', 'C3', 'Cz', 'Oz', 'Fp1', 'Fp2', 'FT7', 'F8', 'Fz', 'C4']\n",
    "channel_list = [\"Cz\",\"CP3\",\"CPz\",\"P3\",\"FT7\",\"FC3\",\"FCZ\",\"FC4\",\"C4\",\"CP4\",\"TP8\",\"T5\",\"PZ\",\"T6\",\"O1\",\"Oz\",\"O2\"]\n",
    "csv_file = 'eeg_features.csv'\n",
    "dataset = data_loader(path = csv_file)\n",
    "reduced_dataset = channel_selection(dataset, channel_list)\n",
    "all_features = reduced_dataset.columns[:len(reduced_dataset.columns) - 1]"
   ]
  },
  {
   "cell_type": "code",
   "execution_count": 3,
   "metadata": {},
   "outputs": [],
   "source": [
    "# select the models to be trained\n",
    "models = ['K-NN', 'SVM', 'DTC', 'RFC', 'Logistic Regression', 'NN', 'GBC']\n",
    "data = data_preparation(dataset=reduced_dataset, feature_subset=all_features)"
   ]
  },
  {
   "cell_type": "markdown",
   "metadata": {},
   "source": [
    "## Training"
   ]
  },
  {
   "cell_type": "code",
   "execution_count": 4,
   "metadata": {},
   "outputs": [
    {
     "name": "stdout",
     "output_type": "stream",
     "text": [
      "Accuracy of K-NN classifier on training set: 0.94974363\n",
      "Accuracy of K-NN classifier on test set: 0.90705455\n",
      "Accuracy of SVM classifier on training set: 1.00000000\n",
      "Accuracy of SVM classifier on test set: 0.91040000\n",
      "Accuracy of DTC classifier on training set: 0.75777301\n",
      "Accuracy of DTC classifier on test set: 0.72930909\n",
      "Accuracy of RFC classifier on training set: 1.00000000\n",
      "Accuracy of RFC classifier on test set: 0.82429091\n",
      "Accuracy of Logistic Regression classifier on training set: 0.72668097\n",
      "Accuracy of Logistic Regression classifier on test set: 0.72829091\n",
      "Accuracy of NN classifier on training set: 0.92046984\n",
      "Accuracy of NN classifier on test set: 0.80683636\n",
      "Accuracy of GBC classifier on training set: 1.00000000\n",
      "Accuracy of GBC classifier on test set: 0.85818182\n"
     ]
    }
   ],
   "source": [
    "for model in models:\n",
    "    model_training(data, model, stats=False, cm=False, verbose=True)"
   ]
  }
 ],
 "metadata": {
  "kernelspec": {
   "display_name": "paws",
   "language": "python",
   "name": "python3"
  },
  "language_info": {
   "codemirror_mode": {
    "name": "ipython",
    "version": 3
   },
   "file_extension": ".py",
   "mimetype": "text/x-python",
   "name": "python",
   "nbconvert_exporter": "python",
   "pygments_lexer": "ipython3",
   "version": "3.9.6"
  }
 },
 "nbformat": 4,
 "nbformat_minor": 2
}
