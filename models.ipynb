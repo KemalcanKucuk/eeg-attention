{
 "cells": [
  {
   "cell_type": "markdown",
   "metadata": {},
   "source": [
    "## Dependencies"
   ]
  },
  {
   "cell_type": "code",
   "execution_count": 1,
   "metadata": {},
   "outputs": [],
   "source": [
    "import numpy as np\n",
    "import pandas as pd\n",
    "\n",
    "from utils import *"
   ]
  },
  {
   "cell_type": "markdown",
   "metadata": {},
   "source": [
    "## I/O - Initialization"
   ]
  },
  {
   "cell_type": "code",
   "execution_count": 2,
   "metadata": {},
   "outputs": [],
   "source": [
    "# load the feature dataset as a dataframe\n",
    "csv_file = 'eeg_features.csv'\n",
    "df = pd.read_csv(csv_file,float_precision='round_trip')\n",
    "df = df.drop('Unnamed: 0', axis=1)"
   ]
  },
  {
   "cell_type": "code",
   "execution_count": 3,
   "metadata": {},
   "outputs": [],
   "source": [
    "# split the dataset to features and labels\n",
    "features = df.drop('label', axis=1)\n",
    "labels = df.iloc[:,-1:]\n",
    "display_labels = ['drowsy' if label == 1 else 'alert' for label in labels['label'].unique()]"
   ]
  },
  {
   "cell_type": "code",
   "execution_count": 4,
   "metadata": {},
   "outputs": [],
   "source": [
    "# select the channels to be processed\n",
    "channel_list = ['F3', 'F4','C3','Cz','Oz']\n",
    "\n",
    "# select the models to be trained\n",
    "models = ['GBC', 'K-NN', 'SVM', 'DTC', 'RFC', 'Logistic Regression', 'NN']\n",
    "\n",
    "selected_channels, selected_labels = channel_selection(features=features, labels=labels, channel_list=channel_list)\n",
    "data = data_preparation(selected_channels=selected_channels, selected_labels=selected_labels, feature_subset=selected_channels.columns)"
   ]
  },
  {
   "cell_type": "markdown",
   "metadata": {},
   "source": [
    "## P-Value Thresholding"
   ]
  },
  {
   "cell_type": "code",
   "execution_count": null,
   "metadata": {},
   "outputs": [],
   "source": [
    "all = feature_selection(selected_channels=selected_channels, feature_subset=selected_channels.columns) # select every feature\n",
    "p_all, p_dict = p_value_thresholding(selected_features=all, selected_labels=selected_labels)"
   ]
  },
  {
   "cell_type": "markdown",
   "metadata": {},
   "source": [
    "## Training"
   ]
  },
  {
   "cell_type": "code",
   "execution_count": null,
   "metadata": {},
   "outputs": [],
   "source": [
    "for model in models:\n",
    "    model_training(data, model, display_labels, stats=True, cm=False, verbose=False)"
   ]
  },
  {
   "cell_type": "markdown",
   "metadata": {},
   "source": [
    "## High-Rank Feature Testing"
   ]
  },
  {
   "cell_type": "code",
   "execution_count": null,
   "metadata": {},
   "outputs": [],
   "source": [
    "# training with the features that rank highest on the variance thresholded feature subset\n",
    "high_rank_subset = p_value_slicing(p_values=p_all, stop_feature='peak_freq')\n",
    "data = data_preparation(selected_channels=data, selected_labels=selected_labels, feature_subset=high_rank_subset)\n",
    "\n",
    "for model in models:\n",
    "    model_training(data, model, display_labels, stats=True, cm=False)"
   ]
  }
 ],
 "metadata": {
  "kernelspec": {
   "display_name": "paws",
   "language": "python",
   "name": "python3"
  },
  "language_info": {
   "codemirror_mode": {
    "name": "ipython",
    "version": 3
   },
   "file_extension": ".py",
   "mimetype": "text/x-python",
   "name": "python",
   "nbconvert_exporter": "python",
   "pygments_lexer": "ipython3",
   "version": "3.9.6"
  }
 },
 "nbformat": 4,
 "nbformat_minor": 2
}
