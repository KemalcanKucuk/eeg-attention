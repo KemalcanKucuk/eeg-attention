{
 "cells": [
  {
   "cell_type": "markdown",
   "metadata": {},
   "source": [
    "## Dependencies"
   ]
  },
  {
   "cell_type": "code",
   "execution_count": 1,
   "metadata": {},
   "outputs": [],
   "source": [
    "import numpy as np\n",
    "import pandas as pd\n",
    "\n",
    "from utils import *"
   ]
  },
  {
   "cell_type": "markdown",
   "metadata": {},
   "source": [
    "## I/O - Initialization"
   ]
  },
  {
   "cell_type": "code",
   "execution_count": 2,
   "metadata": {},
   "outputs": [],
   "source": [
    "# select the channels to be processed\n",
    "channel_list = ['F3', 'F4','C3','Cz','Oz']\n",
    "csv_file = 'eeg_features.csv'\n",
    "selected_channels, selected_labels = data_loader(path = csv_file, channel_list = channel_list, ds = False, ds_rate = 1)"
   ]
  },
  {
   "cell_type": "code",
   "execution_count": 3,
   "metadata": {},
   "outputs": [],
   "source": [
    "# select the models to be trained\n",
    "models = ['GBC', 'K-NN', 'SVM', 'DTC', 'RFC', 'Logistic Regression', 'NN']\n",
    "data = data_preparation(selected_channels=selected_channels, selected_labels=selected_labels, feature_subset=selected_channels.columns)"
   ]
  },
  {
   "cell_type": "markdown",
   "metadata": {},
   "source": [
    "## Training"
   ]
  },
  {
   "cell_type": "code",
   "execution_count": 4,
   "metadata": {},
   "outputs": [
    {
     "name": "stdout",
     "output_type": "stream",
     "text": [
      "Accuracy of GBC classifier on training set: 1.00000000\n",
      "Accuracy of GBC classifier on test set: 0.81750742\n",
      "\n",
      "==== Stats for the GBC model ====\n",
      "Sensitivity (Recall): 0.7938856015779092\n",
      "Precision: 0.8341968911917098\n",
      "Accuracy (Recall): 0.8175074183976261\n",
      "F1_score: 0.8135421930267812\n",
      "AUC: 0.8175777214238753\n",
      "Logloss: 6.5776993573611415\n",
      "\n",
      "Accuracy of K-NN classifier on training set: 0.90764095\n",
      "Accuracy of K-NN classifier on test set: 0.82789318\n",
      "\n",
      "==== Stats for the K-NN model ====\n",
      "Sensitivity (Recall): 0.7869822485207101\n",
      "Precision: 0.8580645161290322\n",
      "Accuracy (Recall): 0.827893175074184\n",
      "F1_score: 0.8209876543209876\n",
      "AUC: 0.8280149337841646\n",
      "Logloss: 6.2033587435275805\n",
      "\n",
      "Accuracy of SVM classifier on training set: 0.85150841\n",
      "Accuracy of SVM classifier on test set: 0.80761622\n",
      "\n",
      "==== Stats for the SVM model ====\n",
      "Sensitivity (Recall): 0.7850098619329389\n",
      "Precision: 0.8231644260599793\n",
      "Accuracy (Recall): 0.8076162215628091\n",
      "F1_score: 0.8036345280161535\n",
      "AUC: 0.8076835023950408\n",
      "Logloss: 6.934214227678819\n",
      "\n",
      "Accuracy of DTC classifier on training set: 1.00000000\n",
      "Accuracy of DTC classifier on test set: 0.69139466\n",
      "\n",
      "==== Stats for the DTC model ====\n",
      "Sensitivity (Recall): 0.6942800788954635\n",
      "Precision: 0.6915520628683693\n",
      "Accuracy (Recall): 0.6913946587537092\n",
      "F1_score: 0.6929133858267716\n",
      "AUC: 0.6913860711937636\n",
      "Logloss: 11.123263953911525\n",
      "\n",
      "Accuracy of RFC classifier on training set: 1.00000000\n",
      "Accuracy of RFC classifier on test set: 0.79030663\n",
      "\n",
      "==== Stats for the RFC model ====\n",
      "Sensitivity (Recall): 0.7712031558185405\n",
      "Precision: 0.8028747433264887\n",
      "Accuracy (Recall): 0.7903066271018794\n",
      "F1_score: 0.7867203219315896\n",
      "AUC: 0.7903634826711751\n",
      "Logloss: 7.558115250734755\n",
      "\n",
      "Accuracy of Logistic Regression classifier on training set: 0.74097428\n",
      "Accuracy of Logistic Regression classifier on test set: 0.74925816\n",
      "\n",
      "==== Stats for the Logistic Regression model ====\n",
      "Sensitivity (Recall): 0.7544378698224852\n",
      "Precision: 0.7478005865102639\n",
      "Accuracy (Recall): 0.7492581602373887\n",
      "F1_score: 0.7511045655375551\n",
      "AUC: 0.7492427444350521\n",
      "Logloss: 9.037651962553113\n",
      "\n",
      "Accuracy of NN classifier on training set: 0.99097428\n",
      "Accuracy of NN classifier on test set: 0.75618200\n",
      "\n",
      "==== Stats for the NN model ====\n",
      "Sensitivity (Recall): 0.7416173570019724\n",
      "Precision: 0.7650050864699899\n",
      "Accuracy (Recall): 0.7561819980217607\n",
      "F1_score: 0.7531296945418128\n",
      "AUC: 0.7562253451676528\n",
      "Logloss: 8.788091553330739\n",
      "\n"
     ]
    }
   ],
   "source": [
    "# the results might have changed but i couldn't track what caused the change.\n",
    "for model in models:\n",
    "    model_training(data, model, stats=True, cm=False, verbose=True)"
   ]
  }
 ],
 "metadata": {
  "kernelspec": {
   "display_name": "paws",
   "language": "python",
   "name": "python3"
  },
  "language_info": {
   "codemirror_mode": {
    "name": "ipython",
    "version": 3
   },
   "file_extension": ".py",
   "mimetype": "text/x-python",
   "name": "python",
   "nbconvert_exporter": "python",
   "pygments_lexer": "ipython3",
   "version": "3.9.6"
  }
 },
 "nbformat": 4,
 "nbformat_minor": 2
}
