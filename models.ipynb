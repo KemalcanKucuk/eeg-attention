{
 "cells": [
  {
   "cell_type": "markdown",
   "metadata": {},
   "source": [
    "## Dependencies"
   ]
  },
  {
   "cell_type": "code",
   "execution_count": 8,
   "metadata": {},
   "outputs": [],
   "source": [
    "import numpy as np\n",
    "import pandas as pd\n",
    "\n",
    "from utils import *"
   ]
  },
  {
   "cell_type": "markdown",
   "metadata": {},
   "source": [
    "## I/O - Initialization"
   ]
  },
  {
   "cell_type": "code",
   "execution_count": 9,
   "metadata": {},
   "outputs": [],
   "source": [
    "# select the channels to be processed\n",
    "channel_list = ['F3', 'F4','C3','Cz','Oz']\n",
    "csv_file = 'eeg_features.csv'\n",
    "selected_channels, selected_labels = data_loader(path = csv_file, channel_list = channel_list, ds = False, ds_rate = 1)"
   ]
  },
  {
   "cell_type": "code",
   "execution_count": 10,
   "metadata": {},
   "outputs": [],
   "source": [
    "# select the models to be trained\n",
    "models = ['GBC', 'K-NN', 'SVM', 'DTC', 'RFC', 'Logistic Regression', 'NN']\n",
    "data = data_preparation(selected_channels=selected_channels, selected_labels=selected_labels, feature_subset=selected_channels.columns)"
   ]
  },
  {
   "cell_type": "markdown",
   "metadata": {},
   "source": [
    "## Training"
   ]
  },
  {
   "cell_type": "code",
   "execution_count": 11,
   "metadata": {},
   "outputs": [
    {
     "name": "stdout",
     "output_type": "stream",
     "text": [
      "\n",
      "==== Stats for the GBC model ====\n",
      "Sensitivity (Recall): 0.7790927021696252\n",
      "Precision: 0.8272251308900523\n",
      "Accuracy (Recall): 0.8076162215628091\n",
      "F1_score: 0.8024377856780093\n",
      "AUC: 0.8077011129895745\n",
      "Logloss: 6.934214227678819\n",
      "\n",
      "\n",
      "==== Stats for the K-NN model ====\n",
      "Sensitivity (Recall): 0.7357001972386588\n",
      "Precision: 0.8243093922651934\n",
      "Accuracy (Recall): 0.7888229475766568\n",
      "F1_score: 0.7774882751433039\n",
      "AUC: 0.7889810510002818\n",
      "Logloss: 7.611592481282405\n",
      "\n",
      "\n",
      "==== Stats for the SVM model ====\n",
      "Sensitivity (Recall): 0.7504930966469427\n",
      "Precision: 0.8052910052910053\n",
      "Accuracy (Recall): 0.7838773491592482\n",
      "F1_score: 0.7769270035732517\n",
      "AUC: 0.7839767070536301\n",
      "Logloss: 7.789849916441245\n",
      "\n",
      "\n",
      "==== Stats for the DTC model ====\n",
      "Sensitivity (Recall): 0.6913214990138067\n",
      "Precision: 0.6872549019607843\n",
      "Accuracy (Recall): 0.6874381800197824\n",
      "F1_score: 0.6892822025565387\n",
      "AUC: 0.6874266225227763\n",
      "Logloss: 11.265869902038595\n",
      "\n",
      "\n",
      "==== Stats for the RFC model ====\n",
      "Sensitivity (Recall): 0.7633136094674556\n",
      "Precision: 0.80625\n",
      "Accuracy (Recall): 0.7893175074183977\n",
      "F1_score: 0.7841945288753799\n",
      "AUC: 0.7893948999718231\n",
      "Logloss: 7.593766737766522\n",
      "\n",
      "\n",
      "==== Stats for the Logistic Regression model ====\n",
      "Sensitivity (Recall): 0.7485207100591716\n",
      "Precision: 0.7426614481409002\n",
      "Accuracy (Recall): 0.7438180019782393\n",
      "F1_score: 0.7455795677799606\n",
      "AUC: 0.7438040058232367\n",
      "Logloss: 9.233735141227836\n",
      "\n",
      "\n",
      "==== Stats for the NN model ====\n",
      "Sensitivity (Recall): 0.7485207100591716\n",
      "Precision: 0.7326254826254827\n",
      "Accuracy (Recall): 0.7368941641938674\n",
      "F1_score: 0.7404878048780488\n",
      "AUC: 0.736859561378792\n",
      "Logloss: 9.48329555045021\n",
      "\n"
     ]
    }
   ],
   "source": [
    "# the results might have changed but i couldn't track what caused the change.\n",
    "for model in models:\n",
    "    model_training(data, model, stats=True, cm=False, verbose=False)"
   ]
  }
 ],
 "metadata": {
  "kernelspec": {
   "display_name": "paws",
   "language": "python",
   "name": "python3"
  },
  "language_info": {
   "codemirror_mode": {
    "name": "ipython",
    "version": 3
   },
   "file_extension": ".py",
   "mimetype": "text/x-python",
   "name": "python",
   "nbconvert_exporter": "python",
   "pygments_lexer": "ipython3",
   "version": "3.9.6"
  }
 },
 "nbformat": 4,
 "nbformat_minor": 2
}
