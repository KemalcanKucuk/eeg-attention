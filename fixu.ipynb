{
 "cells": [
  {
   "cell_type": "markdown",
   "metadata": {},
   "source": [
    "# burasi duzenlemeyi bitirene kadar test notebooku"
   ]
  },
  {
   "cell_type": "code",
   "execution_count": 1,
   "metadata": {},
   "outputs": [],
   "source": [
    "import numpy as np\n",
    "import pandas as pd\n",
    "\n",
    "from utils import *\n",
    "from training import *\n",
    "from selection import *"
   ]
  },
  {
   "cell_type": "code",
   "execution_count": 2,
   "metadata": {},
   "outputs": [],
   "source": [
    "test_features = ['mel_11',\n",
    " 'complexity',\n",
    " 'spc_roff',\n",
    " 'mel_10',\n",
    " 'slope',\n",
    " 'mel_12',\n",
    " 'mel_9',\n",
    " 'mel_6',\n",
    " 'mel_8',\n",
    " 'mel_7',\n",
    " 'mel_13',\n",
    " 'spc_cnt',\n",
    " 'mel_14',\n",
    " 'mel_5',\n",
    " 'mfcc_2',\n",
    " 'mfcc_8',\n",
    " 'mobility',\n",
    " 'zc',\n",
    " 'mel_1',\n",
    " 'mfcc_6',\n",
    " 'mel_2',\n",
    " 'mel_0',\n",
    " 'mel_3',\n",
    " 'dfa',\n",
    " 'mel_4',\n",
    " 'gamma_beta',\n",
    " 'gamma_alpha',\n",
    " 'mfcc_1',\n",
    " 'mfcc_0',\n",
    " 'mfcc_3',\n",
    " 'alpha_delta',\n",
    " 'chr_14',\n",
    " 'chr_13',\n",
    " 'chr_12',\n",
    " 'chr_11',\n",
    " 'alpha_theta',\n",
    " 'beta_alpha',\n",
    " 'mfcc_5',\n",
    " 'mfcc_4',\n",
    " 'gamma_delta',\n",
    " 'mfcc_7',\n",
    " 'gamma_theta',\n",
    " 'beta_theta',\n",
    " 'chr_2',\n",
    " 'chr_1',\n",
    " 'chr_4',\n",
    " 'chr_3',\n",
    " 'theta_delta',\n",
    " 'rms',\n",
    " 'skew',\n",
    " 'chr_10',\n",
    " 'beta_delta',\n",
    " 'chr_5',\n",
    " 'ton_1',\n",
    " 'chr_15',\n",
    " 'mfcc_9',\n",
    " 'alpha_power',\n",
    " 'chr_6',\n",
    " 'chr_0',\n",
    " 'chr_7',\n",
    " 'gamma_power',\n",
    " 'ton_4',\n",
    " 'ton_5',\n",
    " 'ton_3',\n",
    " 'beta_power',\n",
    " 'activity',\n",
    " 'chr_18',\n",
    " 'chr_17',\n",
    " 'theta_power',\n",
    " 'kurtosis',\n",
    " 'delta_power',\n",
    " 'chr_19',\n",
    " 'chr_8',\n",
    " 'ton_0',\n",
    " 'ton_2',\n",
    " 'chr_9',\n",
    " 'mean_abs_sec_dif',\n",
    " 'chr_16',\n",
    " 'tempo']"
   ]
  },
  {
   "cell_type": "code",
   "execution_count": 3,
   "metadata": {},
   "outputs": [],
   "source": [
    "# load the feature dataset as a dataframe\n",
    "csv_file = 'eeg_features.csv'\n",
    "channel_list = ['F3', 'F4', 'C3', 'Cz', 'Oz', 'Fp1', 'Fp2', 'FT7', 'F8', 'Fz', 'C4']\n",
    "dataset = data_loader(csv_file)\n",
    "reduced_dataset = channel_selection(dataset, channel_list)\n",
    "data = data_preparation(dataset=reduced_dataset, feature_subset=test_features)\n"
   ]
  },
  {
   "cell_type": "code",
   "execution_count": 4,
   "metadata": {},
   "outputs": [
    {
     "name": "stdout",
     "output_type": "stream",
     "text": [
      "Accuracy of K-NN classifier on training set: 0.92407126\n",
      "Accuracy of K-NN classifier on test set: 0.87345471\n"
     ]
    }
   ],
   "source": [
    "for model in ['K-NN']:\n",
    "    model_training(data, model, verbose=True)"
   ]
  },
  {
   "cell_type": "code",
   "execution_count": 5,
   "metadata": {},
   "outputs": [
    {
     "name": "stderr",
     "output_type": "stream",
     "text": [
      "/Users/kemalcankucuk/Documents/PAWS Work/eeg-attention/selection.py:77: RuntimeWarning: Precision loss occurred in moment calculation due to catastrophic cancellation. This occurs when the data are nearly identical. Results may be unreliable.\n",
      "  t_stat, p_value = stats.ttest_ind(\n"
     ]
    }
   ],
   "source": [
    "p_all, p_dict = p_value_thresholding(reduced_dataset, feature_subset=test_features)"
   ]
  },
  {
   "cell_type": "code",
   "execution_count": null,
   "metadata": {},
   "outputs": [],
   "source": [
    "result = incremental_training(dataset=dataset, channel_list=channel_list, feature_subset=test_features, models=['K-NN'], mode='feature', save=True)"
   ]
  },
  {
   "cell_type": "code",
   "execution_count": null,
   "metadata": {},
   "outputs": [],
   "source": [
    "channel_list = ['F3', 'F4']\n",
    "result = incremental_training(dataset=dataset, channel_list=channel_list, feature_subset=test_features, models=['K-NN'], mode='channel', save=True)"
   ]
  }
 ],
 "metadata": {
  "kernelspec": {
   "display_name": "paws",
   "language": "python",
   "name": "python3"
  },
  "language_info": {
   "codemirror_mode": {
    "name": "ipython",
    "version": 3
   },
   "file_extension": ".py",
   "mimetype": "text/x-python",
   "name": "python",
   "nbconvert_exporter": "python",
   "pygments_lexer": "ipython3",
   "version": "3.9.6"
  }
 },
 "nbformat": 4,
 "nbformat_minor": 2
}
