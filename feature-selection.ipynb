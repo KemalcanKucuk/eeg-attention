{
 "cells": [
  {
   "cell_type": "markdown",
   "metadata": {},
   "source": [
    "## Dependencies"
   ]
  },
  {
   "cell_type": "code",
   "execution_count": 1,
   "metadata": {},
   "outputs": [],
   "source": [
    "import numpy as np\n",
    "import pandas as pd\n",
    "\n",
    "from utils import *"
   ]
  },
  {
   "cell_type": "markdown",
   "metadata": {},
   "source": [
    "## I/O - Initialization"
   ]
  },
  {
   "cell_type": "code",
   "execution_count": 2,
   "metadata": {},
   "outputs": [],
   "source": [
    "# load the feature dataset as a dataframe\n",
    "csv_file = 'eeg_features.csv'\n",
    "df = pd.read_csv(csv_file,float_precision='round_trip')\n",
    "df = df.drop('Unnamed: 0', axis=1)"
   ]
  },
  {
   "cell_type": "code",
   "execution_count": 3,
   "metadata": {},
   "outputs": [],
   "source": [
    "# split the dataset to features and labels\n",
    "features = df.drop('label', axis=1)\n",
    "labels = df.iloc[:,-1:]\n",
    "display_labels = ['drowsy' if label == 1 else 'alert' for label in labels['label'].unique()]"
   ]
  },
  {
   "cell_type": "code",
   "execution_count": 4,
   "metadata": {},
   "outputs": [],
   "source": [
    "# select the channels to be processed\n",
    "channel_list = ['F3', 'F4','C3','Cz','Oz']\n",
    "\n",
    "# select the models to be trained\n",
    "models = ['GBC', 'K-NN', 'SVM', 'DTC', 'RFC', 'Logistic Regression', 'NN']\n",
    "\n",
    "selected_channels, selected_labels = channel_selection(features=features, labels=labels, channel_list=channel_list)\n",
    "data = data_preparation(selected_channels=selected_channels, selected_labels=selected_labels, feature_subset=selected_channels.columns)"
   ]
  },
  {
   "cell_type": "markdown",
   "metadata": {},
   "source": [
    "## P-Value Thresholding"
   ]
  },
  {
   "cell_type": "code",
   "execution_count": null,
   "metadata": {},
   "outputs": [
    {
     "name": "stdout",
     "output_type": "stream",
     "text": [
      "spc_roff 1.6147525601572645e-241\n",
      "slope 2.1961591318448354e-218\n",
      "mel_9 3.780620351407701e-197\n",
      "mel_6 1.1018938972585085e-190\n",
      "mel_8 7.18754692852844e-179\n",
      "mel_7 4.889762489252905e-178\n",
      "spc_cnt 2.887779599226387e-170\n",
      "mel_5 5.517438027558447e-134\n",
      "mfcc_2 3.901885014029416e-112\n",
      "zc 8.621303483438252e-98\n",
      "mel_1 7.514574188776398e-96\n",
      "mel_2 4.0251470438104993e-85\n",
      "mel_0 7.866398310131055e-85\n",
      "mel_3 7.917307252001706e-84\n",
      "dfa 5.4570769344308075e-80\n",
      "mel_4 4.070881376943928e-78\n",
      "gamma_beta 1.9635186392167987e-75\n",
      "chr_9 1.0813929454262362e-62\n",
      "chr_8 7.157621087120184e-59\n",
      "gamma_alpha 1.8360025005449308e-58\n",
      "mfcc_1 5.293632675036034e-58\n",
      "mfcc_0 8.189398043909328e-58\n",
      "mfcc_3 9.75984225924415e-57\n",
      "alpha_delta 2.827046503995087e-54\n",
      "alpha_theta 7.560080511524009e-42\n",
      "chr_10 5.609345536289729e-37\n",
      "peak_freq 1.2178319684208423e-34\n",
      "beta_alpha 1.825251593945194e-32\n",
      "mfcc_4 5.3463501550803495e-24\n",
      "chr_7 3.0341498587256606e-21\n",
      "gamma_delta 6.846410819985025e-20\n",
      "gamma_theta 1.0310558268088689e-17\n",
      "beta_theta 2.5202117308661734e-14\n",
      "chr_1 2.104710238944142e-12\n",
      "chr_2 4.154489088864628e-12\n",
      "chr_0 3.5105356269465397e-11\n",
      "theta_delta 3.9243176168412524e-10\n",
      "chr_3 2.267357861996565e-06\n",
      "beta_delta 5.681383911087017e-06\n",
      "chr_4 0.012346537048946126\n",
      "alpha_power 0.014917544367897531\n",
      "max_freq 0.03018912494211042\n",
      "gamma_power 0.07414771996759419\n",
      "beta_power 0.14431535081612742\n",
      "chr_5 0.15610899401813372\n",
      "chr_6 0.24871448828958442\n",
      "theta_power 0.25723500151888484\n",
      "chr_13 0.31891612858337426\n",
      "chr_12 0.32485418779189656\n",
      "delta_power 0.3286381004740232\n",
      "chr_14 0.35313785017749466\n",
      "chr_11 0.7513748226692727\n",
      "mean_abs_sec_dif 0.7896583330703082\n",
      "OrderedDict([('spc_roff', 1.6147525601572645e-241), ('slope', 2.1961591318448354e-218), ('mel_9', 3.780620351407701e-197), ('mel_6', 1.1018938972585085e-190), ('mel_8', 7.18754692852844e-179), ('mel_7', 4.889762489252905e-178), ('spc_cnt', 2.887779599226387e-170), ('mel_5', 5.517438027558447e-134), ('mfcc_2', 3.901885014029416e-112), ('zc', 8.621303483438252e-98), ('mel_1', 7.514574188776398e-96), ('mel_2', 4.0251470438104993e-85), ('mel_0', 7.866398310131055e-85), ('mel_3', 7.917307252001706e-84), ('dfa', 5.4570769344308075e-80), ('mel_4', 4.070881376943928e-78), ('gamma_beta', 1.9635186392167987e-75), ('chr_9', 1.0813929454262362e-62), ('chr_8', 7.157621087120184e-59), ('gamma_alpha', 1.8360025005449308e-58), ('mfcc_1', 5.293632675036034e-58), ('mfcc_0', 8.189398043909328e-58), ('mfcc_3', 9.75984225924415e-57), ('alpha_delta', 2.827046503995087e-54), ('alpha_theta', 7.560080511524009e-42), ('chr_10', 5.609345536289729e-37), ('peak_freq', 1.2178319684208423e-34), ('beta_alpha', 1.825251593945194e-32), ('mfcc_4', 5.3463501550803495e-24), ('chr_7', 3.0341498587256606e-21), ('gamma_delta', 6.846410819985025e-20), ('gamma_theta', 1.0310558268088689e-17), ('beta_theta', 2.5202117308661734e-14), ('chr_1', 2.104710238944142e-12), ('chr_2', 4.154489088864628e-12), ('chr_0', 3.5105356269465397e-11), ('theta_delta', 3.9243176168412524e-10), ('chr_3', 2.267357861996565e-06), ('beta_delta', 5.681383911087017e-06), ('chr_4', 0.012346537048946126), ('alpha_power', 0.014917544367897531), ('max_freq', 0.03018912494211042), ('gamma_power', 0.07414771996759419), ('beta_power', 0.14431535081612742), ('chr_5', 0.15610899401813372), ('chr_6', 0.24871448828958442), ('theta_power', 0.25723500151888484), ('chr_13', 0.31891612858337426), ('chr_12', 0.32485418779189656), ('delta_power', 0.3286381004740232), ('chr_14', 0.35313785017749466), ('chr_11', 0.7513748226692727), ('mean_abs_sec_dif', 0.7896583330703082)])\n"
     ]
    }
   ],
   "source": [
    "all = feature_selection(selected_channels=selected_channels, feature_subset=selected_channels.columns) # select every feature\n",
    "p_all, p_dict = p_value_thresholding(selected_features=all, selected_labels=selected_labels)"
   ]
  },
  {
   "cell_type": "markdown",
   "metadata": {},
   "source": [
    "## High-Rank Feature Testing"
   ]
  },
  {
   "cell_type": "code",
   "execution_count": null,
   "metadata": {},
   "outputs": [],
   "source": [
    "# training with the features that rank highest on the variance thresholded feature subset\n",
    "high_rank_subset = p_value_slicing(p_values=p_all, stop_feature='peak_freq')\n",
    "#data = data_preparation(selected_channels=data, selected_labels=selected_labels, feature_subset=high_rank_subset)\n",
    "\n",
    "#for model in models:\n",
    "#    model_training(data, model, display_labels, stats=True, cm=False)"
   ]
  },
  {
   "cell_type": "markdown",
   "metadata": {},
   "source": [
    "## Using Combinations for Feature Selection"
   ]
  },
  {
   "cell_type": "code",
   "execution_count": 15,
   "metadata": {},
   "outputs": [],
   "source": [
    "# using the features that rank highest\n",
    "subset = ['spc_roff',\n",
    " 'slope',\n",
    " 'mel_9',\n",
    " 'mel_6',\n",
    " 'mel_8',\n",
    " 'mel_7',\n",
    " 'spc_cnt',\n",
    " 'mel_5',\n",
    " 'mfcc_2',\n",
    " 'zc',\n",
    " 'mel_1',\n",
    " 'mel_2',\n",
    " 'mel_0',\n",
    " 'mel_3',\n",
    " 'dfa',\n",
    " 'mel_4',\n",
    " 'gamma_beta',\n",
    " 'chr_9',\n",
    " 'chr_8',\n",
    " 'gamma_alpha',\n",
    " 'mfcc_1',\n",
    " 'mfcc_0',\n",
    " 'mfcc_3',\n",
    " 'alpha_delta',\n",
    " 'alpha_theta',\n",
    " 'chr_10']\n",
    "\n",
    "ds_df = downsampling(df, sr=0.04)\n",
    "ds_features = ds_df.drop('label', axis=1)\n",
    "ds_labels = ds_df.iloc[:,-1:]\n",
    "selected_channels, selected_labels = channel_selection(features=ds_features, labels=ds_labels, channel_list=channel_list)"
   ]
  },
  {
   "cell_type": "code",
   "execution_count": 17,
   "metadata": {},
   "outputs": [],
   "source": [
    "feature_combination(feature_subset=subset, selected_channels=selected_channels, selected_labels=selected_labels, stop_feature='mel_7', min_n = 2, max_n = 5, training = True)"
   ]
  }
 ],
 "metadata": {
  "kernelspec": {
   "display_name": "paws",
   "language": "python",
   "name": "python3"
  },
  "language_info": {
   "codemirror_mode": {
    "name": "ipython",
    "version": 3
   },
   "file_extension": ".py",
   "mimetype": "text/x-python",
   "name": "python",
   "nbconvert_exporter": "python",
   "pygments_lexer": "ipython3",
   "version": "3.9.6"
  }
 },
 "nbformat": 4,
 "nbformat_minor": 2
}
