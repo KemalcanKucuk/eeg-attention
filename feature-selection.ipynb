{
 "cells": [
  {
   "cell_type": "markdown",
   "metadata": {},
   "source": [
    "## Dependencies"
   ]
  },
  {
   "cell_type": "code",
   "execution_count": 1,
   "metadata": {},
   "outputs": [],
   "source": [
    "import numpy as np\n",
    "import pandas as pd\n",
    "\n",
    "from utils import *"
   ]
  },
  {
   "cell_type": "markdown",
   "metadata": {},
   "source": [
    "## I/O - Initialization"
   ]
  },
  {
   "cell_type": "code",
   "execution_count": 2,
   "metadata": {},
   "outputs": [],
   "source": [
    "# load the feature dataset as a dataframe\n",
    "csv_file = 'eeg_features.csv'\n",
    "df = pd.read_csv(csv_file,float_precision='round_trip')\n",
    "df = df.drop('Unnamed: 0', axis=1)"
   ]
  },
  {
   "cell_type": "code",
   "execution_count": 3,
   "metadata": {},
   "outputs": [],
   "source": [
    "# split the dataset to features and labels\n",
    "features = df.drop('label', axis=1)\n",
    "labels = df.iloc[:,-1:]\n",
    "display_labels = ['drowsy' if label == 1 else 'alert' for label in labels['label'].unique()]"
   ]
  },
  {
   "cell_type": "code",
   "execution_count": 4,
   "metadata": {},
   "outputs": [],
   "source": [
    "# select the channels to be processed\n",
    "channel_list = ['F3', 'F4','C3','Cz','Oz']\n",
    "\n",
    "# select the models to be trained\n",
    "models = ['GBC', 'K-NN', 'SVM', 'DTC', 'RFC', 'Logistic Regression', 'NN']\n",
    "\n",
    "selected_channels, selected_labels = channel_selection(features=features, labels=labels, channel_list=channel_list)\n",
    "data = data_preparation(selected_channels=selected_channels, selected_labels=selected_labels, feature_subset=selected_channels.columns)"
   ]
  },
  {
   "cell_type": "markdown",
   "metadata": {},
   "source": [
    "## Using Combinations for Feature Selection"
   ]
  },
  {
   "cell_type": "code",
   "execution_count": 15,
   "metadata": {},
   "outputs": [],
   "source": [
    "# using the features that rank highest\n",
    "subset = ['spc_roff',\n",
    " 'slope',\n",
    " 'mel_9',\n",
    " 'mel_6',\n",
    " 'mel_8',\n",
    " 'mel_7',\n",
    " 'spc_cnt',\n",
    " 'mel_5',\n",
    " 'mfcc_2',\n",
    " 'zc',\n",
    " 'mel_1',\n",
    " 'mel_2',\n",
    " 'mel_0',\n",
    " 'mel_3',\n",
    " 'dfa',\n",
    " 'mel_4',\n",
    " 'gamma_beta',\n",
    " 'chr_9',\n",
    " 'chr_8',\n",
    " 'gamma_alpha',\n",
    " 'mfcc_1',\n",
    " 'mfcc_0',\n",
    " 'mfcc_3',\n",
    " 'alpha_delta',\n",
    " 'alpha_theta',\n",
    " 'chr_10']\n",
    "\n",
    "ds_df = downsampling(df, sr=0.04)\n",
    "ds_features = ds_df.drop('label', axis=1)\n",
    "ds_labels = ds_df.iloc[:,-1:]\n",
    "selected_channels, selected_labels = channel_selection(features=ds_features, labels=ds_labels, channel_list=channel_list)"
   ]
  },
  {
   "cell_type": "code",
   "execution_count": 17,
   "metadata": {},
   "outputs": [],
   "source": [
    "feature_combination(feature_subset=subset, selected_channels=selected_channels, selected_labels=selected_labels, stop_feature='mel_7', min_n = 2, max_n = 5, training = True)"
   ]
  }
 ],
 "metadata": {
  "kernelspec": {
   "display_name": "paws",
   "language": "python",
   "name": "python3"
  },
  "language_info": {
   "codemirror_mode": {
    "name": "ipython",
    "version": 3
   },
   "file_extension": ".py",
   "mimetype": "text/x-python",
   "name": "python",
   "nbconvert_exporter": "python",
   "pygments_lexer": "ipython3",
   "version": "3.9.6"
  }
 },
 "nbformat": 4,
 "nbformat_minor": 2
}
