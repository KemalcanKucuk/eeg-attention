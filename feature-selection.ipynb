{
 "cells": [
  {
   "cell_type": "markdown",
   "metadata": {},
   "source": [
    "## Dependencies"
   ]
  },
  {
   "cell_type": "code",
   "execution_count": 2,
   "metadata": {},
   "outputs": [],
   "source": [
    "import numpy as np\n",
    "import pandas as pd\n",
    "\n",
    "from utils import *"
   ]
  },
  {
   "cell_type": "markdown",
   "metadata": {},
   "source": [
    "## I/O - Initialization"
   ]
  },
  {
   "cell_type": "code",
   "execution_count": 3,
   "metadata": {},
   "outputs": [],
   "source": [
    "# load the feature dataset as a dataframe\n",
    "channel_names =  [\"Fp1\", \"Fp2\", \"F7\", \"F3\", \"Fz\", \"F4\", \"F8\", \"FT7\", \"FC3\", \"FCZ\", \"FC4\", \"FT8\", \"T3\", \"C3\", \"Cz\", \"C4\", \"T4\", \"TP7\", \"CP3\", \"CPz\", \"CP4\", \"TP8\", \"T5\", \"P3\", \"PZ\", \"P4\", \"T6\", \"O1\", \"Oz\" , \"O2\"]\n",
    "\n",
    "#channel subsets\n",
    "hop1 = [\"Cz\",\"CP3\",\"CPz\",\"P3\"]\n",
    "hop2 = [\"Cz\",\"CP3\",\"CPz\",\"P3\",\"FT7\",\"FC3\",\"FCZ\",\"FC4\",\"C4\",\"CP4\",\"TP8\",\"T5\",\"PZ\",\"T6\",\"O1\",\"Oz\",\"O2\"]\n",
    "csv_file = 'eeg_features.csv'\n",
    "channel_list = hop1\n",
    "dataset = data_loader(csv_file)\n",
    "reduced_dataset = channel_selection(dataset, channel_list)\n",
    "all_features = reduced_dataset.columns[:len(reduced_dataset.columns) - 1]"
   ]
  },
  {
   "cell_type": "code",
   "execution_count": null,
   "metadata": {},
   "outputs": [],
   "source": [
    "#calculate accuracy for each channel\n",
    "for channel in channel_names:\n",
    "    print(channel)\n",
    "    models = ['K-NN', 'GBC']\n",
    "    dataset = data_loader(csv_file)\n",
    "    reduced_dataset = channel_selection(dataset, [channel])\n",
    "    data = data_preparation(dataset=reduced_dataset, feature_subset=all_features)\n",
    "    for model in models:\n",
    "        model_training(data, model, stats=False, cm=False, verbose=True)"
   ]
  },
  {
   "cell_type": "code",
   "execution_count": 4,
   "metadata": {},
   "outputs": [],
   "source": [
    "all_features = reduced_dataset.columns[:len(reduced_dataset.columns) - 1]\n",
    "#result = incremental_training(dataset=dataset, channel_list=channel_list, feature_subset=all_features, models=['K-NN'], mode='feature', save=True)"
   ]
  },
  {
   "cell_type": "markdown",
   "metadata": {},
   "source": [
    "## P-Value Thresholding"
   ]
  },
  {
   "cell_type": "code",
   "execution_count": 5,
   "metadata": {},
   "outputs": [
    {
     "name": "stderr",
     "output_type": "stream",
     "text": [
      "/Users/kemalcankucuk/Documents/PAWS Work/eeg-attention/selection.py:77: RuntimeWarning: Precision loss occurred in moment calculation due to catastrophic cancellation. This occurs when the data are nearly identical. Results may be unreliable.\n",
      "  t_stat, p_value = stats.ttest_ind(\n"
     ]
    }
   ],
   "source": [
    "p_all, p_dict = p_value_thresholding(reduced_dataset, feature_subset=all_features)"
   ]
  },
  {
   "cell_type": "markdown",
   "metadata": {},
   "source": [
    "## Manual Feature Selection"
   ]
  },
  {
   "cell_type": "code",
   "execution_count": 6,
   "metadata": {},
   "outputs": [
    {
     "name": "stdout",
     "output_type": "stream",
     "text": [
      "Accuracy of K-NN classifier on training set: 0.79962894\n",
      "Accuracy of K-NN classifier on test set: 0.66913580\n"
     ]
    }
   ],
   "source": [
    "#models = ['K-NN', 'GBC']\n",
    "models = ['K-NN']\n",
    "subset_1 = all_features\n",
    "\n",
    "data = data_preparation(dataset=reduced_dataset, feature_subset=subset_1, pca=True)\n",
    "for model in models:\n",
    "    model_training(data, model, stats=False, cm=False, verbose=True)"
   ]
  },
  {
   "cell_type": "markdown",
   "metadata": {},
   "source": [
    "## Hyperparameter Tuning\n"
   ]
  },
  {
   "cell_type": "markdown",
   "metadata": {},
   "source": [
    "### SVM"
   ]
  },
  {
   "cell_type": "code",
   "execution_count": null,
   "metadata": {},
   "outputs": [],
   "source": [
    "from sklearn.model_selection import GridSearchCV \n",
    "from sklearn.svm import SVC\n",
    "from sklearn.metrics import classification_report, confusion_matrix \n",
    " \n",
    "dataset = data_loader(csv_file)\n",
    "best_channel_list = ['CP3', 'Cz', 'CPz', 'P3']\n",
    "reduced_dataset = channel_selection(dataset, best_channel_list)\n",
    "X_train, X_test, y_train, y_test = data_preparation(dataset=reduced_dataset, feature_subset=all_features)\n",
    "  \n",
    "# defining parameter range \n",
    "param_grid = {'C': [0.1, 1, 10, 100, 1000],  \n",
    "              'gamma': [1, 0.1, 0.01, 0.001, 0.0001], \n",
    "              'kernel': ['rbf']}  \n",
    "\n",
    "grid = GridSearchCV(SVC(), param_grid, refit = True, verbose = 3, n_jobs= -1) \n",
    "  \n",
    "# fitting the model for grid search \n",
    "grid.fit(X_train, y_train) \n",
    "  \n",
    "# print how our model looks after hyper-parameter tuning \n",
    "#print(grid.best_estimator_) \n",
    "grid_predictions = grid.predict(X_test)\n",
    "print('Result of the best model on the test set: ', grid_predictions)\n",
    "print(grid.best_params_) \n",
    "\n",
    "a = '''\n",
    "besto_model = SVC(C=10, gamma=0.1, kernel='rbf')\n",
    "model = besto_model\n",
    "dataset = data_loader(csv_file)\n",
    "reduced_dataset = channel_selection(dataset, best_channel_list)\n",
    "X_train, X_test, y_train, y_test = data_preparation(dataset=reduced_dataset, feature_subset=all_features)\n",
    "\n",
    "model.fit(X_train, y_train)\n",
    "training_acc = model.score(X_train, y_train)\n",
    "test_acc = model.score(X_test, y_test)\n",
    "test_acc\n",
    "'''"
   ]
  },
  {
   "cell_type": "markdown",
   "metadata": {},
   "source": [
    "### KNN"
   ]
  },
  {
   "cell_type": "code",
   "execution_count": 21,
   "metadata": {},
   "outputs": [
    {
     "name": "stdout",
     "output_type": "stream",
     "text": [
      "Fitting 5 folds for each of 128 candidates, totalling 640 fits\n"
     ]
    },
    {
     "name": "stderr",
     "output_type": "stream",
     "text": [
      "/opt/homebrew/lib/python3.10/site-packages/sklearn/neighbors/_classification.py:233: DataConversionWarning: A column-vector y was passed when a 1d array was expected. Please change the shape of y to (n_samples,), for example using ravel().\n",
      "  return self._fit(X, y)\n",
      "/opt/homebrew/lib/python3.10/site-packages/sklearn/neighbors/_classification.py:233: DataConversionWarning: A column-vector y was passed when a 1d array was expected. Please change the shape of y to (n_samples,), for example using ravel().\n",
      "  return self._fit(X, y)\n",
      "/opt/homebrew/lib/python3.10/site-packages/sklearn/neighbors/_classification.py:233: DataConversionWarning: A column-vector y was passed when a 1d array was expected. Please change the shape of y to (n_samples,), for example using ravel().\n",
      "  return self._fit(X, y)\n",
      "/opt/homebrew/lib/python3.10/site-packages/sklearn/neighbors/_classification.py:233: DataConversionWarning: A column-vector y was passed when a 1d array was expected. Please change the shape of y to (n_samples,), for example using ravel().\n",
      "  return self._fit(X, y)\n",
      "/opt/homebrew/lib/python3.10/site-packages/sklearn/neighbors/_classification.py:233: DataConversionWarning: A column-vector y was passed when a 1d array was expected. Please change the shape of y to (n_samples,), for example using ravel().\n",
      "  return self._fit(X, y)\n",
      "/opt/homebrew/lib/python3.10/site-packages/sklearn/neighbors/_classification.py:233: DataConversionWarning: A column-vector y was passed when a 1d array was expected. Please change the shape of y to (n_samples,), for example using ravel().\n",
      "  return self._fit(X, y)\n",
      "/opt/homebrew/lib/python3.10/site-packages/sklearn/neighbors/_classification.py:233: DataConversionWarning: A column-vector y was passed when a 1d array was expected. Please change the shape of y to (n_samples,), for example using ravel().\n",
      "  return self._fit(X, y)\n",
      "/opt/homebrew/lib/python3.10/site-packages/sklearn/neighbors/_classification.py:233: DataConversionWarning: A column-vector y was passed when a 1d array was expected. Please change the shape of y to (n_samples,), for example using ravel().\n",
      "  return self._fit(X, y)\n"
     ]
    },
    {
     "name": "stdout",
     "output_type": "stream",
     "text": [
      "[CV 4/5] END algorithm=ball_tree, metric=cityblock, n_neighbors=89, p=1, weights=uniform;, score=0.777 total time=   0.6s\n",
      "[CV 1/5] END algorithm=ball_tree, metric=cityblock, n_neighbors=89, p=1, weights=distance;, score=0.767 total time=   0.6s\n",
      "[CV 2/5] END algorithm=ball_tree, metric=cityblock, n_neighbors=89, p=1, weights=distance;, score=0.774 total time=   0.7s\n",
      "[CV 5/5] END algorithm=ball_tree, metric=cityblock, n_neighbors=89, p=1, weights=uniform;, score=0.783 total time=   0.6s\n",
      "[CV 1/5] END algorithm=ball_tree, metric=cityblock, n_neighbors=89, p=1, weights=uniform;, score=0.758 total time=   0.7s\n",
      "[CV 2/5] END algorithm=ball_tree, metric=cityblock, n_neighbors=89, p=1, weights=uniform;, score=0.763 total time=   0.7s\n"
     ]
    },
    {
     "name": "stderr",
     "output_type": "stream",
     "text": [
      "/opt/homebrew/lib/python3.10/site-packages/sklearn/neighbors/_classification.py:233: DataConversionWarning: A column-vector y was passed when a 1d array was expected. Please change the shape of y to (n_samples,), for example using ravel().\n",
      "  return self._fit(X, y)\n",
      "/opt/homebrew/lib/python3.10/site-packages/sklearn/neighbors/_classification.py:233: DataConversionWarning: A column-vector y was passed when a 1d array was expected. Please change the shape of y to (n_samples,), for example using ravel().\n",
      "  return self._fit(X, y)\n",
      "/opt/homebrew/lib/python3.10/site-packages/sklearn/neighbors/_classification.py:233: DataConversionWarning: A column-vector y was passed when a 1d array was expected. Please change the shape of y to (n_samples,), for example using ravel().\n",
      "  return self._fit(X, y)\n",
      "/opt/homebrew/lib/python3.10/site-packages/sklearn/neighbors/_classification.py:233: DataConversionWarning: A column-vector y was passed when a 1d array was expected. Please change the shape of y to (n_samples,), for example using ravel().\n",
      "  return self._fit(X, y)\n",
      "/opt/homebrew/lib/python3.10/site-packages/sklearn/neighbors/_classification.py:233: DataConversionWarning: A column-vector y was passed when a 1d array was expected. Please change the shape of y to (n_samples,), for example using ravel().\n",
      "  return self._fit(X, y)\n"
     ]
    },
    {
     "name": "stdout",
     "output_type": "stream",
     "text": [
      "[CV 3/5] END algorithm=ball_tree, metric=cityblock, n_neighbors=89, p=1, weights=distance;, score=0.787 total time=   0.7s\n",
      "[CV 3/5] END algorithm=ball_tree, metric=cityblock, n_neighbors=89, p=1, weights=uniform;, score=0.781 total time=   0.9s\n"
     ]
    },
    {
     "name": "stderr",
     "output_type": "stream",
     "text": [
      "/opt/homebrew/lib/python3.10/site-packages/sklearn/neighbors/_classification.py:233: DataConversionWarning: A column-vector y was passed when a 1d array was expected. Please change the shape of y to (n_samples,), for example using ravel().\n",
      "  return self._fit(X, y)\n",
      "/opt/homebrew/lib/python3.10/site-packages/sklearn/neighbors/_classification.py:233: DataConversionWarning: A column-vector y was passed when a 1d array was expected. Please change the shape of y to (n_samples,), for example using ravel().\n",
      "  return self._fit(X, y)\n",
      "/opt/homebrew/lib/python3.10/site-packages/sklearn/neighbors/_classification.py:233: DataConversionWarning: A column-vector y was passed when a 1d array was expected. Please change the shape of y to (n_samples,), for example using ravel().\n",
      "  return self._fit(X, y)\n"
     ]
    },
    {
     "name": "stdout",
     "output_type": "stream",
     "text": [
      "[CV 3/5] END algorithm=ball_tree, metric=cityblock, n_neighbors=89, p=2, weights=uniform;, score=0.781 total time=   0.6s\n",
      "[CV 2/5] END algorithm=ball_tree, metric=cityblock, n_neighbors=89, p=2, weights=uniform;, score=0.763 total time=   0.6s\n",
      "[CV 5/5] END algorithm=ball_tree, metric=cityblock, n_neighbors=89, p=1, weights=distance;, score=0.791 total time=   0.7s\n",
      "[CV 4/5] END algorithm=ball_tree, metric=cityblock, n_neighbors=89, p=1, weights=distance;, score=0.787 total time=   0.8s\n",
      "[CV 4/5] END algorithm=ball_tree, metric=cityblock, n_neighbors=89, p=2, weights=uniform;, score=0.777 total time=   0.6s\n",
      "[CV 1/5] END algorithm=ball_tree, metric=cosine, n_neighbors=89, p=1, weights=uniform;, score=nan total time=   0.0s\n",
      "[CV 2/5] END algorithm=ball_tree, metric=cosine, n_neighbors=89, p=1, weights=uniform;, score=nan total time=   0.0s\n",
      "[CV 5/5] END algorithm=ball_tree, metric=cityblock, n_neighbors=89, p=2, weights=uniform;, score=0.783 total time=   0.6s\n",
      "[CV 3/5] END algorithm=ball_tree, metric=cosine, n_neighbors=89, p=1, weights=uniform;, score=nan total time=   0.0s\n",
      "[CV 4/5] END algorithm=ball_tree, metric=cosine, n_neighbors=89, p=1, weights=uniform;, score=nan total time=   0.0s\n",
      "[CV 5/5] END algorithm=ball_tree, metric=cosine, n_neighbors=89, p=1, weights=uniform;, score=nan total time=   0.0s\n",
      "[CV 1/5] END algorithm=ball_tree, metric=cosine, n_neighbors=89, p=1, weights=distance;, score=nan total time=   0.0s\n",
      "[CV 3/5] END algorithm=ball_tree, metric=cosine, n_neighbors=89, p=1, weights=distance;, score=nan total time=   0.0s\n",
      "[CV 2/5] END algorithm=ball_tree, metric=cosine, n_neighbors=89, p=1, weights=distance;, score=nan total time=   0.0s\n",
      "[CV 5/5] END algorithm=ball_tree, metric=cosine, n_neighbors=89, p=1, weights=distance;, score=nan total time=   0.0s\n",
      "[CV 4/5] END algorithm=ball_tree, metric=cosine, n_neighbors=89, p=1, weights=distance;, score=nan total time=   0.0s\n",
      "[CV 1/5] END algorithm=ball_tree, metric=cosine, n_neighbors=89, p=2, weights=uniform;, score=nan total time=   0.0s\n",
      "[CV 2/5] END algorithm=ball_tree, metric=cosine, n_neighbors=89, p=2, weights=uniform;, score=nan total time=   0.0s\n",
      "[CV 3/5] END algorithm=ball_tree, metric=cosine, n_neighbors=89, p=2, weights=uniform;, score=nan total time=   0.0s\n",
      "[CV 4/5] END algorithm=ball_tree, metric=cosine, n_neighbors=89, p=2, weights=uniform;, score=nan total time=   0.0s\n",
      "[CV 5/5] END algorithm=ball_tree, metric=cosine, n_neighbors=89, p=2, weights=uniform;, score=nan total time=   0.0s\n"
     ]
    },
    {
     "name": "stderr",
     "output_type": "stream",
     "text": [
      "/opt/homebrew/lib/python3.10/site-packages/sklearn/neighbors/_classification.py:233: DataConversionWarning: A column-vector y was passed when a 1d array was expected. Please change the shape of y to (n_samples,), for example using ravel().\n",
      "  return self._fit(X, y)\n",
      "/opt/homebrew/lib/python3.10/site-packages/sklearn/neighbors/_classification.py:233: DataConversionWarning: A column-vector y was passed when a 1d array was expected. Please change the shape of y to (n_samples,), for example using ravel().\n",
      "  return self._fit(X, y)\n",
      "/opt/homebrew/lib/python3.10/site-packages/sklearn/neighbors/_classification.py:233: DataConversionWarning: A column-vector y was passed when a 1d array was expected. Please change the shape of y to (n_samples,), for example using ravel().\n",
      "  return self._fit(X, y)\n",
      "/opt/homebrew/lib/python3.10/site-packages/sklearn/neighbors/_classification.py:233: DataConversionWarning: A column-vector y was passed when a 1d array was expected. Please change the shape of y to (n_samples,), for example using ravel().\n",
      "  return self._fit(X, y)\n",
      "/opt/homebrew/lib/python3.10/site-packages/sklearn/neighbors/_classification.py:233: DataConversionWarning: A column-vector y was passed when a 1d array was expected. Please change the shape of y to (n_samples,), for example using ravel().\n",
      "  return self._fit(X, y)\n",
      "/opt/homebrew/lib/python3.10/site-packages/sklearn/neighbors/_classification.py:233: DataConversionWarning: A column-vector y was passed when a 1d array was expected. Please change the shape of y to (n_samples,), for example using ravel().\n",
      "  return self._fit(X, y)\n",
      "/opt/homebrew/lib/python3.10/site-packages/sklearn/neighbors/_classification.py:233: DataConversionWarning: A column-vector y was passed when a 1d array was expected. Please change the shape of y to (n_samples,), for example using ravel().\n",
      "  return self._fit(X, y)\n",
      "/opt/homebrew/lib/python3.10/site-packages/sklearn/neighbors/_classification.py:233: DataConversionWarning: A column-vector y was passed when a 1d array was expected. Please change the shape of y to (n_samples,), for example using ravel().\n",
      "  return self._fit(X, y)\n",
      "/opt/homebrew/lib/python3.10/site-packages/sklearn/neighbors/_classification.py:233: DataConversionWarning: A column-vector y was passed when a 1d array was expected. Please change the shape of y to (n_samples,), for example using ravel().\n",
      "  return self._fit(X, y)\n",
      "/opt/homebrew/lib/python3.10/site-packages/sklearn/neighbors/_classification.py:233: DataConversionWarning: A column-vector y was passed when a 1d array was expected. Please change the shape of y to (n_samples,), for example using ravel().\n",
      "  return self._fit(X, y)\n",
      "/opt/homebrew/lib/python3.10/site-packages/sklearn/neighbors/_classification.py:233: DataConversionWarning: A column-vector y was passed when a 1d array was expected. Please change the shape of y to (n_samples,), for example using ravel().\n",
      "  return self._fit(X, y)\n",
      "/opt/homebrew/lib/python3.10/site-packages/sklearn/neighbors/_classification.py:233: DataConversionWarning: A column-vector y was passed when a 1d array was expected. Please change the shape of y to (n_samples,), for example using ravel().\n",
      "  return self._fit(X, y)\n",
      "/opt/homebrew/lib/python3.10/site-packages/sklearn/neighbors/_classification.py:233: DataConversionWarning: A column-vector y was passed when a 1d array was expected. Please change the shape of y to (n_samples,), for example using ravel().\n",
      "  return self._fit(X, y)\n",
      "/opt/homebrew/lib/python3.10/site-packages/sklearn/neighbors/_classification.py:233: DataConversionWarning: A column-vector y was passed when a 1d array was expected. Please change the shape of y to (n_samples,), for example using ravel().\n",
      "  return self._fit(X, y)\n",
      "/opt/homebrew/lib/python3.10/site-packages/sklearn/neighbors/_classification.py:233: DataConversionWarning: A column-vector y was passed when a 1d array was expected. Please change the shape of y to (n_samples,), for example using ravel().\n",
      "  return self._fit(X, y)\n",
      "/opt/homebrew/lib/python3.10/site-packages/sklearn/neighbors/_classification.py:233: DataConversionWarning: A column-vector y was passed when a 1d array was expected. Please change the shape of y to (n_samples,), for example using ravel().\n",
      "  return self._fit(X, y)\n",
      "/opt/homebrew/lib/python3.10/site-packages/sklearn/neighbors/_classification.py:233: DataConversionWarning: A column-vector y was passed when a 1d array was expected. Please change the shape of y to (n_samples,), for example using ravel().\n",
      "  return self._fit(X, y)\n",
      "/opt/homebrew/lib/python3.10/site-packages/sklearn/neighbors/_classification.py:233: DataConversionWarning: A column-vector y was passed when a 1d array was expected. Please change the shape of y to (n_samples,), for example using ravel().\n",
      "  return self._fit(X, y)\n",
      "/opt/homebrew/lib/python3.10/site-packages/sklearn/neighbors/_classification.py:233: DataConversionWarning: A column-vector y was passed when a 1d array was expected. Please change the shape of y to (n_samples,), for example using ravel().\n",
      "  return self._fit(X, y)\n",
      "/opt/homebrew/lib/python3.10/site-packages/sklearn/neighbors/_classification.py:233: DataConversionWarning: A column-vector y was passed when a 1d array was expected. Please change the shape of y to (n_samples,), for example using ravel().\n",
      "  return self._fit(X, y)\n",
      "/opt/homebrew/lib/python3.10/site-packages/sklearn/neighbors/_classification.py:233: DataConversionWarning: A column-vector y was passed when a 1d array was expected. Please change the shape of y to (n_samples,), for example using ravel().\n",
      "  return self._fit(X, y)\n",
      "/opt/homebrew/lib/python3.10/site-packages/sklearn/neighbors/_classification.py:233: DataConversionWarning: A column-vector y was passed when a 1d array was expected. Please change the shape of y to (n_samples,), for example using ravel().\n",
      "  return self._fit(X, y)\n"
     ]
    },
    {
     "name": "stdout",
     "output_type": "stream",
     "text": [
      "[CV 1/5] END algorithm=ball_tree, metric=cosine, n_neighbors=89, p=2, weights=distance;, score=nan total time=   0.0s\n",
      "[CV 2/5] END algorithm=ball_tree, metric=cosine, n_neighbors=89, p=2, weights=distance;, score=nan total time=   0.0s\n",
      "[CV 3/5] END algorithm=ball_tree, metric=cosine, n_neighbors=89, p=2, weights=distance;, score=nan total time=   0.0s\n",
      "[CV 4/5] END algorithm=ball_tree, metric=cosine, n_neighbors=89, p=2, weights=distance;, score=nan total time=   0.0s\n",
      "[CV 5/5] END algorithm=ball_tree, metric=cosine, n_neighbors=89, p=2, weights=distance;, score=nan total time=   0.0s\n",
      "[CV 1/5] END algorithm=ball_tree, metric=cityblock, n_neighbors=89, p=2, weights=uniform;, score=0.758 total time=   0.9s\n",
      "[CV 1/5] END algorithm=ball_tree, metric=cityblock, n_neighbors=89, p=2, weights=distance;, score=0.767 total time=   0.7s\n"
     ]
    },
    {
     "name": "stderr",
     "output_type": "stream",
     "text": [
      "/opt/homebrew/lib/python3.10/site-packages/sklearn/neighbors/_classification.py:233: DataConversionWarning: A column-vector y was passed when a 1d array was expected. Please change the shape of y to (n_samples,), for example using ravel().\n",
      "  return self._fit(X, y)\n",
      "/opt/homebrew/lib/python3.10/site-packages/sklearn/neighbors/_classification.py:233: DataConversionWarning: A column-vector y was passed when a 1d array was expected. Please change the shape of y to (n_samples,), for example using ravel().\n",
      "  return self._fit(X, y)\n",
      "/opt/homebrew/lib/python3.10/site-packages/sklearn/neighbors/_classification.py:233: DataConversionWarning: A column-vector y was passed when a 1d array was expected. Please change the shape of y to (n_samples,), for example using ravel().\n",
      "  return self._fit(X, y)\n",
      "/opt/homebrew/lib/python3.10/site-packages/sklearn/neighbors/_classification.py:233: DataConversionWarning: A column-vector y was passed when a 1d array was expected. Please change the shape of y to (n_samples,), for example using ravel().\n",
      "  return self._fit(X, y)\n",
      "/opt/homebrew/lib/python3.10/site-packages/sklearn/neighbors/_classification.py:233: DataConversionWarning: A column-vector y was passed when a 1d array was expected. Please change the shape of y to (n_samples,), for example using ravel().\n",
      "  return self._fit(X, y)\n",
      "/opt/homebrew/lib/python3.10/site-packages/sklearn/neighbors/_classification.py:233: DataConversionWarning: A column-vector y was passed when a 1d array was expected. Please change the shape of y to (n_samples,), for example using ravel().\n",
      "  return self._fit(X, y)\n"
     ]
    },
    {
     "name": "stdout",
     "output_type": "stream",
     "text": [
      "[CV 2/5] END algorithm=ball_tree, metric=cityblock, n_neighbors=89, p=2, weights=distance;, score=0.774 total time=   0.7s\n",
      "[CV 3/5] END algorithm=ball_tree, metric=cityblock, n_neighbors=89, p=2, weights=distance;, score=0.787 total time=   0.7s\n",
      "[CV 4/5] END algorithm=ball_tree, metric=cityblock, n_neighbors=89, p=2, weights=distance;, score=0.787 total time=   0.7s\n",
      "[CV 5/5] END algorithm=ball_tree, metric=cityblock, n_neighbors=89, p=2, weights=distance;, score=0.791 total time=   0.8s\n",
      "[CV 2/5] END algorithm=ball_tree, metric=euclidean, n_neighbors=89, p=1, weights=uniform;, score=0.761 total time=   0.7s\n"
     ]
    },
    {
     "name": "stderr",
     "output_type": "stream",
     "text": [
      "/opt/homebrew/lib/python3.10/site-packages/sklearn/neighbors/_classification.py:233: DataConversionWarning: A column-vector y was passed when a 1d array was expected. Please change the shape of y to (n_samples,), for example using ravel().\n",
      "  return self._fit(X, y)\n",
      "/opt/homebrew/lib/python3.10/site-packages/sklearn/neighbors/_classification.py:233: DataConversionWarning: A column-vector y was passed when a 1d array was expected. Please change the shape of y to (n_samples,), for example using ravel().\n",
      "  return self._fit(X, y)\n",
      "/opt/homebrew/lib/python3.10/site-packages/sklearn/neighbors/_classification.py:233: DataConversionWarning: A column-vector y was passed when a 1d array was expected. Please change the shape of y to (n_samples,), for example using ravel().\n",
      "  return self._fit(X, y)\n",
      "/opt/homebrew/lib/python3.10/site-packages/sklearn/neighbors/_classification.py:233: DataConversionWarning: A column-vector y was passed when a 1d array was expected. Please change the shape of y to (n_samples,), for example using ravel().\n",
      "  return self._fit(X, y)\n",
      "/opt/homebrew/lib/python3.10/site-packages/sklearn/neighbors/_classification.py:233: DataConversionWarning: A column-vector y was passed when a 1d array was expected. Please change the shape of y to (n_samples,), for example using ravel().\n",
      "  return self._fit(X, y)\n"
     ]
    },
    {
     "name": "stdout",
     "output_type": "stream",
     "text": [
      "[CV 1/5] END algorithm=ball_tree, metric=euclidean, n_neighbors=89, p=1, weights=uniform;, score=0.751 total time=   0.7s\n",
      "[CV 4/5] END algorithm=ball_tree, metric=euclidean, n_neighbors=89, p=1, weights=uniform;, score=0.776 total time=   0.7s\n",
      "[CV 3/5] END algorithm=ball_tree, metric=euclidean, n_neighbors=89, p=1, weights=uniform;, score=0.765 total time=   0.7s\n"
     ]
    },
    {
     "name": "stderr",
     "output_type": "stream",
     "text": [
      "/opt/homebrew/lib/python3.10/site-packages/sklearn/neighbors/_classification.py:233: DataConversionWarning: A column-vector y was passed when a 1d array was expected. Please change the shape of y to (n_samples,), for example using ravel().\n",
      "  return self._fit(X, y)\n",
      "/opt/homebrew/lib/python3.10/site-packages/sklearn/neighbors/_classification.py:233: DataConversionWarning: A column-vector y was passed when a 1d array was expected. Please change the shape of y to (n_samples,), for example using ravel().\n",
      "  return self._fit(X, y)\n",
      "/opt/homebrew/lib/python3.10/site-packages/sklearn/neighbors/_classification.py:233: DataConversionWarning: A column-vector y was passed when a 1d array was expected. Please change the shape of y to (n_samples,), for example using ravel().\n",
      "  return self._fit(X, y)\n"
     ]
    },
    {
     "name": "stdout",
     "output_type": "stream",
     "text": [
      "[CV 5/5] END algorithm=ball_tree, metric=euclidean, n_neighbors=89, p=1, weights=uniform;, score=0.779 total time=   0.6s\n",
      "[CV 1/5] END algorithm=ball_tree, metric=euclidean, n_neighbors=89, p=1, weights=distance;, score=0.759 total time=   0.7s\n",
      "[CV 3/5] END algorithm=ball_tree, metric=euclidean, n_neighbors=89, p=1, weights=distance;, score=0.777 total time=   0.6s\n",
      "[CV 2/5] END algorithm=ball_tree, metric=euclidean, n_neighbors=89, p=1, weights=distance;, score=0.774 total time=   0.6s\n",
      "[CV 1/5] END algorithm=ball_tree, metric=haversine, n_neighbors=89, p=1, weights=uniform;, score=nan total time=   0.0s\n",
      "[CV 2/5] END algorithm=ball_tree, metric=haversine, n_neighbors=89, p=1, weights=uniform;, score=nan total time=   0.0s\n",
      "[CV 3/5] END algorithm=ball_tree, metric=haversine, n_neighbors=89, p=1, weights=uniform;, score=nan total time=   0.0s\n",
      "[CV 4/5] END algorithm=ball_tree, metric=haversine, n_neighbors=89, p=1, weights=uniform;, score=nan total time=   0.0s\n",
      "[CV 2/5] END algorithm=ball_tree, metric=haversine, n_neighbors=89, p=1, weights=distance;, score=nan total time=   0.0s[CV 5/5] END algorithm=ball_tree, metric=haversine, n_neighbors=89, p=1, weights=uniform;, score=nan total time=   0.0s\n",
      "\n",
      "[CV 3/5] END algorithm=ball_tree, metric=haversine, n_neighbors=89, p=1, weights=distance;, score=nan total time=   0.0s\n",
      "[CV 1/5] END algorithm=ball_tree, metric=haversine, n_neighbors=89, p=1, weights=distance;, score=nan total time=   0.0s\n",
      "[CV 4/5] END algorithm=ball_tree, metric=haversine, n_neighbors=89, p=1, weights=distance;, score=nan total time=   0.0s\n",
      "[CV 1/5] END algorithm=ball_tree, metric=haversine, n_neighbors=89, p=2, weights=uniform;, score=nan total time=   0.0s\n",
      "[CV 5/5] END algorithm=ball_tree, metric=haversine, n_neighbors=89, p=1, weights=distance;, score=nan total time=   0.0s\n",
      "[CV 2/5] END algorithm=ball_tree, metric=haversine, n_neighbors=89, p=2, weights=uniform;, score=nan total time=   0.0s\n",
      "[CV 3/5] END algorithm=ball_tree, metric=haversine, n_neighbors=89, p=2, weights=uniform;, score=nan total time=   0.0s\n",
      "[CV 5/5] END algorithm=ball_tree, metric=haversine, n_neighbors=89, p=2, weights=uniform;, score=nan total time=   0.0s\n",
      "[CV 4/5] END algorithm=ball_tree, metric=haversine, n_neighbors=89, p=2, weights=uniform;, score=nan total time=   0.0s\n",
      "[CV 1/5] END algorithm=ball_tree, metric=haversine, n_neighbors=89, p=2, weights=distance;, score=nan total time=   0.0s\n"
     ]
    },
    {
     "name": "stderr",
     "output_type": "stream",
     "text": [
      "/opt/homebrew/lib/python3.10/site-packages/sklearn/neighbors/_classification.py:233: DataConversionWarning: A column-vector y was passed when a 1d array was expected. Please change the shape of y to (n_samples,), for example using ravel().\n",
      "  return self._fit(X, y)\n",
      "/opt/homebrew/lib/python3.10/site-packages/sklearn/neighbors/_classification.py:233: DataConversionWarning: A column-vector y was passed when a 1d array was expected. Please change the shape of y to (n_samples,), for example using ravel().\n",
      "  return self._fit(X, y)\n",
      "/opt/homebrew/lib/python3.10/site-packages/sklearn/neighbors/_classification.py:233: DataConversionWarning: A column-vector y was passed when a 1d array was expected. Please change the shape of y to (n_samples,), for example using ravel().\n",
      "  return self._fit(X, y)\n",
      "/opt/homebrew/lib/python3.10/site-packages/sklearn/neighbors/_classification.py:233: DataConversionWarning: A column-vector y was passed when a 1d array was expected. Please change the shape of y to (n_samples,), for example using ravel().\n",
      "  return self._fit(X, y)\n",
      "/opt/homebrew/lib/python3.10/site-packages/sklearn/neighbors/_classification.py:233: DataConversionWarning: A column-vector y was passed when a 1d array was expected. Please change the shape of y to (n_samples,), for example using ravel().\n",
      "  return self._fit(X, y)\n",
      "/opt/homebrew/lib/python3.10/site-packages/sklearn/neighbors/_classification.py:233: DataConversionWarning: A column-vector y was passed when a 1d array was expected. Please change the shape of y to (n_samples,), for example using ravel().\n",
      "  return self._fit(X, y)\n",
      "/opt/homebrew/lib/python3.10/site-packages/sklearn/neighbors/_classification.py:233: DataConversionWarning: A column-vector y was passed when a 1d array was expected. Please change the shape of y to (n_samples,), for example using ravel().\n",
      "  return self._fit(X, y)\n",
      "/opt/homebrew/lib/python3.10/site-packages/sklearn/neighbors/_classification.py:233: DataConversionWarning: A column-vector y was passed when a 1d array was expected. Please change the shape of y to (n_samples,), for example using ravel().\n",
      "  return self._fit(X, y)\n",
      "/opt/homebrew/lib/python3.10/site-packages/sklearn/neighbors/_classification.py:233: DataConversionWarning: A column-vector y was passed when a 1d array was expected. Please change the shape of y to (n_samples,), for example using ravel().\n",
      "  return self._fit(X, y)\n",
      "/opt/homebrew/lib/python3.10/site-packages/sklearn/neighbors/_classification.py:233: DataConversionWarning: A column-vector y was passed when a 1d array was expected. Please change the shape of y to (n_samples,), for example using ravel().\n",
      "  return self._fit(X, y)\n",
      "/opt/homebrew/lib/python3.10/site-packages/sklearn/neighbors/_classification.py:233: DataConversionWarning: A column-vector y was passed when a 1d array was expected. Please change the shape of y to (n_samples,), for example using ravel().\n",
      "  return self._fit(X, y)\n",
      "/opt/homebrew/lib/python3.10/site-packages/sklearn/neighbors/_classification.py:233: DataConversionWarning: A column-vector y was passed when a 1d array was expected. Please change the shape of y to (n_samples,), for example using ravel().\n",
      "  return self._fit(X, y)\n",
      "/opt/homebrew/lib/python3.10/site-packages/sklearn/neighbors/_classification.py:233: DataConversionWarning: A column-vector y was passed when a 1d array was expected. Please change the shape of y to (n_samples,), for example using ravel().\n",
      "  return self._fit(X, y)\n",
      "/opt/homebrew/lib/python3.10/site-packages/sklearn/neighbors/_classification.py:233: DataConversionWarning: A column-vector y was passed when a 1d array was expected. Please change the shape of y to (n_samples,), for example using ravel().\n",
      "  return self._fit(X, y)\n",
      "/opt/homebrew/lib/python3.10/site-packages/sklearn/neighbors/_classification.py:233: DataConversionWarning: A column-vector y was passed when a 1d array was expected. Please change the shape of y to (n_samples,), for example using ravel().\n",
      "  return self._fit(X, y)\n",
      "/opt/homebrew/lib/python3.10/site-packages/sklearn/neighbors/_classification.py:233: DataConversionWarning: A column-vector y was passed when a 1d array was expected. Please change the shape of y to (n_samples,), for example using ravel().\n",
      "  return self._fit(X, y)\n",
      "/opt/homebrew/lib/python3.10/site-packages/sklearn/neighbors/_classification.py:233: DataConversionWarning: A column-vector y was passed when a 1d array was expected. Please change the shape of y to (n_samples,), for example using ravel().\n",
      "  return self._fit(X, y)\n",
      "/opt/homebrew/lib/python3.10/site-packages/sklearn/neighbors/_classification.py:233: DataConversionWarning: A column-vector y was passed when a 1d array was expected. Please change the shape of y to (n_samples,), for example using ravel().\n",
      "  return self._fit(X, y)\n",
      "/opt/homebrew/lib/python3.10/site-packages/sklearn/neighbors/_classification.py:233: DataConversionWarning: A column-vector y was passed when a 1d array was expected. Please change the shape of y to (n_samples,), for example using ravel().\n",
      "  return self._fit(X, y)\n"
     ]
    },
    {
     "name": "stdout",
     "output_type": "stream",
     "text": [
      "[CV 2/5] END algorithm=ball_tree, metric=haversine, n_neighbors=89, p=2, weights=distance;, score=nan total time=   0.0s\n",
      "[CV 4/5] END algorithm=ball_tree, metric=haversine, n_neighbors=89, p=2, weights=distance;, score=nan total time=   0.0s\n",
      "[CV 3/5] END algorithm=ball_tree, metric=haversine, n_neighbors=89, p=2, weights=distance;, score=nan total time=   0.0s\n",
      "[CV 5/5] END algorithm=ball_tree, metric=haversine, n_neighbors=89, p=2, weights=distance;, score=nan total time=   0.0s\n",
      "[CV 4/5] END algorithm=ball_tree, metric=euclidean, n_neighbors=89, p=1, weights=distance;, score=0.792 total time=   0.8s\n",
      "[CV 3/5] END algorithm=ball_tree, metric=euclidean, n_neighbors=89, p=2, weights=uniform;, score=0.765 total time=   0.7s\n"
     ]
    },
    {
     "name": "stderr",
     "output_type": "stream",
     "text": [
      "/opt/homebrew/lib/python3.10/site-packages/sklearn/neighbors/_classification.py:233: DataConversionWarning: A column-vector y was passed when a 1d array was expected. Please change the shape of y to (n_samples,), for example using ravel().\n",
      "  return self._fit(X, y)\n",
      "/opt/homebrew/lib/python3.10/site-packages/sklearn/neighbors/_classification.py:233: DataConversionWarning: A column-vector y was passed when a 1d array was expected. Please change the shape of y to (n_samples,), for example using ravel().\n",
      "  return self._fit(X, y)\n",
      "/opt/homebrew/lib/python3.10/site-packages/sklearn/neighbors/_classification.py:233: DataConversionWarning: A column-vector y was passed when a 1d array was expected. Please change the shape of y to (n_samples,), for example using ravel().\n",
      "  return self._fit(X, y)\n",
      "/opt/homebrew/lib/python3.10/site-packages/sklearn/neighbors/_classification.py:233: DataConversionWarning: A column-vector y was passed when a 1d array was expected. Please change the shape of y to (n_samples,), for example using ravel().\n",
      "  return self._fit(X, y)\n",
      "/opt/homebrew/lib/python3.10/site-packages/sklearn/neighbors/_classification.py:233: DataConversionWarning: A column-vector y was passed when a 1d array was expected. Please change the shape of y to (n_samples,), for example using ravel().\n",
      "  return self._fit(X, y)\n",
      "/opt/homebrew/lib/python3.10/site-packages/sklearn/neighbors/_classification.py:233: DataConversionWarning: A column-vector y was passed when a 1d array was expected. Please change the shape of y to (n_samples,), for example using ravel().\n",
      "  return self._fit(X, y)\n",
      "/opt/homebrew/lib/python3.10/site-packages/sklearn/neighbors/_classification.py:233: DataConversionWarning: A column-vector y was passed when a 1d array was expected. Please change the shape of y to (n_samples,), for example using ravel().\n",
      "  return self._fit(X, y)\n"
     ]
    },
    {
     "name": "stdout",
     "output_type": "stream",
     "text": [
      "[CV 1/5] END algorithm=ball_tree, metric=euclidean, n_neighbors=89, p=2, weights=uniform;, score=0.751 total time=   0.8s\n",
      "[CV 5/5] END algorithm=ball_tree, metric=euclidean, n_neighbors=89, p=2, weights=uniform;, score=0.779 total time=   0.9s\n"
     ]
    },
    {
     "name": "stderr",
     "output_type": "stream",
     "text": [
      "/opt/homebrew/lib/python3.10/site-packages/sklearn/neighbors/_classification.py:233: DataConversionWarning: A column-vector y was passed when a 1d array was expected. Please change the shape of y to (n_samples,), for example using ravel().\n",
      "  return self._fit(X, y)\n",
      "/opt/homebrew/lib/python3.10/site-packages/sklearn/neighbors/_classification.py:233: DataConversionWarning: A column-vector y was passed when a 1d array was expected. Please change the shape of y to (n_samples,), for example using ravel().\n",
      "  return self._fit(X, y)\n"
     ]
    },
    {
     "name": "stdout",
     "output_type": "stream",
     "text": [
      "[CV 2/5] END algorithm=ball_tree, metric=euclidean, n_neighbors=89, p=2, weights=distance;, score=0.774 total time=   0.7s\n",
      "[CV 4/5] END algorithm=ball_tree, metric=euclidean, n_neighbors=89, p=2, weights=distance;, score=0.792 total time=   0.7s\n",
      "[CV 3/5] END algorithm=ball_tree, metric=l1, n_neighbors=89, p=1, weights=uniform;, score=0.781 total time=   0.6s\n",
      "[CV 1/5] END algorithm=ball_tree, metric=l1, n_neighbors=89, p=1, weights=uniform;, score=0.758 total time=   0.7s\n"
     ]
    },
    {
     "name": "stderr",
     "output_type": "stream",
     "text": [
      "/opt/homebrew/lib/python3.10/site-packages/sklearn/neighbors/_classification.py:233: DataConversionWarning: A column-vector y was passed when a 1d array was expected. Please change the shape of y to (n_samples,), for example using ravel().\n",
      "  return self._fit(X, y)\n",
      "/opt/homebrew/lib/python3.10/site-packages/sklearn/neighbors/_classification.py:233: DataConversionWarning: A column-vector y was passed when a 1d array was expected. Please change the shape of y to (n_samples,), for example using ravel().\n",
      "  return self._fit(X, y)\n",
      "/opt/homebrew/lib/python3.10/site-packages/sklearn/neighbors/_classification.py:233: DataConversionWarning: A column-vector y was passed when a 1d array was expected. Please change the shape of y to (n_samples,), for example using ravel().\n",
      "  return self._fit(X, y)\n",
      "/opt/homebrew/lib/python3.10/site-packages/sklearn/neighbors/_classification.py:233: DataConversionWarning: A column-vector y was passed when a 1d array was expected. Please change the shape of y to (n_samples,), for example using ravel().\n",
      "  return self._fit(X, y)\n"
     ]
    },
    {
     "name": "stdout",
     "output_type": "stream",
     "text": [
      "[CV 5/5] END algorithm=ball_tree, metric=euclidean, n_neighbors=89, p=1, weights=distance;, score=0.791 total time=   0.6s\n",
      "[CV 2/5] END algorithm=ball_tree, metric=euclidean, n_neighbors=89, p=2, weights=uniform;, score=0.761 total time=   0.6s\n",
      "[CV 4/5] END algorithm=ball_tree, metric=euclidean, n_neighbors=89, p=2, weights=uniform;, score=0.776 total time=   0.7s\n"
     ]
    },
    {
     "name": "stderr",
     "output_type": "stream",
     "text": [
      "/opt/homebrew/lib/python3.10/site-packages/sklearn/neighbors/_classification.py:233: DataConversionWarning: A column-vector y was passed when a 1d array was expected. Please change the shape of y to (n_samples,), for example using ravel().\n",
      "  return self._fit(X, y)\n",
      "/opt/homebrew/lib/python3.10/site-packages/sklearn/neighbors/_classification.py:233: DataConversionWarning: A column-vector y was passed when a 1d array was expected. Please change the shape of y to (n_samples,), for example using ravel().\n",
      "  return self._fit(X, y)\n",
      "/opt/homebrew/lib/python3.10/site-packages/sklearn/neighbors/_classification.py:233: DataConversionWarning: A column-vector y was passed when a 1d array was expected. Please change the shape of y to (n_samples,), for example using ravel().\n",
      "  return self._fit(X, y)\n"
     ]
    },
    {
     "name": "stdout",
     "output_type": "stream",
     "text": [
      "[CV 1/5] END algorithm=ball_tree, metric=euclidean, n_neighbors=89, p=2, weights=distance;, score=0.759 total time=   0.6s\n",
      "[CV 3/5] END algorithm=ball_tree, metric=euclidean, n_neighbors=89, p=2, weights=distance;, score=0.777 total time=   0.6s\n"
     ]
    },
    {
     "name": "stderr",
     "output_type": "stream",
     "text": [
      "/opt/homebrew/lib/python3.10/site-packages/sklearn/neighbors/_classification.py:233: DataConversionWarning: A column-vector y was passed when a 1d array was expected. Please change the shape of y to (n_samples,), for example using ravel().\n",
      "  return self._fit(X, y)\n",
      "/opt/homebrew/lib/python3.10/site-packages/sklearn/neighbors/_classification.py:233: DataConversionWarning: A column-vector y was passed when a 1d array was expected. Please change the shape of y to (n_samples,), for example using ravel().\n",
      "  return self._fit(X, y)\n"
     ]
    },
    {
     "name": "stdout",
     "output_type": "stream",
     "text": [
      "[CV 5/5] END algorithm=ball_tree, metric=euclidean, n_neighbors=89, p=2, weights=distance;, score=0.791 total time=   0.7s\n",
      "[CV 2/5] END algorithm=ball_tree, metric=l1, n_neighbors=89, p=1, weights=uniform;, score=0.763 total time=   0.7s\n",
      "[CV 4/5] END algorithm=ball_tree, metric=l1, n_neighbors=89, p=1, weights=uniform;, score=0.777 total time=   0.7s\n",
      "[CV 4/5] END algorithm=ball_tree, metric=l1, n_neighbors=89, p=1, weights=distance;, score=0.787 total time=   0.6s\n"
     ]
    },
    {
     "name": "stderr",
     "output_type": "stream",
     "text": [
      "/opt/homebrew/lib/python3.10/site-packages/sklearn/neighbors/_classification.py:233: DataConversionWarning: A column-vector y was passed when a 1d array was expected. Please change the shape of y to (n_samples,), for example using ravel().\n",
      "  return self._fit(X, y)\n",
      "/opt/homebrew/lib/python3.10/site-packages/sklearn/neighbors/_classification.py:233: DataConversionWarning: A column-vector y was passed when a 1d array was expected. Please change the shape of y to (n_samples,), for example using ravel().\n",
      "  return self._fit(X, y)\n",
      "/opt/homebrew/lib/python3.10/site-packages/sklearn/neighbors/_classification.py:233: DataConversionWarning: A column-vector y was passed when a 1d array was expected. Please change the shape of y to (n_samples,), for example using ravel().\n",
      "  return self._fit(X, y)\n",
      "/opt/homebrew/lib/python3.10/site-packages/sklearn/neighbors/_classification.py:233: DataConversionWarning: A column-vector y was passed when a 1d array was expected. Please change the shape of y to (n_samples,), for example using ravel().\n",
      "  return self._fit(X, y)\n"
     ]
    },
    {
     "name": "stdout",
     "output_type": "stream",
     "text": [
      "[CV 2/5] END algorithm=ball_tree, metric=l1, n_neighbors=89, p=1, weights=distance;, score=0.774 total time=   0.7s\n",
      "[CV 5/5] END algorithm=ball_tree, metric=l1, n_neighbors=89, p=1, weights=uniform;, score=0.783 total time=   0.9s\n"
     ]
    },
    {
     "name": "stderr",
     "output_type": "stream",
     "text": [
      "/opt/homebrew/lib/python3.10/site-packages/sklearn/neighbors/_classification.py:233: DataConversionWarning: A column-vector y was passed when a 1d array was expected. Please change the shape of y to (n_samples,), for example using ravel().\n",
      "  return self._fit(X, y)\n",
      "/opt/homebrew/lib/python3.10/site-packages/sklearn/neighbors/_classification.py:233: DataConversionWarning: A column-vector y was passed when a 1d array was expected. Please change the shape of y to (n_samples,), for example using ravel().\n",
      "  return self._fit(X, y)\n"
     ]
    },
    {
     "name": "stdout",
     "output_type": "stream",
     "text": [
      "[CV 1/5] END algorithm=ball_tree, metric=l1, n_neighbors=89, p=2, weights=uniform;, score=0.758 total time=   0.7s\n",
      "[CV 3/5] END algorithm=ball_tree, metric=l1, n_neighbors=89, p=2, weights=uniform;, score=0.781 total time=   0.7s\n",
      "[CV 5/5] END algorithm=ball_tree, metric=l1, n_neighbors=89, p=2, weights=uniform;, score=0.783 total time=   0.7s\n"
     ]
    },
    {
     "name": "stderr",
     "output_type": "stream",
     "text": [
      "/opt/homebrew/lib/python3.10/site-packages/sklearn/neighbors/_classification.py:233: DataConversionWarning: A column-vector y was passed when a 1d array was expected. Please change the shape of y to (n_samples,), for example using ravel().\n",
      "  return self._fit(X, y)\n",
      "/opt/homebrew/lib/python3.10/site-packages/sklearn/neighbors/_classification.py:233: DataConversionWarning: A column-vector y was passed when a 1d array was expected. Please change the shape of y to (n_samples,), for example using ravel().\n",
      "  return self._fit(X, y)\n",
      "/opt/homebrew/lib/python3.10/site-packages/sklearn/neighbors/_classification.py:233: DataConversionWarning: A column-vector y was passed when a 1d array was expected. Please change the shape of y to (n_samples,), for example using ravel().\n",
      "  return self._fit(X, y)\n"
     ]
    },
    {
     "name": "stdout",
     "output_type": "stream",
     "text": [
      "[CV 2/5] END algorithm=ball_tree, metric=l1, n_neighbors=89, p=2, weights=distance;, score=0.774 total time=   0.7s\n",
      "[CV 4/5] END algorithm=ball_tree, metric=l1, n_neighbors=89, p=2, weights=distance;, score=0.787 total time=   0.7s\n",
      "[CV 5/5] END algorithm=ball_tree, metric=l1, n_neighbors=89, p=1, weights=distance;, score=0.791 total time=   0.7s\n",
      "[CV 3/5] END algorithm=ball_tree, metric=l1, n_neighbors=89, p=1, weights=distance;, score=0.787 total time=   0.7s\n"
     ]
    },
    {
     "name": "stderr",
     "output_type": "stream",
     "text": [
      "/opt/homebrew/lib/python3.10/site-packages/sklearn/neighbors/_classification.py:233: DataConversionWarning: A column-vector y was passed when a 1d array was expected. Please change the shape of y to (n_samples,), for example using ravel().\n",
      "  return self._fit(X, y)\n",
      "/opt/homebrew/lib/python3.10/site-packages/sklearn/neighbors/_classification.py:233: DataConversionWarning: A column-vector y was passed when a 1d array was expected. Please change the shape of y to (n_samples,), for example using ravel().\n",
      "  return self._fit(X, y)\n",
      "/opt/homebrew/lib/python3.10/site-packages/sklearn/neighbors/_classification.py:233: DataConversionWarning: A column-vector y was passed when a 1d array was expected. Please change the shape of y to (n_samples,), for example using ravel().\n",
      "  return self._fit(X, y)\n",
      "/opt/homebrew/lib/python3.10/site-packages/sklearn/neighbors/_classification.py:233: DataConversionWarning: A column-vector y was passed when a 1d array was expected. Please change the shape of y to (n_samples,), for example using ravel().\n",
      "  return self._fit(X, y)\n"
     ]
    },
    {
     "name": "stdout",
     "output_type": "stream",
     "text": [
      "[CV 1/5] END algorithm=ball_tree, metric=l1, n_neighbors=89, p=1, weights=distance;, score=0.767 total time=   0.6s\n",
      "[CV 2/5] END algorithm=ball_tree, metric=l1, n_neighbors=89, p=2, weights=uniform;, score=0.763 total time=   0.7s\n"
     ]
    },
    {
     "name": "stderr",
     "output_type": "stream",
     "text": [
      "/opt/homebrew/lib/python3.10/site-packages/sklearn/neighbors/_classification.py:233: DataConversionWarning: A column-vector y was passed when a 1d array was expected. Please change the shape of y to (n_samples,), for example using ravel().\n",
      "  return self._fit(X, y)\n",
      "/opt/homebrew/lib/python3.10/site-packages/sklearn/neighbors/_classification.py:233: DataConversionWarning: A column-vector y was passed when a 1d array was expected. Please change the shape of y to (n_samples,), for example using ravel().\n",
      "  return self._fit(X, y)\n"
     ]
    },
    {
     "name": "stdout",
     "output_type": "stream",
     "text": [
      "[CV 4/5] END algorithm=ball_tree, metric=l1, n_neighbors=89, p=2, weights=uniform;, score=0.777 total time=   0.7s\n",
      "[CV 1/5] END algorithm=ball_tree, metric=l1, n_neighbors=89, p=2, weights=distance;, score=0.767 total time=   0.7s\n",
      "[CV 5/5] END algorithm=ball_tree, metric=l1, n_neighbors=89, p=2, weights=distance;, score=0.791 total time=   0.7s\n",
      "[CV 3/5] END algorithm=ball_tree, metric=l1, n_neighbors=89, p=2, weights=distance;, score=0.787 total time=   0.7s\n",
      "[CV 1/5] END algorithm=ball_tree, metric=l2, n_neighbors=89, p=1, weights=uniform;, score=0.751 total time=   0.6s\n"
     ]
    },
    {
     "name": "stderr",
     "output_type": "stream",
     "text": [
      "/opt/homebrew/lib/python3.10/site-packages/sklearn/neighbors/_classification.py:233: DataConversionWarning: A column-vector y was passed when a 1d array was expected. Please change the shape of y to (n_samples,), for example using ravel().\n",
      "  return self._fit(X, y)\n",
      "/opt/homebrew/lib/python3.10/site-packages/sklearn/neighbors/_classification.py:233: DataConversionWarning: A column-vector y was passed when a 1d array was expected. Please change the shape of y to (n_samples,), for example using ravel().\n",
      "  return self._fit(X, y)\n",
      "/opt/homebrew/lib/python3.10/site-packages/sklearn/neighbors/_classification.py:233: DataConversionWarning: A column-vector y was passed when a 1d array was expected. Please change the shape of y to (n_samples,), for example using ravel().\n",
      "  return self._fit(X, y)\n",
      "/opt/homebrew/lib/python3.10/site-packages/sklearn/neighbors/_classification.py:233: DataConversionWarning: A column-vector y was passed when a 1d array was expected. Please change the shape of y to (n_samples,), for example using ravel().\n",
      "  return self._fit(X, y)\n",
      "/opt/homebrew/lib/python3.10/site-packages/sklearn/neighbors/_classification.py:233: DataConversionWarning: A column-vector y was passed when a 1d array was expected. Please change the shape of y to (n_samples,), for example using ravel().\n",
      "  return self._fit(X, y)\n"
     ]
    },
    {
     "name": "stdout",
     "output_type": "stream",
     "text": [
      "[CV 3/5] END algorithm=ball_tree, metric=l2, n_neighbors=89, p=1, weights=uniform;, score=0.765 total time=   0.7s\n",
      "[CV 5/5] END algorithm=ball_tree, metric=l2, n_neighbors=89, p=1, weights=uniform;, score=0.779 total time=   0.6s\n"
     ]
    },
    {
     "name": "stderr",
     "output_type": "stream",
     "text": [
      "/opt/homebrew/lib/python3.10/site-packages/sklearn/neighbors/_classification.py:233: DataConversionWarning: A column-vector y was passed when a 1d array was expected. Please change the shape of y to (n_samples,), for example using ravel().\n",
      "  return self._fit(X, y)\n",
      "/opt/homebrew/lib/python3.10/site-packages/sklearn/neighbors/_classification.py:233: DataConversionWarning: A column-vector y was passed when a 1d array was expected. Please change the shape of y to (n_samples,), for example using ravel().\n",
      "  return self._fit(X, y)\n"
     ]
    },
    {
     "name": "stdout",
     "output_type": "stream",
     "text": [
      "[CV 2/5] END algorithm=ball_tree, metric=l2, n_neighbors=89, p=1, weights=distance;, score=0.774 total time=   0.6s\n",
      "[CV 4/5] END algorithm=ball_tree, metric=l2, n_neighbors=89, p=1, weights=distance;, score=0.792 total time=   0.6s\n"
     ]
    },
    {
     "name": "stderr",
     "output_type": "stream",
     "text": [
      "/opt/homebrew/lib/python3.10/site-packages/sklearn/neighbors/_classification.py:233: DataConversionWarning: A column-vector y was passed when a 1d array was expected. Please change the shape of y to (n_samples,), for example using ravel().\n",
      "  return self._fit(X, y)\n",
      "/opt/homebrew/lib/python3.10/site-packages/sklearn/neighbors/_classification.py:233: DataConversionWarning: A column-vector y was passed when a 1d array was expected. Please change the shape of y to (n_samples,), for example using ravel().\n",
      "  return self._fit(X, y)\n",
      "/opt/homebrew/lib/python3.10/site-packages/sklearn/neighbors/_classification.py:233: DataConversionWarning: A column-vector y was passed when a 1d array was expected. Please change the shape of y to (n_samples,), for example using ravel().\n",
      "  return self._fit(X, y)\n"
     ]
    },
    {
     "name": "stdout",
     "output_type": "stream",
     "text": [
      "[CV 1/5] END algorithm=ball_tree, metric=l2, n_neighbors=89, p=2, weights=uniform;, score=0.751 total time=   0.6s\n",
      "[CV 2/5] END algorithm=ball_tree, metric=l2, n_neighbors=89, p=1, weights=uniform;, score=0.761 total time=   0.6s\n",
      "[CV 3/5] END algorithm=ball_tree, metric=l2, n_neighbors=89, p=2, weights=uniform;, score=0.765 total time=   0.7s\n",
      "[CV 5/5] END algorithm=ball_tree, metric=l2, n_neighbors=89, p=2, weights=uniform;, score=0.779 total time=   0.7s\n",
      "[CV 4/5] END algorithm=ball_tree, metric=l2, n_neighbors=89, p=1, weights=uniform;, score=0.776 total time=   0.6s\n"
     ]
    },
    {
     "name": "stderr",
     "output_type": "stream",
     "text": [
      "/opt/homebrew/lib/python3.10/site-packages/sklearn/neighbors/_classification.py:233: DataConversionWarning: A column-vector y was passed when a 1d array was expected. Please change the shape of y to (n_samples,), for example using ravel().\n",
      "  return self._fit(X, y)\n",
      "/opt/homebrew/lib/python3.10/site-packages/sklearn/neighbors/_classification.py:233: DataConversionWarning: A column-vector y was passed when a 1d array was expected. Please change the shape of y to (n_samples,), for example using ravel().\n",
      "  return self._fit(X, y)\n",
      "/opt/homebrew/lib/python3.10/site-packages/sklearn/neighbors/_classification.py:233: DataConversionWarning: A column-vector y was passed when a 1d array was expected. Please change the shape of y to (n_samples,), for example using ravel().\n",
      "  return self._fit(X, y)\n",
      "/opt/homebrew/lib/python3.10/site-packages/sklearn/neighbors/_classification.py:233: DataConversionWarning: A column-vector y was passed when a 1d array was expected. Please change the shape of y to (n_samples,), for example using ravel().\n",
      "  return self._fit(X, y)\n"
     ]
    },
    {
     "name": "stdout",
     "output_type": "stream",
     "text": [
      "[CV 1/5] END algorithm=ball_tree, metric=l2, n_neighbors=89, p=1, weights=distance;, score=0.759 total time=   0.7s\n",
      "[CV 3/5] END algorithm=ball_tree, metric=l2, n_neighbors=89, p=1, weights=distance;, score=0.777 total time=   0.7s\n"
     ]
    },
    {
     "name": "stderr",
     "output_type": "stream",
     "text": [
      "/opt/homebrew/lib/python3.10/site-packages/sklearn/neighbors/_classification.py:233: DataConversionWarning: A column-vector y was passed when a 1d array was expected. Please change the shape of y to (n_samples,), for example using ravel().\n",
      "  return self._fit(X, y)\n",
      "/opt/homebrew/lib/python3.10/site-packages/sklearn/neighbors/_classification.py:233: DataConversionWarning: A column-vector y was passed when a 1d array was expected. Please change the shape of y to (n_samples,), for example using ravel().\n",
      "  return self._fit(X, y)\n"
     ]
    },
    {
     "name": "stdout",
     "output_type": "stream",
     "text": [
      "[CV 5/5] END algorithm=ball_tree, metric=l2, n_neighbors=89, p=1, weights=distance;, score=0.791 total time=   0.6s\n",
      "[CV 2/5] END algorithm=ball_tree, metric=l2, n_neighbors=89, p=2, weights=uniform;, score=0.761 total time=   0.6s\n",
      "[CV 2/5] END algorithm=ball_tree, metric=l2, n_neighbors=89, p=2, weights=distance;, score=0.774 total time=   0.6s\n",
      "[CV 1/5] END algorithm=ball_tree, metric=l2, n_neighbors=89, p=2, weights=distance;, score=0.759 total time=   0.6s\n"
     ]
    },
    {
     "name": "stderr",
     "output_type": "stream",
     "text": [
      "/opt/homebrew/lib/python3.10/site-packages/sklearn/neighbors/_classification.py:233: DataConversionWarning: A column-vector y was passed when a 1d array was expected. Please change the shape of y to (n_samples,), for example using ravel().\n",
      "  return self._fit(X, y)\n",
      "/opt/homebrew/lib/python3.10/site-packages/sklearn/neighbors/_classification.py:233: DataConversionWarning: A column-vector y was passed when a 1d array was expected. Please change the shape of y to (n_samples,), for example using ravel().\n",
      "  return self._fit(X, y)\n",
      "/opt/homebrew/lib/python3.10/site-packages/sklearn/neighbors/_classification.py:233: DataConversionWarning: A column-vector y was passed when a 1d array was expected. Please change the shape of y to (n_samples,), for example using ravel().\n",
      "  return self._fit(X, y)\n",
      "/opt/homebrew/lib/python3.10/site-packages/sklearn/neighbors/_classification.py:233: DataConversionWarning: A column-vector y was passed when a 1d array was expected. Please change the shape of y to (n_samples,), for example using ravel().\n",
      "  return self._fit(X, y)\n",
      "/opt/homebrew/lib/python3.10/site-packages/sklearn/neighbors/_classification.py:233: DataConversionWarning: A column-vector y was passed when a 1d array was expected. Please change the shape of y to (n_samples,), for example using ravel().\n",
      "  return self._fit(X, y)\n"
     ]
    },
    {
     "name": "stdout",
     "output_type": "stream",
     "text": [
      "[CV 4/5] END algorithm=ball_tree, metric=l2, n_neighbors=89, p=2, weights=uniform;, score=0.776 total time=   0.6s\n",
      "[CV 4/5] END algorithm=ball_tree, metric=l2, n_neighbors=89, p=2, weights=distance;, score=0.792 total time=   0.8s\n"
     ]
    },
    {
     "name": "stderr",
     "output_type": "stream",
     "text": [
      "/opt/homebrew/lib/python3.10/site-packages/sklearn/neighbors/_classification.py:233: DataConversionWarning: A column-vector y was passed when a 1d array was expected. Please change the shape of y to (n_samples,), for example using ravel().\n",
      "  return self._fit(X, y)\n",
      "/opt/homebrew/lib/python3.10/site-packages/sklearn/neighbors/_classification.py:233: DataConversionWarning: A column-vector y was passed when a 1d array was expected. Please change the shape of y to (n_samples,), for example using ravel().\n",
      "  return self._fit(X, y)\n"
     ]
    },
    {
     "name": "stdout",
     "output_type": "stream",
     "text": [
      "[CV 1/5] END algorithm=ball_tree, metric=manhattan, n_neighbors=89, p=1, weights=uniform;, score=0.758 total time=   0.8s\n",
      "[CV 5/5] END algorithm=ball_tree, metric=manhattan, n_neighbors=89, p=1, weights=uniform;, score=0.783 total time=   0.6s\n",
      "[CV 3/5] END algorithm=ball_tree, metric=l2, n_neighbors=89, p=2, weights=distance;, score=0.777 total time=   0.5s\n",
      "[CV 2/5] END algorithm=ball_tree, metric=manhattan, n_neighbors=89, p=1, weights=distance;, score=0.774 total time=   0.6s\n",
      "[CV 3/5] END algorithm=ball_tree, metric=manhattan, n_neighbors=89, p=1, weights=uniform;, score=0.781 total time=   0.8s\n"
     ]
    },
    {
     "name": "stderr",
     "output_type": "stream",
     "text": [
      "/opt/homebrew/lib/python3.10/site-packages/sklearn/neighbors/_classification.py:233: DataConversionWarning: A column-vector y was passed when a 1d array was expected. Please change the shape of y to (n_samples,), for example using ravel().\n",
      "  return self._fit(X, y)\n",
      "/opt/homebrew/lib/python3.10/site-packages/sklearn/neighbors/_classification.py:233: DataConversionWarning: A column-vector y was passed when a 1d array was expected. Please change the shape of y to (n_samples,), for example using ravel().\n",
      "  return self._fit(X, y)\n",
      "/opt/homebrew/lib/python3.10/site-packages/sklearn/neighbors/_classification.py:233: DataConversionWarning: A column-vector y was passed when a 1d array was expected. Please change the shape of y to (n_samples,), for example using ravel().\n",
      "  return self._fit(X, y)\n",
      "/opt/homebrew/lib/python3.10/site-packages/sklearn/neighbors/_classification.py:233: DataConversionWarning: A column-vector y was passed when a 1d array was expected. Please change the shape of y to (n_samples,), for example using ravel().\n",
      "  return self._fit(X, y)\n"
     ]
    },
    {
     "name": "stdout",
     "output_type": "stream",
     "text": [
      "[CV 5/5] END algorithm=ball_tree, metric=manhattan, n_neighbors=89, p=1, weights=distance;, score=0.791 total time=   0.6s\n",
      "[CV 5/5] END algorithm=ball_tree, metric=l2, n_neighbors=89, p=2, weights=distance;, score=0.791 total time=   0.5s\n"
     ]
    },
    {
     "name": "stderr",
     "output_type": "stream",
     "text": [
      "/opt/homebrew/lib/python3.10/site-packages/sklearn/neighbors/_classification.py:233: DataConversionWarning: A column-vector y was passed when a 1d array was expected. Please change the shape of y to (n_samples,), for example using ravel().\n",
      "  return self._fit(X, y)\n",
      "/opt/homebrew/lib/python3.10/site-packages/sklearn/neighbors/_classification.py:233: DataConversionWarning: A column-vector y was passed when a 1d array was expected. Please change the shape of y to (n_samples,), for example using ravel().\n",
      "  return self._fit(X, y)\n"
     ]
    },
    {
     "name": "stdout",
     "output_type": "stream",
     "text": [
      "[CV 4/5] END algorithm=ball_tree, metric=manhattan, n_neighbors=89, p=1, weights=distance;, score=0.787 total time=   0.9s\n",
      "[CV 2/5] END algorithm=ball_tree, metric=manhattan, n_neighbors=89, p=1, weights=uniform;, score=0.763 total time=   0.5s\n",
      "[CV 1/5] END algorithm=ball_tree, metric=manhattan, n_neighbors=89, p=1, weights=distance;, score=0.767 total time=   0.6s\n"
     ]
    },
    {
     "name": "stderr",
     "output_type": "stream",
     "text": [
      "/opt/homebrew/lib/python3.10/site-packages/sklearn/neighbors/_classification.py:233: DataConversionWarning: A column-vector y was passed when a 1d array was expected. Please change the shape of y to (n_samples,), for example using ravel().\n",
      "  return self._fit(X, y)\n",
      "/opt/homebrew/lib/python3.10/site-packages/sklearn/neighbors/_classification.py:233: DataConversionWarning: A column-vector y was passed when a 1d array was expected. Please change the shape of y to (n_samples,), for example using ravel().\n",
      "  return self._fit(X, y)\n",
      "/opt/homebrew/lib/python3.10/site-packages/sklearn/neighbors/_classification.py:233: DataConversionWarning: A column-vector y was passed when a 1d array was expected. Please change the shape of y to (n_samples,), for example using ravel().\n",
      "  return self._fit(X, y)\n"
     ]
    },
    {
     "name": "stdout",
     "output_type": "stream",
     "text": [
      "[CV 3/5] END algorithm=ball_tree, metric=manhattan, n_neighbors=89, p=1, weights=distance;, score=0.787 total time=   0.6s\n",
      "[CV 4/5] END algorithm=ball_tree, metric=manhattan, n_neighbors=89, p=1, weights=uniform;, score=0.777 total time=   0.6s\n",
      "[CV 2/5] END algorithm=ball_tree, metric=manhattan, n_neighbors=89, p=2, weights=uniform;, score=0.763 total time=   0.6s\n"
     ]
    },
    {
     "name": "stderr",
     "output_type": "stream",
     "text": [
      "/opt/homebrew/lib/python3.10/site-packages/sklearn/neighbors/_classification.py:233: DataConversionWarning: A column-vector y was passed when a 1d array was expected. Please change the shape of y to (n_samples,), for example using ravel().\n",
      "  return self._fit(X, y)\n",
      "/opt/homebrew/lib/python3.10/site-packages/sklearn/neighbors/_classification.py:233: DataConversionWarning: A column-vector y was passed when a 1d array was expected. Please change the shape of y to (n_samples,), for example using ravel().\n",
      "  return self._fit(X, y)\n",
      "/opt/homebrew/lib/python3.10/site-packages/sklearn/neighbors/_classification.py:233: DataConversionWarning: A column-vector y was passed when a 1d array was expected. Please change the shape of y to (n_samples,), for example using ravel().\n",
      "  return self._fit(X, y)\n"
     ]
    },
    {
     "name": "stdout",
     "output_type": "stream",
     "text": [
      "[CV 1/5] END algorithm=ball_tree, metric=manhattan, n_neighbors=89, p=2, weights=uniform;, score=0.758 total time=   0.9s\n",
      "[CV 3/5] END algorithm=ball_tree, metric=manhattan, n_neighbors=89, p=2, weights=uniform;, score=0.781 total time=   0.7s\n",
      "[CV 1/5] END algorithm=ball_tree, metric=nan_euclidean, n_neighbors=89, p=1, weights=uniform;, score=nan total time=   0.0s\n",
      "[CV 2/5] END algorithm=ball_tree, metric=nan_euclidean, n_neighbors=89, p=1, weights=uniform;, score=nan total time=   0.0s\n",
      "[CV 3/5] END algorithm=ball_tree, metric=nan_euclidean, n_neighbors=89, p=1, weights=uniform;, score=nan total time=   0.0s\n",
      "[CV 4/5] END algorithm=ball_tree, metric=nan_euclidean, n_neighbors=89, p=1, weights=uniform;, score=nan total time=   0.0s\n",
      "[CV 5/5] END algorithm=ball_tree, metric=nan_euclidean, n_neighbors=89, p=1, weights=uniform;, score=nan total time=   0.0s\n",
      "[CV 1/5] END algorithm=ball_tree, metric=nan_euclidean, n_neighbors=89, p=1, weights=distance;, score=nan total time=   0.0s\n",
      "[CV 2/5] END algorithm=ball_tree, metric=nan_euclidean, n_neighbors=89, p=1, weights=distance;, score=nan total time=   0.0s\n",
      "[CV 3/5] END algorithm=ball_tree, metric=nan_euclidean, n_neighbors=89, p=1, weights=distance;, score=nan total time=   0.0s\n",
      "[CV 4/5] END algorithm=ball_tree, metric=nan_euclidean, n_neighbors=89, p=1, weights=distance;, score=nan total time=   0.0s\n",
      "[CV 5/5] END algorithm=ball_tree, metric=manhattan, n_neighbors=89, p=2, weights=uniform;, score=0.783 total time=   0.6s\n",
      "[CV 5/5] END algorithm=ball_tree, metric=nan_euclidean, n_neighbors=89, p=1, weights=distance;, score=nan total time=   0.0s\n",
      "[CV 1/5] END algorithm=ball_tree, metric=nan_euclidean, n_neighbors=89, p=2, weights=uniform;, score=nan total time=   0.0s\n",
      "[CV 2/5] END algorithm=ball_tree, metric=nan_euclidean, n_neighbors=89, p=2, weights=uniform;, score=nan total time=   0.0s\n",
      "[CV 3/5] END algorithm=ball_tree, metric=nan_euclidean, n_neighbors=89, p=2, weights=uniform;, score=nan total time=   0.0s\n",
      "[CV 4/5] END algorithm=ball_tree, metric=nan_euclidean, n_neighbors=89, p=2, weights=uniform;, score=nan total time=   0.0s\n"
     ]
    },
    {
     "name": "stderr",
     "output_type": "stream",
     "text": [
      "/opt/homebrew/lib/python3.10/site-packages/sklearn/neighbors/_classification.py:233: DataConversionWarning: A column-vector y was passed when a 1d array was expected. Please change the shape of y to (n_samples,), for example using ravel().\n",
      "  return self._fit(X, y)\n",
      "/opt/homebrew/lib/python3.10/site-packages/sklearn/neighbors/_classification.py:233: DataConversionWarning: A column-vector y was passed when a 1d array was expected. Please change the shape of y to (n_samples,), for example using ravel().\n",
      "  return self._fit(X, y)\n",
      "/opt/homebrew/lib/python3.10/site-packages/sklearn/neighbors/_classification.py:233: DataConversionWarning: A column-vector y was passed when a 1d array was expected. Please change the shape of y to (n_samples,), for example using ravel().\n",
      "  return self._fit(X, y)\n",
      "/opt/homebrew/lib/python3.10/site-packages/sklearn/neighbors/_classification.py:233: DataConversionWarning: A column-vector y was passed when a 1d array was expected. Please change the shape of y to (n_samples,), for example using ravel().\n",
      "  return self._fit(X, y)\n",
      "/opt/homebrew/lib/python3.10/site-packages/sklearn/neighbors/_classification.py:233: DataConversionWarning: A column-vector y was passed when a 1d array was expected. Please change the shape of y to (n_samples,), for example using ravel().\n",
      "  return self._fit(X, y)\n",
      "/opt/homebrew/lib/python3.10/site-packages/sklearn/neighbors/_classification.py:233: DataConversionWarning: A column-vector y was passed when a 1d array was expected. Please change the shape of y to (n_samples,), for example using ravel().\n",
      "  return self._fit(X, y)\n",
      "/opt/homebrew/lib/python3.10/site-packages/sklearn/neighbors/_classification.py:233: DataConversionWarning: A column-vector y was passed when a 1d array was expected. Please change the shape of y to (n_samples,), for example using ravel().\n",
      "  return self._fit(X, y)\n",
      "/opt/homebrew/lib/python3.10/site-packages/sklearn/neighbors/_classification.py:233: DataConversionWarning: A column-vector y was passed when a 1d array was expected. Please change the shape of y to (n_samples,), for example using ravel().\n",
      "  return self._fit(X, y)\n",
      "/opt/homebrew/lib/python3.10/site-packages/sklearn/neighbors/_classification.py:233: DataConversionWarning: A column-vector y was passed when a 1d array was expected. Please change the shape of y to (n_samples,), for example using ravel().\n",
      "  return self._fit(X, y)\n",
      "/opt/homebrew/lib/python3.10/site-packages/sklearn/neighbors/_classification.py:233: DataConversionWarning: A column-vector y was passed when a 1d array was expected. Please change the shape of y to (n_samples,), for example using ravel().\n",
      "  return self._fit(X, y)\n",
      "/opt/homebrew/lib/python3.10/site-packages/sklearn/neighbors/_classification.py:233: DataConversionWarning: A column-vector y was passed when a 1d array was expected. Please change the shape of y to (n_samples,), for example using ravel().\n",
      "  return self._fit(X, y)\n",
      "/opt/homebrew/lib/python3.10/site-packages/sklearn/neighbors/_classification.py:233: DataConversionWarning: A column-vector y was passed when a 1d array was expected. Please change the shape of y to (n_samples,), for example using ravel().\n",
      "  return self._fit(X, y)\n",
      "/opt/homebrew/lib/python3.10/site-packages/sklearn/neighbors/_classification.py:233: DataConversionWarning: A column-vector y was passed when a 1d array was expected. Please change the shape of y to (n_samples,), for example using ravel().\n",
      "  return self._fit(X, y)\n",
      "/opt/homebrew/lib/python3.10/site-packages/sklearn/neighbors/_classification.py:233: DataConversionWarning: A column-vector y was passed when a 1d array was expected. Please change the shape of y to (n_samples,), for example using ravel().\n",
      "  return self._fit(X, y)\n",
      "/opt/homebrew/lib/python3.10/site-packages/sklearn/neighbors/_classification.py:233: DataConversionWarning: A column-vector y was passed when a 1d array was expected. Please change the shape of y to (n_samples,), for example using ravel().\n",
      "  return self._fit(X, y)\n",
      "/opt/homebrew/lib/python3.10/site-packages/sklearn/neighbors/_classification.py:233: DataConversionWarning: A column-vector y was passed when a 1d array was expected. Please change the shape of y to (n_samples,), for example using ravel().\n",
      "  return self._fit(X, y)\n",
      "/opt/homebrew/lib/python3.10/site-packages/sklearn/neighbors/_classification.py:233: DataConversionWarning: A column-vector y was passed when a 1d array was expected. Please change the shape of y to (n_samples,), for example using ravel().\n",
      "  return self._fit(X, y)\n"
     ]
    },
    {
     "name": "stdout",
     "output_type": "stream",
     "text": [
      "[CV 4/5] END algorithm=ball_tree, metric=manhattan, n_neighbors=89, p=2, weights=uniform;, score=0.777 total time=   0.7s\n",
      "[CV 5/5] END algorithm=ball_tree, metric=nan_euclidean, n_neighbors=89, p=2, weights=uniform;, score=nan total time=   0.0s\n",
      "[CV 1/5] END algorithm=ball_tree, metric=nan_euclidean, n_neighbors=89, p=2, weights=distance;, score=nan total time=   0.0s\n",
      "[CV 2/5] END algorithm=ball_tree, metric=nan_euclidean, n_neighbors=89, p=2, weights=distance;, score=nan total time=   0.0s\n",
      "[CV 3/5] END algorithm=ball_tree, metric=nan_euclidean, n_neighbors=89, p=2, weights=distance;, score=nan total time=   0.0s\n",
      "[CV 4/5] END algorithm=ball_tree, metric=nan_euclidean, n_neighbors=89, p=2, weights=distance;, score=nan total time=   0.0s\n",
      "[CV 5/5] END algorithm=ball_tree, metric=nan_euclidean, n_neighbors=89, p=2, weights=distance;, score=nan total time=   0.0s\n",
      "[CV 2/5] END algorithm=ball_tree, metric=manhattan, n_neighbors=89, p=2, weights=distance;, score=0.774 total time=   0.6s\n"
     ]
    },
    {
     "name": "stderr",
     "output_type": "stream",
     "text": [
      "/opt/homebrew/lib/python3.10/site-packages/sklearn/neighbors/_classification.py:233: DataConversionWarning: A column-vector y was passed when a 1d array was expected. Please change the shape of y to (n_samples,), for example using ravel().\n",
      "  return self._fit(X, y)\n",
      "/opt/homebrew/lib/python3.10/site-packages/sklearn/neighbors/_classification.py:233: DataConversionWarning: A column-vector y was passed when a 1d array was expected. Please change the shape of y to (n_samples,), for example using ravel().\n",
      "  return self._fit(X, y)\n",
      "/opt/homebrew/lib/python3.10/site-packages/sklearn/neighbors/_classification.py:233: DataConversionWarning: A column-vector y was passed when a 1d array was expected. Please change the shape of y to (n_samples,), for example using ravel().\n",
      "  return self._fit(X, y)\n",
      "/opt/homebrew/lib/python3.10/site-packages/sklearn/neighbors/_classification.py:233: DataConversionWarning: A column-vector y was passed when a 1d array was expected. Please change the shape of y to (n_samples,), for example using ravel().\n",
      "  return self._fit(X, y)\n",
      "/opt/homebrew/lib/python3.10/site-packages/sklearn/neighbors/_classification.py:233: DataConversionWarning: A column-vector y was passed when a 1d array was expected. Please change the shape of y to (n_samples,), for example using ravel().\n",
      "  return self._fit(X, y)\n",
      "/opt/homebrew/lib/python3.10/site-packages/sklearn/neighbors/_classification.py:233: DataConversionWarning: A column-vector y was passed when a 1d array was expected. Please change the shape of y to (n_samples,), for example using ravel().\n",
      "  return self._fit(X, y)\n",
      "/opt/homebrew/lib/python3.10/site-packages/sklearn/neighbors/_classification.py:233: DataConversionWarning: A column-vector y was passed when a 1d array was expected. Please change the shape of y to (n_samples,), for example using ravel().\n",
      "  return self._fit(X, y)\n",
      "/opt/homebrew/lib/python3.10/site-packages/sklearn/neighbors/_classification.py:233: DataConversionWarning: A column-vector y was passed when a 1d array was expected. Please change the shape of y to (n_samples,), for example using ravel().\n",
      "  return self._fit(X, y)\n",
      "/opt/homebrew/lib/python3.10/site-packages/sklearn/neighbors/_classification.py:233: DataConversionWarning: A column-vector y was passed when a 1d array was expected. Please change the shape of y to (n_samples,), for example using ravel().\n",
      "  return self._fit(X, y)\n",
      "/opt/homebrew/lib/python3.10/site-packages/sklearn/neighbors/_classification.py:233: DataConversionWarning: A column-vector y was passed when a 1d array was expected. Please change the shape of y to (n_samples,), for example using ravel().\n",
      "  return self._fit(X, y)\n"
     ]
    },
    {
     "name": "stdout",
     "output_type": "stream",
     "text": [
      "[CV 3/5] END algorithm=ball_tree, metric=manhattan, n_neighbors=89, p=2, weights=distance;, score=0.787 total time=   0.6s\n",
      "[CV 1/5] END algorithm=ball_tree, metric=manhattan, n_neighbors=89, p=2, weights=distance;, score=0.767 total time=   0.7s\n",
      "[CV 4/5] END algorithm=ball_tree, metric=manhattan, n_neighbors=89, p=2, weights=distance;, score=0.787 total time=   0.6s\n"
     ]
    },
    {
     "name": "stderr",
     "output_type": "stream",
     "text": [
      "/opt/homebrew/lib/python3.10/site-packages/sklearn/neighbors/_classification.py:233: DataConversionWarning: A column-vector y was passed when a 1d array was expected. Please change the shape of y to (n_samples,), for example using ravel().\n",
      "  return self._fit(X, y)\n",
      "/opt/homebrew/lib/python3.10/site-packages/sklearn/neighbors/_classification.py:233: DataConversionWarning: A column-vector y was passed when a 1d array was expected. Please change the shape of y to (n_samples,), for example using ravel().\n",
      "  return self._fit(X, y)\n"
     ]
    },
    {
     "name": "stdout",
     "output_type": "stream",
     "text": [
      "[CV 5/5] END algorithm=ball_tree, metric=manhattan, n_neighbors=89, p=2, weights=distance;, score=0.791 total time=   0.7s\n",
      "[CV 1/5] END algorithm=kd_tree, metric=cityblock, n_neighbors=89, p=1, weights=uniform;, score=0.758 total time=   0.7s\n",
      "[CV 3/5] END algorithm=kd_tree, metric=cityblock, n_neighbors=89, p=1, weights=uniform;, score=0.781 total time=   0.8s\n",
      "[CV 2/5] END algorithm=kd_tree, metric=cityblock, n_neighbors=89, p=1, weights=uniform;, score=0.763 total time=   0.8s\n",
      "[CV 4/5] END algorithm=kd_tree, metric=cityblock, n_neighbors=89, p=1, weights=uniform;, score=0.777 total time=   0.8s\n",
      "[CV 1/5] END algorithm=kd_tree, metric=cityblock, n_neighbors=89, p=1, weights=distance;, score=0.767 total time=   0.8s\n"
     ]
    },
    {
     "name": "stderr",
     "output_type": "stream",
     "text": [
      "/opt/homebrew/lib/python3.10/site-packages/sklearn/neighbors/_classification.py:233: DataConversionWarning: A column-vector y was passed when a 1d array was expected. Please change the shape of y to (n_samples,), for example using ravel().\n",
      "  return self._fit(X, y)\n",
      "/opt/homebrew/lib/python3.10/site-packages/sklearn/neighbors/_classification.py:233: DataConversionWarning: A column-vector y was passed when a 1d array was expected. Please change the shape of y to (n_samples,), for example using ravel().\n",
      "  return self._fit(X, y)\n",
      "/opt/homebrew/lib/python3.10/site-packages/sklearn/neighbors/_classification.py:233: DataConversionWarning: A column-vector y was passed when a 1d array was expected. Please change the shape of y to (n_samples,), for example using ravel().\n",
      "  return self._fit(X, y)\n",
      "/opt/homebrew/lib/python3.10/site-packages/sklearn/neighbors/_classification.py:233: DataConversionWarning: A column-vector y was passed when a 1d array was expected. Please change the shape of y to (n_samples,), for example using ravel().\n",
      "  return self._fit(X, y)\n",
      "/opt/homebrew/lib/python3.10/site-packages/sklearn/neighbors/_classification.py:233: DataConversionWarning: A column-vector y was passed when a 1d array was expected. Please change the shape of y to (n_samples,), for example using ravel().\n",
      "  return self._fit(X, y)\n"
     ]
    },
    {
     "name": "stdout",
     "output_type": "stream",
     "text": [
      "[CV 5/5] END algorithm=kd_tree, metric=cityblock, n_neighbors=89, p=1, weights=uniform;, score=0.783 total time=   0.8s\n",
      "[CV 2/5] END algorithm=kd_tree, metric=cityblock, n_neighbors=89, p=1, weights=distance;, score=0.774 total time=   0.8s\n"
     ]
    },
    {
     "name": "stderr",
     "output_type": "stream",
     "text": [
      "/opt/homebrew/lib/python3.10/site-packages/sklearn/neighbors/_classification.py:233: DataConversionWarning: A column-vector y was passed when a 1d array was expected. Please change the shape of y to (n_samples,), for example using ravel().\n",
      "  return self._fit(X, y)\n",
      "/opt/homebrew/lib/python3.10/site-packages/sklearn/neighbors/_classification.py:233: DataConversionWarning: A column-vector y was passed when a 1d array was expected. Please change the shape of y to (n_samples,), for example using ravel().\n",
      "  return self._fit(X, y)\n"
     ]
    },
    {
     "name": "stdout",
     "output_type": "stream",
     "text": [
      "[CV 3/5] END algorithm=kd_tree, metric=cityblock, n_neighbors=89, p=1, weights=distance;, score=0.787 total time=   0.8s\n"
     ]
    },
    {
     "name": "stderr",
     "output_type": "stream",
     "text": [
      "/opt/homebrew/lib/python3.10/site-packages/sklearn/neighbors/_classification.py:233: DataConversionWarning: A column-vector y was passed when a 1d array was expected. Please change the shape of y to (n_samples,), for example using ravel().\n",
      "  return self._fit(X, y)\n"
     ]
    },
    {
     "name": "stdout",
     "output_type": "stream",
     "text": [
      "[CV 1/5] END algorithm=kd_tree, metric=cityblock, n_neighbors=89, p=2, weights=uniform;, score=0.758 total time=   0.7s\n",
      "[CV 4/5] END algorithm=kd_tree, metric=cityblock, n_neighbors=89, p=1, weights=distance;, score=0.787 total time=   0.8s\n",
      "[CV 2/5] END algorithm=kd_tree, metric=cityblock, n_neighbors=89, p=2, weights=uniform;, score=0.763 total time=   0.8s\n",
      "[CV 5/5] END algorithm=kd_tree, metric=cityblock, n_neighbors=89, p=1, weights=distance;, score=0.791 total time=   0.9s\n",
      "[CV 4/5] END algorithm=kd_tree, metric=cityblock, n_neighbors=89, p=2, weights=uniform;, score=0.777 total time=   0.8s\n"
     ]
    },
    {
     "name": "stderr",
     "output_type": "stream",
     "text": [
      "/opt/homebrew/lib/python3.10/site-packages/sklearn/neighbors/_classification.py:233: DataConversionWarning: A column-vector y was passed when a 1d array was expected. Please change the shape of y to (n_samples,), for example using ravel().\n",
      "  return self._fit(X, y)\n",
      "/opt/homebrew/lib/python3.10/site-packages/sklearn/neighbors/_classification.py:233: DataConversionWarning: A column-vector y was passed when a 1d array was expected. Please change the shape of y to (n_samples,), for example using ravel().\n",
      "  return self._fit(X, y)\n",
      "/opt/homebrew/lib/python3.10/site-packages/sklearn/neighbors/_classification.py:233: DataConversionWarning: A column-vector y was passed when a 1d array was expected. Please change the shape of y to (n_samples,), for example using ravel().\n",
      "  return self._fit(X, y)\n",
      "/opt/homebrew/lib/python3.10/site-packages/sklearn/neighbors/_classification.py:233: DataConversionWarning: A column-vector y was passed when a 1d array was expected. Please change the shape of y to (n_samples,), for example using ravel().\n",
      "  return self._fit(X, y)\n",
      "/opt/homebrew/lib/python3.10/site-packages/sklearn/neighbors/_classification.py:233: DataConversionWarning: A column-vector y was passed when a 1d array was expected. Please change the shape of y to (n_samples,), for example using ravel().\n",
      "  return self._fit(X, y)\n"
     ]
    },
    {
     "name": "stdout",
     "output_type": "stream",
     "text": [
      "[CV 1/5] END algorithm=kd_tree, metric=cosine, n_neighbors=89, p=1, weights=uniform;, score=nan total time=   0.0s\n",
      "[CV 2/5] END algorithm=kd_tree, metric=cosine, n_neighbors=89, p=1, weights=uniform;, score=nan total time=   0.0s\n",
      "[CV 3/5] END algorithm=kd_tree, metric=cityblock, n_neighbors=89, p=2, weights=uniform;, score=0.781 total time=   0.8s\n",
      "[CV 3/5] END algorithm=kd_tree, metric=cosine, n_neighbors=89, p=1, weights=uniform;, score=nan total time=   0.0s\n",
      "[CV 4/5] END algorithm=kd_tree, metric=cosine, n_neighbors=89, p=1, weights=uniform;, score=nan total time=   0.0s\n",
      "[CV 5/5] END algorithm=kd_tree, metric=cosine, n_neighbors=89, p=1, weights=uniform;, score=nan total time=   0.0s\n",
      "[CV 1/5] END algorithm=kd_tree, metric=cosine, n_neighbors=89, p=1, weights=distance;, score=nan total time=   0.0s\n",
      "[CV 2/5] END algorithm=kd_tree, metric=cosine, n_neighbors=89, p=1, weights=distance;, score=nan total time=   0.0s\n",
      "[CV 4/5] END algorithm=kd_tree, metric=cosine, n_neighbors=89, p=1, weights=distance;, score=nan total time=   0.0s\n",
      "[CV 3/5] END algorithm=kd_tree, metric=cosine, n_neighbors=89, p=1, weights=distance;, score=nan total time=   0.0s\n",
      "[CV 5/5] END algorithm=kd_tree, metric=cosine, n_neighbors=89, p=1, weights=distance;, score=nan total time=   0.0s\n",
      "[CV 1/5] END algorithm=kd_tree, metric=cosine, n_neighbors=89, p=2, weights=uniform;, score=nan total time=   0.0s\n",
      "[CV 2/5] END algorithm=kd_tree, metric=cosine, n_neighbors=89, p=2, weights=uniform;, score=nan total time=   0.0s\n",
      "[CV 3/5] END algorithm=kd_tree, metric=cosine, n_neighbors=89, p=2, weights=uniform;, score=nan total time=   0.0s\n",
      "[CV 5/5] END algorithm=kd_tree, metric=cityblock, n_neighbors=89, p=2, weights=uniform;, score=0.783 total time=   0.8s\n",
      "[CV 4/5] END algorithm=kd_tree, metric=cosine, n_neighbors=89, p=2, weights=uniform;, score=nan total time=   0.0s\n",
      "[CV 5/5] END algorithm=kd_tree, metric=cosine, n_neighbors=89, p=2, weights=uniform;, score=nan total time=   0.0s\n",
      "[CV 1/5] END algorithm=kd_tree, metric=cosine, n_neighbors=89, p=2, weights=distance;, score=nan total time=   0.0s\n",
      "[CV 3/5] END algorithm=kd_tree, metric=cosine, n_neighbors=89, p=2, weights=distance;, score=nan total time=   0.0s\n",
      "[CV 4/5] END algorithm=kd_tree, metric=cosine, n_neighbors=89, p=2, weights=distance;, score=nan total time=   0.0s\n",
      "[CV 2/5] END algorithm=kd_tree, metric=cosine, n_neighbors=89, p=2, weights=distance;, score=nan total time=   0.0s\n",
      "[CV 5/5] END algorithm=kd_tree, metric=cosine, n_neighbors=89, p=2, weights=distance;, score=nan total time=   0.0s\n"
     ]
    },
    {
     "name": "stderr",
     "output_type": "stream",
     "text": [
      "/opt/homebrew/lib/python3.10/site-packages/sklearn/neighbors/_classification.py:233: DataConversionWarning: A column-vector y was passed when a 1d array was expected. Please change the shape of y to (n_samples,), for example using ravel().\n",
      "  return self._fit(X, y)\n",
      "/opt/homebrew/lib/python3.10/site-packages/sklearn/neighbors/_classification.py:233: DataConversionWarning: A column-vector y was passed when a 1d array was expected. Please change the shape of y to (n_samples,), for example using ravel().\n",
      "  return self._fit(X, y)\n",
      "/opt/homebrew/lib/python3.10/site-packages/sklearn/neighbors/_classification.py:233: DataConversionWarning: A column-vector y was passed when a 1d array was expected. Please change the shape of y to (n_samples,), for example using ravel().\n",
      "  return self._fit(X, y)\n",
      "/opt/homebrew/lib/python3.10/site-packages/sklearn/neighbors/_classification.py:233: DataConversionWarning: A column-vector y was passed when a 1d array was expected. Please change the shape of y to (n_samples,), for example using ravel().\n",
      "  return self._fit(X, y)\n",
      "/opt/homebrew/lib/python3.10/site-packages/sklearn/neighbors/_classification.py:233: DataConversionWarning: A column-vector y was passed when a 1d array was expected. Please change the shape of y to (n_samples,), for example using ravel().\n",
      "  return self._fit(X, y)\n",
      "/opt/homebrew/lib/python3.10/site-packages/sklearn/neighbors/_classification.py:233: DataConversionWarning: A column-vector y was passed when a 1d array was expected. Please change the shape of y to (n_samples,), for example using ravel().\n",
      "  return self._fit(X, y)\n",
      "/opt/homebrew/lib/python3.10/site-packages/sklearn/neighbors/_classification.py:233: DataConversionWarning: A column-vector y was passed when a 1d array was expected. Please change the shape of y to (n_samples,), for example using ravel().\n",
      "  return self._fit(X, y)\n",
      "/opt/homebrew/lib/python3.10/site-packages/sklearn/neighbors/_classification.py:233: DataConversionWarning: A column-vector y was passed when a 1d array was expected. Please change the shape of y to (n_samples,), for example using ravel().\n",
      "  return self._fit(X, y)\n",
      "/opt/homebrew/lib/python3.10/site-packages/sklearn/neighbors/_classification.py:233: DataConversionWarning: A column-vector y was passed when a 1d array was expected. Please change the shape of y to (n_samples,), for example using ravel().\n",
      "  return self._fit(X, y)\n",
      "/opt/homebrew/lib/python3.10/site-packages/sklearn/neighbors/_classification.py:233: DataConversionWarning: A column-vector y was passed when a 1d array was expected. Please change the shape of y to (n_samples,), for example using ravel().\n",
      "  return self._fit(X, y)\n",
      "/opt/homebrew/lib/python3.10/site-packages/sklearn/neighbors/_classification.py:233: DataConversionWarning: A column-vector y was passed when a 1d array was expected. Please change the shape of y to (n_samples,), for example using ravel().\n",
      "  return self._fit(X, y)\n",
      "/opt/homebrew/lib/python3.10/site-packages/sklearn/neighbors/_classification.py:233: DataConversionWarning: A column-vector y was passed when a 1d array was expected. Please change the shape of y to (n_samples,), for example using ravel().\n",
      "  return self._fit(X, y)\n",
      "/opt/homebrew/lib/python3.10/site-packages/sklearn/neighbors/_classification.py:233: DataConversionWarning: A column-vector y was passed when a 1d array was expected. Please change the shape of y to (n_samples,), for example using ravel().\n",
      "  return self._fit(X, y)\n",
      "/opt/homebrew/lib/python3.10/site-packages/sklearn/neighbors/_classification.py:233: DataConversionWarning: A column-vector y was passed when a 1d array was expected. Please change the shape of y to (n_samples,), for example using ravel().\n",
      "  return self._fit(X, y)\n",
      "/opt/homebrew/lib/python3.10/site-packages/sklearn/neighbors/_classification.py:233: DataConversionWarning: A column-vector y was passed when a 1d array was expected. Please change the shape of y to (n_samples,), for example using ravel().\n",
      "  return self._fit(X, y)\n",
      "/opt/homebrew/lib/python3.10/site-packages/sklearn/neighbors/_classification.py:233: DataConversionWarning: A column-vector y was passed when a 1d array was expected. Please change the shape of y to (n_samples,), for example using ravel().\n",
      "  return self._fit(X, y)\n",
      "/opt/homebrew/lib/python3.10/site-packages/sklearn/neighbors/_classification.py:233: DataConversionWarning: A column-vector y was passed when a 1d array was expected. Please change the shape of y to (n_samples,), for example using ravel().\n",
      "  return self._fit(X, y)\n",
      "/opt/homebrew/lib/python3.10/site-packages/sklearn/neighbors/_classification.py:233: DataConversionWarning: A column-vector y was passed when a 1d array was expected. Please change the shape of y to (n_samples,), for example using ravel().\n",
      "  return self._fit(X, y)\n",
      "/opt/homebrew/lib/python3.10/site-packages/sklearn/neighbors/_classification.py:233: DataConversionWarning: A column-vector y was passed when a 1d array was expected. Please change the shape of y to (n_samples,), for example using ravel().\n",
      "  return self._fit(X, y)\n",
      "/opt/homebrew/lib/python3.10/site-packages/sklearn/neighbors/_classification.py:233: DataConversionWarning: A column-vector y was passed when a 1d array was expected. Please change the shape of y to (n_samples,), for example using ravel().\n",
      "  return self._fit(X, y)\n",
      "/opt/homebrew/lib/python3.10/site-packages/sklearn/neighbors/_classification.py:233: DataConversionWarning: A column-vector y was passed when a 1d array was expected. Please change the shape of y to (n_samples,), for example using ravel().\n",
      "  return self._fit(X, y)\n",
      "/opt/homebrew/lib/python3.10/site-packages/sklearn/neighbors/_classification.py:233: DataConversionWarning: A column-vector y was passed when a 1d array was expected. Please change the shape of y to (n_samples,), for example using ravel().\n",
      "  return self._fit(X, y)\n"
     ]
    },
    {
     "name": "stdout",
     "output_type": "stream",
     "text": [
      "[CV 1/5] END algorithm=kd_tree, metric=cityblock, n_neighbors=89, p=2, weights=distance;, score=0.767 total time=   0.8s\n",
      "[CV 2/5] END algorithm=kd_tree, metric=cityblock, n_neighbors=89, p=2, weights=distance;, score=0.774 total time=   0.6s\n"
     ]
    },
    {
     "name": "stderr",
     "output_type": "stream",
     "text": [
      "/opt/homebrew/lib/python3.10/site-packages/sklearn/neighbors/_classification.py:233: DataConversionWarning: A column-vector y was passed when a 1d array was expected. Please change the shape of y to (n_samples,), for example using ravel().\n",
      "  return self._fit(X, y)\n",
      "/opt/homebrew/lib/python3.10/site-packages/sklearn/neighbors/_classification.py:233: DataConversionWarning: A column-vector y was passed when a 1d array was expected. Please change the shape of y to (n_samples,), for example using ravel().\n",
      "  return self._fit(X, y)\n"
     ]
    },
    {
     "name": "stdout",
     "output_type": "stream",
     "text": [
      "[CV 4/5] END algorithm=kd_tree, metric=cityblock, n_neighbors=89, p=2, weights=distance;, score=0.787 total time=   0.8s\n",
      "[CV 3/5] END algorithm=kd_tree, metric=cityblock, n_neighbors=89, p=2, weights=distance;, score=0.787 total time=   0.8s\n",
      "[CV 5/5] END algorithm=kd_tree, metric=cityblock, n_neighbors=89, p=2, weights=distance;, score=0.791 total time=   0.8s\n"
     ]
    },
    {
     "name": "stderr",
     "output_type": "stream",
     "text": [
      "/opt/homebrew/lib/python3.10/site-packages/sklearn/neighbors/_classification.py:233: DataConversionWarning: A column-vector y was passed when a 1d array was expected. Please change the shape of y to (n_samples,), for example using ravel().\n",
      "  return self._fit(X, y)\n",
      "/opt/homebrew/lib/python3.10/site-packages/sklearn/neighbors/_classification.py:233: DataConversionWarning: A column-vector y was passed when a 1d array was expected. Please change the shape of y to (n_samples,), for example using ravel().\n",
      "  return self._fit(X, y)\n",
      "/opt/homebrew/lib/python3.10/site-packages/sklearn/neighbors/_classification.py:233: DataConversionWarning: A column-vector y was passed when a 1d array was expected. Please change the shape of y to (n_samples,), for example using ravel().\n",
      "  return self._fit(X, y)\n"
     ]
    },
    {
     "name": "stdout",
     "output_type": "stream",
     "text": [
      "[CV 2/5] END algorithm=kd_tree, metric=euclidean, n_neighbors=89, p=1, weights=uniform;, score=0.761 total time=   0.7s\n",
      "[CV 1/5] END algorithm=kd_tree, metric=euclidean, n_neighbors=89, p=1, weights=uniform;, score=0.751 total time=   0.8s\n",
      "[CV 3/5] END algorithm=kd_tree, metric=euclidean, n_neighbors=89, p=1, weights=uniform;, score=0.765 total time=   0.8s\n",
      "[CV 4/5] END algorithm=kd_tree, metric=euclidean, n_neighbors=89, p=1, weights=uniform;, score=0.776 total time=   0.7s\n"
     ]
    },
    {
     "name": "stderr",
     "output_type": "stream",
     "text": [
      "/opt/homebrew/lib/python3.10/site-packages/sklearn/neighbors/_classification.py:233: DataConversionWarning: A column-vector y was passed when a 1d array was expected. Please change the shape of y to (n_samples,), for example using ravel().\n",
      "  return self._fit(X, y)\n",
      "/opt/homebrew/lib/python3.10/site-packages/sklearn/neighbors/_classification.py:233: DataConversionWarning: A column-vector y was passed when a 1d array was expected. Please change the shape of y to (n_samples,), for example using ravel().\n",
      "  return self._fit(X, y)\n",
      "/opt/homebrew/lib/python3.10/site-packages/sklearn/neighbors/_classification.py:233: DataConversionWarning: A column-vector y was passed when a 1d array was expected. Please change the shape of y to (n_samples,), for example using ravel().\n",
      "  return self._fit(X, y)\n",
      "/opt/homebrew/lib/python3.10/site-packages/sklearn/neighbors/_classification.py:233: DataConversionWarning: A column-vector y was passed when a 1d array was expected. Please change the shape of y to (n_samples,), for example using ravel().\n",
      "  return self._fit(X, y)\n"
     ]
    },
    {
     "name": "stdout",
     "output_type": "stream",
     "text": [
      "[CV 5/5] END algorithm=kd_tree, metric=euclidean, n_neighbors=89, p=1, weights=uniform;, score=0.779 total time=   0.8s\n"
     ]
    },
    {
     "name": "stderr",
     "output_type": "stream",
     "text": [
      "/opt/homebrew/lib/python3.10/site-packages/sklearn/neighbors/_classification.py:233: DataConversionWarning: A column-vector y was passed when a 1d array was expected. Please change the shape of y to (n_samples,), for example using ravel().\n",
      "  return self._fit(X, y)\n"
     ]
    },
    {
     "name": "stdout",
     "output_type": "stream",
     "text": [
      "[CV 1/5] END algorithm=kd_tree, metric=euclidean, n_neighbors=89, p=1, weights=distance;, score=0.759 total time=   0.8s\n",
      "[CV 2/5] END algorithm=kd_tree, metric=euclidean, n_neighbors=89, p=1, weights=distance;, score=0.774 total time=   0.9s\n"
     ]
    },
    {
     "name": "stderr",
     "output_type": "stream",
     "text": [
      "/opt/homebrew/lib/python3.10/site-packages/sklearn/neighbors/_classification.py:233: DataConversionWarning: A column-vector y was passed when a 1d array was expected. Please change the shape of y to (n_samples,), for example using ravel().\n",
      "  return self._fit(X, y)\n",
      "/opt/homebrew/lib/python3.10/site-packages/sklearn/neighbors/_classification.py:233: DataConversionWarning: A column-vector y was passed when a 1d array was expected. Please change the shape of y to (n_samples,), for example using ravel().\n",
      "  return self._fit(X, y)\n"
     ]
    },
    {
     "name": "stdout",
     "output_type": "stream",
     "text": [
      "[CV 4/5] END algorithm=kd_tree, metric=euclidean, n_neighbors=89, p=1, weights=distance;, score=0.792 total time=   0.8s\n",
      "[CV 3/5] END algorithm=kd_tree, metric=euclidean, n_neighbors=89, p=1, weights=distance;, score=0.777 total time=   0.9s\n",
      "[CV 1/5] END algorithm=kd_tree, metric=euclidean, n_neighbors=89, p=2, weights=uniform;, score=0.751 total time=   0.8s\n",
      "[CV 5/5] END algorithm=kd_tree, metric=euclidean, n_neighbors=89, p=1, weights=distance;, score=0.791 total time=   0.8s\n",
      "[CV 1/5] END algorithm=kd_tree, metric=haversine, n_neighbors=89, p=1, weights=uniform;, score=nan total time=   0.0s\n",
      "[CV 2/5] END algorithm=kd_tree, metric=haversine, n_neighbors=89, p=1, weights=uniform;, score=nan total time=   0.0s\n",
      "[CV 3/5] END algorithm=kd_tree, metric=haversine, n_neighbors=89, p=1, weights=uniform;, score=nan total time=   0.0s\n",
      "[CV 4/5] END algorithm=kd_tree, metric=haversine, n_neighbors=89, p=1, weights=uniform;, score=nan total time=   0.0s\n",
      "[CV 5/5] END algorithm=kd_tree, metric=haversine, n_neighbors=89, p=1, weights=uniform;, score=nan total time=   0.0s\n",
      "[CV 1/5] END algorithm=kd_tree, metric=haversine, n_neighbors=89, p=1, weights=distance;, score=nan total time=   0.0s\n",
      "[CV 2/5] END algorithm=kd_tree, metric=haversine, n_neighbors=89, p=1, weights=distance;, score=nan total time=   0.0s\n",
      "[CV 3/5] END algorithm=kd_tree, metric=haversine, n_neighbors=89, p=1, weights=distance;, score=nan total time=   0.0s\n",
      "[CV 4/5] END algorithm=kd_tree, metric=haversine, n_neighbors=89, p=1, weights=distance;, score=nan total time=   0.0s\n",
      "[CV 5/5] END algorithm=kd_tree, metric=haversine, n_neighbors=89, p=1, weights=distance;, score=nan total time=   0.0s\n",
      "[CV 1/5] END algorithm=kd_tree, metric=haversine, n_neighbors=89, p=2, weights=uniform;, score=nan total time=   0.0s\n",
      "[CV 2/5] END algorithm=kd_tree, metric=haversine, n_neighbors=89, p=2, weights=uniform;, score=nan total time=   0.0s\n",
      "[CV 3/5] END algorithm=kd_tree, metric=haversine, n_neighbors=89, p=2, weights=uniform;, score=nan total time=   0.0s\n",
      "[CV 4/5] END algorithm=kd_tree, metric=haversine, n_neighbors=89, p=2, weights=uniform;, score=nan total time=   0.0s\n",
      "[CV 2/5] END algorithm=kd_tree, metric=euclidean, n_neighbors=89, p=2, weights=uniform;, score=0.761 total time=   0.8s\n",
      "[CV 5/5] END algorithm=kd_tree, metric=haversine, n_neighbors=89, p=2, weights=uniform;, score=nan total time=   0.0s\n",
      "[CV 2/5] END algorithm=kd_tree, metric=haversine, n_neighbors=89, p=2, weights=distance;, score=nan total time=   0.0s\n",
      "[CV 3/5] END algorithm=kd_tree, metric=haversine, n_neighbors=89, p=2, weights=distance;, score=nan total time=   0.0s\n",
      "[CV 1/5] END algorithm=kd_tree, metric=haversine, n_neighbors=89, p=2, weights=distance;, score=nan total time=   0.0s\n",
      "[CV 4/5] END algorithm=kd_tree, metric=haversine, n_neighbors=89, p=2, weights=distance;, score=nan total time=   0.0s\n",
      "[CV 5/5] END algorithm=kd_tree, metric=haversine, n_neighbors=89, p=2, weights=distance;, score=nan total time=   0.0s\n"
     ]
    },
    {
     "name": "stderr",
     "output_type": "stream",
     "text": [
      "/opt/homebrew/lib/python3.10/site-packages/sklearn/neighbors/_classification.py:233: DataConversionWarning: A column-vector y was passed when a 1d array was expected. Please change the shape of y to (n_samples,), for example using ravel().\n",
      "  return self._fit(X, y)\n",
      "/opt/homebrew/lib/python3.10/site-packages/sklearn/neighbors/_classification.py:233: DataConversionWarning: A column-vector y was passed when a 1d array was expected. Please change the shape of y to (n_samples,), for example using ravel().\n",
      "  return self._fit(X, y)\n",
      "/opt/homebrew/lib/python3.10/site-packages/sklearn/neighbors/_classification.py:233: DataConversionWarning: A column-vector y was passed when a 1d array was expected. Please change the shape of y to (n_samples,), for example using ravel().\n",
      "  return self._fit(X, y)\n",
      "/opt/homebrew/lib/python3.10/site-packages/sklearn/neighbors/_classification.py:233: DataConversionWarning: A column-vector y was passed when a 1d array was expected. Please change the shape of y to (n_samples,), for example using ravel().\n",
      "  return self._fit(X, y)\n",
      "/opt/homebrew/lib/python3.10/site-packages/sklearn/neighbors/_classification.py:233: DataConversionWarning: A column-vector y was passed when a 1d array was expected. Please change the shape of y to (n_samples,), for example using ravel().\n",
      "  return self._fit(X, y)\n",
      "/opt/homebrew/lib/python3.10/site-packages/sklearn/neighbors/_classification.py:233: DataConversionWarning: A column-vector y was passed when a 1d array was expected. Please change the shape of y to (n_samples,), for example using ravel().\n",
      "  return self._fit(X, y)\n",
      "/opt/homebrew/lib/python3.10/site-packages/sklearn/neighbors/_classification.py:233: DataConversionWarning: A column-vector y was passed when a 1d array was expected. Please change the shape of y to (n_samples,), for example using ravel().\n",
      "  return self._fit(X, y)\n",
      "/opt/homebrew/lib/python3.10/site-packages/sklearn/neighbors/_classification.py:233: DataConversionWarning: A column-vector y was passed when a 1d array was expected. Please change the shape of y to (n_samples,), for example using ravel().\n",
      "  return self._fit(X, y)\n",
      "/opt/homebrew/lib/python3.10/site-packages/sklearn/neighbors/_classification.py:233: DataConversionWarning: A column-vector y was passed when a 1d array was expected. Please change the shape of y to (n_samples,), for example using ravel().\n",
      "  return self._fit(X, y)\n",
      "/opt/homebrew/lib/python3.10/site-packages/sklearn/neighbors/_classification.py:233: DataConversionWarning: A column-vector y was passed when a 1d array was expected. Please change the shape of y to (n_samples,), for example using ravel().\n",
      "  return self._fit(X, y)\n",
      "/opt/homebrew/lib/python3.10/site-packages/sklearn/neighbors/_classification.py:233: DataConversionWarning: A column-vector y was passed when a 1d array was expected. Please change the shape of y to (n_samples,), for example using ravel().\n",
      "  return self._fit(X, y)\n",
      "/opt/homebrew/lib/python3.10/site-packages/sklearn/neighbors/_classification.py:233: DataConversionWarning: A column-vector y was passed when a 1d array was expected. Please change the shape of y to (n_samples,), for example using ravel().\n",
      "  return self._fit(X, y)\n",
      "/opt/homebrew/lib/python3.10/site-packages/sklearn/neighbors/_classification.py:233: DataConversionWarning: A column-vector y was passed when a 1d array was expected. Please change the shape of y to (n_samples,), for example using ravel().\n",
      "  return self._fit(X, y)\n",
      "/opt/homebrew/lib/python3.10/site-packages/sklearn/neighbors/_classification.py:233: DataConversionWarning: A column-vector y was passed when a 1d array was expected. Please change the shape of y to (n_samples,), for example using ravel().\n",
      "  return self._fit(X, y)\n",
      "/opt/homebrew/lib/python3.10/site-packages/sklearn/neighbors/_classification.py:233: DataConversionWarning: A column-vector y was passed when a 1d array was expected. Please change the shape of y to (n_samples,), for example using ravel().\n",
      "  return self._fit(X, y)\n",
      "/opt/homebrew/lib/python3.10/site-packages/sklearn/neighbors/_classification.py:233: DataConversionWarning: A column-vector y was passed when a 1d array was expected. Please change the shape of y to (n_samples,), for example using ravel().\n",
      "  return self._fit(X, y)\n",
      "/opt/homebrew/lib/python3.10/site-packages/sklearn/neighbors/_classification.py:233: DataConversionWarning: A column-vector y was passed when a 1d array was expected. Please change the shape of y to (n_samples,), for example using ravel().\n",
      "  return self._fit(X, y)\n",
      "/opt/homebrew/lib/python3.10/site-packages/sklearn/neighbors/_classification.py:233: DataConversionWarning: A column-vector y was passed when a 1d array was expected. Please change the shape of y to (n_samples,), for example using ravel().\n",
      "  return self._fit(X, y)\n",
      "/opt/homebrew/lib/python3.10/site-packages/sklearn/neighbors/_classification.py:233: DataConversionWarning: A column-vector y was passed when a 1d array was expected. Please change the shape of y to (n_samples,), for example using ravel().\n",
      "  return self._fit(X, y)\n",
      "/opt/homebrew/lib/python3.10/site-packages/sklearn/neighbors/_classification.py:233: DataConversionWarning: A column-vector y was passed when a 1d array was expected. Please change the shape of y to (n_samples,), for example using ravel().\n",
      "  return self._fit(X, y)\n",
      "/opt/homebrew/lib/python3.10/site-packages/sklearn/neighbors/_classification.py:233: DataConversionWarning: A column-vector y was passed when a 1d array was expected. Please change the shape of y to (n_samples,), for example using ravel().\n",
      "  return self._fit(X, y)\n",
      "/opt/homebrew/lib/python3.10/site-packages/sklearn/neighbors/_classification.py:233: DataConversionWarning: A column-vector y was passed when a 1d array was expected. Please change the shape of y to (n_samples,), for example using ravel().\n",
      "  return self._fit(X, y)\n",
      "/opt/homebrew/lib/python3.10/site-packages/sklearn/neighbors/_classification.py:233: DataConversionWarning: A column-vector y was passed when a 1d array was expected. Please change the shape of y to (n_samples,), for example using ravel().\n",
      "  return self._fit(X, y)\n",
      "/opt/homebrew/lib/python3.10/site-packages/sklearn/neighbors/_classification.py:233: DataConversionWarning: A column-vector y was passed when a 1d array was expected. Please change the shape of y to (n_samples,), for example using ravel().\n",
      "  return self._fit(X, y)\n",
      "/opt/homebrew/lib/python3.10/site-packages/sklearn/neighbors/_classification.py:233: DataConversionWarning: A column-vector y was passed when a 1d array was expected. Please change the shape of y to (n_samples,), for example using ravel().\n",
      "  return self._fit(X, y)\n"
     ]
    },
    {
     "name": "stdout",
     "output_type": "stream",
     "text": [
      "[CV 3/5] END algorithm=kd_tree, metric=euclidean, n_neighbors=89, p=2, weights=uniform;, score=0.765 total time=   0.8s\n"
     ]
    },
    {
     "name": "stderr",
     "output_type": "stream",
     "text": [
      "/opt/homebrew/lib/python3.10/site-packages/sklearn/neighbors/_classification.py:233: DataConversionWarning: A column-vector y was passed when a 1d array was expected. Please change the shape of y to (n_samples,), for example using ravel().\n",
      "  return self._fit(X, y)\n"
     ]
    },
    {
     "name": "stdout",
     "output_type": "stream",
     "text": [
      "[CV 5/5] END algorithm=kd_tree, metric=euclidean, n_neighbors=89, p=2, weights=uniform;, score=0.779 total time=   0.8s\n",
      "[CV 2/5] END algorithm=kd_tree, metric=euclidean, n_neighbors=89, p=2, weights=distance;, score=0.774 total time=   0.8s\n",
      "[CV 4/5] END algorithm=kd_tree, metric=euclidean, n_neighbors=89, p=2, weights=uniform;, score=0.776 total time=   1.0s\n",
      "[CV 1/5] END algorithm=kd_tree, metric=euclidean, n_neighbors=89, p=2, weights=distance;, score=0.759 total time=   0.8s\n"
     ]
    },
    {
     "name": "stderr",
     "output_type": "stream",
     "text": [
      "/opt/homebrew/lib/python3.10/site-packages/sklearn/neighbors/_classification.py:233: DataConversionWarning: A column-vector y was passed when a 1d array was expected. Please change the shape of y to (n_samples,), for example using ravel().\n",
      "  return self._fit(X, y)\n",
      "/opt/homebrew/lib/python3.10/site-packages/sklearn/neighbors/_classification.py:233: DataConversionWarning: A column-vector y was passed when a 1d array was expected. Please change the shape of y to (n_samples,), for example using ravel().\n",
      "  return self._fit(X, y)\n",
      "/opt/homebrew/lib/python3.10/site-packages/sklearn/neighbors/_classification.py:233: DataConversionWarning: A column-vector y was passed when a 1d array was expected. Please change the shape of y to (n_samples,), for example using ravel().\n",
      "  return self._fit(X, y)\n",
      "/opt/homebrew/lib/python3.10/site-packages/sklearn/neighbors/_classification.py:233: DataConversionWarning: A column-vector y was passed when a 1d array was expected. Please change the shape of y to (n_samples,), for example using ravel().\n",
      "  return self._fit(X, y)\n"
     ]
    },
    {
     "name": "stdout",
     "output_type": "stream",
     "text": [
      "[CV 4/5] END algorithm=kd_tree, metric=euclidean, n_neighbors=89, p=2, weights=distance;, score=0.792 total time=   0.9s\n",
      "[CV 3/5] END algorithm=kd_tree, metric=l1, n_neighbors=89, p=1, weights=uniform;, score=0.781 total time=   0.8s\n",
      "[CV 1/5] END algorithm=kd_tree, metric=l1, n_neighbors=89, p=1, weights=uniform;, score=0.758 total time=   0.9s\n"
     ]
    },
    {
     "name": "stderr",
     "output_type": "stream",
     "text": [
      "/opt/homebrew/lib/python3.10/site-packages/sklearn/neighbors/_classification.py:233: DataConversionWarning: A column-vector y was passed when a 1d array was expected. Please change the shape of y to (n_samples,), for example using ravel().\n",
      "  return self._fit(X, y)\n",
      "/opt/homebrew/lib/python3.10/site-packages/sklearn/neighbors/_classification.py:233: DataConversionWarning: A column-vector y was passed when a 1d array was expected. Please change the shape of y to (n_samples,), for example using ravel().\n",
      "  return self._fit(X, y)\n",
      "/opt/homebrew/lib/python3.10/site-packages/sklearn/neighbors/_classification.py:233: DataConversionWarning: A column-vector y was passed when a 1d array was expected. Please change the shape of y to (n_samples,), for example using ravel().\n",
      "  return self._fit(X, y)\n"
     ]
    },
    {
     "name": "stdout",
     "output_type": "stream",
     "text": [
      "[CV 5/5] END algorithm=kd_tree, metric=l1, n_neighbors=89, p=1, weights=uniform;, score=0.783 total time=   0.9s\n"
     ]
    },
    {
     "name": "stderr",
     "output_type": "stream",
     "text": [
      "/opt/homebrew/lib/python3.10/site-packages/sklearn/neighbors/_classification.py:233: DataConversionWarning: A column-vector y was passed when a 1d array was expected. Please change the shape of y to (n_samples,), for example using ravel().\n",
      "  return self._fit(X, y)\n"
     ]
    },
    {
     "name": "stdout",
     "output_type": "stream",
     "text": [
      "[CV 2/5] END algorithm=kd_tree, metric=l1, n_neighbors=89, p=1, weights=distance;, score=0.774 total time=   0.8s\n",
      "[CV 4/5] END algorithm=kd_tree, metric=l1, n_neighbors=89, p=1, weights=distance;, score=0.787 total time=   0.7s\n",
      "[CV 3/5] END algorithm=kd_tree, metric=euclidean, n_neighbors=89, p=2, weights=distance;, score=0.777 total time=   0.8s\n",
      "[CV 1/5] END algorithm=kd_tree, metric=l1, n_neighbors=89, p=2, weights=uniform;, score=0.758 total time=   0.8s\n"
     ]
    },
    {
     "name": "stderr",
     "output_type": "stream",
     "text": [
      "/opt/homebrew/lib/python3.10/site-packages/sklearn/neighbors/_classification.py:233: DataConversionWarning: A column-vector y was passed when a 1d array was expected. Please change the shape of y to (n_samples,), for example using ravel().\n",
      "  return self._fit(X, y)\n",
      "/opt/homebrew/lib/python3.10/site-packages/sklearn/neighbors/_classification.py:233: DataConversionWarning: A column-vector y was passed when a 1d array was expected. Please change the shape of y to (n_samples,), for example using ravel().\n",
      "  return self._fit(X, y)\n",
      "/opt/homebrew/lib/python3.10/site-packages/sklearn/neighbors/_classification.py:233: DataConversionWarning: A column-vector y was passed when a 1d array was expected. Please change the shape of y to (n_samples,), for example using ravel().\n",
      "  return self._fit(X, y)\n",
      "/opt/homebrew/lib/python3.10/site-packages/sklearn/neighbors/_classification.py:233: DataConversionWarning: A column-vector y was passed when a 1d array was expected. Please change the shape of y to (n_samples,), for example using ravel().\n",
      "  return self._fit(X, y)\n"
     ]
    },
    {
     "name": "stdout",
     "output_type": "stream",
     "text": [
      "[CV 4/5] END algorithm=kd_tree, metric=l1, n_neighbors=89, p=1, weights=uniform;, score=0.777 total time=   0.8s\n"
     ]
    },
    {
     "name": "stderr",
     "output_type": "stream",
     "text": [
      "/opt/homebrew/lib/python3.10/site-packages/sklearn/neighbors/_classification.py:233: DataConversionWarning: A column-vector y was passed when a 1d array was expected. Please change the shape of y to (n_samples,), for example using ravel().\n",
      "  return self._fit(X, y)\n"
     ]
    },
    {
     "name": "stdout",
     "output_type": "stream",
     "text": [
      "[CV 5/5] END algorithm=kd_tree, metric=euclidean, n_neighbors=89, p=2, weights=distance;, score=0.791 total time=   1.0s\n",
      "[CV 2/5] END algorithm=kd_tree, metric=l1, n_neighbors=89, p=1, weights=uniform;, score=0.763 total time=   0.9s\n",
      "[CV 1/5] END algorithm=kd_tree, metric=l1, n_neighbors=89, p=1, weights=distance;, score=0.767 total time=   0.9s\n"
     ]
    },
    {
     "name": "stderr",
     "output_type": "stream",
     "text": [
      "/opt/homebrew/lib/python3.10/site-packages/sklearn/neighbors/_classification.py:233: DataConversionWarning: A column-vector y was passed when a 1d array was expected. Please change the shape of y to (n_samples,), for example using ravel().\n",
      "  return self._fit(X, y)\n",
      "/opt/homebrew/lib/python3.10/site-packages/sklearn/neighbors/_classification.py:233: DataConversionWarning: A column-vector y was passed when a 1d array was expected. Please change the shape of y to (n_samples,), for example using ravel().\n",
      "  return self._fit(X, y)\n",
      "/opt/homebrew/lib/python3.10/site-packages/sklearn/neighbors/_classification.py:233: DataConversionWarning: A column-vector y was passed when a 1d array was expected. Please change the shape of y to (n_samples,), for example using ravel().\n",
      "  return self._fit(X, y)\n"
     ]
    },
    {
     "name": "stdout",
     "output_type": "stream",
     "text": [
      "[CV 3/5] END algorithm=kd_tree, metric=l1, n_neighbors=89, p=1, weights=distance;, score=0.787 total time=   0.9s\n",
      "[CV 5/5] END algorithm=kd_tree, metric=l1, n_neighbors=89, p=1, weights=distance;, score=0.791 total time=   0.9s\n"
     ]
    },
    {
     "name": "stderr",
     "output_type": "stream",
     "text": [
      "/opt/homebrew/lib/python3.10/site-packages/sklearn/neighbors/_classification.py:233: DataConversionWarning: A column-vector y was passed when a 1d array was expected. Please change the shape of y to (n_samples,), for example using ravel().\n",
      "  return self._fit(X, y)\n",
      "/opt/homebrew/lib/python3.10/site-packages/sklearn/neighbors/_classification.py:233: DataConversionWarning: A column-vector y was passed when a 1d array was expected. Please change the shape of y to (n_samples,), for example using ravel().\n",
      "  return self._fit(X, y)\n",
      "/opt/homebrew/lib/python3.10/site-packages/sklearn/neighbors/_classification.py:233: DataConversionWarning: A column-vector y was passed when a 1d array was expected. Please change the shape of y to (n_samples,), for example using ravel().\n",
      "  return self._fit(X, y)\n",
      "/opt/homebrew/lib/python3.10/site-packages/sklearn/neighbors/_classification.py:233: DataConversionWarning: A column-vector y was passed when a 1d array was expected. Please change the shape of y to (n_samples,), for example using ravel().\n",
      "  return self._fit(X, y)\n",
      "/opt/homebrew/lib/python3.10/site-packages/sklearn/neighbors/_classification.py:233: DataConversionWarning: A column-vector y was passed when a 1d array was expected. Please change the shape of y to (n_samples,), for example using ravel().\n",
      "  return self._fit(X, y)\n"
     ]
    },
    {
     "name": "stdout",
     "output_type": "stream",
     "text": [
      "[CV 3/5] END algorithm=kd_tree, metric=l1, n_neighbors=89, p=2, weights=uniform;, score=0.781 total time=   0.9s\n",
      "[CV 5/5] END algorithm=kd_tree, metric=l1, n_neighbors=89, p=2, weights=uniform;, score=0.783 total time=   0.9s\n",
      "[CV 2/5] END algorithm=kd_tree, metric=l1, n_neighbors=89, p=2, weights=uniform;, score=0.763 total time=   1.1s\n",
      "[CV 4/5] END algorithm=kd_tree, metric=l1, n_neighbors=89, p=2, weights=distance;, score=0.787 total time=   0.9s\n",
      "[CV 2/5] END algorithm=kd_tree, metric=l1, n_neighbors=89, p=2, weights=distance;, score=0.774 total time=   1.0s\n",
      "[CV 1/5] END algorithm=kd_tree, metric=l2, n_neighbors=89, p=1, weights=uniform;, score=0.751 total time=   0.9s\n"
     ]
    },
    {
     "name": "stderr",
     "output_type": "stream",
     "text": [
      "/opt/homebrew/lib/python3.10/site-packages/sklearn/neighbors/_classification.py:233: DataConversionWarning: A column-vector y was passed when a 1d array was expected. Please change the shape of y to (n_samples,), for example using ravel().\n",
      "  return self._fit(X, y)\n",
      "/opt/homebrew/lib/python3.10/site-packages/sklearn/neighbors/_classification.py:233: DataConversionWarning: A column-vector y was passed when a 1d array was expected. Please change the shape of y to (n_samples,), for example using ravel().\n",
      "  return self._fit(X, y)\n",
      "/opt/homebrew/lib/python3.10/site-packages/sklearn/neighbors/_classification.py:233: DataConversionWarning: A column-vector y was passed when a 1d array was expected. Please change the shape of y to (n_samples,), for example using ravel().\n",
      "  return self._fit(X, y)\n"
     ]
    },
    {
     "name": "stdout",
     "output_type": "stream",
     "text": [
      "[CV 3/5] END algorithm=kd_tree, metric=l2, n_neighbors=89, p=1, weights=uniform;, score=0.765 total time=   0.8s\n"
     ]
    },
    {
     "name": "stderr",
     "output_type": "stream",
     "text": [
      "/opt/homebrew/lib/python3.10/site-packages/sklearn/neighbors/_classification.py:233: DataConversionWarning: A column-vector y was passed when a 1d array was expected. Please change the shape of y to (n_samples,), for example using ravel().\n",
      "  return self._fit(X, y)\n"
     ]
    },
    {
     "name": "stdout",
     "output_type": "stream",
     "text": [
      "[CV 4/5] END algorithm=kd_tree, metric=l1, n_neighbors=89, p=2, weights=uniform;, score=0.777 total time=   0.9s\n",
      "[CV 1/5] END algorithm=kd_tree, metric=l1, n_neighbors=89, p=2, weights=distance;, score=0.767 total time=   0.8s\n",
      "[CV 2/5] END algorithm=kd_tree, metric=l2, n_neighbors=89, p=1, weights=distance;, score=0.774 total time=   0.8s\n",
      "[CV 5/5] END algorithm=kd_tree, metric=l2, n_neighbors=89, p=1, weights=uniform;, score=0.779 total time=   1.0s\n"
     ]
    },
    {
     "name": "stderr",
     "output_type": "stream",
     "text": [
      "/opt/homebrew/lib/python3.10/site-packages/sklearn/neighbors/_classification.py:233: DataConversionWarning: A column-vector y was passed when a 1d array was expected. Please change the shape of y to (n_samples,), for example using ravel().\n",
      "  return self._fit(X, y)\n",
      "/opt/homebrew/lib/python3.10/site-packages/sklearn/neighbors/_classification.py:233: DataConversionWarning: A column-vector y was passed when a 1d array was expected. Please change the shape of y to (n_samples,), for example using ravel().\n",
      "  return self._fit(X, y)\n",
      "/opt/homebrew/lib/python3.10/site-packages/sklearn/neighbors/_classification.py:233: DataConversionWarning: A column-vector y was passed when a 1d array was expected. Please change the shape of y to (n_samples,), for example using ravel().\n",
      "  return self._fit(X, y)\n",
      "/opt/homebrew/lib/python3.10/site-packages/sklearn/neighbors/_classification.py:233: DataConversionWarning: A column-vector y was passed when a 1d array was expected. Please change the shape of y to (n_samples,), for example using ravel().\n",
      "  return self._fit(X, y)\n"
     ]
    },
    {
     "name": "stdout",
     "output_type": "stream",
     "text": [
      "[CV 5/5] END algorithm=kd_tree, metric=l1, n_neighbors=89, p=2, weights=distance;, score=0.791 total time=   0.9s\n",
      "[CV 3/5] END algorithm=kd_tree, metric=l1, n_neighbors=89, p=2, weights=distance;, score=0.787 total time=   0.9s\n",
      "[CV 2/5] END algorithm=kd_tree, metric=l2, n_neighbors=89, p=1, weights=uniform;, score=0.761 total time=   0.9s\n"
     ]
    },
    {
     "name": "stderr",
     "output_type": "stream",
     "text": [
      "/opt/homebrew/lib/python3.10/site-packages/sklearn/neighbors/_classification.py:233: DataConversionWarning: A column-vector y was passed when a 1d array was expected. Please change the shape of y to (n_samples,), for example using ravel().\n",
      "  return self._fit(X, y)\n",
      "/opt/homebrew/lib/python3.10/site-packages/sklearn/neighbors/_classification.py:233: DataConversionWarning: A column-vector y was passed when a 1d array was expected. Please change the shape of y to (n_samples,), for example using ravel().\n",
      "  return self._fit(X, y)\n",
      "/opt/homebrew/lib/python3.10/site-packages/sklearn/neighbors/_classification.py:233: DataConversionWarning: A column-vector y was passed when a 1d array was expected. Please change the shape of y to (n_samples,), for example using ravel().\n",
      "  return self._fit(X, y)\n"
     ]
    },
    {
     "name": "stdout",
     "output_type": "stream",
     "text": [
      "[CV 4/5] END algorithm=kd_tree, metric=l2, n_neighbors=89, p=1, weights=uniform;, score=0.776 total time=   0.8s\n",
      "[CV 4/5] END algorithm=kd_tree, metric=l2, n_neighbors=89, p=1, weights=distance;, score=0.792 total time=   0.8s\n"
     ]
    },
    {
     "name": "stderr",
     "output_type": "stream",
     "text": [
      "/opt/homebrew/lib/python3.10/site-packages/sklearn/neighbors/_classification.py:233: DataConversionWarning: A column-vector y was passed when a 1d array was expected. Please change the shape of y to (n_samples,), for example using ravel().\n",
      "  return self._fit(X, y)\n",
      "/opt/homebrew/lib/python3.10/site-packages/sklearn/neighbors/_classification.py:233: DataConversionWarning: A column-vector y was passed when a 1d array was expected. Please change the shape of y to (n_samples,), for example using ravel().\n",
      "  return self._fit(X, y)\n"
     ]
    },
    {
     "name": "stdout",
     "output_type": "stream",
     "text": [
      "[CV 1/5] END algorithm=kd_tree, metric=l2, n_neighbors=89, p=1, weights=distance;, score=0.759 total time=   0.8s\n",
      "[CV 3/5] END algorithm=kd_tree, metric=l2, n_neighbors=89, p=1, weights=distance;, score=0.777 total time=   0.9s\n",
      "[CV 1/5] END algorithm=kd_tree, metric=l2, n_neighbors=89, p=2, weights=uniform;, score=0.751 total time=   0.9s\n"
     ]
    },
    {
     "name": "stderr",
     "output_type": "stream",
     "text": [
      "/opt/homebrew/lib/python3.10/site-packages/sklearn/neighbors/_classification.py:233: DataConversionWarning: A column-vector y was passed when a 1d array was expected. Please change the shape of y to (n_samples,), for example using ravel().\n",
      "  return self._fit(X, y)\n",
      "/opt/homebrew/lib/python3.10/site-packages/sklearn/neighbors/_classification.py:233: DataConversionWarning: A column-vector y was passed when a 1d array was expected. Please change the shape of y to (n_samples,), for example using ravel().\n",
      "  return self._fit(X, y)\n",
      "/opt/homebrew/lib/python3.10/site-packages/sklearn/neighbors/_classification.py:233: DataConversionWarning: A column-vector y was passed when a 1d array was expected. Please change the shape of y to (n_samples,), for example using ravel().\n",
      "  return self._fit(X, y)\n"
     ]
    },
    {
     "name": "stdout",
     "output_type": "stream",
     "text": [
      "[CV 3/5] END algorithm=kd_tree, metric=l2, n_neighbors=89, p=2, weights=uniform;, score=0.765 total time=   0.8s\n",
      "[CV 5/5] END algorithm=kd_tree, metric=l2, n_neighbors=89, p=2, weights=uniform;, score=0.779 total time=   0.9s\n"
     ]
    },
    {
     "name": "stderr",
     "output_type": "stream",
     "text": [
      "/opt/homebrew/lib/python3.10/site-packages/sklearn/neighbors/_classification.py:233: DataConversionWarning: A column-vector y was passed when a 1d array was expected. Please change the shape of y to (n_samples,), for example using ravel().\n",
      "  return self._fit(X, y)\n",
      "/opt/homebrew/lib/python3.10/site-packages/sklearn/neighbors/_classification.py:233: DataConversionWarning: A column-vector y was passed when a 1d array was expected. Please change the shape of y to (n_samples,), for example using ravel().\n",
      "  return self._fit(X, y)\n"
     ]
    },
    {
     "name": "stdout",
     "output_type": "stream",
     "text": [
      "[CV 2/5] END algorithm=kd_tree, metric=l2, n_neighbors=89, p=2, weights=distance;, score=0.774 total time=   0.8s\n",
      "[CV 4/5] END algorithm=kd_tree, metric=l2, n_neighbors=89, p=2, weights=distance;, score=0.792 total time=   0.9s\n"
     ]
    },
    {
     "name": "stderr",
     "output_type": "stream",
     "text": [
      "/opt/homebrew/lib/python3.10/site-packages/sklearn/neighbors/_classification.py:233: DataConversionWarning: A column-vector y was passed when a 1d array was expected. Please change the shape of y to (n_samples,), for example using ravel().\n",
      "  return self._fit(X, y)\n",
      "/opt/homebrew/lib/python3.10/site-packages/sklearn/neighbors/_classification.py:233: DataConversionWarning: A column-vector y was passed when a 1d array was expected. Please change the shape of y to (n_samples,), for example using ravel().\n",
      "  return self._fit(X, y)\n"
     ]
    },
    {
     "name": "stdout",
     "output_type": "stream",
     "text": [
      "[CV 5/5] END algorithm=kd_tree, metric=l2, n_neighbors=89, p=1, weights=distance;, score=0.791 total time=   0.9s\n",
      "[CV 3/5] END algorithm=kd_tree, metric=manhattan, n_neighbors=89, p=1, weights=uniform;, score=0.781 total time=   0.8s\n",
      "[CV 2/5] END algorithm=kd_tree, metric=l2, n_neighbors=89, p=2, weights=uniform;, score=0.761 total time=   0.9s\n"
     ]
    },
    {
     "name": "stderr",
     "output_type": "stream",
     "text": [
      "/opt/homebrew/lib/python3.10/site-packages/sklearn/neighbors/_classification.py:233: DataConversionWarning: A column-vector y was passed when a 1d array was expected. Please change the shape of y to (n_samples,), for example using ravel().\n",
      "  return self._fit(X, y)\n",
      "/opt/homebrew/lib/python3.10/site-packages/sklearn/neighbors/_classification.py:233: DataConversionWarning: A column-vector y was passed when a 1d array was expected. Please change the shape of y to (n_samples,), for example using ravel().\n",
      "  return self._fit(X, y)\n",
      "/opt/homebrew/lib/python3.10/site-packages/sklearn/neighbors/_classification.py:233: DataConversionWarning: A column-vector y was passed when a 1d array was expected. Please change the shape of y to (n_samples,), for example using ravel().\n",
      "  return self._fit(X, y)\n",
      "/opt/homebrew/lib/python3.10/site-packages/sklearn/neighbors/_classification.py:233: DataConversionWarning: A column-vector y was passed when a 1d array was expected. Please change the shape of y to (n_samples,), for example using ravel().\n",
      "  return self._fit(X, y)\n"
     ]
    },
    {
     "name": "stdout",
     "output_type": "stream",
     "text": [
      "[CV 1/5] END algorithm=kd_tree, metric=manhattan, n_neighbors=89, p=1, weights=uniform;, score=0.758 total time=   0.9s\n",
      "[CV 4/5] END algorithm=kd_tree, metric=l2, n_neighbors=89, p=2, weights=uniform;, score=0.776 total time=   0.9s\n",
      "[CV 1/5] END algorithm=kd_tree, metric=l2, n_neighbors=89, p=2, weights=distance;, score=0.759 total time=   0.8s\n",
      "[CV 5/5] END algorithm=kd_tree, metric=l2, n_neighbors=89, p=2, weights=distance;, score=0.791 total time=   0.8s\n"
     ]
    },
    {
     "name": "stderr",
     "output_type": "stream",
     "text": [
      "/opt/homebrew/lib/python3.10/site-packages/sklearn/neighbors/_classification.py:233: DataConversionWarning: A column-vector y was passed when a 1d array was expected. Please change the shape of y to (n_samples,), for example using ravel().\n",
      "  return self._fit(X, y)\n",
      "/opt/homebrew/lib/python3.10/site-packages/sklearn/neighbors/_classification.py:233: DataConversionWarning: A column-vector y was passed when a 1d array was expected. Please change the shape of y to (n_samples,), for example using ravel().\n",
      "  return self._fit(X, y)\n",
      "/opt/homebrew/lib/python3.10/site-packages/sklearn/neighbors/_classification.py:233: DataConversionWarning: A column-vector y was passed when a 1d array was expected. Please change the shape of y to (n_samples,), for example using ravel().\n",
      "  return self._fit(X, y)\n",
      "/opt/homebrew/lib/python3.10/site-packages/sklearn/neighbors/_classification.py:233: DataConversionWarning: A column-vector y was passed when a 1d array was expected. Please change the shape of y to (n_samples,), for example using ravel().\n",
      "  return self._fit(X, y)\n"
     ]
    },
    {
     "name": "stdout",
     "output_type": "stream",
     "text": [
      "[CV 3/5] END algorithm=kd_tree, metric=l2, n_neighbors=89, p=2, weights=distance;, score=0.777 total time=   0.9s\n",
      "[CV 5/5] END algorithm=kd_tree, metric=manhattan, n_neighbors=89, p=1, weights=uniform;, score=0.783 total time=   0.8s\n"
     ]
    },
    {
     "name": "stderr",
     "output_type": "stream",
     "text": [
      "/opt/homebrew/lib/python3.10/site-packages/sklearn/neighbors/_classification.py:233: DataConversionWarning: A column-vector y was passed when a 1d array was expected. Please change the shape of y to (n_samples,), for example using ravel().\n",
      "  return self._fit(X, y)\n",
      "/opt/homebrew/lib/python3.10/site-packages/sklearn/neighbors/_classification.py:233: DataConversionWarning: A column-vector y was passed when a 1d array was expected. Please change the shape of y to (n_samples,), for example using ravel().\n",
      "  return self._fit(X, y)\n",
      "/opt/homebrew/lib/python3.10/site-packages/sklearn/neighbors/_classification.py:233: DataConversionWarning: A column-vector y was passed when a 1d array was expected. Please change the shape of y to (n_samples,), for example using ravel().\n",
      "  return self._fit(X, y)\n"
     ]
    },
    {
     "name": "stdout",
     "output_type": "stream",
     "text": [
      "[CV 4/5] END algorithm=kd_tree, metric=manhattan, n_neighbors=89, p=1, weights=uniform;, score=0.777 total time=   0.8s\n",
      "[CV 2/5] END algorithm=kd_tree, metric=manhattan, n_neighbors=89, p=1, weights=distance;, score=0.774 total time=   0.8s\n",
      "[CV 2/5] END algorithm=kd_tree, metric=manhattan, n_neighbors=89, p=1, weights=uniform;, score=0.763 total time=   1.0s\n"
     ]
    },
    {
     "name": "stderr",
     "output_type": "stream",
     "text": [
      "/opt/homebrew/lib/python3.10/site-packages/sklearn/neighbors/_classification.py:233: DataConversionWarning: A column-vector y was passed when a 1d array was expected. Please change the shape of y to (n_samples,), for example using ravel().\n",
      "  return self._fit(X, y)\n",
      "/opt/homebrew/lib/python3.10/site-packages/sklearn/neighbors/_classification.py:233: DataConversionWarning: A column-vector y was passed when a 1d array was expected. Please change the shape of y to (n_samples,), for example using ravel().\n",
      "  return self._fit(X, y)\n",
      "/opt/homebrew/lib/python3.10/site-packages/sklearn/neighbors/_classification.py:233: DataConversionWarning: A column-vector y was passed when a 1d array was expected. Please change the shape of y to (n_samples,), for example using ravel().\n",
      "  return self._fit(X, y)\n",
      "/opt/homebrew/lib/python3.10/site-packages/sklearn/neighbors/_classification.py:233: DataConversionWarning: A column-vector y was passed when a 1d array was expected. Please change the shape of y to (n_samples,), for example using ravel().\n",
      "  return self._fit(X, y)\n"
     ]
    },
    {
     "name": "stdout",
     "output_type": "stream",
     "text": [
      "[CV 4/5] END algorithm=kd_tree, metric=manhattan, n_neighbors=89, p=1, weights=distance;, score=0.787 total time=   0.8s\n",
      "[CV 1/5] END algorithm=kd_tree, metric=manhattan, n_neighbors=89, p=2, weights=uniform;, score=0.758 total time=   0.8s\n",
      "[CV 3/5] END algorithm=kd_tree, metric=manhattan, n_neighbors=89, p=2, weights=uniform;, score=0.781 total time=   0.7s\n",
      "[CV 1/5] END algorithm=kd_tree, metric=manhattan, n_neighbors=89, p=1, weights=distance;, score=0.767 total time=   0.7s\n",
      "[CV 5/5] END algorithm=kd_tree, metric=manhattan, n_neighbors=89, p=2, weights=uniform;, score=0.783 total time=   1.0s\n",
      "[CV 2/5] END algorithm=kd_tree, metric=manhattan, n_neighbors=89, p=2, weights=distance;, score=0.774 total time=   0.8s\n"
     ]
    },
    {
     "name": "stderr",
     "output_type": "stream",
     "text": [
      "/opt/homebrew/lib/python3.10/site-packages/sklearn/neighbors/_classification.py:233: DataConversionWarning: A column-vector y was passed when a 1d array was expected. Please change the shape of y to (n_samples,), for example using ravel().\n",
      "  return self._fit(X, y)\n",
      "/opt/homebrew/lib/python3.10/site-packages/sklearn/neighbors/_classification.py:233: DataConversionWarning: A column-vector y was passed when a 1d array was expected. Please change the shape of y to (n_samples,), for example using ravel().\n",
      "  return self._fit(X, y)\n",
      "/opt/homebrew/lib/python3.10/site-packages/sklearn/neighbors/_classification.py:233: DataConversionWarning: A column-vector y was passed when a 1d array was expected. Please change the shape of y to (n_samples,), for example using ravel().\n",
      "  return self._fit(X, y)\n"
     ]
    },
    {
     "name": "stdout",
     "output_type": "stream",
     "text": [
      "[CV 3/5] END algorithm=kd_tree, metric=manhattan, n_neighbors=89, p=1, weights=distance;, score=0.787 total time=   0.9s\n",
      "[CV 1/5] END algorithm=kd_tree, metric=nan_euclidean, n_neighbors=89, p=1, weights=uniform;, score=nan total time=   0.0s\n",
      "[CV 2/5] END algorithm=kd_tree, metric=nan_euclidean, n_neighbors=89, p=1, weights=uniform;, score=nan total time=   0.0s\n",
      "[CV 3/5] END algorithm=kd_tree, metric=nan_euclidean, n_neighbors=89, p=1, weights=uniform;, score=nan total time=   0.0s\n",
      "[CV 4/5] END algorithm=kd_tree, metric=nan_euclidean, n_neighbors=89, p=1, weights=uniform;, score=nan total time=   0.0s\n",
      "[CV 3/5] END algorithm=kd_tree, metric=manhattan, n_neighbors=89, p=2, weights=distance;, score=0.787 total time=   0.8s\n",
      "[CV 5/5] END algorithm=kd_tree, metric=nan_euclidean, n_neighbors=89, p=1, weights=uniform;, score=nan total time=   0.0s\n",
      "[CV 1/5] END algorithm=kd_tree, metric=nan_euclidean, n_neighbors=89, p=1, weights=distance;, score=nan total time=   0.0s\n",
      "[CV 2/5] END algorithm=kd_tree, metric=nan_euclidean, n_neighbors=89, p=1, weights=distance;, score=nan total time=   0.0s\n",
      "[CV 3/5] END algorithm=kd_tree, metric=nan_euclidean, n_neighbors=89, p=1, weights=distance;, score=nan total time=   0.0s\n",
      "[CV 4/5] END algorithm=kd_tree, metric=nan_euclidean, n_neighbors=89, p=1, weights=distance;, score=nan total time=   0.0s\n",
      "[CV 5/5] END algorithm=kd_tree, metric=nan_euclidean, n_neighbors=89, p=1, weights=distance;, score=nan total time=   0.0s\n",
      "[CV 1/5] END algorithm=kd_tree, metric=nan_euclidean, n_neighbors=89, p=2, weights=uniform;, score=nan total time=   0.0s\n",
      "[CV 2/5] END algorithm=kd_tree, metric=nan_euclidean, n_neighbors=89, p=2, weights=uniform;, score=nan total time=   0.0s\n",
      "[CV 4/5] END algorithm=kd_tree, metric=nan_euclidean, n_neighbors=89, p=2, weights=uniform;, score=nan total time=   0.0s\n",
      "[CV 3/5] END algorithm=kd_tree, metric=nan_euclidean, n_neighbors=89, p=2, weights=uniform;, score=nan total time=   0.0s\n",
      "[CV 5/5] END algorithm=kd_tree, metric=nan_euclidean, n_neighbors=89, p=2, weights=uniform;, score=nan total time=   0.0s\n",
      "[CV 1/5] END algorithm=kd_tree, metric=nan_euclidean, n_neighbors=89, p=2, weights=distance;, score=nan total time=   0.0s\n",
      "[CV 2/5] END algorithm=kd_tree, metric=nan_euclidean, n_neighbors=89, p=2, weights=distance;, score=nan total time=   0.0s\n",
      "[CV 3/5] END algorithm=kd_tree, metric=nan_euclidean, n_neighbors=89, p=2, weights=distance;, score=nan total time=   0.0s\n",
      "[CV 4/5] END algorithm=kd_tree, metric=nan_euclidean, n_neighbors=89, p=2, weights=distance;, score=nan total time=   0.0s\n",
      "[CV 5/5] END algorithm=kd_tree, metric=nan_euclidean, n_neighbors=89, p=2, weights=distance;, score=nan total time=   0.0s\n",
      "[CV 5/5] END algorithm=kd_tree, metric=manhattan, n_neighbors=89, p=1, weights=distance;, score=0.791 total time=   0.9s\n"
     ]
    },
    {
     "name": "stderr",
     "output_type": "stream",
     "text": [
      "/opt/homebrew/lib/python3.10/site-packages/sklearn/neighbors/_classification.py:233: DataConversionWarning: A column-vector y was passed when a 1d array was expected. Please change the shape of y to (n_samples,), for example using ravel().\n",
      "  return self._fit(X, y)\n",
      "/opt/homebrew/lib/python3.10/site-packages/sklearn/neighbors/_classification.py:233: DataConversionWarning: A column-vector y was passed when a 1d array was expected. Please change the shape of y to (n_samples,), for example using ravel().\n",
      "  return self._fit(X, y)\n",
      "/opt/homebrew/lib/python3.10/site-packages/sklearn/neighbors/_classification.py:233: DataConversionWarning: A column-vector y was passed when a 1d array was expected. Please change the shape of y to (n_samples,), for example using ravel().\n",
      "  return self._fit(X, y)\n",
      "/opt/homebrew/lib/python3.10/site-packages/sklearn/neighbors/_classification.py:233: DataConversionWarning: A column-vector y was passed when a 1d array was expected. Please change the shape of y to (n_samples,), for example using ravel().\n",
      "  return self._fit(X, y)\n",
      "/opt/homebrew/lib/python3.10/site-packages/sklearn/neighbors/_classification.py:233: DataConversionWarning: A column-vector y was passed when a 1d array was expected. Please change the shape of y to (n_samples,), for example using ravel().\n",
      "  return self._fit(X, y)\n",
      "/opt/homebrew/lib/python3.10/site-packages/sklearn/neighbors/_classification.py:233: DataConversionWarning: A column-vector y was passed when a 1d array was expected. Please change the shape of y to (n_samples,), for example using ravel().\n",
      "  return self._fit(X, y)\n",
      "/opt/homebrew/lib/python3.10/site-packages/sklearn/neighbors/_classification.py:233: DataConversionWarning: A column-vector y was passed when a 1d array was expected. Please change the shape of y to (n_samples,), for example using ravel().\n",
      "  return self._fit(X, y)\n",
      "/opt/homebrew/lib/python3.10/site-packages/sklearn/neighbors/_classification.py:233: DataConversionWarning: A column-vector y was passed when a 1d array was expected. Please change the shape of y to (n_samples,), for example using ravel().\n",
      "  return self._fit(X, y)\n",
      "/opt/homebrew/lib/python3.10/site-packages/sklearn/neighbors/_classification.py:233: DataConversionWarning: A column-vector y was passed when a 1d array was expected. Please change the shape of y to (n_samples,), for example using ravel().\n",
      "  return self._fit(X, y)\n",
      "/opt/homebrew/lib/python3.10/site-packages/sklearn/neighbors/_classification.py:233: DataConversionWarning: A column-vector y was passed when a 1d array was expected. Please change the shape of y to (n_samples,), for example using ravel().\n",
      "  return self._fit(X, y)\n",
      "/opt/homebrew/lib/python3.10/site-packages/sklearn/neighbors/_classification.py:233: DataConversionWarning: A column-vector y was passed when a 1d array was expected. Please change the shape of y to (n_samples,), for example using ravel().\n",
      "  return self._fit(X, y)\n",
      "/opt/homebrew/lib/python3.10/site-packages/sklearn/neighbors/_classification.py:233: DataConversionWarning: A column-vector y was passed when a 1d array was expected. Please change the shape of y to (n_samples,), for example using ravel().\n",
      "  return self._fit(X, y)\n",
      "/opt/homebrew/lib/python3.10/site-packages/sklearn/neighbors/_classification.py:233: DataConversionWarning: A column-vector y was passed when a 1d array was expected. Please change the shape of y to (n_samples,), for example using ravel().\n",
      "  return self._fit(X, y)\n",
      "/opt/homebrew/lib/python3.10/site-packages/sklearn/neighbors/_classification.py:233: DataConversionWarning: A column-vector y was passed when a 1d array was expected. Please change the shape of y to (n_samples,), for example using ravel().\n",
      "  return self._fit(X, y)\n",
      "/opt/homebrew/lib/python3.10/site-packages/sklearn/neighbors/_classification.py:233: DataConversionWarning: A column-vector y was passed when a 1d array was expected. Please change the shape of y to (n_samples,), for example using ravel().\n",
      "  return self._fit(X, y)\n",
      "/opt/homebrew/lib/python3.10/site-packages/sklearn/neighbors/_classification.py:233: DataConversionWarning: A column-vector y was passed when a 1d array was expected. Please change the shape of y to (n_samples,), for example using ravel().\n",
      "  return self._fit(X, y)\n",
      "/opt/homebrew/lib/python3.10/site-packages/sklearn/neighbors/_classification.py:233: DataConversionWarning: A column-vector y was passed when a 1d array was expected. Please change the shape of y to (n_samples,), for example using ravel().\n",
      "  return self._fit(X, y)\n",
      "/opt/homebrew/lib/python3.10/site-packages/sklearn/neighbors/_classification.py:233: DataConversionWarning: A column-vector y was passed when a 1d array was expected. Please change the shape of y to (n_samples,), for example using ravel().\n",
      "  return self._fit(X, y)\n",
      "/opt/homebrew/lib/python3.10/site-packages/sklearn/neighbors/_classification.py:233: DataConversionWarning: A column-vector y was passed when a 1d array was expected. Please change the shape of y to (n_samples,), for example using ravel().\n",
      "  return self._fit(X, y)\n",
      "/opt/homebrew/lib/python3.10/site-packages/sklearn/neighbors/_classification.py:233: DataConversionWarning: A column-vector y was passed when a 1d array was expected. Please change the shape of y to (n_samples,), for example using ravel().\n",
      "  return self._fit(X, y)\n",
      "/opt/homebrew/lib/python3.10/site-packages/sklearn/neighbors/_classification.py:233: DataConversionWarning: A column-vector y was passed when a 1d array was expected. Please change the shape of y to (n_samples,), for example using ravel().\n",
      "  return self._fit(X, y)\n",
      "/opt/homebrew/lib/python3.10/site-packages/sklearn/neighbors/_classification.py:233: DataConversionWarning: A column-vector y was passed when a 1d array was expected. Please change the shape of y to (n_samples,), for example using ravel().\n",
      "  return self._fit(X, y)\n",
      "/opt/homebrew/lib/python3.10/site-packages/sklearn/neighbors/_classification.py:233: DataConversionWarning: A column-vector y was passed when a 1d array was expected. Please change the shape of y to (n_samples,), for example using ravel().\n",
      "  return self._fit(X, y)\n"
     ]
    },
    {
     "name": "stdout",
     "output_type": "stream",
     "text": [
      "[CV 4/5] END algorithm=kd_tree, metric=manhattan, n_neighbors=89, p=2, weights=uniform;, score=0.777 total time=   0.8s\n",
      "[CV 2/5] END algorithm=kd_tree, metric=manhattan, n_neighbors=89, p=2, weights=uniform;, score=0.763 total time=   0.9s\n"
     ]
    },
    {
     "name": "stderr",
     "output_type": "stream",
     "text": [
      "/opt/homebrew/lib/python3.10/site-packages/sklearn/neighbors/_classification.py:233: DataConversionWarning: A column-vector y was passed when a 1d array was expected. Please change the shape of y to (n_samples,), for example using ravel().\n",
      "  return self._fit(X, y)\n",
      "/opt/homebrew/lib/python3.10/site-packages/sklearn/neighbors/_classification.py:233: DataConversionWarning: A column-vector y was passed when a 1d array was expected. Please change the shape of y to (n_samples,), for example using ravel().\n",
      "  return self._fit(X, y)\n"
     ]
    },
    {
     "name": "stdout",
     "output_type": "stream",
     "text": [
      "[CV 4/5] END algorithm=kd_tree, metric=manhattan, n_neighbors=89, p=2, weights=distance;, score=0.787 total time=   0.8s\n",
      "[CV 1/5] END algorithm=kd_tree, metric=manhattan, n_neighbors=89, p=2, weights=distance;, score=0.767 total time=   0.8s\n",
      "[CV 5/5] END algorithm=kd_tree, metric=manhattan, n_neighbors=89, p=2, weights=distance;, score=0.791 total time=   0.7s\n",
      "[CV 1/5] END algorithm=brute, metric=cityblock, n_neighbors=89, p=1, weights=uniform;, score=0.758 total time=   0.5s\n",
      "[CV 2/5] END algorithm=brute, metric=cityblock, n_neighbors=89, p=1, weights=uniform;, score=0.763 total time=   0.5s\n",
      "[CV 3/5] END algorithm=brute, metric=cityblock, n_neighbors=89, p=1, weights=uniform;, score=0.781 total time=   0.5s\n"
     ]
    },
    {
     "name": "stderr",
     "output_type": "stream",
     "text": [
      "/opt/homebrew/lib/python3.10/site-packages/sklearn/neighbors/_classification.py:233: DataConversionWarning: A column-vector y was passed when a 1d array was expected. Please change the shape of y to (n_samples,), for example using ravel().\n",
      "  return self._fit(X, y)\n",
      "/opt/homebrew/lib/python3.10/site-packages/sklearn/neighbors/_classification.py:233: DataConversionWarning: A column-vector y was passed when a 1d array was expected. Please change the shape of y to (n_samples,), for example using ravel().\n",
      "  return self._fit(X, y)\n",
      "/opt/homebrew/lib/python3.10/site-packages/sklearn/neighbors/_classification.py:233: DataConversionWarning: A column-vector y was passed when a 1d array was expected. Please change the shape of y to (n_samples,), for example using ravel().\n",
      "  return self._fit(X, y)\n",
      "/opt/homebrew/lib/python3.10/site-packages/sklearn/neighbors/_classification.py:233: DataConversionWarning: A column-vector y was passed when a 1d array was expected. Please change the shape of y to (n_samples,), for example using ravel().\n",
      "  return self._fit(X, y)\n",
      "/opt/homebrew/lib/python3.10/site-packages/sklearn/neighbors/_classification.py:233: DataConversionWarning: A column-vector y was passed when a 1d array was expected. Please change the shape of y to (n_samples,), for example using ravel().\n",
      "  return self._fit(X, y)\n",
      "/opt/homebrew/lib/python3.10/site-packages/sklearn/neighbors/_classification.py:233: DataConversionWarning: A column-vector y was passed when a 1d array was expected. Please change the shape of y to (n_samples,), for example using ravel().\n",
      "  return self._fit(X, y)\n"
     ]
    },
    {
     "name": "stdout",
     "output_type": "stream",
     "text": [
      "[CV 4/5] END algorithm=brute, metric=cityblock, n_neighbors=89, p=1, weights=uniform;, score=0.777 total time=   0.5s\n",
      "[CV 5/5] END algorithm=brute, metric=cityblock, n_neighbors=89, p=1, weights=uniform;, score=0.783 total time=   0.5s\n",
      "[CV 2/5] END algorithm=brute, metric=cityblock, n_neighbors=89, p=1, weights=distance;, score=0.774 total time=   0.4s\n"
     ]
    },
    {
     "name": "stderr",
     "output_type": "stream",
     "text": [
      "/opt/homebrew/lib/python3.10/site-packages/sklearn/neighbors/_classification.py:233: DataConversionWarning: A column-vector y was passed when a 1d array was expected. Please change the shape of y to (n_samples,), for example using ravel().\n",
      "  return self._fit(X, y)\n",
      "/opt/homebrew/lib/python3.10/site-packages/sklearn/neighbors/_classification.py:233: DataConversionWarning: A column-vector y was passed when a 1d array was expected. Please change the shape of y to (n_samples,), for example using ravel().\n",
      "  return self._fit(X, y)\n",
      "/opt/homebrew/lib/python3.10/site-packages/sklearn/neighbors/_classification.py:233: DataConversionWarning: A column-vector y was passed when a 1d array was expected. Please change the shape of y to (n_samples,), for example using ravel().\n",
      "  return self._fit(X, y)\n"
     ]
    },
    {
     "name": "stdout",
     "output_type": "stream",
     "text": [
      "[CV 1/5] END algorithm=brute, metric=cityblock, n_neighbors=89, p=1, weights=distance;, score=0.767 total time=   0.5s\n",
      "[CV 3/5] END algorithm=brute, metric=cityblock, n_neighbors=89, p=2, weights=uniform;, score=0.781 total time=   0.4s\n",
      "[CV 3/5] END algorithm=brute, metric=cityblock, n_neighbors=89, p=1, weights=distance;, score=0.787 total time=   0.5s\n",
      "[CV 1/5] END algorithm=brute, metric=cityblock, n_neighbors=89, p=2, weights=uniform;, score=0.758 total time=   0.5s\n"
     ]
    },
    {
     "name": "stderr",
     "output_type": "stream",
     "text": [
      "/opt/homebrew/lib/python3.10/site-packages/sklearn/neighbors/_classification.py:233: DataConversionWarning: A column-vector y was passed when a 1d array was expected. Please change the shape of y to (n_samples,), for example using ravel().\n",
      "  return self._fit(X, y)\n",
      "/opt/homebrew/lib/python3.10/site-packages/sklearn/neighbors/_classification.py:233: DataConversionWarning: A column-vector y was passed when a 1d array was expected. Please change the shape of y to (n_samples,), for example using ravel().\n",
      "  return self._fit(X, y)\n",
      "/opt/homebrew/lib/python3.10/site-packages/sklearn/neighbors/_classification.py:233: DataConversionWarning: A column-vector y was passed when a 1d array was expected. Please change the shape of y to (n_samples,), for example using ravel().\n",
      "  return self._fit(X, y)\n",
      "/opt/homebrew/lib/python3.10/site-packages/sklearn/neighbors/_classification.py:233: DataConversionWarning: A column-vector y was passed when a 1d array was expected. Please change the shape of y to (n_samples,), for example using ravel().\n",
      "  return self._fit(X, y)\n",
      "/opt/homebrew/lib/python3.10/site-packages/sklearn/neighbors/_classification.py:233: DataConversionWarning: A column-vector y was passed when a 1d array was expected. Please change the shape of y to (n_samples,), for example using ravel().\n",
      "  return self._fit(X, y)\n"
     ]
    },
    {
     "name": "stdout",
     "output_type": "stream",
     "text": [
      "[CV 1/5] END algorithm=brute, metric=cosine, n_neighbors=89, p=1, weights=uniform;, score=0.757 total time=   0.2s\n",
      "[CV 4/5] END algorithm=brute, metric=cityblock, n_neighbors=89, p=1, weights=distance;, score=0.787 total time=   0.6s\n",
      "[CV 5/5] END algorithm=brute, metric=cityblock, n_neighbors=89, p=2, weights=uniform;, score=0.783 total time=   0.5s\n",
      "[CV 2/5] END algorithm=brute, metric=cosine, n_neighbors=89, p=1, weights=uniform;, score=0.767 total time=   0.1s\n",
      "[CV 3/5] END algorithm=brute, metric=cosine, n_neighbors=89, p=1, weights=uniform;, score=0.772 total time=   0.2s\n",
      "[CV 2/5] END algorithm=brute, metric=cityblock, n_neighbors=89, p=2, weights=distance;, score=0.774 total time=   0.5s\n"
     ]
    },
    {
     "name": "stderr",
     "output_type": "stream",
     "text": [
      "/opt/homebrew/lib/python3.10/site-packages/sklearn/neighbors/_classification.py:233: DataConversionWarning: A column-vector y was passed when a 1d array was expected. Please change the shape of y to (n_samples,), for example using ravel().\n",
      "  return self._fit(X, y)\n",
      "/opt/homebrew/lib/python3.10/site-packages/sklearn/neighbors/_classification.py:233: DataConversionWarning: A column-vector y was passed when a 1d array was expected. Please change the shape of y to (n_samples,), for example using ravel().\n",
      "  return self._fit(X, y)\n",
      "/opt/homebrew/lib/python3.10/site-packages/sklearn/neighbors/_classification.py:233: DataConversionWarning: A column-vector y was passed when a 1d array was expected. Please change the shape of y to (n_samples,), for example using ravel().\n",
      "  return self._fit(X, y)\n",
      "/opt/homebrew/lib/python3.10/site-packages/sklearn/neighbors/_classification.py:233: DataConversionWarning: A column-vector y was passed when a 1d array was expected. Please change the shape of y to (n_samples,), for example using ravel().\n",
      "  return self._fit(X, y)\n",
      "/opt/homebrew/lib/python3.10/site-packages/sklearn/neighbors/_classification.py:233: DataConversionWarning: A column-vector y was passed when a 1d array was expected. Please change the shape of y to (n_samples,), for example using ravel().\n",
      "  return self._fit(X, y)\n",
      "/opt/homebrew/lib/python3.10/site-packages/sklearn/neighbors/_classification.py:233: DataConversionWarning: A column-vector y was passed when a 1d array was expected. Please change the shape of y to (n_samples,), for example using ravel().\n",
      "  return self._fit(X, y)\n"
     ]
    },
    {
     "name": "stdout",
     "output_type": "stream",
     "text": [
      "[CV 4/5] END algorithm=brute, metric=cityblock, n_neighbors=89, p=2, weights=distance;, score=0.787 total time=   0.4s\n",
      "[CV 4/5] END algorithm=brute, metric=cosine, n_neighbors=89, p=1, weights=uniform;, score=0.767 total time=   0.1s\n",
      "[CV 5/5] END algorithm=brute, metric=cosine, n_neighbors=89, p=1, weights=uniform;, score=0.783 total time=   0.2s\n",
      "[CV 4/5] END algorithm=brute, metric=cityblock, n_neighbors=89, p=2, weights=uniform;, score=0.777 total time=   0.5s\n"
     ]
    },
    {
     "name": "stderr",
     "output_type": "stream",
     "text": [
      "/opt/homebrew/lib/python3.10/site-packages/sklearn/neighbors/_classification.py:233: DataConversionWarning: A column-vector y was passed when a 1d array was expected. Please change the shape of y to (n_samples,), for example using ravel().\n",
      "  return self._fit(X, y)\n",
      "/opt/homebrew/lib/python3.10/site-packages/sklearn/neighbors/_classification.py:233: DataConversionWarning: A column-vector y was passed when a 1d array was expected. Please change the shape of y to (n_samples,), for example using ravel().\n",
      "  return self._fit(X, y)\n",
      "/opt/homebrew/lib/python3.10/site-packages/sklearn/neighbors/_classification.py:233: DataConversionWarning: A column-vector y was passed when a 1d array was expected. Please change the shape of y to (n_samples,), for example using ravel().\n",
      "  return self._fit(X, y)\n",
      "/opt/homebrew/lib/python3.10/site-packages/sklearn/neighbors/_classification.py:233: DataConversionWarning: A column-vector y was passed when a 1d array was expected. Please change the shape of y to (n_samples,), for example using ravel().\n",
      "  return self._fit(X, y)\n",
      "/opt/homebrew/lib/python3.10/site-packages/sklearn/neighbors/_classification.py:233: DataConversionWarning: A column-vector y was passed when a 1d array was expected. Please change the shape of y to (n_samples,), for example using ravel().\n",
      "  return self._fit(X, y)\n",
      "/opt/homebrew/lib/python3.10/site-packages/sklearn/neighbors/_classification.py:233: DataConversionWarning: A column-vector y was passed when a 1d array was expected. Please change the shape of y to (n_samples,), for example using ravel().\n",
      "  return self._fit(X, y)\n",
      "/opt/homebrew/lib/python3.10/site-packages/sklearn/neighbors/_classification.py:233: DataConversionWarning: A column-vector y was passed when a 1d array was expected. Please change the shape of y to (n_samples,), for example using ravel().\n",
      "  return self._fit(X, y)\n"
     ]
    },
    {
     "name": "stdout",
     "output_type": "stream",
     "text": [
      "[CV 1/5] END algorithm=brute, metric=cosine, n_neighbors=89, p=1, weights=distance;, score=0.777 total time=   0.1s\n",
      "[CV 2/5] END algorithm=brute, metric=cityblock, n_neighbors=89, p=2, weights=uniform;, score=0.763 total time=   0.5s\n",
      "[CV 2/5] END algorithm=brute, metric=cosine, n_neighbors=89, p=1, weights=distance;, score=0.787 total time=   0.2s\n",
      "[CV 3/5] END algorithm=brute, metric=cosine, n_neighbors=89, p=1, weights=distance;, score=0.797 total time=   0.1s\n",
      "[CV 5/5] END algorithm=brute, metric=cityblock, n_neighbors=89, p=1, weights=distance;, score=0.791 total time=   0.5s\n",
      "[CV 1/5] END algorithm=brute, metric=cityblock, n_neighbors=89, p=2, weights=distance;, score=0.767 total time=   0.5s\n",
      "[CV 4/5] END algorithm=brute, metric=cosine, n_neighbors=89, p=1, weights=distance;, score=0.801 total time=   0.1s\n"
     ]
    },
    {
     "name": "stderr",
     "output_type": "stream",
     "text": [
      "/opt/homebrew/lib/python3.10/site-packages/sklearn/neighbors/_classification.py:233: DataConversionWarning: A column-vector y was passed when a 1d array was expected. Please change the shape of y to (n_samples,), for example using ravel().\n",
      "  return self._fit(X, y)\n",
      "/opt/homebrew/lib/python3.10/site-packages/sklearn/neighbors/_classification.py:233: DataConversionWarning: A column-vector y was passed when a 1d array was expected. Please change the shape of y to (n_samples,), for example using ravel().\n",
      "  return self._fit(X, y)\n",
      "/opt/homebrew/lib/python3.10/site-packages/sklearn/neighbors/_classification.py:233: DataConversionWarning: A column-vector y was passed when a 1d array was expected. Please change the shape of y to (n_samples,), for example using ravel().\n",
      "  return self._fit(X, y)\n",
      "/opt/homebrew/lib/python3.10/site-packages/sklearn/neighbors/_classification.py:233: DataConversionWarning: A column-vector y was passed when a 1d array was expected. Please change the shape of y to (n_samples,), for example using ravel().\n",
      "  return self._fit(X, y)\n",
      "/opt/homebrew/lib/python3.10/site-packages/sklearn/neighbors/_classification.py:233: DataConversionWarning: A column-vector y was passed when a 1d array was expected. Please change the shape of y to (n_samples,), for example using ravel().\n",
      "  return self._fit(X, y)\n",
      "/opt/homebrew/lib/python3.10/site-packages/sklearn/neighbors/_classification.py:233: DataConversionWarning: A column-vector y was passed when a 1d array was expected. Please change the shape of y to (n_samples,), for example using ravel().\n",
      "  return self._fit(X, y)\n",
      "/opt/homebrew/lib/python3.10/site-packages/sklearn/neighbors/_classification.py:233: DataConversionWarning: A column-vector y was passed when a 1d array was expected. Please change the shape of y to (n_samples,), for example using ravel().\n",
      "  return self._fit(X, y)\n",
      "/opt/homebrew/lib/python3.10/site-packages/sklearn/neighbors/_classification.py:233: DataConversionWarning: A column-vector y was passed when a 1d array was expected. Please change the shape of y to (n_samples,), for example using ravel().\n",
      "  return self._fit(X, y)\n"
     ]
    },
    {
     "name": "stdout",
     "output_type": "stream",
     "text": [
      "[CV 5/5] END algorithm=brute, metric=cosine, n_neighbors=89, p=1, weights=distance;, score=0.801 total time=   0.2s\n",
      "[CV 2/5] END algorithm=brute, metric=cosine, n_neighbors=89, p=2, weights=uniform;, score=0.767 total time=   0.2s\n",
      "[CV 3/5] END algorithm=brute, metric=cityblock, n_neighbors=89, p=2, weights=distance;, score=0.787 total time=   0.5s\n",
      "[CV 1/5] END algorithm=brute, metric=cosine, n_neighbors=89, p=2, weights=uniform;, score=0.757 total time=   0.2s\n",
      "[CV 3/5] END algorithm=brute, metric=cosine, n_neighbors=89, p=2, weights=uniform;, score=0.772 total time=   0.2s\n",
      "[CV 4/5] END algorithm=brute, metric=cosine, n_neighbors=89, p=2, weights=uniform;, score=0.767 total time=   0.2s\n",
      "[CV 5/5] END algorithm=brute, metric=cityblock, n_neighbors=89, p=2, weights=distance;, score=0.791 total time=   0.5s\n",
      "[CV 5/5] END algorithm=brute, metric=cosine, n_neighbors=89, p=2, weights=uniform;, score=0.783 total time=   0.2s\n",
      "[CV 1/5] END algorithm=brute, metric=cosine, n_neighbors=89, p=2, weights=distance;, score=0.777 total time=   0.1s\n",
      "[CV 3/5] END algorithm=brute, metric=cosine, n_neighbors=89, p=2, weights=distance;, score=0.797 total time=   0.2s\n",
      "[CV 2/5] END algorithm=brute, metric=cosine, n_neighbors=89, p=2, weights=distance;, score=0.787 total time=   0.2s\n"
     ]
    },
    {
     "name": "stderr",
     "output_type": "stream",
     "text": [
      "/opt/homebrew/lib/python3.10/site-packages/sklearn/neighbors/_classification.py:233: DataConversionWarning: A column-vector y was passed when a 1d array was expected. Please change the shape of y to (n_samples,), for example using ravel().\n",
      "  return self._fit(X, y)\n",
      "/opt/homebrew/lib/python3.10/site-packages/sklearn/neighbors/_classification.py:233: DataConversionWarning: A column-vector y was passed when a 1d array was expected. Please change the shape of y to (n_samples,), for example using ravel().\n",
      "  return self._fit(X, y)\n",
      "/opt/homebrew/lib/python3.10/site-packages/sklearn/neighbors/_classification.py:233: DataConversionWarning: A column-vector y was passed when a 1d array was expected. Please change the shape of y to (n_samples,), for example using ravel().\n",
      "  return self._fit(X, y)\n",
      "/opt/homebrew/lib/python3.10/site-packages/sklearn/neighbors/_classification.py:233: DataConversionWarning: A column-vector y was passed when a 1d array was expected. Please change the shape of y to (n_samples,), for example using ravel().\n",
      "  return self._fit(X, y)\n",
      "/opt/homebrew/lib/python3.10/site-packages/sklearn/neighbors/_classification.py:233: DataConversionWarning: A column-vector y was passed when a 1d array was expected. Please change the shape of y to (n_samples,), for example using ravel().\n",
      "  return self._fit(X, y)\n",
      "/opt/homebrew/lib/python3.10/site-packages/sklearn/neighbors/_classification.py:233: DataConversionWarning: A column-vector y was passed when a 1d array was expected. Please change the shape of y to (n_samples,), for example using ravel().\n",
      "  return self._fit(X, y)\n",
      "/opt/homebrew/lib/python3.10/site-packages/sklearn/neighbors/_classification.py:233: DataConversionWarning: A column-vector y was passed when a 1d array was expected. Please change the shape of y to (n_samples,), for example using ravel().\n",
      "  return self._fit(X, y)\n",
      "/opt/homebrew/lib/python3.10/site-packages/sklearn/neighbors/_classification.py:233: DataConversionWarning: A column-vector y was passed when a 1d array was expected. Please change the shape of y to (n_samples,), for example using ravel().\n",
      "  return self._fit(X, y)\n",
      "/opt/homebrew/lib/python3.10/site-packages/sklearn/neighbors/_classification.py:233: DataConversionWarning: A column-vector y was passed when a 1d array was expected. Please change the shape of y to (n_samples,), for example using ravel().\n",
      "  return self._fit(X, y)\n",
      "/opt/homebrew/lib/python3.10/site-packages/sklearn/neighbors/_classification.py:233: DataConversionWarning: A column-vector y was passed when a 1d array was expected. Please change the shape of y to (n_samples,), for example using ravel().\n",
      "  return self._fit(X, y)\n",
      "/opt/homebrew/lib/python3.10/site-packages/sklearn/neighbors/_classification.py:233: DataConversionWarning: A column-vector y was passed when a 1d array was expected. Please change the shape of y to (n_samples,), for example using ravel().\n",
      "  return self._fit(X, y)\n",
      "/opt/homebrew/lib/python3.10/site-packages/sklearn/neighbors/_classification.py:233: DataConversionWarning: A column-vector y was passed when a 1d array was expected. Please change the shape of y to (n_samples,), for example using ravel().\n",
      "  return self._fit(X, y)\n"
     ]
    },
    {
     "name": "stdout",
     "output_type": "stream",
     "text": [
      "[CV 5/5] END algorithm=brute, metric=cosine, n_neighbors=89, p=2, weights=distance;, score=0.801 total time=   0.2s\n",
      "[CV 2/5] END algorithm=brute, metric=euclidean, n_neighbors=89, p=1, weights=uniform;, score=0.761 total time=   0.1s\n",
      "[CV 4/5] END algorithm=brute, metric=cosine, n_neighbors=89, p=2, weights=distance;, score=0.801 total time=   0.2s\n",
      "[CV 1/5] END algorithm=brute, metric=euclidean, n_neighbors=89, p=1, weights=uniform;, score=0.751 total time=   0.1s\n",
      "[CV 3/5] END algorithm=brute, metric=euclidean, n_neighbors=89, p=1, weights=uniform;, score=0.765 total time=   0.2s\n",
      "[CV 4/5] END algorithm=brute, metric=euclidean, n_neighbors=89, p=1, weights=uniform;, score=0.776 total time=   0.1s\n",
      "[CV 2/5] END algorithm=brute, metric=euclidean, n_neighbors=89, p=1, weights=distance;, score=0.774 total time=   0.1s\n",
      "[CV 1/5] END algorithm=brute, metric=euclidean, n_neighbors=89, p=1, weights=distance;, score=0.759 total time=   0.1s\n",
      "[CV 3/5] END algorithm=brute, metric=euclidean, n_neighbors=89, p=1, weights=distance;, score=0.777 total time=   0.1s\n",
      "[CV 5/5] END algorithm=brute, metric=euclidean, n_neighbors=89, p=1, weights=uniform;, score=0.779 total time=   0.2s\n",
      "[CV 5/5] END algorithm=brute, metric=euclidean, n_neighbors=89, p=1, weights=distance;, score=0.791 total time=   0.1s\n",
      "[CV 4/5] END algorithm=brute, metric=euclidean, n_neighbors=89, p=1, weights=distance;, score=0.792 total time=   0.1s\n",
      "[CV 1/5] END algorithm=brute, metric=euclidean, n_neighbors=89, p=2, weights=uniform;, score=0.751 total time=   0.1s\n"
     ]
    },
    {
     "name": "stderr",
     "output_type": "stream",
     "text": [
      "/opt/homebrew/lib/python3.10/site-packages/sklearn/neighbors/_classification.py:233: DataConversionWarning: A column-vector y was passed when a 1d array was expected. Please change the shape of y to (n_samples,), for example using ravel().\n",
      "  return self._fit(X, y)\n",
      "/opt/homebrew/lib/python3.10/site-packages/sklearn/neighbors/_classification.py:233: DataConversionWarning: A column-vector y was passed when a 1d array was expected. Please change the shape of y to (n_samples,), for example using ravel().\n",
      "  return self._fit(X, y)\n",
      "/opt/homebrew/lib/python3.10/site-packages/sklearn/neighbors/_classification.py:233: DataConversionWarning: A column-vector y was passed when a 1d array was expected. Please change the shape of y to (n_samples,), for example using ravel().\n",
      "  return self._fit(X, y)\n",
      "/opt/homebrew/lib/python3.10/site-packages/sklearn/neighbors/_classification.py:233: DataConversionWarning: A column-vector y was passed when a 1d array was expected. Please change the shape of y to (n_samples,), for example using ravel().\n",
      "  return self._fit(X, y)\n",
      "/opt/homebrew/lib/python3.10/site-packages/sklearn/neighbors/_classification.py:233: DataConversionWarning: A column-vector y was passed when a 1d array was expected. Please change the shape of y to (n_samples,), for example using ravel().\n",
      "  return self._fit(X, y)\n",
      "/opt/homebrew/lib/python3.10/site-packages/sklearn/neighbors/_classification.py:233: DataConversionWarning: A column-vector y was passed when a 1d array was expected. Please change the shape of y to (n_samples,), for example using ravel().\n",
      "  return self._fit(X, y)\n",
      "/opt/homebrew/lib/python3.10/site-packages/sklearn/neighbors/_classification.py:233: DataConversionWarning: A column-vector y was passed when a 1d array was expected. Please change the shape of y to (n_samples,), for example using ravel().\n",
      "  return self._fit(X, y)\n",
      "/opt/homebrew/lib/python3.10/site-packages/sklearn/neighbors/_classification.py:233: DataConversionWarning: A column-vector y was passed when a 1d array was expected. Please change the shape of y to (n_samples,), for example using ravel().\n",
      "  return self._fit(X, y)\n",
      "/opt/homebrew/lib/python3.10/site-packages/sklearn/neighbors/_classification.py:233: DataConversionWarning: A column-vector y was passed when a 1d array was expected. Please change the shape of y to (n_samples,), for example using ravel().\n",
      "  return self._fit(X, y)\n",
      "/opt/homebrew/lib/python3.10/site-packages/sklearn/model_selection/_validation.py:821: UserWarning: Scoring failed. The score on this train-test partition for these parameters will be set to nan. Details: \n",
      "Traceback (most recent call last):\n",
      "  File \"/opt/homebrew/lib/python3.10/site-packages/sklearn/model_selection/_validation.py\", line 810, in _score\n",
      "    scores = scorer(estimator, X_test, y_test)\n",
      "  File \"/opt/homebrew/lib/python3.10/site-packages/sklearn/metrics/_scorer.py\", line 527, in __call__\n",
      "    return estimator.score(*args, **kwargs)\n",
      "  File \"/opt/homebrew/lib/python3.10/site-packages/sklearn/base.py\", line 706, in score\n",
      "    return accuracy_score(y, self.predict(X), sample_weight=sample_weight)\n",
      "  File \"/opt/homebrew/lib/python3.10/site-packages/sklearn/neighbors/_classification.py\", line 254, in predict\n",
      "    probabilities = self.predict_proba(X)\n",
      "  File \"/opt/homebrew/lib/python3.10/site-packages/sklearn/neighbors/_classification.py\", line 332, in predict_proba\n",
      "    probabilities = ArgKminClassMode.compute(\n",
      "  File \"/opt/homebrew/lib/python3.10/site-packages/sklearn/metrics/_pairwise_distances_reduction/_dispatcher.py\", line 585, in compute\n",
      "    return ArgKminClassMode64.compute(\n",
      "  File \"sklearn/metrics/_pairwise_distances_reduction/_argkmin_classmode.pyx\", line 233, in sklearn.metrics._pairwise_distances_reduction._argkmin_classmode.ArgKminClassMode64.compute\n",
      "  File \"sklearn/metrics/_pairwise_distances_reduction/_datasets_pair.pyx\", line 93, in sklearn.metrics._pairwise_distances_reduction._datasets_pair.DatasetsPair64.get_for\n",
      "  File \"sklearn/metrics/_dist_metrics.pyx\", line 2618, in sklearn.metrics._dist_metrics.HaversineDistance64._validate_data\n",
      "ValueError: Haversine distance only valid in 2 dimensions\n",
      "\n",
      "  warnings.warn(\n",
      "/opt/homebrew/lib/python3.10/site-packages/sklearn/neighbors/_classification.py:233: DataConversionWarning: A column-vector y was passed when a 1d array was expected. Please change the shape of y to (n_samples,), for example using ravel().\n",
      "  return self._fit(X, y)\n",
      "/opt/homebrew/lib/python3.10/site-packages/sklearn/model_selection/_validation.py:821: UserWarning: Scoring failed. The score on this train-test partition for these parameters will be set to nan. Details: \n",
      "Traceback (most recent call last):\n",
      "  File \"/opt/homebrew/lib/python3.10/site-packages/sklearn/model_selection/_validation.py\", line 810, in _score\n",
      "    scores = scorer(estimator, X_test, y_test)\n",
      "  File \"/opt/homebrew/lib/python3.10/site-packages/sklearn/metrics/_scorer.py\", line 527, in __call__\n",
      "    return estimator.score(*args, **kwargs)\n",
      "  File \"/opt/homebrew/lib/python3.10/site-packages/sklearn/base.py\", line 706, in score\n",
      "    return accuracy_score(y, self.predict(X), sample_weight=sample_weight)\n",
      "  File \"/opt/homebrew/lib/python3.10/site-packages/sklearn/neighbors/_classification.py\", line 254, in predict\n",
      "    probabilities = self.predict_proba(X)\n",
      "  File \"/opt/homebrew/lib/python3.10/site-packages/sklearn/neighbors/_classification.py\", line 332, in predict_proba\n",
      "    probabilities = ArgKminClassMode.compute(\n",
      "  File \"/opt/homebrew/lib/python3.10/site-packages/sklearn/metrics/_pairwise_distances_reduction/_dispatcher.py\", line 585, in compute\n",
      "    return ArgKminClassMode64.compute(\n",
      "  File \"sklearn/metrics/_pairwise_distances_reduction/_argkmin_classmode.pyx\", line 233, in sklearn.metrics._pairwise_distances_reduction._argkmin_classmode.ArgKminClassMode64.compute\n",
      "  File \"sklearn/metrics/_pairwise_distances_reduction/_datasets_pair.pyx\", line 93, in sklearn.metrics._pairwise_distances_reduction._datasets_pair.DatasetsPair64.get_for\n",
      "  File \"sklearn/metrics/_dist_metrics.pyx\", line 2618, in sklearn.metrics._dist_metrics.HaversineDistance64._validate_data\n",
      "ValueError: Haversine distance only valid in 2 dimensions\n",
      "\n",
      "  warnings.warn(\n",
      "/opt/homebrew/lib/python3.10/site-packages/sklearn/neighbors/_classification.py:233: DataConversionWarning: A column-vector y was passed when a 1d array was expected. Please change the shape of y to (n_samples,), for example using ravel().\n",
      "  return self._fit(X, y)\n",
      "/opt/homebrew/lib/python3.10/site-packages/sklearn/model_selection/_validation.py:821: UserWarning: Scoring failed. The score on this train-test partition for these parameters will be set to nan. Details: \n",
      "Traceback (most recent call last):\n",
      "  File \"/opt/homebrew/lib/python3.10/site-packages/sklearn/model_selection/_validation.py\", line 810, in _score\n",
      "    scores = scorer(estimator, X_test, y_test)\n",
      "  File \"/opt/homebrew/lib/python3.10/site-packages/sklearn/metrics/_scorer.py\", line 527, in __call__\n",
      "    return estimator.score(*args, **kwargs)\n",
      "  File \"/opt/homebrew/lib/python3.10/site-packages/sklearn/base.py\", line 706, in score\n",
      "    return accuracy_score(y, self.predict(X), sample_weight=sample_weight)\n",
      "  File \"/opt/homebrew/lib/python3.10/site-packages/sklearn/neighbors/_classification.py\", line 254, in predict\n",
      "    probabilities = self.predict_proba(X)\n",
      "  File \"/opt/homebrew/lib/python3.10/site-packages/sklearn/neighbors/_classification.py\", line 332, in predict_proba\n",
      "    probabilities = ArgKminClassMode.compute(\n",
      "  File \"/opt/homebrew/lib/python3.10/site-packages/sklearn/metrics/_pairwise_distances_reduction/_dispatcher.py\", line 585, in compute\n",
      "    return ArgKminClassMode64.compute(\n",
      "  File \"sklearn/metrics/_pairwise_distances_reduction/_argkmin_classmode.pyx\", line 233, in sklearn.metrics._pairwise_distances_reduction._argkmin_classmode.ArgKminClassMode64.compute\n",
      "  File \"sklearn/metrics/_pairwise_distances_reduction/_datasets_pair.pyx\", line 93, in sklearn.metrics._pairwise_distances_reduction._datasets_pair.DatasetsPair64.get_for\n",
      "  File \"sklearn/metrics/_dist_metrics.pyx\", line 2618, in sklearn.metrics._dist_metrics.HaversineDistance64._validate_data\n",
      "ValueError: Haversine distance only valid in 2 dimensions\n",
      "\n",
      "  warnings.warn(\n",
      "/opt/homebrew/lib/python3.10/site-packages/sklearn/neighbors/_classification.py:233: DataConversionWarning: A column-vector y was passed when a 1d array was expected. Please change the shape of y to (n_samples,), for example using ravel().\n",
      "  return self._fit(X, y)\n",
      "/opt/homebrew/lib/python3.10/site-packages/sklearn/model_selection/_validation.py:821: UserWarning: Scoring failed. The score on this train-test partition for these parameters will be set to nan. Details: \n",
      "Traceback (most recent call last):\n",
      "  File \"/opt/homebrew/lib/python3.10/site-packages/sklearn/model_selection/_validation.py\", line 810, in _score\n",
      "    scores = scorer(estimator, X_test, y_test)\n",
      "  File \"/opt/homebrew/lib/python3.10/site-packages/sklearn/metrics/_scorer.py\", line 527, in __call__\n",
      "    return estimator.score(*args, **kwargs)\n",
      "  File \"/opt/homebrew/lib/python3.10/site-packages/sklearn/base.py\", line 706, in score\n",
      "    return accuracy_score(y, self.predict(X), sample_weight=sample_weight)\n",
      "  File \"/opt/homebrew/lib/python3.10/site-packages/sklearn/neighbors/_classification.py\", line 254, in predict\n",
      "    probabilities = self.predict_proba(X)\n",
      "  File \"/opt/homebrew/lib/python3.10/site-packages/sklearn/neighbors/_classification.py\", line 332, in predict_proba\n",
      "    probabilities = ArgKminClassMode.compute(\n",
      "  File \"/opt/homebrew/lib/python3.10/site-packages/sklearn/metrics/_pairwise_distances_reduction/_dispatcher.py\", line 585, in compute\n",
      "    return ArgKminClassMode64.compute(\n",
      "  File \"sklearn/metrics/_pairwise_distances_reduction/_argkmin_classmode.pyx\", line 233, in sklearn.metrics._pairwise_distances_reduction._argkmin_classmode.ArgKminClassMode64.compute\n",
      "  File \"sklearn/metrics/_pairwise_distances_reduction/_datasets_pair.pyx\", line 93, in sklearn.metrics._pairwise_distances_reduction._datasets_pair.DatasetsPair64.get_for\n",
      "  File \"sklearn/metrics/_dist_metrics.pyx\", line 2618, in sklearn.metrics._dist_metrics.HaversineDistance64._validate_data\n",
      "ValueError: Haversine distance only valid in 2 dimensions\n",
      "\n",
      "  warnings.warn(\n",
      "/opt/homebrew/lib/python3.10/site-packages/sklearn/neighbors/_classification.py:233: DataConversionWarning: A column-vector y was passed when a 1d array was expected. Please change the shape of y to (n_samples,), for example using ravel().\n",
      "  return self._fit(X, y)\n",
      "/opt/homebrew/lib/python3.10/site-packages/sklearn/neighbors/_classification.py:233: DataConversionWarning: A column-vector y was passed when a 1d array was expected. Please change the shape of y to (n_samples,), for example using ravel().\n",
      "  return self._fit(X, y)\n",
      "/opt/homebrew/lib/python3.10/site-packages/sklearn/model_selection/_validation.py:821: UserWarning: Scoring failed. The score on this train-test partition for these parameters will be set to nan. Details: \n",
      "Traceback (most recent call last):\n",
      "  File \"/opt/homebrew/lib/python3.10/site-packages/sklearn/model_selection/_validation.py\", line 810, in _score\n",
      "    scores = scorer(estimator, X_test, y_test)\n",
      "  File \"/opt/homebrew/lib/python3.10/site-packages/sklearn/metrics/_scorer.py\", line 527, in __call__\n",
      "    return estimator.score(*args, **kwargs)\n",
      "  File \"/opt/homebrew/lib/python3.10/site-packages/sklearn/base.py\", line 706, in score\n",
      "    return accuracy_score(y, self.predict(X), sample_weight=sample_weight)\n",
      "  File \"/opt/homebrew/lib/python3.10/site-packages/sklearn/neighbors/_classification.py\", line 269, in predict\n",
      "    neigh_dist, neigh_ind = self.kneighbors(X)\n",
      "  File \"/opt/homebrew/lib/python3.10/site-packages/sklearn/neighbors/_base.py\", line 822, in kneighbors\n",
      "    results = ArgKmin.compute(\n",
      "  File \"/opt/homebrew/lib/python3.10/site-packages/sklearn/metrics/_pairwise_distances_reduction/_dispatcher.py\", line 259, in compute\n",
      "    return ArgKmin64.compute(\n",
      "  File \"sklearn/metrics/_pairwise_distances_reduction/_argkmin.pyx\", line 82, in sklearn.metrics._pairwise_distances_reduction._argkmin.ArgKmin64.compute\n",
      "  File \"sklearn/metrics/_pairwise_distances_reduction/_datasets_pair.pyx\", line 93, in sklearn.metrics._pairwise_distances_reduction._datasets_pair.DatasetsPair64.get_for\n",
      "  File \"sklearn/metrics/_dist_metrics.pyx\", line 2618, in sklearn.metrics._dist_metrics.HaversineDistance64._validate_data\n",
      "ValueError: Haversine distance only valid in 2 dimensions\n",
      "\n",
      "  warnings.warn(\n",
      "/opt/homebrew/lib/python3.10/site-packages/sklearn/model_selection/_validation.py:821: UserWarning: Scoring failed. The score on this train-test partition for these parameters will be set to nan. Details: \n",
      "Traceback (most recent call last):\n",
      "  File \"/opt/homebrew/lib/python3.10/site-packages/sklearn/model_selection/_validation.py\", line 810, in _score\n",
      "    scores = scorer(estimator, X_test, y_test)\n",
      "  File \"/opt/homebrew/lib/python3.10/site-packages/sklearn/metrics/_scorer.py\", line 527, in __call__\n",
      "    return estimator.score(*args, **kwargs)\n",
      "  File \"/opt/homebrew/lib/python3.10/site-packages/sklearn/base.py\", line 706, in score\n",
      "    return accuracy_score(y, self.predict(X), sample_weight=sample_weight)\n",
      "  File \"/opt/homebrew/lib/python3.10/site-packages/sklearn/neighbors/_classification.py\", line 254, in predict\n",
      "    probabilities = self.predict_proba(X)\n",
      "  File \"/opt/homebrew/lib/python3.10/site-packages/sklearn/neighbors/_classification.py\", line 332, in predict_proba\n",
      "    probabilities = ArgKminClassMode.compute(\n",
      "  File \"/opt/homebrew/lib/python3.10/site-packages/sklearn/metrics/_pairwise_distances_reduction/_dispatcher.py\", line 585, in compute\n",
      "    return ArgKminClassMode64.compute(\n",
      "  File \"sklearn/metrics/_pairwise_distances_reduction/_argkmin_classmode.pyx\", line 233, in sklearn.metrics._pairwise_distances_reduction._argkmin_classmode.ArgKminClassMode64.compute\n",
      "  File \"sklearn/metrics/_pairwise_distances_reduction/_datasets_pair.pyx\", line 93, in sklearn.metrics._pairwise_distances_reduction._datasets_pair.DatasetsPair64.get_for\n",
      "  File \"sklearn/metrics/_dist_metrics.pyx\", line 2618, in sklearn.metrics._dist_metrics.HaversineDistance64._validate_data\n",
      "ValueError: Haversine distance only valid in 2 dimensions\n",
      "\n",
      "  warnings.warn(\n",
      "/opt/homebrew/lib/python3.10/site-packages/sklearn/neighbors/_classification.py:233: DataConversionWarning: A column-vector y was passed when a 1d array was expected. Please change the shape of y to (n_samples,), for example using ravel().\n",
      "  return self._fit(X, y)\n",
      "/opt/homebrew/lib/python3.10/site-packages/sklearn/model_selection/_validation.py:821: UserWarning: Scoring failed. The score on this train-test partition for these parameters will be set to nan. Details: \n",
      "Traceback (most recent call last):\n",
      "  File \"/opt/homebrew/lib/python3.10/site-packages/sklearn/model_selection/_validation.py\", line 810, in _score\n",
      "    scores = scorer(estimator, X_test, y_test)\n",
      "  File \"/opt/homebrew/lib/python3.10/site-packages/sklearn/metrics/_scorer.py\", line 527, in __call__\n",
      "    return estimator.score(*args, **kwargs)\n",
      "  File \"/opt/homebrew/lib/python3.10/site-packages/sklearn/base.py\", line 706, in score\n",
      "    return accuracy_score(y, self.predict(X), sample_weight=sample_weight)\n",
      "  File \"/opt/homebrew/lib/python3.10/site-packages/sklearn/neighbors/_classification.py\", line 269, in predict\n",
      "    neigh_dist, neigh_ind = self.kneighbors(X)\n",
      "  File \"/opt/homebrew/lib/python3.10/site-packages/sklearn/neighbors/_base.py\", line 822, in kneighbors\n",
      "    results = ArgKmin.compute(\n",
      "  File \"/opt/homebrew/lib/python3.10/site-packages/sklearn/metrics/_pairwise_distances_reduction/_dispatcher.py\", line 259, in compute\n",
      "    return ArgKmin64.compute(\n",
      "  File \"sklearn/metrics/_pairwise_distances_reduction/_argkmin.pyx\", line 82, in sklearn.metrics._pairwise_distances_reduction._argkmin.ArgKmin64.compute\n",
      "  File \"sklearn/metrics/_pairwise_distances_reduction/_datasets_pair.pyx\", line 93, in sklearn.metrics._pairwise_distances_reduction._datasets_pair.DatasetsPair64.get_for\n",
      "  File \"sklearn/metrics/_dist_metrics.pyx\", line 2618, in sklearn.metrics._dist_metrics.HaversineDistance64._validate_data\n",
      "ValueError: Haversine distance only valid in 2 dimensions\n",
      "\n",
      "  warnings.warn(\n",
      "/opt/homebrew/lib/python3.10/site-packages/sklearn/neighbors/_classification.py:233: DataConversionWarning: A column-vector y was passed when a 1d array was expected. Please change the shape of y to (n_samples,), for example using ravel().\n",
      "  return self._fit(X, y)\n",
      "/opt/homebrew/lib/python3.10/site-packages/sklearn/model_selection/_validation.py:821: UserWarning: Scoring failed. The score on this train-test partition for these parameters will be set to nan. Details: \n",
      "Traceback (most recent call last):\n",
      "  File \"/opt/homebrew/lib/python3.10/site-packages/sklearn/model_selection/_validation.py\", line 810, in _score\n",
      "    scores = scorer(estimator, X_test, y_test)\n",
      "  File \"/opt/homebrew/lib/python3.10/site-packages/sklearn/metrics/_scorer.py\", line 527, in __call__\n",
      "    return estimator.score(*args, **kwargs)\n",
      "  File \"/opt/homebrew/lib/python3.10/site-packages/sklearn/base.py\", line 706, in score\n",
      "    return accuracy_score(y, self.predict(X), sample_weight=sample_weight)\n",
      "  File \"/opt/homebrew/lib/python3.10/site-packages/sklearn/neighbors/_classification.py\", line 269, in predict\n",
      "    neigh_dist, neigh_ind = self.kneighbors(X)\n",
      "  File \"/opt/homebrew/lib/python3.10/site-packages/sklearn/neighbors/_base.py\", line 822, in kneighbors\n",
      "    results = ArgKmin.compute(\n",
      "  File \"/opt/homebrew/lib/python3.10/site-packages/sklearn/metrics/_pairwise_distances_reduction/_dispatcher.py\", line 259, in compute\n",
      "    return ArgKmin64.compute(\n",
      "  File \"sklearn/metrics/_pairwise_distances_reduction/_argkmin.pyx\", line 82, in sklearn.metrics._pairwise_distances_reduction._argkmin.ArgKmin64.compute\n",
      "  File \"sklearn/metrics/_pairwise_distances_reduction/_datasets_pair.pyx\", line 93, in sklearn.metrics._pairwise_distances_reduction._datasets_pair.DatasetsPair64.get_for\n",
      "  File \"sklearn/metrics/_dist_metrics.pyx\", line 2618, in sklearn.metrics._dist_metrics.HaversineDistance64._validate_data\n",
      "ValueError: Haversine distance only valid in 2 dimensions\n",
      "\n",
      "  warnings.warn(\n",
      "/opt/homebrew/lib/python3.10/site-packages/sklearn/neighbors/_classification.py:233: DataConversionWarning: A column-vector y was passed when a 1d array was expected. Please change the shape of y to (n_samples,), for example using ravel().\n",
      "  return self._fit(X, y)\n",
      "/opt/homebrew/lib/python3.10/site-packages/sklearn/model_selection/_validation.py:821: UserWarning: Scoring failed. The score on this train-test partition for these parameters will be set to nan. Details: \n",
      "Traceback (most recent call last):\n",
      "  File \"/opt/homebrew/lib/python3.10/site-packages/sklearn/model_selection/_validation.py\", line 810, in _score\n",
      "    scores = scorer(estimator, X_test, y_test)\n",
      "  File \"/opt/homebrew/lib/python3.10/site-packages/sklearn/metrics/_scorer.py\", line 527, in __call__\n",
      "    return estimator.score(*args, **kwargs)\n",
      "  File \"/opt/homebrew/lib/python3.10/site-packages/sklearn/base.py\", line 706, in score\n",
      "    return accuracy_score(y, self.predict(X), sample_weight=sample_weight)\n",
      "  File \"/opt/homebrew/lib/python3.10/site-packages/sklearn/neighbors/_classification.py\", line 269, in predict\n",
      "    neigh_dist, neigh_ind = self.kneighbors(X)\n",
      "  File \"/opt/homebrew/lib/python3.10/site-packages/sklearn/neighbors/_base.py\", line 822, in kneighbors\n",
      "    results = ArgKmin.compute(\n",
      "  File \"/opt/homebrew/lib/python3.10/site-packages/sklearn/metrics/_pairwise_distances_reduction/_dispatcher.py\", line 259, in compute\n",
      "    return ArgKmin64.compute(\n",
      "  File \"sklearn/metrics/_pairwise_distances_reduction/_argkmin.pyx\", line 82, in sklearn.metrics._pairwise_distances_reduction._argkmin.ArgKmin64.compute\n",
      "  File \"sklearn/metrics/_pairwise_distances_reduction/_datasets_pair.pyx\", line 93, in sklearn.metrics._pairwise_distances_reduction._datasets_pair.DatasetsPair64.get_for\n",
      "  File \"sklearn/metrics/_dist_metrics.pyx\", line 2618, in sklearn.metrics._dist_metrics.HaversineDistance64._validate_data\n",
      "ValueError: Haversine distance only valid in 2 dimensions\n",
      "\n",
      "  warnings.warn(\n",
      "/opt/homebrew/lib/python3.10/site-packages/sklearn/neighbors/_classification.py:233: DataConversionWarning: A column-vector y was passed when a 1d array was expected. Please change the shape of y to (n_samples,), for example using ravel().\n",
      "  return self._fit(X, y)\n",
      "/opt/homebrew/lib/python3.10/site-packages/sklearn/model_selection/_validation.py:821: UserWarning: Scoring failed. The score on this train-test partition for these parameters will be set to nan. Details: \n",
      "Traceback (most recent call last):\n",
      "  File \"/opt/homebrew/lib/python3.10/site-packages/sklearn/model_selection/_validation.py\", line 810, in _score\n",
      "    scores = scorer(estimator, X_test, y_test)\n",
      "  File \"/opt/homebrew/lib/python3.10/site-packages/sklearn/metrics/_scorer.py\", line 527, in __call__\n",
      "    return estimator.score(*args, **kwargs)\n",
      "  File \"/opt/homebrew/lib/python3.10/site-packages/sklearn/base.py\", line 706, in score\n",
      "    return accuracy_score(y, self.predict(X), sample_weight=sample_weight)\n",
      "  File \"/opt/homebrew/lib/python3.10/site-packages/sklearn/neighbors/_classification.py\", line 269, in predict\n",
      "    neigh_dist, neigh_ind = self.kneighbors(X)\n",
      "  File \"/opt/homebrew/lib/python3.10/site-packages/sklearn/neighbors/_base.py\", line 822, in kneighbors\n",
      "    results = ArgKmin.compute(\n",
      "  File \"/opt/homebrew/lib/python3.10/site-packages/sklearn/metrics/_pairwise_distances_reduction/_dispatcher.py\", line 259, in compute\n",
      "    return ArgKmin64.compute(\n",
      "  File \"sklearn/metrics/_pairwise_distances_reduction/_argkmin.pyx\", line 82, in sklearn.metrics._pairwise_distances_reduction._argkmin.ArgKmin64.compute\n",
      "  File \"sklearn/metrics/_pairwise_distances_reduction/_datasets_pair.pyx\", line 93, in sklearn.metrics._pairwise_distances_reduction._datasets_pair.DatasetsPair64.get_for\n",
      "  File \"sklearn/metrics/_dist_metrics.pyx\", line 2618, in sklearn.metrics._dist_metrics.HaversineDistance64._validate_data\n",
      "ValueError: Haversine distance only valid in 2 dimensions\n",
      "\n",
      "  warnings.warn(\n",
      "/opt/homebrew/lib/python3.10/site-packages/sklearn/neighbors/_classification.py:233: DataConversionWarning: A column-vector y was passed when a 1d array was expected. Please change the shape of y to (n_samples,), for example using ravel().\n",
      "  return self._fit(X, y)\n",
      "/opt/homebrew/lib/python3.10/site-packages/sklearn/model_selection/_validation.py:821: UserWarning: Scoring failed. The score on this train-test partition for these parameters will be set to nan. Details: \n",
      "Traceback (most recent call last):\n",
      "  File \"/opt/homebrew/lib/python3.10/site-packages/sklearn/model_selection/_validation.py\", line 810, in _score\n",
      "    scores = scorer(estimator, X_test, y_test)\n",
      "  File \"/opt/homebrew/lib/python3.10/site-packages/sklearn/metrics/_scorer.py\", line 527, in __call__\n",
      "    return estimator.score(*args, **kwargs)\n",
      "  File \"/opt/homebrew/lib/python3.10/site-packages/sklearn/base.py\", line 706, in score\n",
      "    return accuracy_score(y, self.predict(X), sample_weight=sample_weight)\n",
      "  File \"/opt/homebrew/lib/python3.10/site-packages/sklearn/neighbors/_classification.py\", line 254, in predict\n",
      "    probabilities = self.predict_proba(X)\n",
      "  File \"/opt/homebrew/lib/python3.10/site-packages/sklearn/neighbors/_classification.py\", line 332, in predict_proba\n",
      "    probabilities = ArgKminClassMode.compute(\n",
      "  File \"/opt/homebrew/lib/python3.10/site-packages/sklearn/metrics/_pairwise_distances_reduction/_dispatcher.py\", line 585, in compute\n",
      "    return ArgKminClassMode64.compute(\n",
      "  File \"sklearn/metrics/_pairwise_distances_reduction/_argkmin_classmode.pyx\", line 233, in sklearn.metrics._pairwise_distances_reduction._argkmin_classmode.ArgKminClassMode64.compute\n",
      "  File \"sklearn/metrics/_pairwise_distances_reduction/_datasets_pair.pyx\", line 93, in sklearn.metrics._pairwise_distances_reduction._datasets_pair.DatasetsPair64.get_for\n",
      "  File \"sklearn/metrics/_dist_metrics.pyx\", line 2618, in sklearn.metrics._dist_metrics.HaversineDistance64._validate_data\n",
      "ValueError: Haversine distance only valid in 2 dimensions\n",
      "\n",
      "  warnings.warn(\n",
      "/opt/homebrew/lib/python3.10/site-packages/sklearn/neighbors/_classification.py:233: DataConversionWarning: A column-vector y was passed when a 1d array was expected. Please change the shape of y to (n_samples,), for example using ravel().\n",
      "  return self._fit(X, y)\n",
      "/opt/homebrew/lib/python3.10/site-packages/sklearn/model_selection/_validation.py:821: UserWarning: Scoring failed. The score on this train-test partition for these parameters will be set to nan. Details: \n",
      "Traceback (most recent call last):\n",
      "  File \"/opt/homebrew/lib/python3.10/site-packages/sklearn/model_selection/_validation.py\", line 810, in _score\n",
      "    scores = scorer(estimator, X_test, y_test)\n",
      "  File \"/opt/homebrew/lib/python3.10/site-packages/sklearn/metrics/_scorer.py\", line 527, in __call__\n",
      "    return estimator.score(*args, **kwargs)\n",
      "  File \"/opt/homebrew/lib/python3.10/site-packages/sklearn/base.py\", line 706, in score\n",
      "    return accuracy_score(y, self.predict(X), sample_weight=sample_weight)\n",
      "  File \"/opt/homebrew/lib/python3.10/site-packages/sklearn/neighbors/_classification.py\", line 254, in predict\n",
      "    probabilities = self.predict_proba(X)\n",
      "  File \"/opt/homebrew/lib/python3.10/site-packages/sklearn/neighbors/_classification.py\", line 332, in predict_proba\n",
      "    probabilities = ArgKminClassMode.compute(\n",
      "  File \"/opt/homebrew/lib/python3.10/site-packages/sklearn/metrics/_pairwise_distances_reduction/_dispatcher.py\", line 585, in compute\n",
      "    return ArgKminClassMode64.compute(\n",
      "  File \"sklearn/metrics/_pairwise_distances_reduction/_argkmin_classmode.pyx\", line 233, in sklearn.metrics._pairwise_distances_reduction._argkmin_classmode.ArgKminClassMode64.compute\n",
      "  File \"sklearn/metrics/_pairwise_distances_reduction/_datasets_pair.pyx\", line 93, in sklearn.metrics._pairwise_distances_reduction._datasets_pair.DatasetsPair64.get_for\n",
      "  File \"sklearn/metrics/_dist_metrics.pyx\", line 2618, in sklearn.metrics._dist_metrics.HaversineDistance64._validate_data\n",
      "ValueError: Haversine distance only valid in 2 dimensions\n",
      "\n",
      "  warnings.warn(\n",
      "/opt/homebrew/lib/python3.10/site-packages/sklearn/neighbors/_classification.py:233: DataConversionWarning: A column-vector y was passed when a 1d array was expected. Please change the shape of y to (n_samples,), for example using ravel().\n",
      "  return self._fit(X, y)\n",
      "/opt/homebrew/lib/python3.10/site-packages/sklearn/neighbors/_classification.py:233: DataConversionWarning: A column-vector y was passed when a 1d array was expected. Please change the shape of y to (n_samples,), for example using ravel().\n",
      "  return self._fit(X, y)\n",
      "/opt/homebrew/lib/python3.10/site-packages/sklearn/neighbors/_classification.py:233: DataConversionWarning: A column-vector y was passed when a 1d array was expected. Please change the shape of y to (n_samples,), for example using ravel().\n",
      "  return self._fit(X, y)\n",
      "/opt/homebrew/lib/python3.10/site-packages/sklearn/model_selection/_validation.py:821: UserWarning: Scoring failed. The score on this train-test partition for these parameters will be set to nan. Details: \n",
      "Traceback (most recent call last):\n",
      "  File \"/opt/homebrew/lib/python3.10/site-packages/sklearn/model_selection/_validation.py\", line 810, in _score\n",
      "    scores = scorer(estimator, X_test, y_test)\n",
      "  File \"/opt/homebrew/lib/python3.10/site-packages/sklearn/metrics/_scorer.py\", line 527, in __call__\n",
      "    return estimator.score(*args, **kwargs)\n",
      "  File \"/opt/homebrew/lib/python3.10/site-packages/sklearn/base.py\", line 706, in score\n",
      "    return accuracy_score(y, self.predict(X), sample_weight=sample_weight)\n",
      "  File \"/opt/homebrew/lib/python3.10/site-packages/sklearn/neighbors/_classification.py\", line 269, in predict\n",
      "    neigh_dist, neigh_ind = self.kneighbors(X)\n",
      "  File \"/opt/homebrew/lib/python3.10/site-packages/sklearn/neighbors/_base.py\", line 822, in kneighbors\n",
      "    results = ArgKmin.compute(\n",
      "  File \"/opt/homebrew/lib/python3.10/site-packages/sklearn/metrics/_pairwise_distances_reduction/_dispatcher.py\", line 259, in compute\n",
      "    return ArgKmin64.compute(\n",
      "  File \"sklearn/metrics/_pairwise_distances_reduction/_argkmin.pyx\", line 82, in sklearn.metrics._pairwise_distances_reduction._argkmin.ArgKmin64.compute\n",
      "  File \"sklearn/metrics/_pairwise_distances_reduction/_datasets_pair.pyx\", line 93, in sklearn.metrics._pairwise_distances_reduction._datasets_pair.DatasetsPair64.get_for\n",
      "  File \"sklearn/metrics/_dist_metrics.pyx\", line 2618, in sklearn.metrics._dist_metrics.HaversineDistance64._validate_data\n",
      "ValueError: Haversine distance only valid in 2 dimensions\n",
      "\n",
      "  warnings.warn(\n",
      "/opt/homebrew/lib/python3.10/site-packages/sklearn/model_selection/_validation.py:821: UserWarning: Scoring failed. The score on this train-test partition for these parameters will be set to nan. Details: \n",
      "Traceback (most recent call last):\n",
      "  File \"/opt/homebrew/lib/python3.10/site-packages/sklearn/model_selection/_validation.py\", line 810, in _score\n",
      "    scores = scorer(estimator, X_test, y_test)\n",
      "  File \"/opt/homebrew/lib/python3.10/site-packages/sklearn/metrics/_scorer.py\", line 527, in __call__\n",
      "    return estimator.score(*args, **kwargs)\n",
      "  File \"/opt/homebrew/lib/python3.10/site-packages/sklearn/base.py\", line 706, in score\n",
      "    return accuracy_score(y, self.predict(X), sample_weight=sample_weight)\n",
      "  File \"/opt/homebrew/lib/python3.10/site-packages/sklearn/neighbors/_classification.py\", line 254, in predict\n",
      "    probabilities = self.predict_proba(X)\n",
      "  File \"/opt/homebrew/lib/python3.10/site-packages/sklearn/neighbors/_classification.py\", line 332, in predict_proba\n",
      "    probabilities = ArgKminClassMode.compute(\n",
      "  File \"/opt/homebrew/lib/python3.10/site-packages/sklearn/metrics/_pairwise_distances_reduction/_dispatcher.py\", line 585, in compute\n",
      "    return ArgKminClassMode64.compute(\n",
      "  File \"sklearn/metrics/_pairwise_distances_reduction/_argkmin_classmode.pyx\", line 233, in sklearn.metrics._pairwise_distances_reduction._argkmin_classmode.ArgKminClassMode64.compute\n",
      "  File \"sklearn/metrics/_pairwise_distances_reduction/_datasets_pair.pyx\", line 93, in sklearn.metrics._pairwise_distances_reduction._datasets_pair.DatasetsPair64.get_for\n",
      "  File \"sklearn/metrics/_dist_metrics.pyx\", line 2618, in sklearn.metrics._dist_metrics.HaversineDistance64._validate_data\n",
      "ValueError: Haversine distance only valid in 2 dimensions\n",
      "\n",
      "  warnings.warn(\n",
      "/opt/homebrew/lib/python3.10/site-packages/sklearn/model_selection/_validation.py:821: UserWarning: Scoring failed. The score on this train-test partition for these parameters will be set to nan. Details: \n",
      "Traceback (most recent call last):\n",
      "  File \"/opt/homebrew/lib/python3.10/site-packages/sklearn/model_selection/_validation.py\", line 810, in _score\n",
      "    scores = scorer(estimator, X_test, y_test)\n",
      "  File \"/opt/homebrew/lib/python3.10/site-packages/sklearn/metrics/_scorer.py\", line 527, in __call__\n",
      "    return estimator.score(*args, **kwargs)\n",
      "  File \"/opt/homebrew/lib/python3.10/site-packages/sklearn/base.py\", line 706, in score\n",
      "    return accuracy_score(y, self.predict(X), sample_weight=sample_weight)\n",
      "  File \"/opt/homebrew/lib/python3.10/site-packages/sklearn/neighbors/_classification.py\", line 254, in predict\n",
      "    probabilities = self.predict_proba(X)\n",
      "  File \"/opt/homebrew/lib/python3.10/site-packages/sklearn/neighbors/_classification.py\", line 332, in predict_proba\n",
      "    probabilities = ArgKminClassMode.compute(\n",
      "  File \"/opt/homebrew/lib/python3.10/site-packages/sklearn/metrics/_pairwise_distances_reduction/_dispatcher.py\", line 585, in compute\n",
      "    return ArgKminClassMode64.compute(\n",
      "  File \"sklearn/metrics/_pairwise_distances_reduction/_argkmin_classmode.pyx\", line 233, in sklearn.metrics._pairwise_distances_reduction._argkmin_classmode.ArgKminClassMode64.compute\n",
      "  File \"sklearn/metrics/_pairwise_distances_reduction/_datasets_pair.pyx\", line 93, in sklearn.metrics._pairwise_distances_reduction._datasets_pair.DatasetsPair64.get_for\n",
      "  File \"sklearn/metrics/_dist_metrics.pyx\", line 2618, in sklearn.metrics._dist_metrics.HaversineDistance64._validate_data\n",
      "ValueError: Haversine distance only valid in 2 dimensions\n",
      "\n",
      "  warnings.warn(\n",
      "/opt/homebrew/lib/python3.10/site-packages/sklearn/neighbors/_classification.py:233: DataConversionWarning: A column-vector y was passed when a 1d array was expected. Please change the shape of y to (n_samples,), for example using ravel().\n",
      "  return self._fit(X, y)\n",
      "/opt/homebrew/lib/python3.10/site-packages/sklearn/neighbors/_classification.py:233: DataConversionWarning: A column-vector y was passed when a 1d array was expected. Please change the shape of y to (n_samples,), for example using ravel().\n",
      "  return self._fit(X, y)\n",
      "/opt/homebrew/lib/python3.10/site-packages/sklearn/model_selection/_validation.py:821: UserWarning: Scoring failed. The score on this train-test partition for these parameters will be set to nan. Details: \n",
      "Traceback (most recent call last):\n",
      "  File \"/opt/homebrew/lib/python3.10/site-packages/sklearn/model_selection/_validation.py\", line 810, in _score\n",
      "    scores = scorer(estimator, X_test, y_test)\n",
      "  File \"/opt/homebrew/lib/python3.10/site-packages/sklearn/metrics/_scorer.py\", line 527, in __call__\n",
      "    return estimator.score(*args, **kwargs)\n",
      "  File \"/opt/homebrew/lib/python3.10/site-packages/sklearn/base.py\", line 706, in score\n",
      "    return accuracy_score(y, self.predict(X), sample_weight=sample_weight)\n",
      "  File \"/opt/homebrew/lib/python3.10/site-packages/sklearn/neighbors/_classification.py\", line 269, in predict\n",
      "    neigh_dist, neigh_ind = self.kneighbors(X)\n",
      "  File \"/opt/homebrew/lib/python3.10/site-packages/sklearn/neighbors/_base.py\", line 822, in kneighbors\n",
      "    results = ArgKmin.compute(\n",
      "  File \"/opt/homebrew/lib/python3.10/site-packages/sklearn/metrics/_pairwise_distances_reduction/_dispatcher.py\", line 259, in compute\n",
      "    return ArgKmin64.compute(\n",
      "  File \"sklearn/metrics/_pairwise_distances_reduction/_argkmin.pyx\", line 82, in sklearn.metrics._pairwise_distances_reduction._argkmin.ArgKmin64.compute\n",
      "  File \"sklearn/metrics/_pairwise_distances_reduction/_datasets_pair.pyx\", line 93, in sklearn.metrics._pairwise_distances_reduction._datasets_pair.DatasetsPair64.get_for\n",
      "  File \"sklearn/metrics/_dist_metrics.pyx\", line 2618, in sklearn.metrics._dist_metrics.HaversineDistance64._validate_data\n",
      "ValueError: Haversine distance only valid in 2 dimensions\n",
      "\n",
      "  warnings.warn(\n",
      "/opt/homebrew/lib/python3.10/site-packages/sklearn/model_selection/_validation.py:821: UserWarning: Scoring failed. The score on this train-test partition for these parameters will be set to nan. Details: \n",
      "Traceback (most recent call last):\n",
      "  File \"/opt/homebrew/lib/python3.10/site-packages/sklearn/model_selection/_validation.py\", line 810, in _score\n",
      "    scores = scorer(estimator, X_test, y_test)\n",
      "  File \"/opt/homebrew/lib/python3.10/site-packages/sklearn/metrics/_scorer.py\", line 527, in __call__\n",
      "    return estimator.score(*args, **kwargs)\n",
      "  File \"/opt/homebrew/lib/python3.10/site-packages/sklearn/base.py\", line 706, in score\n",
      "    return accuracy_score(y, self.predict(X), sample_weight=sample_weight)\n",
      "  File \"/opt/homebrew/lib/python3.10/site-packages/sklearn/neighbors/_classification.py\", line 254, in predict\n",
      "    probabilities = self.predict_proba(X)\n",
      "  File \"/opt/homebrew/lib/python3.10/site-packages/sklearn/neighbors/_classification.py\", line 332, in predict_proba\n",
      "    probabilities = ArgKminClassMode.compute(\n",
      "  File \"/opt/homebrew/lib/python3.10/site-packages/sklearn/metrics/_pairwise_distances_reduction/_dispatcher.py\", line 585, in compute\n",
      "    return ArgKminClassMode64.compute(\n",
      "  File \"sklearn/metrics/_pairwise_distances_reduction/_argkmin_classmode.pyx\", line 233, in sklearn.metrics._pairwise_distances_reduction._argkmin_classmode.ArgKminClassMode64.compute\n",
      "  File \"sklearn/metrics/_pairwise_distances_reduction/_datasets_pair.pyx\", line 93, in sklearn.metrics._pairwise_distances_reduction._datasets_pair.DatasetsPair64.get_for\n",
      "  File \"sklearn/metrics/_dist_metrics.pyx\", line 2618, in sklearn.metrics._dist_metrics.HaversineDistance64._validate_data\n",
      "ValueError: Haversine distance only valid in 2 dimensions\n",
      "\n",
      "  warnings.warn(\n",
      "/opt/homebrew/lib/python3.10/site-packages/sklearn/neighbors/_classification.py:233: DataConversionWarning: A column-vector y was passed when a 1d array was expected. Please change the shape of y to (n_samples,), for example using ravel().\n",
      "  return self._fit(X, y)\n",
      "/opt/homebrew/lib/python3.10/site-packages/sklearn/model_selection/_validation.py:821: UserWarning: Scoring failed. The score on this train-test partition for these parameters will be set to nan. Details: \n",
      "Traceback (most recent call last):\n",
      "  File \"/opt/homebrew/lib/python3.10/site-packages/sklearn/model_selection/_validation.py\", line 810, in _score\n",
      "    scores = scorer(estimator, X_test, y_test)\n",
      "  File \"/opt/homebrew/lib/python3.10/site-packages/sklearn/metrics/_scorer.py\", line 527, in __call__\n",
      "    return estimator.score(*args, **kwargs)\n",
      "  File \"/opt/homebrew/lib/python3.10/site-packages/sklearn/base.py\", line 706, in score\n",
      "    return accuracy_score(y, self.predict(X), sample_weight=sample_weight)\n",
      "  File \"/opt/homebrew/lib/python3.10/site-packages/sklearn/neighbors/_classification.py\", line 269, in predict\n",
      "    neigh_dist, neigh_ind = self.kneighbors(X)\n",
      "  File \"/opt/homebrew/lib/python3.10/site-packages/sklearn/neighbors/_base.py\", line 822, in kneighbors\n",
      "    results = ArgKmin.compute(\n",
      "  File \"/opt/homebrew/lib/python3.10/site-packages/sklearn/metrics/_pairwise_distances_reduction/_dispatcher.py\", line 259, in compute\n",
      "    return ArgKmin64.compute(\n",
      "  File \"sklearn/metrics/_pairwise_distances_reduction/_argkmin.pyx\", line 82, in sklearn.metrics._pairwise_distances_reduction._argkmin.ArgKmin64.compute\n",
      "  File \"sklearn/metrics/_pairwise_distances_reduction/_datasets_pair.pyx\", line 93, in sklearn.metrics._pairwise_distances_reduction._datasets_pair.DatasetsPair64.get_for\n",
      "  File \"sklearn/metrics/_dist_metrics.pyx\", line 2618, in sklearn.metrics._dist_metrics.HaversineDistance64._validate_data\n",
      "ValueError: Haversine distance only valid in 2 dimensions\n",
      "\n",
      "  warnings.warn(\n",
      "/opt/homebrew/lib/python3.10/site-packages/sklearn/neighbors/_classification.py:233: DataConversionWarning: A column-vector y was passed when a 1d array was expected. Please change the shape of y to (n_samples,), for example using ravel().\n",
      "  return self._fit(X, y)\n",
      "/opt/homebrew/lib/python3.10/site-packages/sklearn/model_selection/_validation.py:821: UserWarning: Scoring failed. The score on this train-test partition for these parameters will be set to nan. Details: \n",
      "Traceback (most recent call last):\n",
      "  File \"/opt/homebrew/lib/python3.10/site-packages/sklearn/model_selection/_validation.py\", line 810, in _score\n",
      "    scores = scorer(estimator, X_test, y_test)\n",
      "  File \"/opt/homebrew/lib/python3.10/site-packages/sklearn/metrics/_scorer.py\", line 527, in __call__\n",
      "    return estimator.score(*args, **kwargs)\n",
      "  File \"/opt/homebrew/lib/python3.10/site-packages/sklearn/base.py\", line 706, in score\n",
      "    return accuracy_score(y, self.predict(X), sample_weight=sample_weight)\n",
      "  File \"/opt/homebrew/lib/python3.10/site-packages/sklearn/neighbors/_classification.py\", line 269, in predict\n",
      "    neigh_dist, neigh_ind = self.kneighbors(X)\n",
      "  File \"/opt/homebrew/lib/python3.10/site-packages/sklearn/neighbors/_base.py\", line 822, in kneighbors\n",
      "    results = ArgKmin.compute(\n",
      "  File \"/opt/homebrew/lib/python3.10/site-packages/sklearn/metrics/_pairwise_distances_reduction/_dispatcher.py\", line 259, in compute\n",
      "    return ArgKmin64.compute(\n",
      "  File \"sklearn/metrics/_pairwise_distances_reduction/_argkmin.pyx\", line 82, in sklearn.metrics._pairwise_distances_reduction._argkmin.ArgKmin64.compute\n",
      "  File \"sklearn/metrics/_pairwise_distances_reduction/_datasets_pair.pyx\", line 93, in sklearn.metrics._pairwise_distances_reduction._datasets_pair.DatasetsPair64.get_for\n",
      "  File \"sklearn/metrics/_dist_metrics.pyx\", line 2618, in sklearn.metrics._dist_metrics.HaversineDistance64._validate_data\n",
      "ValueError: Haversine distance only valid in 2 dimensions\n",
      "\n",
      "  warnings.warn(\n",
      "/opt/homebrew/lib/python3.10/site-packages/sklearn/neighbors/_classification.py:233: DataConversionWarning: A column-vector y was passed when a 1d array was expected. Please change the shape of y to (n_samples,), for example using ravel().\n",
      "  return self._fit(X, y)\n",
      "/opt/homebrew/lib/python3.10/site-packages/sklearn/model_selection/_validation.py:821: UserWarning: Scoring failed. The score on this train-test partition for these parameters will be set to nan. Details: \n",
      "Traceback (most recent call last):\n",
      "  File \"/opt/homebrew/lib/python3.10/site-packages/sklearn/model_selection/_validation.py\", line 810, in _score\n",
      "    scores = scorer(estimator, X_test, y_test)\n",
      "  File \"/opt/homebrew/lib/python3.10/site-packages/sklearn/metrics/_scorer.py\", line 527, in __call__\n",
      "    return estimator.score(*args, **kwargs)\n",
      "  File \"/opt/homebrew/lib/python3.10/site-packages/sklearn/base.py\", line 706, in score\n",
      "    return accuracy_score(y, self.predict(X), sample_weight=sample_weight)\n",
      "  File \"/opt/homebrew/lib/python3.10/site-packages/sklearn/neighbors/_classification.py\", line 269, in predict\n",
      "    neigh_dist, neigh_ind = self.kneighbors(X)\n",
      "  File \"/opt/homebrew/lib/python3.10/site-packages/sklearn/neighbors/_base.py\", line 822, in kneighbors\n",
      "    results = ArgKmin.compute(\n",
      "  File \"/opt/homebrew/lib/python3.10/site-packages/sklearn/metrics/_pairwise_distances_reduction/_dispatcher.py\", line 259, in compute\n",
      "    return ArgKmin64.compute(\n",
      "  File \"sklearn/metrics/_pairwise_distances_reduction/_argkmin.pyx\", line 82, in sklearn.metrics._pairwise_distances_reduction._argkmin.ArgKmin64.compute\n",
      "  File \"sklearn/metrics/_pairwise_distances_reduction/_datasets_pair.pyx\", line 93, in sklearn.metrics._pairwise_distances_reduction._datasets_pair.DatasetsPair64.get_for\n",
      "  File \"sklearn/metrics/_dist_metrics.pyx\", line 2618, in sklearn.metrics._dist_metrics.HaversineDistance64._validate_data\n",
      "ValueError: Haversine distance only valid in 2 dimensions\n",
      "\n",
      "  warnings.warn(\n",
      "/opt/homebrew/lib/python3.10/site-packages/sklearn/neighbors/_classification.py:233: DataConversionWarning: A column-vector y was passed when a 1d array was expected. Please change the shape of y to (n_samples,), for example using ravel().\n",
      "  return self._fit(X, y)\n",
      "/opt/homebrew/lib/python3.10/site-packages/sklearn/neighbors/_classification.py:233: DataConversionWarning: A column-vector y was passed when a 1d array was expected. Please change the shape of y to (n_samples,), for example using ravel().\n",
      "  return self._fit(X, y)\n",
      "/opt/homebrew/lib/python3.10/site-packages/sklearn/neighbors/_classification.py:233: DataConversionWarning: A column-vector y was passed when a 1d array was expected. Please change the shape of y to (n_samples,), for example using ravel().\n",
      "  return self._fit(X, y)\n",
      "/opt/homebrew/lib/python3.10/site-packages/sklearn/neighbors/_classification.py:233: DataConversionWarning: A column-vector y was passed when a 1d array was expected. Please change the shape of y to (n_samples,), for example using ravel().\n",
      "  return self._fit(X, y)\n",
      "/opt/homebrew/lib/python3.10/site-packages/sklearn/neighbors/_classification.py:233: DataConversionWarning: A column-vector y was passed when a 1d array was expected. Please change the shape of y to (n_samples,), for example using ravel().\n",
      "  return self._fit(X, y)\n",
      "/opt/homebrew/lib/python3.10/site-packages/sklearn/neighbors/_classification.py:233: DataConversionWarning: A column-vector y was passed when a 1d array was expected. Please change the shape of y to (n_samples,), for example using ravel().\n",
      "  return self._fit(X, y)\n",
      "/opt/homebrew/lib/python3.10/site-packages/sklearn/neighbors/_classification.py:233: DataConversionWarning: A column-vector y was passed when a 1d array was expected. Please change the shape of y to (n_samples,), for example using ravel().\n",
      "  return self._fit(X, y)\n"
     ]
    },
    {
     "name": "stdout",
     "output_type": "stream",
     "text": [
      "[CV 3/5] END algorithm=brute, metric=euclidean, n_neighbors=89, p=2, weights=uniform;, score=0.765 total time=   0.1s\n",
      "[CV 2/5] END algorithm=brute, metric=euclidean, n_neighbors=89, p=2, weights=distance;, score=0.774 total time=   0.1s\n",
      "[CV 4/5] END algorithm=brute, metric=euclidean, n_neighbors=89, p=2, weights=uniform;, score=0.776 total time=   0.1s\n",
      "[CV 3/5] END algorithm=brute, metric=euclidean, n_neighbors=89, p=2, weights=distance;, score=0.777 total time=   0.1s\n",
      "[CV 2/5] END algorithm=brute, metric=euclidean, n_neighbors=89, p=2, weights=uniform;, score=0.761 total time=   0.1s\n",
      "[CV 1/5] END algorithm=brute, metric=euclidean, n_neighbors=89, p=2, weights=distance;, score=0.759 total time=   0.1s\n",
      "[CV 1/5] END algorithm=brute, metric=haversine, n_neighbors=89, p=1, weights=uniform;, score=nan total time=   0.0s\n",
      "[CV 2/5] END algorithm=brute, metric=haversine, n_neighbors=89, p=1, weights=uniform;, score=nan total time=   0.0s\n",
      "[CV 3/5] END algorithm=brute, metric=haversine, n_neighbors=89, p=1, weights=uniform;, score=nan total time=   0.0s\n",
      "[CV 4/5] END algorithm=brute, metric=haversine, n_neighbors=89, p=1, weights=uniform;, score=nan total time=   0.0s\n",
      "[CV 1/5] END algorithm=brute, metric=haversine, n_neighbors=89, p=1, weights=distance;, score=nan total time=   0.0s\n",
      "[CV 5/5] END algorithm=brute, metric=haversine, n_neighbors=89, p=1, weights=uniform;, score=nan total time=   0.0s\n",
      "[CV 2/5] END algorithm=brute, metric=haversine, n_neighbors=89, p=1, weights=distance;, score=nan total time=   0.0s\n",
      "[CV 3/5] END algorithm=brute, metric=haversine, n_neighbors=89, p=1, weights=distance;, score=nan total time=   0.0s\n",
      "[CV 5/5] END algorithm=brute, metric=euclidean, n_neighbors=89, p=2, weights=uniform;, score=0.779 total time=   0.1s\n",
      "[CV 4/5] END algorithm=brute, metric=haversine, n_neighbors=89, p=1, weights=distance;, score=nan total time=   0.0s\n",
      "[CV 5/5] END algorithm=brute, metric=haversine, n_neighbors=89, p=1, weights=distance;, score=nan total time=   0.0s\n",
      "[CV 1/5] END algorithm=brute, metric=haversine, n_neighbors=89, p=2, weights=uniform;, score=nan total time=   0.0s\n",
      "[CV 2/5] END algorithm=brute, metric=haversine, n_neighbors=89, p=2, weights=uniform;, score=nan total time=   0.0s\n",
      "[CV 1/5] END algorithm=brute, metric=haversine, n_neighbors=89, p=2, weights=distance;, score=nan total time=   0.0s\n",
      "[CV 3/5] END algorithm=brute, metric=haversine, n_neighbors=89, p=2, weights=uniform;, score=nan total time=   0.0s[CV 4/5] END algorithm=brute, metric=haversine, n_neighbors=89, p=2, weights=uniform;, score=nan total time=   0.0s\n",
      "\n",
      "[CV 2/5] END algorithm=brute, metric=haversine, n_neighbors=89, p=2, weights=distance;, score=nan total time=   0.0s[CV 5/5] END algorithm=brute, metric=haversine, n_neighbors=89, p=2, weights=uniform;, score=nan total time=   0.0s\n",
      "\n",
      "[CV 3/5] END algorithm=brute, metric=haversine, n_neighbors=89, p=2, weights=distance;, score=nan total time=   0.0s\n",
      "[CV 4/5] END algorithm=brute, metric=haversine, n_neighbors=89, p=2, weights=distance;, score=nan total time=   0.0s\n",
      "[CV 5/5] END algorithm=brute, metric=haversine, n_neighbors=89, p=2, weights=distance;, score=nan total time=   0.0s\n",
      "[CV 4/5] END algorithm=brute, metric=euclidean, n_neighbors=89, p=2, weights=distance;, score=0.792 total time=   0.1s\n",
      "[CV 5/5] END algorithm=brute, metric=euclidean, n_neighbors=89, p=2, weights=distance;, score=0.791 total time=   0.1s\n"
     ]
    },
    {
     "name": "stderr",
     "output_type": "stream",
     "text": [
      "/opt/homebrew/lib/python3.10/site-packages/sklearn/neighbors/_classification.py:233: DataConversionWarning: A column-vector y was passed when a 1d array was expected. Please change the shape of y to (n_samples,), for example using ravel().\n",
      "  return self._fit(X, y)\n"
     ]
    },
    {
     "name": "stdout",
     "output_type": "stream",
     "text": [
      "[CV 1/5] END algorithm=brute, metric=l1, n_neighbors=89, p=2, weights=uniform;, score=0.758 total time=   0.4s\n",
      "[CV 3/5] END algorithm=brute, metric=l1, n_neighbors=89, p=1, weights=uniform;, score=0.781 total time=   0.5s\n",
      "[CV 1/5] END algorithm=brute, metric=l1, n_neighbors=89, p=1, weights=uniform;, score=0.758 total time=   0.5s\n",
      "[CV 5/5] END algorithm=brute, metric=l1, n_neighbors=89, p=1, weights=uniform;, score=0.783 total time=   0.5s\n",
      "[CV 4/5] END algorithm=brute, metric=l1, n_neighbors=89, p=1, weights=distance;, score=0.787 total time=   0.5s\n",
      "[CV 2/5] END algorithm=brute, metric=l1, n_neighbors=89, p=1, weights=distance;, score=0.774 total time=   0.5s\n",
      "[CV 3/5] END algorithm=brute, metric=l1, n_neighbors=89, p=2, weights=uniform;, score=0.781 total time=   0.5s\n",
      "[CV 5/5] END algorithm=brute, metric=l1, n_neighbors=89, p=2, weights=uniform;, score=0.783 total time=   0.5s\n"
     ]
    },
    {
     "name": "stderr",
     "output_type": "stream",
     "text": [
      "/opt/homebrew/lib/python3.10/site-packages/sklearn/neighbors/_classification.py:233: DataConversionWarning: A column-vector y was passed when a 1d array was expected. Please change the shape of y to (n_samples,), for example using ravel().\n",
      "  return self._fit(X, y)\n",
      "/opt/homebrew/lib/python3.10/site-packages/sklearn/neighbors/_classification.py:233: DataConversionWarning: A column-vector y was passed when a 1d array was expected. Please change the shape of y to (n_samples,), for example using ravel().\n",
      "  return self._fit(X, y)\n",
      "/opt/homebrew/lib/python3.10/site-packages/sklearn/neighbors/_classification.py:233: DataConversionWarning: A column-vector y was passed when a 1d array was expected. Please change the shape of y to (n_samples,), for example using ravel().\n",
      "  return self._fit(X, y)\n",
      "/opt/homebrew/lib/python3.10/site-packages/sklearn/neighbors/_classification.py:233: DataConversionWarning: A column-vector y was passed when a 1d array was expected. Please change the shape of y to (n_samples,), for example using ravel().\n",
      "  return self._fit(X, y)\n",
      "/opt/homebrew/lib/python3.10/site-packages/sklearn/neighbors/_classification.py:233: DataConversionWarning: A column-vector y was passed when a 1d array was expected. Please change the shape of y to (n_samples,), for example using ravel().\n",
      "  return self._fit(X, y)\n",
      "/opt/homebrew/lib/python3.10/site-packages/sklearn/neighbors/_classification.py:233: DataConversionWarning: A column-vector y was passed when a 1d array was expected. Please change the shape of y to (n_samples,), for example using ravel().\n",
      "  return self._fit(X, y)\n",
      "/opt/homebrew/lib/python3.10/site-packages/sklearn/neighbors/_classification.py:233: DataConversionWarning: A column-vector y was passed when a 1d array was expected. Please change the shape of y to (n_samples,), for example using ravel().\n",
      "  return self._fit(X, y)\n",
      "/opt/homebrew/lib/python3.10/site-packages/sklearn/neighbors/_classification.py:233: DataConversionWarning: A column-vector y was passed when a 1d array was expected. Please change the shape of y to (n_samples,), for example using ravel().\n",
      "  return self._fit(X, y)\n"
     ]
    },
    {
     "name": "stdout",
     "output_type": "stream",
     "text": [
      "[CV 2/5] END algorithm=brute, metric=l1, n_neighbors=89, p=2, weights=uniform;, score=0.763 total time=   0.5s\n",
      "[CV 1/5] END algorithm=brute, metric=l1, n_neighbors=89, p=1, weights=distance;, score=0.767 total time=   0.4s\n",
      "[CV 2/5] END algorithm=brute, metric=l1, n_neighbors=89, p=1, weights=uniform;, score=0.763 total time=   0.4s\n",
      "[CV 3/5] END algorithm=brute, metric=l1, n_neighbors=89, p=1, weights=distance;, score=0.787 total time=   0.4s\n",
      "[CV 5/5] END algorithm=brute, metric=l1, n_neighbors=89, p=1, weights=distance;, score=0.791 total time=   0.5s\n",
      "[CV 4/5] END algorithm=brute, metric=l1, n_neighbors=89, p=2, weights=uniform;, score=0.777 total time=   0.5s\n",
      "[CV 1/5] END algorithm=brute, metric=l1, n_neighbors=89, p=2, weights=distance;, score=0.767 total time=   0.4s\n"
     ]
    },
    {
     "name": "stderr",
     "output_type": "stream",
     "text": [
      "/opt/homebrew/lib/python3.10/site-packages/sklearn/neighbors/_classification.py:233: DataConversionWarning: A column-vector y was passed when a 1d array was expected. Please change the shape of y to (n_samples,), for example using ravel().\n",
      "  return self._fit(X, y)\n",
      "/opt/homebrew/lib/python3.10/site-packages/sklearn/neighbors/_classification.py:233: DataConversionWarning: A column-vector y was passed when a 1d array was expected. Please change the shape of y to (n_samples,), for example using ravel().\n",
      "  return self._fit(X, y)\n",
      "/opt/homebrew/lib/python3.10/site-packages/sklearn/neighbors/_classification.py:233: DataConversionWarning: A column-vector y was passed when a 1d array was expected. Please change the shape of y to (n_samples,), for example using ravel().\n",
      "  return self._fit(X, y)\n",
      "/opt/homebrew/lib/python3.10/site-packages/sklearn/neighbors/_classification.py:233: DataConversionWarning: A column-vector y was passed when a 1d array was expected. Please change the shape of y to (n_samples,), for example using ravel().\n",
      "  return self._fit(X, y)\n",
      "/opt/homebrew/lib/python3.10/site-packages/sklearn/neighbors/_classification.py:233: DataConversionWarning: A column-vector y was passed when a 1d array was expected. Please change the shape of y to (n_samples,), for example using ravel().\n",
      "  return self._fit(X, y)\n",
      "/opt/homebrew/lib/python3.10/site-packages/sklearn/neighbors/_classification.py:233: DataConversionWarning: A column-vector y was passed when a 1d array was expected. Please change the shape of y to (n_samples,), for example using ravel().\n",
      "  return self._fit(X, y)\n",
      "/opt/homebrew/lib/python3.10/site-packages/sklearn/neighbors/_classification.py:233: DataConversionWarning: A column-vector y was passed when a 1d array was expected. Please change the shape of y to (n_samples,), for example using ravel().\n",
      "  return self._fit(X, y)\n"
     ]
    },
    {
     "name": "stdout",
     "output_type": "stream",
     "text": [
      "[CV 4/5] END algorithm=brute, metric=l1, n_neighbors=89, p=1, weights=uniform;, score=0.777 total time=   0.7s\n",
      "[CV 1/5] END algorithm=brute, metric=l2, n_neighbors=89, p=1, weights=uniform;, score=0.751 total time=   0.4s\n",
      "[CV 3/5] END algorithm=brute, metric=l2, n_neighbors=89, p=1, weights=uniform;, score=0.765 total time=   0.4s\n",
      "[CV 4/5] END algorithm=brute, metric=l1, n_neighbors=89, p=2, weights=distance;, score=0.787 total time=   0.4s\n"
     ]
    },
    {
     "name": "stderr",
     "output_type": "stream",
     "text": [
      "/opt/homebrew/lib/python3.10/site-packages/sklearn/neighbors/_classification.py:233: DataConversionWarning: A column-vector y was passed when a 1d array was expected. Please change the shape of y to (n_samples,), for example using ravel().\n",
      "  return self._fit(X, y)\n",
      "/opt/homebrew/lib/python3.10/site-packages/sklearn/neighbors/_classification.py:233: DataConversionWarning: A column-vector y was passed when a 1d array was expected. Please change the shape of y to (n_samples,), for example using ravel().\n",
      "  return self._fit(X, y)\n",
      "/opt/homebrew/lib/python3.10/site-packages/sklearn/neighbors/_classification.py:233: DataConversionWarning: A column-vector y was passed when a 1d array was expected. Please change the shape of y to (n_samples,), for example using ravel().\n",
      "  return self._fit(X, y)\n",
      "/opt/homebrew/lib/python3.10/site-packages/sklearn/neighbors/_classification.py:233: DataConversionWarning: A column-vector y was passed when a 1d array was expected. Please change the shape of y to (n_samples,), for example using ravel().\n",
      "  return self._fit(X, y)\n",
      "/opt/homebrew/lib/python3.10/site-packages/sklearn/neighbors/_classification.py:233: DataConversionWarning: A column-vector y was passed when a 1d array was expected. Please change the shape of y to (n_samples,), for example using ravel().\n",
      "  return self._fit(X, y)\n"
     ]
    },
    {
     "name": "stdout",
     "output_type": "stream",
     "text": [
      "[CV 2/5] END algorithm=brute, metric=l1, n_neighbors=89, p=2, weights=distance;, score=0.774 total time=   0.5s\n",
      "[CV 5/5] END algorithm=brute, metric=l2, n_neighbors=89, p=1, weights=uniform;, score=0.779 total time=   0.4s\n",
      "[CV 2/5] END algorithm=brute, metric=l2, n_neighbors=89, p=1, weights=distance;, score=0.774 total time=   0.5s\n",
      "[CV 4/5] END algorithm=brute, metric=l2, n_neighbors=89, p=1, weights=distance;, score=0.792 total time=   0.5s\n"
     ]
    },
    {
     "name": "stderr",
     "output_type": "stream",
     "text": [
      "/opt/homebrew/lib/python3.10/site-packages/sklearn/neighbors/_classification.py:233: DataConversionWarning: A column-vector y was passed when a 1d array was expected. Please change the shape of y to (n_samples,), for example using ravel().\n",
      "  return self._fit(X, y)\n",
      "/opt/homebrew/lib/python3.10/site-packages/sklearn/neighbors/_classification.py:233: DataConversionWarning: A column-vector y was passed when a 1d array was expected. Please change the shape of y to (n_samples,), for example using ravel().\n",
      "  return self._fit(X, y)\n",
      "/opt/homebrew/lib/python3.10/site-packages/sklearn/neighbors/_classification.py:233: DataConversionWarning: A column-vector y was passed when a 1d array was expected. Please change the shape of y to (n_samples,), for example using ravel().\n",
      "  return self._fit(X, y)\n"
     ]
    },
    {
     "name": "stdout",
     "output_type": "stream",
     "text": [
      "[CV 4/5] END algorithm=brute, metric=l2, n_neighbors=89, p=1, weights=uniform;, score=0.776 total time=   0.4s\n",
      "[CV 1/5] END algorithm=brute, metric=l2, n_neighbors=89, p=2, weights=uniform;, score=0.751 total time=   0.5s\n",
      "[CV 2/5] END algorithm=brute, metric=l2, n_neighbors=89, p=1, weights=uniform;, score=0.761 total time=   0.5s\n",
      "[CV 5/5] END algorithm=brute, metric=l1, n_neighbors=89, p=2, weights=distance;, score=0.791 total time=   0.5s\n"
     ]
    },
    {
     "name": "stderr",
     "output_type": "stream",
     "text": [
      "/opt/homebrew/lib/python3.10/site-packages/sklearn/neighbors/_classification.py:233: DataConversionWarning: A column-vector y was passed when a 1d array was expected. Please change the shape of y to (n_samples,), for example using ravel().\n",
      "  return self._fit(X, y)\n",
      "/opt/homebrew/lib/python3.10/site-packages/sklearn/neighbors/_classification.py:233: DataConversionWarning: A column-vector y was passed when a 1d array was expected. Please change the shape of y to (n_samples,), for example using ravel().\n",
      "  return self._fit(X, y)\n",
      "/opt/homebrew/lib/python3.10/site-packages/sklearn/neighbors/_classification.py:233: DataConversionWarning: A column-vector y was passed when a 1d array was expected. Please change the shape of y to (n_samples,), for example using ravel().\n",
      "  return self._fit(X, y)\n",
      "/opt/homebrew/lib/python3.10/site-packages/sklearn/neighbors/_classification.py:233: DataConversionWarning: A column-vector y was passed when a 1d array was expected. Please change the shape of y to (n_samples,), for example using ravel().\n",
      "  return self._fit(X, y)\n"
     ]
    },
    {
     "name": "stdout",
     "output_type": "stream",
     "text": [
      "[CV 5/5] END algorithm=brute, metric=l2, n_neighbors=89, p=1, weights=distance;, score=0.791 total time=   0.4s\n",
      "[CV 3/5] END algorithm=brute, metric=l2, n_neighbors=89, p=1, weights=distance;, score=0.777 total time=   0.5s\n",
      "[CV 3/5] END algorithm=brute, metric=l1, n_neighbors=89, p=2, weights=distance;, score=0.787 total time=   0.5s\n",
      "[CV 1/5] END algorithm=brute, metric=l2, n_neighbors=89, p=1, weights=distance;, score=0.759 total time=   0.5s\n"
     ]
    },
    {
     "name": "stderr",
     "output_type": "stream",
     "text": [
      "/opt/homebrew/lib/python3.10/site-packages/sklearn/neighbors/_classification.py:233: DataConversionWarning: A column-vector y was passed when a 1d array was expected. Please change the shape of y to (n_samples,), for example using ravel().\n",
      "  return self._fit(X, y)\n",
      "/opt/homebrew/lib/python3.10/site-packages/sklearn/neighbors/_classification.py:233: DataConversionWarning: A column-vector y was passed when a 1d array was expected. Please change the shape of y to (n_samples,), for example using ravel().\n",
      "  return self._fit(X, y)\n",
      "/opt/homebrew/lib/python3.10/site-packages/sklearn/neighbors/_classification.py:233: DataConversionWarning: A column-vector y was passed when a 1d array was expected. Please change the shape of y to (n_samples,), for example using ravel().\n",
      "  return self._fit(X, y)\n",
      "/opt/homebrew/lib/python3.10/site-packages/sklearn/neighbors/_classification.py:233: DataConversionWarning: A column-vector y was passed when a 1d array was expected. Please change the shape of y to (n_samples,), for example using ravel().\n",
      "  return self._fit(X, y)\n"
     ]
    },
    {
     "name": "stdout",
     "output_type": "stream",
     "text": [
      "[CV 3/5] END algorithm=brute, metric=l2, n_neighbors=89, p=2, weights=uniform;, score=0.765 total time=   0.5s\n",
      "[CV 2/5] END algorithm=brute, metric=l2, n_neighbors=89, p=2, weights=uniform;, score=0.761 total time=   0.5s\n",
      "[CV 5/5] END algorithm=brute, metric=l2, n_neighbors=89, p=2, weights=uniform;, score=0.779 total time=   0.4s\n",
      "[CV 4/5] END algorithm=brute, metric=l2, n_neighbors=89, p=2, weights=distance;, score=0.792 total time=   0.4s\n",
      "[CV 2/5] END algorithm=brute, metric=l2, n_neighbors=89, p=2, weights=distance;, score=0.774 total time=   0.5s\n"
     ]
    },
    {
     "name": "stderr",
     "output_type": "stream",
     "text": [
      "/opt/homebrew/lib/python3.10/site-packages/sklearn/neighbors/_classification.py:233: DataConversionWarning: A column-vector y was passed when a 1d array was expected. Please change the shape of y to (n_samples,), for example using ravel().\n",
      "  return self._fit(X, y)\n",
      "/opt/homebrew/lib/python3.10/site-packages/sklearn/neighbors/_classification.py:233: DataConversionWarning: A column-vector y was passed when a 1d array was expected. Please change the shape of y to (n_samples,), for example using ravel().\n",
      "  return self._fit(X, y)\n",
      "/opt/homebrew/lib/python3.10/site-packages/sklearn/neighbors/_classification.py:233: DataConversionWarning: A column-vector y was passed when a 1d array was expected. Please change the shape of y to (n_samples,), for example using ravel().\n",
      "  return self._fit(X, y)\n",
      "/opt/homebrew/lib/python3.10/site-packages/sklearn/neighbors/_classification.py:233: DataConversionWarning: A column-vector y was passed when a 1d array was expected. Please change the shape of y to (n_samples,), for example using ravel().\n",
      "  return self._fit(X, y)\n",
      "/opt/homebrew/lib/python3.10/site-packages/sklearn/neighbors/_classification.py:233: DataConversionWarning: A column-vector y was passed when a 1d array was expected. Please change the shape of y to (n_samples,), for example using ravel().\n",
      "  return self._fit(X, y)\n"
     ]
    },
    {
     "name": "stdout",
     "output_type": "stream",
     "text": [
      "[CV 3/5] END algorithm=brute, metric=manhattan, n_neighbors=89, p=1, weights=uniform;, score=0.781 total time=   0.4s\n",
      "[CV 1/5] END algorithm=brute, metric=manhattan, n_neighbors=89, p=1, weights=uniform;, score=0.758 total time=   0.5s\n",
      "[CV 5/5] END algorithm=brute, metric=manhattan, n_neighbors=89, p=1, weights=uniform;, score=0.783 total time=   0.4s\n"
     ]
    },
    {
     "name": "stderr",
     "output_type": "stream",
     "text": [
      "/opt/homebrew/lib/python3.10/site-packages/sklearn/neighbors/_classification.py:233: DataConversionWarning: A column-vector y was passed when a 1d array was expected. Please change the shape of y to (n_samples,), for example using ravel().\n",
      "  return self._fit(X, y)\n",
      "/opt/homebrew/lib/python3.10/site-packages/sklearn/neighbors/_classification.py:233: DataConversionWarning: A column-vector y was passed when a 1d array was expected. Please change the shape of y to (n_samples,), for example using ravel().\n",
      "  return self._fit(X, y)\n",
      "/opt/homebrew/lib/python3.10/site-packages/sklearn/neighbors/_classification.py:233: DataConversionWarning: A column-vector y was passed when a 1d array was expected. Please change the shape of y to (n_samples,), for example using ravel().\n",
      "  return self._fit(X, y)\n"
     ]
    },
    {
     "name": "stdout",
     "output_type": "stream",
     "text": [
      "[CV 2/5] END algorithm=brute, metric=manhattan, n_neighbors=89, p=1, weights=distance;, score=0.774 total time=   0.4s\n",
      "[CV 1/5] END algorithm=brute, metric=l2, n_neighbors=89, p=2, weights=distance;, score=0.759 total time=   0.4s\n",
      "[CV 5/5] END algorithm=brute, metric=l2, n_neighbors=89, p=2, weights=distance;, score=0.791 total time=   0.5s\n",
      "[CV 4/5] END algorithm=brute, metric=l2, n_neighbors=89, p=2, weights=uniform;, score=0.776 total time=   0.6s\n",
      "[CV 3/5] END algorithm=brute, metric=l2, n_neighbors=89, p=2, weights=distance;, score=0.777 total time=   0.4s\n",
      "[CV 4/5] END algorithm=brute, metric=manhattan, n_neighbors=89, p=1, weights=uniform;, score=0.777 total time=   0.5s\n"
     ]
    },
    {
     "name": "stderr",
     "output_type": "stream",
     "text": [
      "/opt/homebrew/lib/python3.10/site-packages/sklearn/neighbors/_classification.py:233: DataConversionWarning: A column-vector y was passed when a 1d array was expected. Please change the shape of y to (n_samples,), for example using ravel().\n",
      "  return self._fit(X, y)\n",
      "/opt/homebrew/lib/python3.10/site-packages/sklearn/neighbors/_classification.py:233: DataConversionWarning: A column-vector y was passed when a 1d array was expected. Please change the shape of y to (n_samples,), for example using ravel().\n",
      "  return self._fit(X, y)\n",
      "/opt/homebrew/lib/python3.10/site-packages/sklearn/neighbors/_classification.py:233: DataConversionWarning: A column-vector y was passed when a 1d array was expected. Please change the shape of y to (n_samples,), for example using ravel().\n",
      "  return self._fit(X, y)\n",
      "/opt/homebrew/lib/python3.10/site-packages/sklearn/neighbors/_classification.py:233: DataConversionWarning: A column-vector y was passed when a 1d array was expected. Please change the shape of y to (n_samples,), for example using ravel().\n",
      "  return self._fit(X, y)\n",
      "/opt/homebrew/lib/python3.10/site-packages/sklearn/neighbors/_classification.py:233: DataConversionWarning: A column-vector y was passed when a 1d array was expected. Please change the shape of y to (n_samples,), for example using ravel().\n",
      "  return self._fit(X, y)\n",
      "/opt/homebrew/lib/python3.10/site-packages/sklearn/neighbors/_classification.py:233: DataConversionWarning: A column-vector y was passed when a 1d array was expected. Please change the shape of y to (n_samples,), for example using ravel().\n",
      "  return self._fit(X, y)\n"
     ]
    },
    {
     "name": "stdout",
     "output_type": "stream",
     "text": [
      "[CV 1/5] END algorithm=brute, metric=manhattan, n_neighbors=89, p=1, weights=distance;, score=0.767 total time=   0.5s\n",
      "[CV 2/5] END algorithm=brute, metric=manhattan, n_neighbors=89, p=1, weights=uniform;, score=0.763 total time=   0.6s\n",
      "[CV 3/5] END algorithm=brute, metric=manhattan, n_neighbors=89, p=1, weights=distance;, score=0.787 total time=   0.4s\n"
     ]
    },
    {
     "name": "stderr",
     "output_type": "stream",
     "text": [
      "/opt/homebrew/lib/python3.10/site-packages/sklearn/neighbors/_classification.py:233: DataConversionWarning: A column-vector y was passed when a 1d array was expected. Please change the shape of y to (n_samples,), for example using ravel().\n",
      "  return self._fit(X, y)\n",
      "/opt/homebrew/lib/python3.10/site-packages/sklearn/neighbors/_classification.py:233: DataConversionWarning: A column-vector y was passed when a 1d array was expected. Please change the shape of y to (n_samples,), for example using ravel().\n",
      "  return self._fit(X, y)\n",
      "/opt/homebrew/lib/python3.10/site-packages/sklearn/neighbors/_classification.py:233: DataConversionWarning: A column-vector y was passed when a 1d array was expected. Please change the shape of y to (n_samples,), for example using ravel().\n",
      "  return self._fit(X, y)\n"
     ]
    },
    {
     "name": "stdout",
     "output_type": "stream",
     "text": [
      "[CV 4/5] END algorithm=brute, metric=manhattan, n_neighbors=89, p=1, weights=distance;, score=0.787 total time=   0.4s\n",
      "[CV 1/5] END algorithm=brute, metric=manhattan, n_neighbors=89, p=2, weights=uniform;, score=0.758 total time=   0.4s\n",
      "[CV 3/5] END algorithm=brute, metric=manhattan, n_neighbors=89, p=2, weights=uniform;, score=0.781 total time=   0.4s\n",
      "[CV 5/5] END algorithm=brute, metric=manhattan, n_neighbors=89, p=2, weights=uniform;, score=0.783 total time=   0.5s\n",
      "[CV 2/5] END algorithm=brute, metric=manhattan, n_neighbors=89, p=2, weights=distance;, score=0.774 total time=   0.5s\n"
     ]
    },
    {
     "name": "stderr",
     "output_type": "stream",
     "text": [
      "/opt/homebrew/lib/python3.10/site-packages/sklearn/neighbors/_classification.py:233: DataConversionWarning: A column-vector y was passed when a 1d array was expected. Please change the shape of y to (n_samples,), for example using ravel().\n",
      "  return self._fit(X, y)\n",
      "/opt/homebrew/lib/python3.10/site-packages/sklearn/neighbors/_classification.py:233: DataConversionWarning: A column-vector y was passed when a 1d array was expected. Please change the shape of y to (n_samples,), for example using ravel().\n",
      "  return self._fit(X, y)\n",
      "/opt/homebrew/lib/python3.10/site-packages/sklearn/neighbors/_classification.py:233: DataConversionWarning: A column-vector y was passed when a 1d array was expected. Please change the shape of y to (n_samples,), for example using ravel().\n",
      "  return self._fit(X, y)\n",
      "/opt/homebrew/lib/python3.10/site-packages/sklearn/neighbors/_classification.py:233: DataConversionWarning: A column-vector y was passed when a 1d array was expected. Please change the shape of y to (n_samples,), for example using ravel().\n",
      "  return self._fit(X, y)\n",
      "/opt/homebrew/lib/python3.10/site-packages/sklearn/neighbors/_classification.py:233: DataConversionWarning: A column-vector y was passed when a 1d array was expected. Please change the shape of y to (n_samples,), for example using ravel().\n",
      "  return self._fit(X, y)\n"
     ]
    },
    {
     "name": "stdout",
     "output_type": "stream",
     "text": [
      "[CV 4/5] END algorithm=brute, metric=manhattan, n_neighbors=89, p=2, weights=distance;, score=0.787 total time=   0.5s\n",
      "[CV 1/5] END algorithm=brute, metric=nan_euclidean, n_neighbors=89, p=1, weights=uniform;, score=0.751 total time=   0.6s\n"
     ]
    },
    {
     "name": "stderr",
     "output_type": "stream",
     "text": [
      "/opt/homebrew/lib/python3.10/site-packages/sklearn/neighbors/_classification.py:233: DataConversionWarning: A column-vector y was passed when a 1d array was expected. Please change the shape of y to (n_samples,), for example using ravel().\n",
      "  return self._fit(X, y)\n",
      "/opt/homebrew/lib/python3.10/site-packages/sklearn/neighbors/_classification.py:233: DataConversionWarning: A column-vector y was passed when a 1d array was expected. Please change the shape of y to (n_samples,), for example using ravel().\n",
      "  return self._fit(X, y)\n"
     ]
    },
    {
     "name": "stdout",
     "output_type": "stream",
     "text": [
      "[CV 3/5] END algorithm=brute, metric=nan_euclidean, n_neighbors=89, p=1, weights=uniform;, score=0.765 total time=   0.6s\n",
      "[CV 5/5] END algorithm=brute, metric=manhattan, n_neighbors=89, p=1, weights=distance;, score=0.791 total time=   0.5s\n",
      "[CV 4/5] END algorithm=brute, metric=manhattan, n_neighbors=89, p=2, weights=uniform;, score=0.777 total time=   0.5s\n",
      "[CV 1/5] END algorithm=brute, metric=manhattan, n_neighbors=89, p=2, weights=distance;, score=0.767 total time=   0.5s\n",
      "[CV 2/5] END algorithm=brute, metric=manhattan, n_neighbors=89, p=2, weights=uniform;, score=0.763 total time=   0.6s\n",
      "[CV 3/5] END algorithm=brute, metric=manhattan, n_neighbors=89, p=2, weights=distance;, score=0.787 total time=   0.4s\n",
      "[CV 5/5] END algorithm=brute, metric=manhattan, n_neighbors=89, p=2, weights=distance;, score=0.791 total time=   0.5s\n"
     ]
    },
    {
     "name": "stderr",
     "output_type": "stream",
     "text": [
      "/opt/homebrew/lib/python3.10/site-packages/sklearn/neighbors/_classification.py:233: DataConversionWarning: A column-vector y was passed when a 1d array was expected. Please change the shape of y to (n_samples,), for example using ravel().\n",
      "  return self._fit(X, y)\n",
      "/opt/homebrew/lib/python3.10/site-packages/sklearn/neighbors/_classification.py:233: DataConversionWarning: A column-vector y was passed when a 1d array was expected. Please change the shape of y to (n_samples,), for example using ravel().\n",
      "  return self._fit(X, y)\n",
      "/opt/homebrew/lib/python3.10/site-packages/sklearn/neighbors/_classification.py:233: DataConversionWarning: A column-vector y was passed when a 1d array was expected. Please change the shape of y to (n_samples,), for example using ravel().\n",
      "  return self._fit(X, y)\n",
      "/opt/homebrew/lib/python3.10/site-packages/sklearn/neighbors/_classification.py:233: DataConversionWarning: A column-vector y was passed when a 1d array was expected. Please change the shape of y to (n_samples,), for example using ravel().\n",
      "  return self._fit(X, y)\n",
      "/opt/homebrew/lib/python3.10/site-packages/sklearn/neighbors/_classification.py:233: DataConversionWarning: A column-vector y was passed when a 1d array was expected. Please change the shape of y to (n_samples,), for example using ravel().\n",
      "  return self._fit(X, y)\n",
      "/opt/homebrew/lib/python3.10/site-packages/sklearn/neighbors/_classification.py:233: DataConversionWarning: A column-vector y was passed when a 1d array was expected. Please change the shape of y to (n_samples,), for example using ravel().\n",
      "  return self._fit(X, y)\n",
      "/opt/homebrew/lib/python3.10/site-packages/sklearn/neighbors/_classification.py:233: DataConversionWarning: A column-vector y was passed when a 1d array was expected. Please change the shape of y to (n_samples,), for example using ravel().\n",
      "  return self._fit(X, y)\n"
     ]
    },
    {
     "name": "stdout",
     "output_type": "stream",
     "text": [
      "[CV 2/5] END algorithm=brute, metric=nan_euclidean, n_neighbors=89, p=1, weights=uniform;, score=0.761 total time=   0.6s\n",
      "[CV 4/5] END algorithm=brute, metric=nan_euclidean, n_neighbors=89, p=1, weights=uniform;, score=0.776 total time=   0.6s\n",
      "[CV 5/5] END algorithm=brute, metric=nan_euclidean, n_neighbors=89, p=1, weights=uniform;, score=0.779 total time=   0.6s\n"
     ]
    },
    {
     "name": "stderr",
     "output_type": "stream",
     "text": [
      "/opt/homebrew/lib/python3.10/site-packages/sklearn/neighbors/_classification.py:233: DataConversionWarning: A column-vector y was passed when a 1d array was expected. Please change the shape of y to (n_samples,), for example using ravel().\n",
      "  return self._fit(X, y)\n",
      "/opt/homebrew/lib/python3.10/site-packages/sklearn/neighbors/_classification.py:233: DataConversionWarning: A column-vector y was passed when a 1d array was expected. Please change the shape of y to (n_samples,), for example using ravel().\n",
      "  return self._fit(X, y)\n",
      "/opt/homebrew/lib/python3.10/site-packages/sklearn/neighbors/_classification.py:233: DataConversionWarning: A column-vector y was passed when a 1d array was expected. Please change the shape of y to (n_samples,), for example using ravel().\n",
      "  return self._fit(X, y)\n",
      "/opt/homebrew/lib/python3.10/site-packages/sklearn/neighbors/_classification.py:233: DataConversionWarning: A column-vector y was passed when a 1d array was expected. Please change the shape of y to (n_samples,), for example using ravel().\n",
      "  return self._fit(X, y)\n",
      "/opt/homebrew/lib/python3.10/site-packages/sklearn/neighbors/_classification.py:233: DataConversionWarning: A column-vector y was passed when a 1d array was expected. Please change the shape of y to (n_samples,), for example using ravel().\n",
      "  return self._fit(X, y)\n",
      "/opt/homebrew/lib/python3.10/site-packages/sklearn/neighbors/_classification.py:233: DataConversionWarning: A column-vector y was passed when a 1d array was expected. Please change the shape of y to (n_samples,), for example using ravel().\n",
      "  return self._fit(X, y)\n"
     ]
    },
    {
     "name": "stdout",
     "output_type": "stream",
     "text": [
      "[CV 1/5] END algorithm=brute, metric=nan_euclidean, n_neighbors=89, p=2, weights=uniform;, score=0.751 total time=   0.6s\n",
      "[CV 3/5] END algorithm=brute, metric=nan_euclidean, n_neighbors=89, p=2, weights=uniform;, score=0.765 total time=   0.6s\n",
      "[CV 4/5] END algorithm=brute, metric=nan_euclidean, n_neighbors=89, p=1, weights=distance;, score=0.792 total time=   0.7s\n",
      "[CV 2/5] END algorithm=brute, metric=nan_euclidean, n_neighbors=89, p=1, weights=distance;, score=0.774 total time=   0.8s\n",
      "[CV 5/5] END algorithm=brute, metric=nan_euclidean, n_neighbors=89, p=2, weights=uniform;, score=0.779 total time=   0.7s\n"
     ]
    },
    {
     "name": "stderr",
     "output_type": "stream",
     "text": [
      "/opt/homebrew/lib/python3.10/site-packages/sklearn/neighbors/_classification.py:233: DataConversionWarning: A column-vector y was passed when a 1d array was expected. Please change the shape of y to (n_samples,), for example using ravel().\n",
      "  return self._fit(X, y)\n",
      "/opt/homebrew/lib/python3.10/site-packages/sklearn/neighbors/_classification.py:233: DataConversionWarning: A column-vector y was passed when a 1d array was expected. Please change the shape of y to (n_samples,), for example using ravel().\n",
      "  return self._fit(X, y)\n"
     ]
    },
    {
     "name": "stdout",
     "output_type": "stream",
     "text": [
      "[CV 2/5] END algorithm=brute, metric=nan_euclidean, n_neighbors=89, p=2, weights=distance;, score=0.774 total time=   0.7s\n",
      "[CV 1/5] END algorithm=brute, metric=nan_euclidean, n_neighbors=89, p=1, weights=distance;, score=0.759 total time=   0.6s\n",
      "[CV 4/5] END algorithm=brute, metric=nan_euclidean, n_neighbors=89, p=2, weights=distance;, score=0.792 total time=   0.6s\n",
      "[CV 2/5] END algorithm=brute, metric=nan_euclidean, n_neighbors=89, p=2, weights=uniform;, score=0.761 total time=   0.6s\n",
      "[CV 5/5] END algorithm=brute, metric=nan_euclidean, n_neighbors=89, p=1, weights=distance;, score=0.791 total time=   0.6s\n",
      "[CV 3/5] END algorithm=brute, metric=nan_euclidean, n_neighbors=89, p=1, weights=distance;, score=0.777 total time=   0.6s\n"
     ]
    },
    {
     "name": "stderr",
     "output_type": "stream",
     "text": [
      "/opt/homebrew/lib/python3.10/site-packages/sklearn/neighbors/_classification.py:233: DataConversionWarning: A column-vector y was passed when a 1d array was expected. Please change the shape of y to (n_samples,), for example using ravel().\n",
      "  return self._fit(X, y)\n",
      "/opt/homebrew/lib/python3.10/site-packages/sklearn/neighbors/_classification.py:233: DataConversionWarning: A column-vector y was passed when a 1d array was expected. Please change the shape of y to (n_samples,), for example using ravel().\n",
      "  return self._fit(X, y)\n",
      "/opt/homebrew/lib/python3.10/site-packages/sklearn/neighbors/_classification.py:233: DataConversionWarning: A column-vector y was passed when a 1d array was expected. Please change the shape of y to (n_samples,), for example using ravel().\n",
      "  return self._fit(X, y)\n",
      "/opt/homebrew/lib/python3.10/site-packages/sklearn/neighbors/_classification.py:233: DataConversionWarning: A column-vector y was passed when a 1d array was expected. Please change the shape of y to (n_samples,), for example using ravel().\n",
      "  return self._fit(X, y)\n",
      "/opt/homebrew/lib/python3.10/site-packages/sklearn/neighbors/_classification.py:233: DataConversionWarning: A column-vector y was passed when a 1d array was expected. Please change the shape of y to (n_samples,), for example using ravel().\n",
      "  return self._fit(X, y)\n",
      "/opt/homebrew/lib/python3.10/site-packages/sklearn/neighbors/_classification.py:233: DataConversionWarning: A column-vector y was passed when a 1d array was expected. Please change the shape of y to (n_samples,), for example using ravel().\n",
      "  return self._fit(X, y)\n"
     ]
    },
    {
     "name": "stdout",
     "output_type": "stream",
     "text": [
      "[CV 1/5] END algorithm=brute, metric=nan_euclidean, n_neighbors=89, p=2, weights=distance;, score=0.759 total time=   0.6s\n",
      "[CV 4/5] END algorithm=brute, metric=nan_euclidean, n_neighbors=89, p=2, weights=uniform;, score=0.776 total time=   0.8s\n"
     ]
    },
    {
     "name": "stderr",
     "output_type": "stream",
     "text": [
      "/opt/homebrew/lib/python3.10/site-packages/sklearn/neighbors/_classification.py:233: DataConversionWarning: A column-vector y was passed when a 1d array was expected. Please change the shape of y to (n_samples,), for example using ravel().\n",
      "  return self._fit(X, y)\n",
      "/opt/homebrew/lib/python3.10/site-packages/sklearn/neighbors/_classification.py:233: DataConversionWarning: A column-vector y was passed when a 1d array was expected. Please change the shape of y to (n_samples,), for example using ravel().\n",
      "  return self._fit(X, y)\n"
     ]
    },
    {
     "name": "stdout",
     "output_type": "stream",
     "text": [
      "[CV 1/5] END algorithm=auto, metric=cityblock, n_neighbors=89, p=1, weights=uniform;, score=0.758 total time=   0.5s\n",
      "[CV 3/5] END algorithm=brute, metric=nan_euclidean, n_neighbors=89, p=2, weights=distance;, score=0.777 total time=   0.5s\n",
      "[CV 3/5] END algorithm=auto, metric=cityblock, n_neighbors=89, p=1, weights=uniform;, score=0.781 total time=   0.5s\n",
      "[CV 2/5] END algorithm=auto, metric=cityblock, n_neighbors=89, p=1, weights=distance;, score=0.774 total time=   0.4s\n",
      "[CV 5/5] END algorithm=brute, metric=nan_euclidean, n_neighbors=89, p=2, weights=distance;, score=0.791 total time=   0.6s\n",
      "[CV 5/5] END algorithm=auto, metric=cityblock, n_neighbors=89, p=1, weights=uniform;, score=0.783 total time=   0.5s\n"
     ]
    },
    {
     "name": "stderr",
     "output_type": "stream",
     "text": [
      "/opt/homebrew/lib/python3.10/site-packages/sklearn/neighbors/_classification.py:233: DataConversionWarning: A column-vector y was passed when a 1d array was expected. Please change the shape of y to (n_samples,), for example using ravel().\n",
      "  return self._fit(X, y)\n",
      "/opt/homebrew/lib/python3.10/site-packages/sklearn/neighbors/_classification.py:233: DataConversionWarning: A column-vector y was passed when a 1d array was expected. Please change the shape of y to (n_samples,), for example using ravel().\n",
      "  return self._fit(X, y)\n",
      "/opt/homebrew/lib/python3.10/site-packages/sklearn/neighbors/_classification.py:233: DataConversionWarning: A column-vector y was passed when a 1d array was expected. Please change the shape of y to (n_samples,), for example using ravel().\n",
      "  return self._fit(X, y)\n",
      "/opt/homebrew/lib/python3.10/site-packages/sklearn/neighbors/_classification.py:233: DataConversionWarning: A column-vector y was passed when a 1d array was expected. Please change the shape of y to (n_samples,), for example using ravel().\n",
      "  return self._fit(X, y)\n",
      "/opt/homebrew/lib/python3.10/site-packages/sklearn/neighbors/_classification.py:233: DataConversionWarning: A column-vector y was passed when a 1d array was expected. Please change the shape of y to (n_samples,), for example using ravel().\n",
      "  return self._fit(X, y)\n",
      "/opt/homebrew/lib/python3.10/site-packages/sklearn/neighbors/_classification.py:233: DataConversionWarning: A column-vector y was passed when a 1d array was expected. Please change the shape of y to (n_samples,), for example using ravel().\n",
      "  return self._fit(X, y)\n"
     ]
    },
    {
     "name": "stdout",
     "output_type": "stream",
     "text": [
      "[CV 1/5] END algorithm=auto, metric=cityblock, n_neighbors=89, p=2, weights=uniform;, score=0.758 total time=   0.4s\n",
      "[CV 4/5] END algorithm=auto, metric=cityblock, n_neighbors=89, p=1, weights=distance;, score=0.787 total time=   0.5s\n"
     ]
    },
    {
     "name": "stderr",
     "output_type": "stream",
     "text": [
      "/opt/homebrew/lib/python3.10/site-packages/sklearn/neighbors/_classification.py:233: DataConversionWarning: A column-vector y was passed when a 1d array was expected. Please change the shape of y to (n_samples,), for example using ravel().\n",
      "  return self._fit(X, y)\n",
      "/opt/homebrew/lib/python3.10/site-packages/sklearn/neighbors/_classification.py:233: DataConversionWarning: A column-vector y was passed when a 1d array was expected. Please change the shape of y to (n_samples,), for example using ravel().\n",
      "  return self._fit(X, y)\n"
     ]
    },
    {
     "name": "stdout",
     "output_type": "stream",
     "text": [
      "[CV 3/5] END algorithm=auto, metric=cityblock, n_neighbors=89, p=2, weights=uniform;, score=0.781 total time=   0.4s\n",
      "[CV 2/5] END algorithm=auto, metric=cityblock, n_neighbors=89, p=1, weights=uniform;, score=0.763 total time=   0.5s\n",
      "[CV 4/5] END algorithm=auto, metric=cityblock, n_neighbors=89, p=1, weights=uniform;, score=0.777 total time=   0.5s\n",
      "[CV 3/5] END algorithm=auto, metric=cityblock, n_neighbors=89, p=1, weights=distance;, score=0.787 total time=   0.5s\n",
      "[CV 5/5] END algorithm=auto, metric=cityblock, n_neighbors=89, p=2, weights=uniform;, score=0.783 total time=   0.5s\n",
      "[CV 1/5] END algorithm=auto, metric=cityblock, n_neighbors=89, p=1, weights=distance;, score=0.767 total time=   0.5s\n"
     ]
    },
    {
     "name": "stderr",
     "output_type": "stream",
     "text": [
      "/opt/homebrew/lib/python3.10/site-packages/sklearn/neighbors/_classification.py:233: DataConversionWarning: A column-vector y was passed when a 1d array was expected. Please change the shape of y to (n_samples,), for example using ravel().\n",
      "  return self._fit(X, y)\n",
      "/opt/homebrew/lib/python3.10/site-packages/sklearn/neighbors/_classification.py:233: DataConversionWarning: A column-vector y was passed when a 1d array was expected. Please change the shape of y to (n_samples,), for example using ravel().\n",
      "  return self._fit(X, y)\n",
      "/opt/homebrew/lib/python3.10/site-packages/sklearn/neighbors/_classification.py:233: DataConversionWarning: A column-vector y was passed when a 1d array was expected. Please change the shape of y to (n_samples,), for example using ravel().\n",
      "  return self._fit(X, y)\n",
      "/opt/homebrew/lib/python3.10/site-packages/sklearn/neighbors/_classification.py:233: DataConversionWarning: A column-vector y was passed when a 1d array was expected. Please change the shape of y to (n_samples,), for example using ravel().\n",
      "  return self._fit(X, y)\n",
      "/opt/homebrew/lib/python3.10/site-packages/sklearn/neighbors/_classification.py:233: DataConversionWarning: A column-vector y was passed when a 1d array was expected. Please change the shape of y to (n_samples,), for example using ravel().\n",
      "  return self._fit(X, y)\n",
      "/opt/homebrew/lib/python3.10/site-packages/sklearn/neighbors/_classification.py:233: DataConversionWarning: A column-vector y was passed when a 1d array was expected. Please change the shape of y to (n_samples,), for example using ravel().\n",
      "  return self._fit(X, y)\n"
     ]
    },
    {
     "name": "stdout",
     "output_type": "stream",
     "text": [
      "[CV 2/5] END algorithm=auto, metric=cityblock, n_neighbors=89, p=2, weights=uniform;, score=0.763 total time=   0.5s\n",
      "[CV 5/5] END algorithm=auto, metric=cityblock, n_neighbors=89, p=1, weights=distance;, score=0.791 total time=   0.5s\n",
      "[CV 4/5] END algorithm=auto, metric=cityblock, n_neighbors=89, p=2, weights=uniform;, score=0.777 total time=   0.5s\n",
      "[CV 1/5] END algorithm=auto, metric=cosine, n_neighbors=89, p=1, weights=uniform;, score=0.757 total time=   0.1s\n",
      "[CV 2/5] END algorithm=auto, metric=cosine, n_neighbors=89, p=1, weights=uniform;, score=0.767 total time=   0.1s\n"
     ]
    },
    {
     "name": "stderr",
     "output_type": "stream",
     "text": [
      "/opt/homebrew/lib/python3.10/site-packages/sklearn/neighbors/_classification.py:233: DataConversionWarning: A column-vector y was passed when a 1d array was expected. Please change the shape of y to (n_samples,), for example using ravel().\n",
      "  return self._fit(X, y)\n",
      "/opt/homebrew/lib/python3.10/site-packages/sklearn/neighbors/_classification.py:233: DataConversionWarning: A column-vector y was passed when a 1d array was expected. Please change the shape of y to (n_samples,), for example using ravel().\n",
      "  return self._fit(X, y)\n",
      "/opt/homebrew/lib/python3.10/site-packages/sklearn/neighbors/_classification.py:233: DataConversionWarning: A column-vector y was passed when a 1d array was expected. Please change the shape of y to (n_samples,), for example using ravel().\n",
      "  return self._fit(X, y)\n",
      "/opt/homebrew/lib/python3.10/site-packages/sklearn/neighbors/_classification.py:233: DataConversionWarning: A column-vector y was passed when a 1d array was expected. Please change the shape of y to (n_samples,), for example using ravel().\n",
      "  return self._fit(X, y)\n",
      "/opt/homebrew/lib/python3.10/site-packages/sklearn/neighbors/_classification.py:233: DataConversionWarning: A column-vector y was passed when a 1d array was expected. Please change the shape of y to (n_samples,), for example using ravel().\n",
      "  return self._fit(X, y)\n"
     ]
    },
    {
     "name": "stdout",
     "output_type": "stream",
     "text": [
      "[CV 2/5] END algorithm=auto, metric=cityblock, n_neighbors=89, p=2, weights=distance;, score=0.774 total time=   0.5s\n",
      "[CV 5/5] END algorithm=auto, metric=cityblock, n_neighbors=89, p=2, weights=distance;, score=0.791 total time=   0.4s\n",
      "[CV 3/5] END algorithm=auto, metric=cosine, n_neighbors=89, p=1, weights=uniform;, score=0.772 total time=   0.1s\n",
      "[CV 4/5] END algorithm=auto, metric=cityblock, n_neighbors=89, p=2, weights=distance;, score=0.787 total time=   0.5s\n",
      "[CV 3/5] END algorithm=auto, metric=cityblock, n_neighbors=89, p=2, weights=distance;, score=0.787 total time=   0.5s\n",
      "[CV 4/5] END algorithm=auto, metric=cosine, n_neighbors=89, p=1, weights=uniform;, score=0.767 total time=   0.2s\n",
      "[CV 5/5] END algorithm=auto, metric=cosine, n_neighbors=89, p=1, weights=uniform;, score=0.783 total time=   0.2s\n",
      "[CV 1/5] END algorithm=auto, metric=cityblock, n_neighbors=89, p=2, weights=distance;, score=0.767 total time=   0.5s\n",
      "[CV 1/5] END algorithm=auto, metric=cosine, n_neighbors=89, p=1, weights=distance;, score=0.777 total time=   0.1s\n"
     ]
    },
    {
     "name": "stderr",
     "output_type": "stream",
     "text": [
      "/opt/homebrew/lib/python3.10/site-packages/sklearn/neighbors/_classification.py:233: DataConversionWarning: A column-vector y was passed when a 1d array was expected. Please change the shape of y to (n_samples,), for example using ravel().\n",
      "  return self._fit(X, y)\n",
      "/opt/homebrew/lib/python3.10/site-packages/sklearn/neighbors/_classification.py:233: DataConversionWarning: A column-vector y was passed when a 1d array was expected. Please change the shape of y to (n_samples,), for example using ravel().\n",
      "  return self._fit(X, y)\n",
      "/opt/homebrew/lib/python3.10/site-packages/sklearn/neighbors/_classification.py:233: DataConversionWarning: A column-vector y was passed when a 1d array was expected. Please change the shape of y to (n_samples,), for example using ravel().\n",
      "  return self._fit(X, y)\n",
      "/opt/homebrew/lib/python3.10/site-packages/sklearn/neighbors/_classification.py:233: DataConversionWarning: A column-vector y was passed when a 1d array was expected. Please change the shape of y to (n_samples,), for example using ravel().\n",
      "  return self._fit(X, y)\n",
      "/opt/homebrew/lib/python3.10/site-packages/sklearn/neighbors/_classification.py:233: DataConversionWarning: A column-vector y was passed when a 1d array was expected. Please change the shape of y to (n_samples,), for example using ravel().\n",
      "  return self._fit(X, y)\n",
      "/opt/homebrew/lib/python3.10/site-packages/sklearn/neighbors/_classification.py:233: DataConversionWarning: A column-vector y was passed when a 1d array was expected. Please change the shape of y to (n_samples,), for example using ravel().\n",
      "  return self._fit(X, y)\n",
      "/opt/homebrew/lib/python3.10/site-packages/sklearn/neighbors/_classification.py:233: DataConversionWarning: A column-vector y was passed when a 1d array was expected. Please change the shape of y to (n_samples,), for example using ravel().\n",
      "  return self._fit(X, y)\n",
      "/opt/homebrew/lib/python3.10/site-packages/sklearn/neighbors/_classification.py:233: DataConversionWarning: A column-vector y was passed when a 1d array was expected. Please change the shape of y to (n_samples,), for example using ravel().\n",
      "  return self._fit(X, y)\n",
      "/opt/homebrew/lib/python3.10/site-packages/sklearn/neighbors/_classification.py:233: DataConversionWarning: A column-vector y was passed when a 1d array was expected. Please change the shape of y to (n_samples,), for example using ravel().\n",
      "  return self._fit(X, y)\n"
     ]
    },
    {
     "name": "stdout",
     "output_type": "stream",
     "text": [
      "[CV 2/5] END algorithm=auto, metric=cosine, n_neighbors=89, p=1, weights=distance;, score=0.787 total time=   0.1s\n",
      "[CV 3/5] END algorithm=auto, metric=cosine, n_neighbors=89, p=1, weights=distance;, score=0.797 total time=   0.2s\n",
      "[CV 4/5] END algorithm=auto, metric=cosine, n_neighbors=89, p=1, weights=distance;, score=0.801 total time=   0.2s\n",
      "[CV 5/5] END algorithm=auto, metric=cosine, n_neighbors=89, p=1, weights=distance;, score=0.801 total time=   0.2s\n",
      "[CV 1/5] END algorithm=auto, metric=cosine, n_neighbors=89, p=2, weights=uniform;, score=0.757 total time=   0.2s\n",
      "[CV 3/5] END algorithm=auto, metric=cosine, n_neighbors=89, p=2, weights=uniform;, score=0.772 total time=   0.2s\n",
      "[CV 4/5] END algorithm=auto, metric=cosine, n_neighbors=89, p=2, weights=uniform;, score=0.767 total time=   0.2s\n",
      "[CV 5/5] END algorithm=auto, metric=cosine, n_neighbors=89, p=2, weights=uniform;, score=0.783 total time=   0.1s\n"
     ]
    },
    {
     "name": "stderr",
     "output_type": "stream",
     "text": [
      "/opt/homebrew/lib/python3.10/site-packages/sklearn/neighbors/_classification.py:233: DataConversionWarning: A column-vector y was passed when a 1d array was expected. Please change the shape of y to (n_samples,), for example using ravel().\n",
      "  return self._fit(X, y)\n",
      "/opt/homebrew/lib/python3.10/site-packages/sklearn/neighbors/_classification.py:233: DataConversionWarning: A column-vector y was passed when a 1d array was expected. Please change the shape of y to (n_samples,), for example using ravel().\n",
      "  return self._fit(X, y)\n",
      "/opt/homebrew/lib/python3.10/site-packages/sklearn/neighbors/_classification.py:233: DataConversionWarning: A column-vector y was passed when a 1d array was expected. Please change the shape of y to (n_samples,), for example using ravel().\n",
      "  return self._fit(X, y)\n",
      "/opt/homebrew/lib/python3.10/site-packages/sklearn/neighbors/_classification.py:233: DataConversionWarning: A column-vector y was passed when a 1d array was expected. Please change the shape of y to (n_samples,), for example using ravel().\n",
      "  return self._fit(X, y)\n",
      "/opt/homebrew/lib/python3.10/site-packages/sklearn/neighbors/_classification.py:233: DataConversionWarning: A column-vector y was passed when a 1d array was expected. Please change the shape of y to (n_samples,), for example using ravel().\n",
      "  return self._fit(X, y)\n",
      "/opt/homebrew/lib/python3.10/site-packages/sklearn/neighbors/_classification.py:233: DataConversionWarning: A column-vector y was passed when a 1d array was expected. Please change the shape of y to (n_samples,), for example using ravel().\n",
      "  return self._fit(X, y)\n",
      "/opt/homebrew/lib/python3.10/site-packages/sklearn/neighbors/_classification.py:233: DataConversionWarning: A column-vector y was passed when a 1d array was expected. Please change the shape of y to (n_samples,), for example using ravel().\n",
      "  return self._fit(X, y)\n",
      "/opt/homebrew/lib/python3.10/site-packages/sklearn/neighbors/_classification.py:233: DataConversionWarning: A column-vector y was passed when a 1d array was expected. Please change the shape of y to (n_samples,), for example using ravel().\n",
      "  return self._fit(X, y)\n",
      "/opt/homebrew/lib/python3.10/site-packages/sklearn/neighbors/_classification.py:233: DataConversionWarning: A column-vector y was passed when a 1d array was expected. Please change the shape of y to (n_samples,), for example using ravel().\n",
      "  return self._fit(X, y)\n",
      "/opt/homebrew/lib/python3.10/site-packages/sklearn/neighbors/_classification.py:233: DataConversionWarning: A column-vector y was passed when a 1d array was expected. Please change the shape of y to (n_samples,), for example using ravel().\n",
      "  return self._fit(X, y)\n"
     ]
    },
    {
     "name": "stdout",
     "output_type": "stream",
     "text": [
      "[CV 2/5] END algorithm=auto, metric=cosine, n_neighbors=89, p=2, weights=distance;, score=0.787 total time=   0.2s\n",
      "[CV 1/5] END algorithm=auto, metric=cosine, n_neighbors=89, p=2, weights=distance;, score=0.777 total time=   0.2s\n",
      "[CV 2/5] END algorithm=auto, metric=euclidean, n_neighbors=89, p=1, weights=uniform;, score=0.761 total time=   0.1s\n",
      "[CV 4/5] END algorithm=auto, metric=cosine, n_neighbors=89, p=2, weights=distance;, score=0.801 total time=   0.2s\n",
      "[CV 3/5] END algorithm=auto, metric=cosine, n_neighbors=89, p=2, weights=distance;, score=0.797 total time=   0.2s\n",
      "[CV 1/5] END algorithm=auto, metric=euclidean, n_neighbors=89, p=1, weights=uniform;, score=0.751 total time=   0.1s\n",
      "[CV 2/5] END algorithm=auto, metric=cosine, n_neighbors=89, p=2, weights=uniform;, score=0.767 total time=   0.3s\n",
      "[CV 5/5] END algorithm=auto, metric=cosine, n_neighbors=89, p=2, weights=distance;, score=0.801 total time=   0.2s\n",
      "[CV 5/5] END algorithm=auto, metric=euclidean, n_neighbors=89, p=1, weights=uniform;, score=0.779 total time=   0.1s\n",
      "[CV 4/5] END algorithm=auto, metric=euclidean, n_neighbors=89, p=1, weights=uniform;, score=0.776 total time=   0.1s\n",
      "[CV 3/5] END algorithm=auto, metric=euclidean, n_neighbors=89, p=1, weights=uniform;, score=0.765 total time=   0.1s\n",
      "[CV 1/5] END algorithm=auto, metric=euclidean, n_neighbors=89, p=1, weights=distance;, score=0.759 total time=   0.1s\n",
      "[CV 4/5] END algorithm=auto, metric=euclidean, n_neighbors=89, p=1, weights=distance;, score=0.792 total time=   0.1s\n",
      "[CV 2/5] END algorithm=auto, metric=euclidean, n_neighbors=89, p=1, weights=distance;, score=0.774 total time=   0.1s\n",
      "[CV 3/5] END algorithm=auto, metric=euclidean, n_neighbors=89, p=1, weights=distance;, score=0.777 total time=   0.1s\n",
      "[CV 5/5] END algorithm=auto, metric=euclidean, n_neighbors=89, p=1, weights=distance;, score=0.791 total time=   0.1s\n"
     ]
    },
    {
     "name": "stderr",
     "output_type": "stream",
     "text": [
      "/opt/homebrew/lib/python3.10/site-packages/sklearn/neighbors/_classification.py:233: DataConversionWarning: A column-vector y was passed when a 1d array was expected. Please change the shape of y to (n_samples,), for example using ravel().\n",
      "  return self._fit(X, y)\n",
      "/opt/homebrew/lib/python3.10/site-packages/sklearn/neighbors/_classification.py:233: DataConversionWarning: A column-vector y was passed when a 1d array was expected. Please change the shape of y to (n_samples,), for example using ravel().\n",
      "  return self._fit(X, y)\n",
      "/opt/homebrew/lib/python3.10/site-packages/sklearn/neighbors/_classification.py:233: DataConversionWarning: A column-vector y was passed when a 1d array was expected. Please change the shape of y to (n_samples,), for example using ravel().\n",
      "  return self._fit(X, y)\n",
      "/opt/homebrew/lib/python3.10/site-packages/sklearn/neighbors/_classification.py:233: DataConversionWarning: A column-vector y was passed when a 1d array was expected. Please change the shape of y to (n_samples,), for example using ravel().\n",
      "  return self._fit(X, y)\n",
      "/opt/homebrew/lib/python3.10/site-packages/sklearn/neighbors/_classification.py:233: DataConversionWarning: A column-vector y was passed when a 1d array was expected. Please change the shape of y to (n_samples,), for example using ravel().\n",
      "  return self._fit(X, y)\n",
      "/opt/homebrew/lib/python3.10/site-packages/sklearn/neighbors/_classification.py:233: DataConversionWarning: A column-vector y was passed when a 1d array was expected. Please change the shape of y to (n_samples,), for example using ravel().\n",
      "  return self._fit(X, y)\n",
      "/opt/homebrew/lib/python3.10/site-packages/sklearn/neighbors/_classification.py:233: DataConversionWarning: A column-vector y was passed when a 1d array was expected. Please change the shape of y to (n_samples,), for example using ravel().\n",
      "  return self._fit(X, y)\n",
      "/opt/homebrew/lib/python3.10/site-packages/sklearn/neighbors/_classification.py:233: DataConversionWarning: A column-vector y was passed when a 1d array was expected. Please change the shape of y to (n_samples,), for example using ravel().\n",
      "  return self._fit(X, y)\n",
      "/opt/homebrew/lib/python3.10/site-packages/sklearn/neighbors/_classification.py:233: DataConversionWarning: A column-vector y was passed when a 1d array was expected. Please change the shape of y to (n_samples,), for example using ravel().\n",
      "  return self._fit(X, y)\n",
      "/opt/homebrew/lib/python3.10/site-packages/sklearn/neighbors/_classification.py:233: DataConversionWarning: A column-vector y was passed when a 1d array was expected. Please change the shape of y to (n_samples,), for example using ravel().\n",
      "  return self._fit(X, y)\n",
      "/opt/homebrew/lib/python3.10/site-packages/sklearn/neighbors/_classification.py:233: DataConversionWarning: A column-vector y was passed when a 1d array was expected. Please change the shape of y to (n_samples,), for example using ravel().\n",
      "  return self._fit(X, y)\n",
      "/opt/homebrew/lib/python3.10/site-packages/sklearn/neighbors/_classification.py:233: DataConversionWarning: A column-vector y was passed when a 1d array was expected. Please change the shape of y to (n_samples,), for example using ravel().\n",
      "  return self._fit(X, y)\n",
      "/opt/homebrew/lib/python3.10/site-packages/sklearn/neighbors/_classification.py:233: DataConversionWarning: A column-vector y was passed when a 1d array was expected. Please change the shape of y to (n_samples,), for example using ravel().\n",
      "  return self._fit(X, y)\n",
      "/opt/homebrew/lib/python3.10/site-packages/sklearn/neighbors/_classification.py:233: DataConversionWarning: A column-vector y was passed when a 1d array was expected. Please change the shape of y to (n_samples,), for example using ravel().\n",
      "  return self._fit(X, y)\n",
      "/opt/homebrew/lib/python3.10/site-packages/sklearn/neighbors/_classification.py:233: DataConversionWarning: A column-vector y was passed when a 1d array was expected. Please change the shape of y to (n_samples,), for example using ravel().\n",
      "  return self._fit(X, y)\n",
      "/opt/homebrew/lib/python3.10/site-packages/sklearn/neighbors/_classification.py:233: DataConversionWarning: A column-vector y was passed when a 1d array was expected. Please change the shape of y to (n_samples,), for example using ravel().\n",
      "  return self._fit(X, y)\n"
     ]
    },
    {
     "name": "stdout",
     "output_type": "stream",
     "text": [
      "[CV 1/5] END algorithm=auto, metric=euclidean, n_neighbors=89, p=2, weights=uniform;, score=0.751 total time=   0.1s\n",
      "[CV 2/5] END algorithm=auto, metric=euclidean, n_neighbors=89, p=2, weights=uniform;, score=0.761 total time=   0.1s\n",
      "[CV 3/5] END algorithm=auto, metric=euclidean, n_neighbors=89, p=2, weights=uniform;, score=0.765 total time=   0.1s\n",
      "[CV 1/5] END algorithm=auto, metric=haversine, n_neighbors=89, p=1, weights=uniform;, score=nan total time=   0.0s\n",
      "[CV 2/5] END algorithm=auto, metric=haversine, n_neighbors=89, p=1, weights=uniform;, score=nan total time=   0.0s\n",
      "[CV 5/5] END algorithm=auto, metric=euclidean, n_neighbors=89, p=2, weights=uniform;, score=0.779 total time=   0.1s\n",
      "[CV 3/5] END algorithm=auto, metric=haversine, n_neighbors=89, p=1, weights=uniform;, score=nan total time=   0.0s\n",
      "[CV 1/5] END algorithm=auto, metric=euclidean, n_neighbors=89, p=2, weights=distance;, score=0.759 total time=   0.1s\n",
      "[CV 4/5] END algorithm=auto, metric=haversine, n_neighbors=89, p=1, weights=uniform;, score=nan total time=   0.0s\n",
      "[CV 1/5] END algorithm=auto, metric=haversine, n_neighbors=89, p=1, weights=distance;, score=nan total time=   0.0s\n",
      "[CV 5/5] END algorithm=auto, metric=haversine, n_neighbors=89, p=1, weights=uniform;, score=nan total time=   0.0s\n",
      "[CV 4/5] END algorithm=auto, metric=euclidean, n_neighbors=89, p=2, weights=uniform;, score=0.776 total time=   0.1s\n",
      "[CV 2/5] END algorithm=auto, metric=haversine, n_neighbors=89, p=1, weights=distance;, score=nan total time=   0.0s\n",
      "[CV 3/5] END algorithm=auto, metric=haversine, n_neighbors=89, p=1, weights=distance;, score=nan total time=   0.0s\n",
      "[CV 4/5] END algorithm=auto, metric=haversine, n_neighbors=89, p=1, weights=distance;, score=nan total time=   0.0s\n",
      "[CV 2/5] END algorithm=auto, metric=haversine, n_neighbors=89, p=2, weights=uniform;, score=nan total time=   0.0s\n",
      "[CV 5/5] END algorithm=auto, metric=haversine, n_neighbors=89, p=1, weights=distance;, score=nan total time=   0.0s\n",
      "[CV 3/5] END algorithm=auto, metric=euclidean, n_neighbors=89, p=2, weights=distance;, score=0.777 total time=   0.1s\n",
      "[CV 2/5] END algorithm=auto, metric=euclidean, n_neighbors=89, p=2, weights=distance;, score=0.774 total time=   0.1s\n",
      "[CV 1/5] END algorithm=auto, metric=haversine, n_neighbors=89, p=2, weights=uniform;, score=nan total time=   0.0s\n",
      "[CV 3/5] END algorithm=auto, metric=haversine, n_neighbors=89, p=2, weights=uniform;, score=nan total time=   0.0s\n",
      "[CV 4/5] END algorithm=auto, metric=haversine, n_neighbors=89, p=2, weights=uniform;, score=nan total time=   0.0s\n",
      "[CV 5/5] END algorithm=auto, metric=haversine, n_neighbors=89, p=2, weights=uniform;, score=nan total time=   0.0s\n",
      "[CV 1/5] END algorithm=auto, metric=haversine, n_neighbors=89, p=2, weights=distance;, score=nan total time=   0.0s\n",
      "[CV 4/5] END algorithm=auto, metric=haversine, n_neighbors=89, p=2, weights=distance;, score=nan total time=   0.0s\n",
      "[CV 2/5] END algorithm=auto, metric=haversine, n_neighbors=89, p=2, weights=distance;, score=nan total time=   0.0s\n",
      "[CV 3/5] END algorithm=auto, metric=haversine, n_neighbors=89, p=2, weights=distance;, score=nan total time=   0.0s\n",
      "[CV 5/5] END algorithm=auto, metric=haversine, n_neighbors=89, p=2, weights=distance;, score=nan total time=   0.0s\n",
      "[CV 4/5] END algorithm=auto, metric=euclidean, n_neighbors=89, p=2, weights=distance;, score=0.792 total time=   0.1s\n",
      "[CV 5/5] END algorithm=auto, metric=euclidean, n_neighbors=89, p=2, weights=distance;, score=0.791 total time=   0.1s\n"
     ]
    },
    {
     "name": "stderr",
     "output_type": "stream",
     "text": [
      "/opt/homebrew/lib/python3.10/site-packages/sklearn/neighbors/_classification.py:233: DataConversionWarning: A column-vector y was passed when a 1d array was expected. Please change the shape of y to (n_samples,), for example using ravel().\n",
      "  return self._fit(X, y)\n",
      "/opt/homebrew/lib/python3.10/site-packages/sklearn/model_selection/_validation.py:821: UserWarning: Scoring failed. The score on this train-test partition for these parameters will be set to nan. Details: \n",
      "Traceback (most recent call last):\n",
      "  File \"/opt/homebrew/lib/python3.10/site-packages/sklearn/model_selection/_validation.py\", line 810, in _score\n",
      "    scores = scorer(estimator, X_test, y_test)\n",
      "  File \"/opt/homebrew/lib/python3.10/site-packages/sklearn/metrics/_scorer.py\", line 527, in __call__\n",
      "    return estimator.score(*args, **kwargs)\n",
      "  File \"/opt/homebrew/lib/python3.10/site-packages/sklearn/base.py\", line 706, in score\n",
      "    return accuracy_score(y, self.predict(X), sample_weight=sample_weight)\n",
      "  File \"/opt/homebrew/lib/python3.10/site-packages/sklearn/neighbors/_classification.py\", line 254, in predict\n",
      "    probabilities = self.predict_proba(X)\n",
      "  File \"/opt/homebrew/lib/python3.10/site-packages/sklearn/neighbors/_classification.py\", line 332, in predict_proba\n",
      "    probabilities = ArgKminClassMode.compute(\n",
      "  File \"/opt/homebrew/lib/python3.10/site-packages/sklearn/metrics/_pairwise_distances_reduction/_dispatcher.py\", line 585, in compute\n",
      "    return ArgKminClassMode64.compute(\n",
      "  File \"sklearn/metrics/_pairwise_distances_reduction/_argkmin_classmode.pyx\", line 233, in sklearn.metrics._pairwise_distances_reduction._argkmin_classmode.ArgKminClassMode64.compute\n",
      "  File \"sklearn/metrics/_pairwise_distances_reduction/_datasets_pair.pyx\", line 93, in sklearn.metrics._pairwise_distances_reduction._datasets_pair.DatasetsPair64.get_for\n",
      "  File \"sklearn/metrics/_dist_metrics.pyx\", line 2618, in sklearn.metrics._dist_metrics.HaversineDistance64._validate_data\n",
      "ValueError: Haversine distance only valid in 2 dimensions\n",
      "\n",
      "  warnings.warn(\n",
      "/opt/homebrew/lib/python3.10/site-packages/sklearn/neighbors/_classification.py:233: DataConversionWarning: A column-vector y was passed when a 1d array was expected. Please change the shape of y to (n_samples,), for example using ravel().\n",
      "  return self._fit(X, y)\n",
      "/opt/homebrew/lib/python3.10/site-packages/sklearn/model_selection/_validation.py:821: UserWarning: Scoring failed. The score on this train-test partition for these parameters will be set to nan. Details: \n",
      "Traceback (most recent call last):\n",
      "  File \"/opt/homebrew/lib/python3.10/site-packages/sklearn/model_selection/_validation.py\", line 810, in _score\n",
      "    scores = scorer(estimator, X_test, y_test)\n",
      "  File \"/opt/homebrew/lib/python3.10/site-packages/sklearn/metrics/_scorer.py\", line 527, in __call__\n",
      "    return estimator.score(*args, **kwargs)\n",
      "  File \"/opt/homebrew/lib/python3.10/site-packages/sklearn/base.py\", line 706, in score\n",
      "    return accuracy_score(y, self.predict(X), sample_weight=sample_weight)\n",
      "  File \"/opt/homebrew/lib/python3.10/site-packages/sklearn/neighbors/_classification.py\", line 254, in predict\n",
      "    probabilities = self.predict_proba(X)\n",
      "  File \"/opt/homebrew/lib/python3.10/site-packages/sklearn/neighbors/_classification.py\", line 332, in predict_proba\n",
      "    probabilities = ArgKminClassMode.compute(\n",
      "  File \"/opt/homebrew/lib/python3.10/site-packages/sklearn/metrics/_pairwise_distances_reduction/_dispatcher.py\", line 585, in compute\n",
      "    return ArgKminClassMode64.compute(\n",
      "  File \"sklearn/metrics/_pairwise_distances_reduction/_argkmin_classmode.pyx\", line 233, in sklearn.metrics._pairwise_distances_reduction._argkmin_classmode.ArgKminClassMode64.compute\n",
      "  File \"sklearn/metrics/_pairwise_distances_reduction/_datasets_pair.pyx\", line 93, in sklearn.metrics._pairwise_distances_reduction._datasets_pair.DatasetsPair64.get_for\n",
      "  File \"sklearn/metrics/_dist_metrics.pyx\", line 2618, in sklearn.metrics._dist_metrics.HaversineDistance64._validate_data\n",
      "ValueError: Haversine distance only valid in 2 dimensions\n",
      "\n",
      "  warnings.warn(\n",
      "/opt/homebrew/lib/python3.10/site-packages/sklearn/neighbors/_classification.py:233: DataConversionWarning: A column-vector y was passed when a 1d array was expected. Please change the shape of y to (n_samples,), for example using ravel().\n",
      "  return self._fit(X, y)\n",
      "/opt/homebrew/lib/python3.10/site-packages/sklearn/model_selection/_validation.py:821: UserWarning: Scoring failed. The score on this train-test partition for these parameters will be set to nan. Details: \n",
      "Traceback (most recent call last):\n",
      "  File \"/opt/homebrew/lib/python3.10/site-packages/sklearn/model_selection/_validation.py\", line 810, in _score\n",
      "    scores = scorer(estimator, X_test, y_test)\n",
      "  File \"/opt/homebrew/lib/python3.10/site-packages/sklearn/metrics/_scorer.py\", line 527, in __call__\n",
      "    return estimator.score(*args, **kwargs)\n",
      "  File \"/opt/homebrew/lib/python3.10/site-packages/sklearn/base.py\", line 706, in score\n",
      "    return accuracy_score(y, self.predict(X), sample_weight=sample_weight)\n",
      "  File \"/opt/homebrew/lib/python3.10/site-packages/sklearn/neighbors/_classification.py\", line 254, in predict\n",
      "    probabilities = self.predict_proba(X)\n",
      "  File \"/opt/homebrew/lib/python3.10/site-packages/sklearn/neighbors/_classification.py\", line 332, in predict_proba\n",
      "    probabilities = ArgKminClassMode.compute(\n",
      "  File \"/opt/homebrew/lib/python3.10/site-packages/sklearn/metrics/_pairwise_distances_reduction/_dispatcher.py\", line 585, in compute\n",
      "    return ArgKminClassMode64.compute(\n",
      "  File \"sklearn/metrics/_pairwise_distances_reduction/_argkmin_classmode.pyx\", line 233, in sklearn.metrics._pairwise_distances_reduction._argkmin_classmode.ArgKminClassMode64.compute\n",
      "  File \"sklearn/metrics/_pairwise_distances_reduction/_datasets_pair.pyx\", line 93, in sklearn.metrics._pairwise_distances_reduction._datasets_pair.DatasetsPair64.get_for\n",
      "  File \"sklearn/metrics/_dist_metrics.pyx\", line 2618, in sklearn.metrics._dist_metrics.HaversineDistance64._validate_data\n",
      "ValueError: Haversine distance only valid in 2 dimensions\n",
      "\n",
      "  warnings.warn(\n",
      "/opt/homebrew/lib/python3.10/site-packages/sklearn/neighbors/_classification.py:233: DataConversionWarning: A column-vector y was passed when a 1d array was expected. Please change the shape of y to (n_samples,), for example using ravel().\n",
      "  return self._fit(X, y)\n",
      "/opt/homebrew/lib/python3.10/site-packages/sklearn/model_selection/_validation.py:821: UserWarning: Scoring failed. The score on this train-test partition for these parameters will be set to nan. Details: \n",
      "Traceback (most recent call last):\n",
      "  File \"/opt/homebrew/lib/python3.10/site-packages/sklearn/model_selection/_validation.py\", line 810, in _score\n",
      "    scores = scorer(estimator, X_test, y_test)\n",
      "  File \"/opt/homebrew/lib/python3.10/site-packages/sklearn/metrics/_scorer.py\", line 527, in __call__\n",
      "    return estimator.score(*args, **kwargs)\n",
      "  File \"/opt/homebrew/lib/python3.10/site-packages/sklearn/base.py\", line 706, in score\n",
      "    return accuracy_score(y, self.predict(X), sample_weight=sample_weight)\n",
      "  File \"/opt/homebrew/lib/python3.10/site-packages/sklearn/neighbors/_classification.py\", line 254, in predict\n",
      "    probabilities = self.predict_proba(X)\n",
      "  File \"/opt/homebrew/lib/python3.10/site-packages/sklearn/neighbors/_classification.py\", line 332, in predict_proba\n",
      "    probabilities = ArgKminClassMode.compute(\n",
      "  File \"/opt/homebrew/lib/python3.10/site-packages/sklearn/metrics/_pairwise_distances_reduction/_dispatcher.py\", line 585, in compute\n",
      "    return ArgKminClassMode64.compute(\n",
      "  File \"sklearn/metrics/_pairwise_distances_reduction/_argkmin_classmode.pyx\", line 233, in sklearn.metrics._pairwise_distances_reduction._argkmin_classmode.ArgKminClassMode64.compute\n",
      "  File \"sklearn/metrics/_pairwise_distances_reduction/_datasets_pair.pyx\", line 93, in sklearn.metrics._pairwise_distances_reduction._datasets_pair.DatasetsPair64.get_for\n",
      "  File \"sklearn/metrics/_dist_metrics.pyx\", line 2618, in sklearn.metrics._dist_metrics.HaversineDistance64._validate_data\n",
      "ValueError: Haversine distance only valid in 2 dimensions\n",
      "\n",
      "  warnings.warn(\n",
      "/opt/homebrew/lib/python3.10/site-packages/sklearn/neighbors/_classification.py:233: DataConversionWarning: A column-vector y was passed when a 1d array was expected. Please change the shape of y to (n_samples,), for example using ravel().\n",
      "  return self._fit(X, y)\n",
      "/opt/homebrew/lib/python3.10/site-packages/sklearn/neighbors/_classification.py:233: DataConversionWarning: A column-vector y was passed when a 1d array was expected. Please change the shape of y to (n_samples,), for example using ravel().\n",
      "  return self._fit(X, y)\n",
      "/opt/homebrew/lib/python3.10/site-packages/sklearn/model_selection/_validation.py:821: UserWarning: Scoring failed. The score on this train-test partition for these parameters will be set to nan. Details: \n",
      "Traceback (most recent call last):\n",
      "  File \"/opt/homebrew/lib/python3.10/site-packages/sklearn/model_selection/_validation.py\", line 810, in _score\n",
      "    scores = scorer(estimator, X_test, y_test)\n",
      "  File \"/opt/homebrew/lib/python3.10/site-packages/sklearn/metrics/_scorer.py\", line 527, in __call__\n",
      "    return estimator.score(*args, **kwargs)\n",
      "  File \"/opt/homebrew/lib/python3.10/site-packages/sklearn/base.py\", line 706, in score\n",
      "    return accuracy_score(y, self.predict(X), sample_weight=sample_weight)\n",
      "  File \"/opt/homebrew/lib/python3.10/site-packages/sklearn/neighbors/_classification.py\", line 269, in predict\n",
      "    neigh_dist, neigh_ind = self.kneighbors(X)\n",
      "  File \"/opt/homebrew/lib/python3.10/site-packages/sklearn/neighbors/_base.py\", line 822, in kneighbors\n",
      "    results = ArgKmin.compute(\n",
      "  File \"/opt/homebrew/lib/python3.10/site-packages/sklearn/metrics/_pairwise_distances_reduction/_dispatcher.py\", line 259, in compute\n",
      "    return ArgKmin64.compute(\n",
      "  File \"sklearn/metrics/_pairwise_distances_reduction/_argkmin.pyx\", line 82, in sklearn.metrics._pairwise_distances_reduction._argkmin.ArgKmin64.compute\n",
      "  File \"sklearn/metrics/_pairwise_distances_reduction/_datasets_pair.pyx\", line 93, in sklearn.metrics._pairwise_distances_reduction._datasets_pair.DatasetsPair64.get_for\n",
      "  File \"sklearn/metrics/_dist_metrics.pyx\", line 2618, in sklearn.metrics._dist_metrics.HaversineDistance64._validate_data\n",
      "ValueError: Haversine distance only valid in 2 dimensions\n",
      "\n",
      "  warnings.warn(\n",
      "/opt/homebrew/lib/python3.10/site-packages/sklearn/model_selection/_validation.py:821: UserWarning: Scoring failed. The score on this train-test partition for these parameters will be set to nan. Details: \n",
      "Traceback (most recent call last):\n",
      "  File \"/opt/homebrew/lib/python3.10/site-packages/sklearn/model_selection/_validation.py\", line 810, in _score\n",
      "    scores = scorer(estimator, X_test, y_test)\n",
      "  File \"/opt/homebrew/lib/python3.10/site-packages/sklearn/metrics/_scorer.py\", line 527, in __call__\n",
      "    return estimator.score(*args, **kwargs)\n",
      "  File \"/opt/homebrew/lib/python3.10/site-packages/sklearn/base.py\", line 706, in score\n",
      "    return accuracy_score(y, self.predict(X), sample_weight=sample_weight)\n",
      "  File \"/opt/homebrew/lib/python3.10/site-packages/sklearn/neighbors/_classification.py\", line 254, in predict\n",
      "    probabilities = self.predict_proba(X)\n",
      "  File \"/opt/homebrew/lib/python3.10/site-packages/sklearn/neighbors/_classification.py\", line 332, in predict_proba\n",
      "    probabilities = ArgKminClassMode.compute(\n",
      "  File \"/opt/homebrew/lib/python3.10/site-packages/sklearn/metrics/_pairwise_distances_reduction/_dispatcher.py\", line 585, in compute\n",
      "    return ArgKminClassMode64.compute(\n",
      "  File \"sklearn/metrics/_pairwise_distances_reduction/_argkmin_classmode.pyx\", line 233, in sklearn.metrics._pairwise_distances_reduction._argkmin_classmode.ArgKminClassMode64.compute\n",
      "  File \"sklearn/metrics/_pairwise_distances_reduction/_datasets_pair.pyx\", line 93, in sklearn.metrics._pairwise_distances_reduction._datasets_pair.DatasetsPair64.get_for\n",
      "  File \"sklearn/metrics/_dist_metrics.pyx\", line 2618, in sklearn.metrics._dist_metrics.HaversineDistance64._validate_data\n",
      "ValueError: Haversine distance only valid in 2 dimensions\n",
      "\n",
      "  warnings.warn(\n",
      "/opt/homebrew/lib/python3.10/site-packages/sklearn/neighbors/_classification.py:233: DataConversionWarning: A column-vector y was passed when a 1d array was expected. Please change the shape of y to (n_samples,), for example using ravel().\n",
      "  return self._fit(X, y)\n",
      "/opt/homebrew/lib/python3.10/site-packages/sklearn/model_selection/_validation.py:821: UserWarning: Scoring failed. The score on this train-test partition for these parameters will be set to nan. Details: \n",
      "Traceback (most recent call last):\n",
      "  File \"/opt/homebrew/lib/python3.10/site-packages/sklearn/model_selection/_validation.py\", line 810, in _score\n",
      "    scores = scorer(estimator, X_test, y_test)\n",
      "  File \"/opt/homebrew/lib/python3.10/site-packages/sklearn/metrics/_scorer.py\", line 527, in __call__\n",
      "    return estimator.score(*args, **kwargs)\n",
      "  File \"/opt/homebrew/lib/python3.10/site-packages/sklearn/base.py\", line 706, in score\n",
      "    return accuracy_score(y, self.predict(X), sample_weight=sample_weight)\n",
      "  File \"/opt/homebrew/lib/python3.10/site-packages/sklearn/neighbors/_classification.py\", line 269, in predict\n",
      "    neigh_dist, neigh_ind = self.kneighbors(X)\n",
      "  File \"/opt/homebrew/lib/python3.10/site-packages/sklearn/neighbors/_base.py\", line 822, in kneighbors\n",
      "    results = ArgKmin.compute(\n",
      "  File \"/opt/homebrew/lib/python3.10/site-packages/sklearn/metrics/_pairwise_distances_reduction/_dispatcher.py\", line 259, in compute\n",
      "    return ArgKmin64.compute(\n",
      "  File \"sklearn/metrics/_pairwise_distances_reduction/_argkmin.pyx\", line 82, in sklearn.metrics._pairwise_distances_reduction._argkmin.ArgKmin64.compute\n",
      "  File \"sklearn/metrics/_pairwise_distances_reduction/_datasets_pair.pyx\", line 93, in sklearn.metrics._pairwise_distances_reduction._datasets_pair.DatasetsPair64.get_for\n",
      "  File \"sklearn/metrics/_dist_metrics.pyx\", line 2618, in sklearn.metrics._dist_metrics.HaversineDistance64._validate_data\n",
      "ValueError: Haversine distance only valid in 2 dimensions\n",
      "\n",
      "  warnings.warn(\n",
      "/opt/homebrew/lib/python3.10/site-packages/sklearn/neighbors/_classification.py:233: DataConversionWarning: A column-vector y was passed when a 1d array was expected. Please change the shape of y to (n_samples,), for example using ravel().\n",
      "  return self._fit(X, y)\n",
      "/opt/homebrew/lib/python3.10/site-packages/sklearn/model_selection/_validation.py:821: UserWarning: Scoring failed. The score on this train-test partition for these parameters will be set to nan. Details: \n",
      "Traceback (most recent call last):\n",
      "  File \"/opt/homebrew/lib/python3.10/site-packages/sklearn/model_selection/_validation.py\", line 810, in _score\n",
      "    scores = scorer(estimator, X_test, y_test)\n",
      "  File \"/opt/homebrew/lib/python3.10/site-packages/sklearn/metrics/_scorer.py\", line 527, in __call__\n",
      "    return estimator.score(*args, **kwargs)\n",
      "  File \"/opt/homebrew/lib/python3.10/site-packages/sklearn/base.py\", line 706, in score\n",
      "    return accuracy_score(y, self.predict(X), sample_weight=sample_weight)\n",
      "  File \"/opt/homebrew/lib/python3.10/site-packages/sklearn/neighbors/_classification.py\", line 269, in predict\n",
      "    neigh_dist, neigh_ind = self.kneighbors(X)\n",
      "  File \"/opt/homebrew/lib/python3.10/site-packages/sklearn/neighbors/_base.py\", line 822, in kneighbors\n",
      "    results = ArgKmin.compute(\n",
      "  File \"/opt/homebrew/lib/python3.10/site-packages/sklearn/metrics/_pairwise_distances_reduction/_dispatcher.py\", line 259, in compute\n",
      "    return ArgKmin64.compute(\n",
      "  File \"sklearn/metrics/_pairwise_distances_reduction/_argkmin.pyx\", line 82, in sklearn.metrics._pairwise_distances_reduction._argkmin.ArgKmin64.compute\n",
      "  File \"sklearn/metrics/_pairwise_distances_reduction/_datasets_pair.pyx\", line 93, in sklearn.metrics._pairwise_distances_reduction._datasets_pair.DatasetsPair64.get_for\n",
      "  File \"sklearn/metrics/_dist_metrics.pyx\", line 2618, in sklearn.metrics._dist_metrics.HaversineDistance64._validate_data\n",
      "ValueError: Haversine distance only valid in 2 dimensions\n",
      "\n",
      "  warnings.warn(\n",
      "/opt/homebrew/lib/python3.10/site-packages/sklearn/neighbors/_classification.py:233: DataConversionWarning: A column-vector y was passed when a 1d array was expected. Please change the shape of y to (n_samples,), for example using ravel().\n",
      "  return self._fit(X, y)\n",
      "/opt/homebrew/lib/python3.10/site-packages/sklearn/model_selection/_validation.py:821: UserWarning: Scoring failed. The score on this train-test partition for these parameters will be set to nan. Details: \n",
      "Traceback (most recent call last):\n",
      "  File \"/opt/homebrew/lib/python3.10/site-packages/sklearn/model_selection/_validation.py\", line 810, in _score\n",
      "    scores = scorer(estimator, X_test, y_test)\n",
      "  File \"/opt/homebrew/lib/python3.10/site-packages/sklearn/metrics/_scorer.py\", line 527, in __call__\n",
      "    return estimator.score(*args, **kwargs)\n",
      "  File \"/opt/homebrew/lib/python3.10/site-packages/sklearn/base.py\", line 706, in score\n",
      "    return accuracy_score(y, self.predict(X), sample_weight=sample_weight)\n",
      "  File \"/opt/homebrew/lib/python3.10/site-packages/sklearn/neighbors/_classification.py\", line 269, in predict\n",
      "    neigh_dist, neigh_ind = self.kneighbors(X)\n",
      "  File \"/opt/homebrew/lib/python3.10/site-packages/sklearn/neighbors/_base.py\", line 822, in kneighbors\n",
      "    results = ArgKmin.compute(\n",
      "  File \"/opt/homebrew/lib/python3.10/site-packages/sklearn/metrics/_pairwise_distances_reduction/_dispatcher.py\", line 259, in compute\n",
      "    return ArgKmin64.compute(\n",
      "  File \"sklearn/metrics/_pairwise_distances_reduction/_argkmin.pyx\", line 82, in sklearn.metrics._pairwise_distances_reduction._argkmin.ArgKmin64.compute\n",
      "  File \"sklearn/metrics/_pairwise_distances_reduction/_datasets_pair.pyx\", line 93, in sklearn.metrics._pairwise_distances_reduction._datasets_pair.DatasetsPair64.get_for\n",
      "  File \"sklearn/metrics/_dist_metrics.pyx\", line 2618, in sklearn.metrics._dist_metrics.HaversineDistance64._validate_data\n",
      "ValueError: Haversine distance only valid in 2 dimensions\n",
      "\n",
      "  warnings.warn(\n",
      "/opt/homebrew/lib/python3.10/site-packages/sklearn/neighbors/_classification.py:233: DataConversionWarning: A column-vector y was passed when a 1d array was expected. Please change the shape of y to (n_samples,), for example using ravel().\n",
      "  return self._fit(X, y)\n",
      "/opt/homebrew/lib/python3.10/site-packages/sklearn/neighbors/_classification.py:233: DataConversionWarning: A column-vector y was passed when a 1d array was expected. Please change the shape of y to (n_samples,), for example using ravel().\n",
      "  return self._fit(X, y)\n",
      "/opt/homebrew/lib/python3.10/site-packages/sklearn/model_selection/_validation.py:821: UserWarning: Scoring failed. The score on this train-test partition for these parameters will be set to nan. Details: \n",
      "Traceback (most recent call last):\n",
      "  File \"/opt/homebrew/lib/python3.10/site-packages/sklearn/model_selection/_validation.py\", line 810, in _score\n",
      "    scores = scorer(estimator, X_test, y_test)\n",
      "  File \"/opt/homebrew/lib/python3.10/site-packages/sklearn/metrics/_scorer.py\", line 527, in __call__\n",
      "    return estimator.score(*args, **kwargs)\n",
      "  File \"/opt/homebrew/lib/python3.10/site-packages/sklearn/base.py\", line 706, in score\n",
      "    return accuracy_score(y, self.predict(X), sample_weight=sample_weight)\n",
      "  File \"/opt/homebrew/lib/python3.10/site-packages/sklearn/neighbors/_classification.py\", line 254, in predict\n",
      "    probabilities = self.predict_proba(X)\n",
      "  File \"/opt/homebrew/lib/python3.10/site-packages/sklearn/neighbors/_classification.py\", line 332, in predict_proba\n",
      "    probabilities = ArgKminClassMode.compute(\n",
      "  File \"/opt/homebrew/lib/python3.10/site-packages/sklearn/metrics/_pairwise_distances_reduction/_dispatcher.py\", line 585, in compute\n",
      "    return ArgKminClassMode64.compute(\n",
      "  File \"sklearn/metrics/_pairwise_distances_reduction/_argkmin_classmode.pyx\", line 233, in sklearn.metrics._pairwise_distances_reduction._argkmin_classmode.ArgKminClassMode64.compute\n",
      "  File \"sklearn/metrics/_pairwise_distances_reduction/_datasets_pair.pyx\", line 93, in sklearn.metrics._pairwise_distances_reduction._datasets_pair.DatasetsPair64.get_for\n",
      "  File \"sklearn/metrics/_dist_metrics.pyx\", line 2618, in sklearn.metrics._dist_metrics.HaversineDistance64._validate_data\n",
      "ValueError: Haversine distance only valid in 2 dimensions\n",
      "\n",
      "  warnings.warn(\n",
      "/opt/homebrew/lib/python3.10/site-packages/sklearn/model_selection/_validation.py:821: UserWarning: Scoring failed. The score on this train-test partition for these parameters will be set to nan. Details: \n",
      "Traceback (most recent call last):\n",
      "  File \"/opt/homebrew/lib/python3.10/site-packages/sklearn/model_selection/_validation.py\", line 810, in _score\n",
      "    scores = scorer(estimator, X_test, y_test)\n",
      "  File \"/opt/homebrew/lib/python3.10/site-packages/sklearn/metrics/_scorer.py\", line 527, in __call__\n",
      "    return estimator.score(*args, **kwargs)\n",
      "  File \"/opt/homebrew/lib/python3.10/site-packages/sklearn/base.py\", line 706, in score\n",
      "    return accuracy_score(y, self.predict(X), sample_weight=sample_weight)\n",
      "  File \"/opt/homebrew/lib/python3.10/site-packages/sklearn/neighbors/_classification.py\", line 269, in predict\n",
      "    neigh_dist, neigh_ind = self.kneighbors(X)\n",
      "  File \"/opt/homebrew/lib/python3.10/site-packages/sklearn/neighbors/_base.py\", line 822, in kneighbors\n",
      "    results = ArgKmin.compute(\n",
      "  File \"/opt/homebrew/lib/python3.10/site-packages/sklearn/metrics/_pairwise_distances_reduction/_dispatcher.py\", line 259, in compute\n",
      "    return ArgKmin64.compute(\n",
      "  File \"sklearn/metrics/_pairwise_distances_reduction/_argkmin.pyx\", line 82, in sklearn.metrics._pairwise_distances_reduction._argkmin.ArgKmin64.compute\n",
      "  File \"sklearn/metrics/_pairwise_distances_reduction/_datasets_pair.pyx\", line 93, in sklearn.metrics._pairwise_distances_reduction._datasets_pair.DatasetsPair64.get_for\n",
      "  File \"sklearn/metrics/_dist_metrics.pyx\", line 2618, in sklearn.metrics._dist_metrics.HaversineDistance64._validate_data\n",
      "ValueError: Haversine distance only valid in 2 dimensions\n",
      "\n",
      "  warnings.warn(\n",
      "/opt/homebrew/lib/python3.10/site-packages/sklearn/neighbors/_classification.py:233: DataConversionWarning: A column-vector y was passed when a 1d array was expected. Please change the shape of y to (n_samples,), for example using ravel().\n",
      "  return self._fit(X, y)\n",
      "/opt/homebrew/lib/python3.10/site-packages/sklearn/model_selection/_validation.py:821: UserWarning: Scoring failed. The score on this train-test partition for these parameters will be set to nan. Details: \n",
      "Traceback (most recent call last):\n",
      "  File \"/opt/homebrew/lib/python3.10/site-packages/sklearn/model_selection/_validation.py\", line 810, in _score\n",
      "    scores = scorer(estimator, X_test, y_test)\n",
      "  File \"/opt/homebrew/lib/python3.10/site-packages/sklearn/metrics/_scorer.py\", line 527, in __call__\n",
      "    return estimator.score(*args, **kwargs)\n",
      "  File \"/opt/homebrew/lib/python3.10/site-packages/sklearn/base.py\", line 706, in score\n",
      "    return accuracy_score(y, self.predict(X), sample_weight=sample_weight)\n",
      "  File \"/opt/homebrew/lib/python3.10/site-packages/sklearn/neighbors/_classification.py\", line 254, in predict\n",
      "    probabilities = self.predict_proba(X)\n",
      "  File \"/opt/homebrew/lib/python3.10/site-packages/sklearn/neighbors/_classification.py\", line 332, in predict_proba\n",
      "    probabilities = ArgKminClassMode.compute(\n",
      "  File \"/opt/homebrew/lib/python3.10/site-packages/sklearn/metrics/_pairwise_distances_reduction/_dispatcher.py\", line 585, in compute\n",
      "    return ArgKminClassMode64.compute(\n",
      "  File \"sklearn/metrics/_pairwise_distances_reduction/_argkmin_classmode.pyx\", line 233, in sklearn.metrics._pairwise_distances_reduction._argkmin_classmode.ArgKminClassMode64.compute\n",
      "  File \"sklearn/metrics/_pairwise_distances_reduction/_datasets_pair.pyx\", line 93, in sklearn.metrics._pairwise_distances_reduction._datasets_pair.DatasetsPair64.get_for\n",
      "  File \"sklearn/metrics/_dist_metrics.pyx\", line 2618, in sklearn.metrics._dist_metrics.HaversineDistance64._validate_data\n",
      "ValueError: Haversine distance only valid in 2 dimensions\n",
      "\n",
      "  warnings.warn(\n",
      "/opt/homebrew/lib/python3.10/site-packages/sklearn/neighbors/_classification.py:233: DataConversionWarning: A column-vector y was passed when a 1d array was expected. Please change the shape of y to (n_samples,), for example using ravel().\n",
      "  return self._fit(X, y)\n",
      "/opt/homebrew/lib/python3.10/site-packages/sklearn/model_selection/_validation.py:821: UserWarning: Scoring failed. The score on this train-test partition for these parameters will be set to nan. Details: \n",
      "Traceback (most recent call last):\n",
      "  File \"/opt/homebrew/lib/python3.10/site-packages/sklearn/model_selection/_validation.py\", line 810, in _score\n",
      "    scores = scorer(estimator, X_test, y_test)\n",
      "  File \"/opt/homebrew/lib/python3.10/site-packages/sklearn/metrics/_scorer.py\", line 527, in __call__\n",
      "    return estimator.score(*args, **kwargs)\n",
      "  File \"/opt/homebrew/lib/python3.10/site-packages/sklearn/base.py\", line 706, in score\n",
      "    return accuracy_score(y, self.predict(X), sample_weight=sample_weight)\n",
      "  File \"/opt/homebrew/lib/python3.10/site-packages/sklearn/neighbors/_classification.py\", line 254, in predict\n",
      "    probabilities = self.predict_proba(X)\n",
      "  File \"/opt/homebrew/lib/python3.10/site-packages/sklearn/neighbors/_classification.py\", line 332, in predict_proba\n",
      "    probabilities = ArgKminClassMode.compute(\n",
      "  File \"/opt/homebrew/lib/python3.10/site-packages/sklearn/metrics/_pairwise_distances_reduction/_dispatcher.py\", line 585, in compute\n",
      "    return ArgKminClassMode64.compute(\n",
      "  File \"sklearn/metrics/_pairwise_distances_reduction/_argkmin_classmode.pyx\", line 233, in sklearn.metrics._pairwise_distances_reduction._argkmin_classmode.ArgKminClassMode64.compute\n",
      "  File \"sklearn/metrics/_pairwise_distances_reduction/_datasets_pair.pyx\", line 93, in sklearn.metrics._pairwise_distances_reduction._datasets_pair.DatasetsPair64.get_for\n",
      "  File \"sklearn/metrics/_dist_metrics.pyx\", line 2618, in sklearn.metrics._dist_metrics.HaversineDistance64._validate_data\n",
      "ValueError: Haversine distance only valid in 2 dimensions\n",
      "\n",
      "  warnings.warn(\n",
      "/opt/homebrew/lib/python3.10/site-packages/sklearn/neighbors/_classification.py:233: DataConversionWarning: A column-vector y was passed when a 1d array was expected. Please change the shape of y to (n_samples,), for example using ravel().\n",
      "  return self._fit(X, y)\n",
      "/opt/homebrew/lib/python3.10/site-packages/sklearn/model_selection/_validation.py:821: UserWarning: Scoring failed. The score on this train-test partition for these parameters will be set to nan. Details: \n",
      "Traceback (most recent call last):\n",
      "  File \"/opt/homebrew/lib/python3.10/site-packages/sklearn/model_selection/_validation.py\", line 810, in _score\n",
      "    scores = scorer(estimator, X_test, y_test)\n",
      "  File \"/opt/homebrew/lib/python3.10/site-packages/sklearn/metrics/_scorer.py\", line 527, in __call__\n",
      "    return estimator.score(*args, **kwargs)\n",
      "  File \"/opt/homebrew/lib/python3.10/site-packages/sklearn/base.py\", line 706, in score\n",
      "    return accuracy_score(y, self.predict(X), sample_weight=sample_weight)\n",
      "  File \"/opt/homebrew/lib/python3.10/site-packages/sklearn/neighbors/_classification.py\", line 254, in predict\n",
      "    probabilities = self.predict_proba(X)\n",
      "  File \"/opt/homebrew/lib/python3.10/site-packages/sklearn/neighbors/_classification.py\", line 332, in predict_proba\n",
      "    probabilities = ArgKminClassMode.compute(\n",
      "  File \"/opt/homebrew/lib/python3.10/site-packages/sklearn/metrics/_pairwise_distances_reduction/_dispatcher.py\", line 585, in compute\n",
      "    return ArgKminClassMode64.compute(\n",
      "  File \"sklearn/metrics/_pairwise_distances_reduction/_argkmin_classmode.pyx\", line 233, in sklearn.metrics._pairwise_distances_reduction._argkmin_classmode.ArgKminClassMode64.compute\n",
      "  File \"sklearn/metrics/_pairwise_distances_reduction/_datasets_pair.pyx\", line 93, in sklearn.metrics._pairwise_distances_reduction._datasets_pair.DatasetsPair64.get_for\n",
      "  File \"sklearn/metrics/_dist_metrics.pyx\", line 2618, in sklearn.metrics._dist_metrics.HaversineDistance64._validate_data\n",
      "ValueError: Haversine distance only valid in 2 dimensions\n",
      "\n",
      "  warnings.warn(\n",
      "/opt/homebrew/lib/python3.10/site-packages/sklearn/neighbors/_classification.py:233: DataConversionWarning: A column-vector y was passed when a 1d array was expected. Please change the shape of y to (n_samples,), for example using ravel().\n",
      "  return self._fit(X, y)\n",
      "/opt/homebrew/lib/python3.10/site-packages/sklearn/model_selection/_validation.py:821: UserWarning: Scoring failed. The score on this train-test partition for these parameters will be set to nan. Details: \n",
      "Traceback (most recent call last):\n",
      "  File \"/opt/homebrew/lib/python3.10/site-packages/sklearn/model_selection/_validation.py\", line 810, in _score\n",
      "    scores = scorer(estimator, X_test, y_test)\n",
      "  File \"/opt/homebrew/lib/python3.10/site-packages/sklearn/metrics/_scorer.py\", line 527, in __call__\n",
      "    return estimator.score(*args, **kwargs)\n",
      "  File \"/opt/homebrew/lib/python3.10/site-packages/sklearn/base.py\", line 706, in score\n",
      "    return accuracy_score(y, self.predict(X), sample_weight=sample_weight)\n",
      "  File \"/opt/homebrew/lib/python3.10/site-packages/sklearn/neighbors/_classification.py\", line 254, in predict\n",
      "    probabilities = self.predict_proba(X)\n",
      "  File \"/opt/homebrew/lib/python3.10/site-packages/sklearn/neighbors/_classification.py\", line 332, in predict_proba\n",
      "    probabilities = ArgKminClassMode.compute(\n",
      "  File \"/opt/homebrew/lib/python3.10/site-packages/sklearn/metrics/_pairwise_distances_reduction/_dispatcher.py\", line 585, in compute\n",
      "    return ArgKminClassMode64.compute(\n",
      "  File \"sklearn/metrics/_pairwise_distances_reduction/_argkmin_classmode.pyx\", line 233, in sklearn.metrics._pairwise_distances_reduction._argkmin_classmode.ArgKminClassMode64.compute\n",
      "  File \"sklearn/metrics/_pairwise_distances_reduction/_datasets_pair.pyx\", line 93, in sklearn.metrics._pairwise_distances_reduction._datasets_pair.DatasetsPair64.get_for\n",
      "  File \"sklearn/metrics/_dist_metrics.pyx\", line 2618, in sklearn.metrics._dist_metrics.HaversineDistance64._validate_data\n",
      "ValueError: Haversine distance only valid in 2 dimensions\n",
      "\n",
      "  warnings.warn(\n",
      "/opt/homebrew/lib/python3.10/site-packages/sklearn/neighbors/_classification.py:233: DataConversionWarning: A column-vector y was passed when a 1d array was expected. Please change the shape of y to (n_samples,), for example using ravel().\n",
      "  return self._fit(X, y)\n",
      "/opt/homebrew/lib/python3.10/site-packages/sklearn/model_selection/_validation.py:821: UserWarning: Scoring failed. The score on this train-test partition for these parameters will be set to nan. Details: \n",
      "Traceback (most recent call last):\n",
      "  File \"/opt/homebrew/lib/python3.10/site-packages/sklearn/model_selection/_validation.py\", line 810, in _score\n",
      "    scores = scorer(estimator, X_test, y_test)\n",
      "  File \"/opt/homebrew/lib/python3.10/site-packages/sklearn/metrics/_scorer.py\", line 527, in __call__\n",
      "    return estimator.score(*args, **kwargs)\n",
      "  File \"/opt/homebrew/lib/python3.10/site-packages/sklearn/base.py\", line 706, in score\n",
      "    return accuracy_score(y, self.predict(X), sample_weight=sample_weight)\n",
      "  File \"/opt/homebrew/lib/python3.10/site-packages/sklearn/neighbors/_classification.py\", line 269, in predict\n",
      "    neigh_dist, neigh_ind = self.kneighbors(X)\n",
      "  File \"/opt/homebrew/lib/python3.10/site-packages/sklearn/neighbors/_base.py\", line 822, in kneighbors\n",
      "    results = ArgKmin.compute(\n",
      "  File \"/opt/homebrew/lib/python3.10/site-packages/sklearn/metrics/_pairwise_distances_reduction/_dispatcher.py\", line 259, in compute\n",
      "    return ArgKmin64.compute(\n",
      "  File \"sklearn/metrics/_pairwise_distances_reduction/_argkmin.pyx\", line 82, in sklearn.metrics._pairwise_distances_reduction._argkmin.ArgKmin64.compute\n",
      "  File \"sklearn/metrics/_pairwise_distances_reduction/_datasets_pair.pyx\", line 93, in sklearn.metrics._pairwise_distances_reduction._datasets_pair.DatasetsPair64.get_for\n",
      "  File \"sklearn/metrics/_dist_metrics.pyx\", line 2618, in sklearn.metrics._dist_metrics.HaversineDistance64._validate_data\n",
      "ValueError: Haversine distance only valid in 2 dimensions\n",
      "\n",
      "  warnings.warn(\n",
      "/opt/homebrew/lib/python3.10/site-packages/sklearn/neighbors/_classification.py:233: DataConversionWarning: A column-vector y was passed when a 1d array was expected. Please change the shape of y to (n_samples,), for example using ravel().\n",
      "  return self._fit(X, y)\n",
      "/opt/homebrew/lib/python3.10/site-packages/sklearn/neighbors/_classification.py:233: DataConversionWarning: A column-vector y was passed when a 1d array was expected. Please change the shape of y to (n_samples,), for example using ravel().\n",
      "  return self._fit(X, y)\n",
      "/opt/homebrew/lib/python3.10/site-packages/sklearn/model_selection/_validation.py:821: UserWarning: Scoring failed. The score on this train-test partition for these parameters will be set to nan. Details: \n",
      "Traceback (most recent call last):\n",
      "  File \"/opt/homebrew/lib/python3.10/site-packages/sklearn/model_selection/_validation.py\", line 810, in _score\n",
      "    scores = scorer(estimator, X_test, y_test)\n",
      "  File \"/opt/homebrew/lib/python3.10/site-packages/sklearn/metrics/_scorer.py\", line 527, in __call__\n",
      "    return estimator.score(*args, **kwargs)\n",
      "  File \"/opt/homebrew/lib/python3.10/site-packages/sklearn/base.py\", line 706, in score\n",
      "    return accuracy_score(y, self.predict(X), sample_weight=sample_weight)\n",
      "  File \"/opt/homebrew/lib/python3.10/site-packages/sklearn/neighbors/_classification.py\", line 269, in predict\n",
      "    neigh_dist, neigh_ind = self.kneighbors(X)\n",
      "  File \"/opt/homebrew/lib/python3.10/site-packages/sklearn/neighbors/_base.py\", line 822, in kneighbors\n",
      "    results = ArgKmin.compute(\n",
      "  File \"/opt/homebrew/lib/python3.10/site-packages/sklearn/metrics/_pairwise_distances_reduction/_dispatcher.py\", line 259, in compute\n",
      "    return ArgKmin64.compute(\n",
      "  File \"sklearn/metrics/_pairwise_distances_reduction/_argkmin.pyx\", line 82, in sklearn.metrics._pairwise_distances_reduction._argkmin.ArgKmin64.compute\n",
      "  File \"sklearn/metrics/_pairwise_distances_reduction/_datasets_pair.pyx\", line 93, in sklearn.metrics._pairwise_distances_reduction._datasets_pair.DatasetsPair64.get_for\n",
      "  File \"sklearn/metrics/_dist_metrics.pyx\", line 2618, in sklearn.metrics._dist_metrics.HaversineDistance64._validate_data\n",
      "ValueError: Haversine distance only valid in 2 dimensions\n",
      "\n",
      "  warnings.warn(\n",
      "/opt/homebrew/lib/python3.10/site-packages/sklearn/model_selection/_validation.py:821: UserWarning: Scoring failed. The score on this train-test partition for these parameters will be set to nan. Details: \n",
      "Traceback (most recent call last):\n",
      "  File \"/opt/homebrew/lib/python3.10/site-packages/sklearn/model_selection/_validation.py\", line 810, in _score\n",
      "    scores = scorer(estimator, X_test, y_test)\n",
      "  File \"/opt/homebrew/lib/python3.10/site-packages/sklearn/metrics/_scorer.py\", line 527, in __call__\n",
      "    return estimator.score(*args, **kwargs)\n",
      "  File \"/opt/homebrew/lib/python3.10/site-packages/sklearn/base.py\", line 706, in score\n",
      "    return accuracy_score(y, self.predict(X), sample_weight=sample_weight)\n",
      "  File \"/opt/homebrew/lib/python3.10/site-packages/sklearn/neighbors/_classification.py\", line 269, in predict\n",
      "    neigh_dist, neigh_ind = self.kneighbors(X)\n",
      "  File \"/opt/homebrew/lib/python3.10/site-packages/sklearn/neighbors/_base.py\", line 822, in kneighbors\n",
      "    results = ArgKmin.compute(\n",
      "  File \"/opt/homebrew/lib/python3.10/site-packages/sklearn/metrics/_pairwise_distances_reduction/_dispatcher.py\", line 259, in compute\n",
      "    return ArgKmin64.compute(\n",
      "  File \"sklearn/metrics/_pairwise_distances_reduction/_argkmin.pyx\", line 82, in sklearn.metrics._pairwise_distances_reduction._argkmin.ArgKmin64.compute\n",
      "  File \"sklearn/metrics/_pairwise_distances_reduction/_datasets_pair.pyx\", line 93, in sklearn.metrics._pairwise_distances_reduction._datasets_pair.DatasetsPair64.get_for\n",
      "  File \"sklearn/metrics/_dist_metrics.pyx\", line 2618, in sklearn.metrics._dist_metrics.HaversineDistance64._validate_data\n",
      "ValueError: Haversine distance only valid in 2 dimensions\n",
      "\n",
      "  warnings.warn(\n",
      "/opt/homebrew/lib/python3.10/site-packages/sklearn/neighbors/_classification.py:233: DataConversionWarning: A column-vector y was passed when a 1d array was expected. Please change the shape of y to (n_samples,), for example using ravel().\n",
      "  return self._fit(X, y)\n",
      "/opt/homebrew/lib/python3.10/site-packages/sklearn/neighbors/_classification.py:233: DataConversionWarning: A column-vector y was passed when a 1d array was expected. Please change the shape of y to (n_samples,), for example using ravel().\n",
      "  return self._fit(X, y)\n",
      "/opt/homebrew/lib/python3.10/site-packages/sklearn/neighbors/_classification.py:233: DataConversionWarning: A column-vector y was passed when a 1d array was expected. Please change the shape of y to (n_samples,), for example using ravel().\n",
      "  return self._fit(X, y)\n",
      "/opt/homebrew/lib/python3.10/site-packages/sklearn/model_selection/_validation.py:821: UserWarning: Scoring failed. The score on this train-test partition for these parameters will be set to nan. Details: \n",
      "Traceback (most recent call last):\n",
      "  File \"/opt/homebrew/lib/python3.10/site-packages/sklearn/model_selection/_validation.py\", line 810, in _score\n",
      "    scores = scorer(estimator, X_test, y_test)\n",
      "  File \"/opt/homebrew/lib/python3.10/site-packages/sklearn/metrics/_scorer.py\", line 527, in __call__\n",
      "    return estimator.score(*args, **kwargs)\n",
      "  File \"/opt/homebrew/lib/python3.10/site-packages/sklearn/base.py\", line 706, in score\n",
      "    return accuracy_score(y, self.predict(X), sample_weight=sample_weight)\n",
      "  File \"/opt/homebrew/lib/python3.10/site-packages/sklearn/neighbors/_classification.py\", line 269, in predict\n",
      "    neigh_dist, neigh_ind = self.kneighbors(X)\n",
      "  File \"/opt/homebrew/lib/python3.10/site-packages/sklearn/neighbors/_base.py\", line 822, in kneighbors\n",
      "    results = ArgKmin.compute(\n",
      "  File \"/opt/homebrew/lib/python3.10/site-packages/sklearn/metrics/_pairwise_distances_reduction/_dispatcher.py\", line 259, in compute\n",
      "    return ArgKmin64.compute(\n",
      "  File \"sklearn/metrics/_pairwise_distances_reduction/_argkmin.pyx\", line 82, in sklearn.metrics._pairwise_distances_reduction._argkmin.ArgKmin64.compute\n",
      "  File \"sklearn/metrics/_pairwise_distances_reduction/_datasets_pair.pyx\", line 93, in sklearn.metrics._pairwise_distances_reduction._datasets_pair.DatasetsPair64.get_for\n",
      "  File \"sklearn/metrics/_dist_metrics.pyx\", line 2618, in sklearn.metrics._dist_metrics.HaversineDistance64._validate_data\n",
      "ValueError: Haversine distance only valid in 2 dimensions\n",
      "\n",
      "  warnings.warn(\n",
      "/opt/homebrew/lib/python3.10/site-packages/sklearn/model_selection/_validation.py:821: UserWarning: Scoring failed. The score on this train-test partition for these parameters will be set to nan. Details: \n",
      "Traceback (most recent call last):\n",
      "  File \"/opt/homebrew/lib/python3.10/site-packages/sklearn/model_selection/_validation.py\", line 810, in _score\n",
      "    scores = scorer(estimator, X_test, y_test)\n",
      "  File \"/opt/homebrew/lib/python3.10/site-packages/sklearn/metrics/_scorer.py\", line 527, in __call__\n",
      "    return estimator.score(*args, **kwargs)\n",
      "  File \"/opt/homebrew/lib/python3.10/site-packages/sklearn/base.py\", line 706, in score\n",
      "    return accuracy_score(y, self.predict(X), sample_weight=sample_weight)\n",
      "  File \"/opt/homebrew/lib/python3.10/site-packages/sklearn/neighbors/_classification.py\", line 269, in predict\n",
      "    neigh_dist, neigh_ind = self.kneighbors(X)\n",
      "  File \"/opt/homebrew/lib/python3.10/site-packages/sklearn/neighbors/_base.py\", line 822, in kneighbors\n",
      "    results = ArgKmin.compute(\n",
      "  File \"/opt/homebrew/lib/python3.10/site-packages/sklearn/metrics/_pairwise_distances_reduction/_dispatcher.py\", line 259, in compute\n",
      "    return ArgKmin64.compute(\n",
      "  File \"sklearn/metrics/_pairwise_distances_reduction/_argkmin.pyx\", line 82, in sklearn.metrics._pairwise_distances_reduction._argkmin.ArgKmin64.compute\n",
      "  File \"sklearn/metrics/_pairwise_distances_reduction/_datasets_pair.pyx\", line 93, in sklearn.metrics._pairwise_distances_reduction._datasets_pair.DatasetsPair64.get_for\n",
      "  File \"sklearn/metrics/_dist_metrics.pyx\", line 2618, in sklearn.metrics._dist_metrics.HaversineDistance64._validate_data\n",
      "ValueError: Haversine distance only valid in 2 dimensions\n",
      "\n",
      "  warnings.warn(\n",
      "/opt/homebrew/lib/python3.10/site-packages/sklearn/neighbors/_classification.py:233: DataConversionWarning: A column-vector y was passed when a 1d array was expected. Please change the shape of y to (n_samples,), for example using ravel().\n",
      "  return self._fit(X, y)\n",
      "/opt/homebrew/lib/python3.10/site-packages/sklearn/neighbors/_classification.py:233: DataConversionWarning: A column-vector y was passed when a 1d array was expected. Please change the shape of y to (n_samples,), for example using ravel().\n",
      "  return self._fit(X, y)\n",
      "/opt/homebrew/lib/python3.10/site-packages/sklearn/neighbors/_classification.py:233: DataConversionWarning: A column-vector y was passed when a 1d array was expected. Please change the shape of y to (n_samples,), for example using ravel().\n",
      "  return self._fit(X, y)\n",
      "/opt/homebrew/lib/python3.10/site-packages/sklearn/neighbors/_classification.py:233: DataConversionWarning: A column-vector y was passed when a 1d array was expected. Please change the shape of y to (n_samples,), for example using ravel().\n",
      "  return self._fit(X, y)\n",
      "/opt/homebrew/lib/python3.10/site-packages/sklearn/neighbors/_classification.py:233: DataConversionWarning: A column-vector y was passed when a 1d array was expected. Please change the shape of y to (n_samples,), for example using ravel().\n",
      "  return self._fit(X, y)\n",
      "/opt/homebrew/lib/python3.10/site-packages/sklearn/neighbors/_classification.py:233: DataConversionWarning: A column-vector y was passed when a 1d array was expected. Please change the shape of y to (n_samples,), for example using ravel().\n",
      "  return self._fit(X, y)\n",
      "/opt/homebrew/lib/python3.10/site-packages/sklearn/neighbors/_classification.py:233: DataConversionWarning: A column-vector y was passed when a 1d array was expected. Please change the shape of y to (n_samples,), for example using ravel().\n",
      "  return self._fit(X, y)\n"
     ]
    },
    {
     "name": "stdout",
     "output_type": "stream",
     "text": [
      "[CV 1/5] END algorithm=auto, metric=l1, n_neighbors=89, p=2, weights=uniform;, score=0.758 total time=   0.4s\n",
      "[CV 4/5] END algorithm=auto, metric=l1, n_neighbors=89, p=1, weights=distance;, score=0.787 total time=   0.5s\n",
      "[CV 1/5] END algorithm=auto, metric=l1, n_neighbors=89, p=1, weights=uniform;, score=0.758 total time=   0.5s\n",
      "[CV 5/5] END algorithm=auto, metric=l1, n_neighbors=89, p=1, weights=uniform;, score=0.783 total time=   0.5s\n",
      "[CV 2/5] END algorithm=auto, metric=l1, n_neighbors=89, p=1, weights=distance;, score=0.774 total time=   0.5s\n",
      "[CV 3/5] END algorithm=auto, metric=l1, n_neighbors=89, p=1, weights=uniform;, score=0.781 total time=   0.5s\n",
      "[CV 5/5] END algorithm=auto, metric=l1, n_neighbors=89, p=2, weights=uniform;, score=0.783 total time=   0.5s\n",
      "[CV 3/5] END algorithm=auto, metric=l1, n_neighbors=89, p=2, weights=uniform;, score=0.781 total time=   0.6s\n"
     ]
    },
    {
     "name": "stderr",
     "output_type": "stream",
     "text": [
      "/opt/homebrew/lib/python3.10/site-packages/sklearn/neighbors/_classification.py:233: DataConversionWarning: A column-vector y was passed when a 1d array was expected. Please change the shape of y to (n_samples,), for example using ravel().\n",
      "  return self._fit(X, y)\n",
      "/opt/homebrew/lib/python3.10/site-packages/sklearn/neighbors/_classification.py:233: DataConversionWarning: A column-vector y was passed when a 1d array was expected. Please change the shape of y to (n_samples,), for example using ravel().\n",
      "  return self._fit(X, y)\n",
      "/opt/homebrew/lib/python3.10/site-packages/sklearn/neighbors/_classification.py:233: DataConversionWarning: A column-vector y was passed when a 1d array was expected. Please change the shape of y to (n_samples,), for example using ravel().\n",
      "  return self._fit(X, y)\n",
      "/opt/homebrew/lib/python3.10/site-packages/sklearn/neighbors/_classification.py:233: DataConversionWarning: A column-vector y was passed when a 1d array was expected. Please change the shape of y to (n_samples,), for example using ravel().\n",
      "  return self._fit(X, y)\n",
      "/opt/homebrew/lib/python3.10/site-packages/sklearn/neighbors/_classification.py:233: DataConversionWarning: A column-vector y was passed when a 1d array was expected. Please change the shape of y to (n_samples,), for example using ravel().\n",
      "  return self._fit(X, y)\n",
      "/opt/homebrew/lib/python3.10/site-packages/sklearn/neighbors/_classification.py:233: DataConversionWarning: A column-vector y was passed when a 1d array was expected. Please change the shape of y to (n_samples,), for example using ravel().\n",
      "  return self._fit(X, y)\n",
      "/opt/homebrew/lib/python3.10/site-packages/sklearn/neighbors/_classification.py:233: DataConversionWarning: A column-vector y was passed when a 1d array was expected. Please change the shape of y to (n_samples,), for example using ravel().\n",
      "  return self._fit(X, y)\n",
      "/opt/homebrew/lib/python3.10/site-packages/sklearn/neighbors/_classification.py:233: DataConversionWarning: A column-vector y was passed when a 1d array was expected. Please change the shape of y to (n_samples,), for example using ravel().\n",
      "  return self._fit(X, y)\n"
     ]
    },
    {
     "name": "stdout",
     "output_type": "stream",
     "text": [
      "[CV 2/5] END algorithm=auto, metric=l1, n_neighbors=89, p=2, weights=uniform;, score=0.763 total time=   0.4s\n",
      "[CV 2/5] END algorithm=auto, metric=l1, n_neighbors=89, p=1, weights=uniform;, score=0.763 total time=   0.5s\n",
      "[CV 4/5] END algorithm=auto, metric=l1, n_neighbors=89, p=1, weights=uniform;, score=0.777 total time=   0.5s\n",
      "[CV 5/5] END algorithm=auto, metric=l1, n_neighbors=89, p=1, weights=distance;, score=0.791 total time=   0.5s\n",
      "[CV 1/5] END algorithm=auto, metric=l1, n_neighbors=89, p=1, weights=distance;, score=0.767 total time=   0.5s\n",
      "[CV 3/5] END algorithm=auto, metric=l1, n_neighbors=89, p=1, weights=distance;, score=0.787 total time=   0.5s\n",
      "[CV 1/5] END algorithm=auto, metric=l1, n_neighbors=89, p=2, weights=distance;, score=0.767 total time=   0.5s\n"
     ]
    },
    {
     "name": "stderr",
     "output_type": "stream",
     "text": [
      "/opt/homebrew/lib/python3.10/site-packages/sklearn/neighbors/_classification.py:233: DataConversionWarning: A column-vector y was passed when a 1d array was expected. Please change the shape of y to (n_samples,), for example using ravel().\n",
      "  return self._fit(X, y)\n",
      "/opt/homebrew/lib/python3.10/site-packages/sklearn/neighbors/_classification.py:233: DataConversionWarning: A column-vector y was passed when a 1d array was expected. Please change the shape of y to (n_samples,), for example using ravel().\n",
      "  return self._fit(X, y)\n",
      "/opt/homebrew/lib/python3.10/site-packages/sklearn/neighbors/_classification.py:233: DataConversionWarning: A column-vector y was passed when a 1d array was expected. Please change the shape of y to (n_samples,), for example using ravel().\n",
      "  return self._fit(X, y)\n",
      "/opt/homebrew/lib/python3.10/site-packages/sklearn/neighbors/_classification.py:233: DataConversionWarning: A column-vector y was passed when a 1d array was expected. Please change the shape of y to (n_samples,), for example using ravel().\n",
      "  return self._fit(X, y)\n",
      "/opt/homebrew/lib/python3.10/site-packages/sklearn/neighbors/_classification.py:233: DataConversionWarning: A column-vector y was passed when a 1d array was expected. Please change the shape of y to (n_samples,), for example using ravel().\n",
      "  return self._fit(X, y)\n",
      "/opt/homebrew/lib/python3.10/site-packages/sklearn/neighbors/_classification.py:233: DataConversionWarning: A column-vector y was passed when a 1d array was expected. Please change the shape of y to (n_samples,), for example using ravel().\n",
      "  return self._fit(X, y)\n",
      "/opt/homebrew/lib/python3.10/site-packages/sklearn/neighbors/_classification.py:233: DataConversionWarning: A column-vector y was passed when a 1d array was expected. Please change the shape of y to (n_samples,), for example using ravel().\n",
      "  return self._fit(X, y)\n"
     ]
    },
    {
     "name": "stdout",
     "output_type": "stream",
     "text": [
      "[CV 4/5] END algorithm=auto, metric=l1, n_neighbors=89, p=2, weights=uniform;, score=0.777 total time=   0.5s\n"
     ]
    },
    {
     "name": "stderr",
     "output_type": "stream",
     "text": [
      "/opt/homebrew/lib/python3.10/site-packages/sklearn/neighbors/_classification.py:233: DataConversionWarning: A column-vector y was passed when a 1d array was expected. Please change the shape of y to (n_samples,), for example using ravel().\n",
      "  return self._fit(X, y)\n"
     ]
    },
    {
     "name": "stdout",
     "output_type": "stream",
     "text": [
      "[CV 2/5] END algorithm=auto, metric=l1, n_neighbors=89, p=2, weights=distance;, score=0.774 total time=   0.5s\n",
      "[CV 3/5] END algorithm=auto, metric=l2, n_neighbors=89, p=2, weights=uniform;, score=0.765 total time=   0.4s\n",
      "[CV 4/5] END algorithm=auto, metric=l1, n_neighbors=89, p=2, weights=distance;, score=0.787 total time=   0.5s\n",
      "[CV 3/5] END algorithm=auto, metric=l2, n_neighbors=89, p=1, weights=uniform;, score=0.765 total time=   0.5s\n",
      "[CV 4/5] END algorithm=auto, metric=l2, n_neighbors=89, p=1, weights=distance;, score=0.792 total time=   0.5s\n",
      "[CV 5/5] END algorithm=auto, metric=l2, n_neighbors=89, p=1, weights=uniform;, score=0.779 total time=   0.5s\n",
      "[CV 1/5] END algorithm=auto, metric=l2, n_neighbors=89, p=1, weights=uniform;, score=0.751 total time=   0.5s\n"
     ]
    },
    {
     "name": "stderr",
     "output_type": "stream",
     "text": [
      "/opt/homebrew/lib/python3.10/site-packages/sklearn/neighbors/_classification.py:233: DataConversionWarning: A column-vector y was passed when a 1d array was expected. Please change the shape of y to (n_samples,), for example using ravel().\n",
      "  return self._fit(X, y)\n",
      "/opt/homebrew/lib/python3.10/site-packages/sklearn/neighbors/_classification.py:233: DataConversionWarning: A column-vector y was passed when a 1d array was expected. Please change the shape of y to (n_samples,), for example using ravel().\n",
      "  return self._fit(X, y)\n",
      "/opt/homebrew/lib/python3.10/site-packages/sklearn/neighbors/_classification.py:233: DataConversionWarning: A column-vector y was passed when a 1d array was expected. Please change the shape of y to (n_samples,), for example using ravel().\n",
      "  return self._fit(X, y)\n",
      "/opt/homebrew/lib/python3.10/site-packages/sklearn/neighbors/_classification.py:233: DataConversionWarning: A column-vector y was passed when a 1d array was expected. Please change the shape of y to (n_samples,), for example using ravel().\n",
      "  return self._fit(X, y)\n",
      "/opt/homebrew/lib/python3.10/site-packages/sklearn/neighbors/_classification.py:233: DataConversionWarning: A column-vector y was passed when a 1d array was expected. Please change the shape of y to (n_samples,), for example using ravel().\n",
      "  return self._fit(X, y)\n",
      "/opt/homebrew/lib/python3.10/site-packages/sklearn/neighbors/_classification.py:233: DataConversionWarning: A column-vector y was passed when a 1d array was expected. Please change the shape of y to (n_samples,), for example using ravel().\n",
      "  return self._fit(X, y)\n",
      "/opt/homebrew/lib/python3.10/site-packages/sklearn/neighbors/_classification.py:233: DataConversionWarning: A column-vector y was passed when a 1d array was expected. Please change the shape of y to (n_samples,), for example using ravel().\n",
      "  return self._fit(X, y)\n"
     ]
    },
    {
     "name": "stdout",
     "output_type": "stream",
     "text": [
      "[CV 2/5] END algorithm=auto, metric=l2, n_neighbors=89, p=2, weights=distance;, score=0.774 total time=   0.5s\n"
     ]
    },
    {
     "name": "stderr",
     "output_type": "stream",
     "text": [
      "/opt/homebrew/lib/python3.10/site-packages/sklearn/neighbors/_classification.py:233: DataConversionWarning: A column-vector y was passed when a 1d array was expected. Please change the shape of y to (n_samples,), for example using ravel().\n",
      "  return self._fit(X, y)\n"
     ]
    },
    {
     "name": "stdout",
     "output_type": "stream",
     "text": [
      "[CV 3/5] END algorithm=auto, metric=l1, n_neighbors=89, p=2, weights=distance;, score=0.787 total time=   0.5s\n",
      "[CV 4/5] END algorithm=auto, metric=l2, n_neighbors=89, p=1, weights=uniform;, score=0.776 total time=   0.4s\n",
      "[CV 4/5] END algorithm=auto, metric=l2, n_neighbors=89, p=2, weights=uniform;, score=0.776 total time=   0.5s\n",
      "[CV 5/5] END algorithm=auto, metric=l2, n_neighbors=89, p=1, weights=distance;, score=0.791 total time=   0.5s\n",
      "[CV 5/5] END algorithm=auto, metric=l1, n_neighbors=89, p=2, weights=distance;, score=0.791 total time=   0.5s\n",
      "[CV 2/5] END algorithm=auto, metric=l2, n_neighbors=89, p=1, weights=uniform;, score=0.761 total time=   0.5s\n",
      "[CV 1/5] END algorithm=auto, metric=l2, n_neighbors=89, p=1, weights=distance;, score=0.759 total time=   0.5s\n"
     ]
    },
    {
     "name": "stderr",
     "output_type": "stream",
     "text": [
      "/opt/homebrew/lib/python3.10/site-packages/sklearn/neighbors/_classification.py:233: DataConversionWarning: A column-vector y was passed when a 1d array was expected. Please change the shape of y to (n_samples,), for example using ravel().\n",
      "  return self._fit(X, y)\n",
      "/opt/homebrew/lib/python3.10/site-packages/sklearn/neighbors/_classification.py:233: DataConversionWarning: A column-vector y was passed when a 1d array was expected. Please change the shape of y to (n_samples,), for example using ravel().\n",
      "  return self._fit(X, y)\n",
      "/opt/homebrew/lib/python3.10/site-packages/sklearn/neighbors/_classification.py:233: DataConversionWarning: A column-vector y was passed when a 1d array was expected. Please change the shape of y to (n_samples,), for example using ravel().\n",
      "  return self._fit(X, y)\n",
      "/opt/homebrew/lib/python3.10/site-packages/sklearn/neighbors/_classification.py:233: DataConversionWarning: A column-vector y was passed when a 1d array was expected. Please change the shape of y to (n_samples,), for example using ravel().\n",
      "  return self._fit(X, y)\n",
      "/opt/homebrew/lib/python3.10/site-packages/sklearn/neighbors/_classification.py:233: DataConversionWarning: A column-vector y was passed when a 1d array was expected. Please change the shape of y to (n_samples,), for example using ravel().\n",
      "  return self._fit(X, y)\n",
      "/opt/homebrew/lib/python3.10/site-packages/sklearn/neighbors/_classification.py:233: DataConversionWarning: A column-vector y was passed when a 1d array was expected. Please change the shape of y to (n_samples,), for example using ravel().\n",
      "  return self._fit(X, y)\n",
      "/opt/homebrew/lib/python3.10/site-packages/sklearn/neighbors/_classification.py:233: DataConversionWarning: A column-vector y was passed when a 1d array was expected. Please change the shape of y to (n_samples,), for example using ravel().\n",
      "  return self._fit(X, y)\n"
     ]
    },
    {
     "name": "stdout",
     "output_type": "stream",
     "text": [
      "[CV 3/5] END algorithm=auto, metric=l2, n_neighbors=89, p=2, weights=distance;, score=0.777 total time=   0.4s\n",
      "[CV 1/5] END algorithm=auto, metric=manhattan, n_neighbors=89, p=1, weights=uniform;, score=0.758 total time=   0.4s\n"
     ]
    },
    {
     "name": "stderr",
     "output_type": "stream",
     "text": [
      "/opt/homebrew/lib/python3.10/site-packages/sklearn/neighbors/_classification.py:233: DataConversionWarning: A column-vector y was passed when a 1d array was expected. Please change the shape of y to (n_samples,), for example using ravel().\n",
      "  return self._fit(X, y)\n",
      "/opt/homebrew/lib/python3.10/site-packages/sklearn/neighbors/_classification.py:233: DataConversionWarning: A column-vector y was passed when a 1d array was expected. Please change the shape of y to (n_samples,), for example using ravel().\n",
      "  return self._fit(X, y)\n"
     ]
    },
    {
     "name": "stdout",
     "output_type": "stream",
     "text": [
      "[CV 5/5] END algorithm=auto, metric=manhattan, n_neighbors=89, p=1, weights=uniform;, score=0.783 total time=   0.4s\n",
      "[CV 5/5] END algorithm=auto, metric=l2, n_neighbors=89, p=2, weights=uniform;, score=0.779 total time=   0.5s\n",
      "[CV 3/5] END algorithm=auto, metric=manhattan, n_neighbors=89, p=2, weights=uniform;, score=0.781 total time=   0.4s\n",
      "[CV 4/5] END algorithm=auto, metric=manhattan, n_neighbors=89, p=1, weights=distance;, score=0.787 total time=   0.4s\n",
      "[CV 2/5] END algorithm=auto, metric=l2, n_neighbors=89, p=1, weights=distance;, score=0.774 total time=   0.5s\n",
      "[CV 4/5] END algorithm=auto, metric=l2, n_neighbors=89, p=2, weights=distance;, score=0.792 total time=   0.5s\n"
     ]
    },
    {
     "name": "stderr",
     "output_type": "stream",
     "text": [
      "/opt/homebrew/lib/python3.10/site-packages/sklearn/neighbors/_classification.py:233: DataConversionWarning: A column-vector y was passed when a 1d array was expected. Please change the shape of y to (n_samples,), for example using ravel().\n",
      "  return self._fit(X, y)\n",
      "/opt/homebrew/lib/python3.10/site-packages/sklearn/neighbors/_classification.py:233: DataConversionWarning: A column-vector y was passed when a 1d array was expected. Please change the shape of y to (n_samples,), for example using ravel().\n",
      "  return self._fit(X, y)\n",
      "/opt/homebrew/lib/python3.10/site-packages/sklearn/neighbors/_classification.py:233: DataConversionWarning: A column-vector y was passed when a 1d array was expected. Please change the shape of y to (n_samples,), for example using ravel().\n",
      "  return self._fit(X, y)\n",
      "/opt/homebrew/lib/python3.10/site-packages/sklearn/neighbors/_classification.py:233: DataConversionWarning: A column-vector y was passed when a 1d array was expected. Please change the shape of y to (n_samples,), for example using ravel().\n",
      "  return self._fit(X, y)\n",
      "/opt/homebrew/lib/python3.10/site-packages/sklearn/neighbors/_classification.py:233: DataConversionWarning: A column-vector y was passed when a 1d array was expected. Please change the shape of y to (n_samples,), for example using ravel().\n",
      "  return self._fit(X, y)\n",
      "/opt/homebrew/lib/python3.10/site-packages/sklearn/neighbors/_classification.py:233: DataConversionWarning: A column-vector y was passed when a 1d array was expected. Please change the shape of y to (n_samples,), for example using ravel().\n",
      "  return self._fit(X, y)\n"
     ]
    },
    {
     "name": "stdout",
     "output_type": "stream",
     "text": [
      "[CV 1/5] END algorithm=auto, metric=l2, n_neighbors=89, p=2, weights=uniform;, score=0.751 total time=   0.6s\n",
      "[CV 2/5] END algorithm=auto, metric=manhattan, n_neighbors=89, p=1, weights=uniform;, score=0.763 total time=   0.5s\n"
     ]
    },
    {
     "name": "stderr",
     "output_type": "stream",
     "text": [
      "/opt/homebrew/lib/python3.10/site-packages/sklearn/neighbors/_classification.py:233: DataConversionWarning: A column-vector y was passed when a 1d array was expected. Please change the shape of y to (n_samples,), for example using ravel().\n",
      "  return self._fit(X, y)\n",
      "/opt/homebrew/lib/python3.10/site-packages/sklearn/neighbors/_classification.py:233: DataConversionWarning: A column-vector y was passed when a 1d array was expected. Please change the shape of y to (n_samples,), for example using ravel().\n",
      "  return self._fit(X, y)\n"
     ]
    },
    {
     "name": "stdout",
     "output_type": "stream",
     "text": [
      "[CV 1/5] END algorithm=auto, metric=l2, n_neighbors=89, p=2, weights=distance;, score=0.759 total time=   0.5s\n",
      "[CV 1/5] END algorithm=auto, metric=manhattan, n_neighbors=89, p=1, weights=distance;, score=0.767 total time=   0.5s\n",
      "[CV 5/5] END algorithm=auto, metric=manhattan, n_neighbors=89, p=1, weights=distance;, score=0.791 total time=   0.5s\n",
      "[CV 4/5] END algorithm=auto, metric=manhattan, n_neighbors=89, p=2, weights=uniform;, score=0.777 total time=   0.5s\n",
      "[CV 3/5] END algorithm=auto, metric=l2, n_neighbors=89, p=1, weights=distance;, score=0.777 total time=   0.5s\n",
      "[CV 5/5] END algorithm=auto, metric=l2, n_neighbors=89, p=2, weights=distance;, score=0.791 total time=   0.5s\n"
     ]
    },
    {
     "name": "stderr",
     "output_type": "stream",
     "text": [
      "/opt/homebrew/lib/python3.10/site-packages/sklearn/neighbors/_classification.py:233: DataConversionWarning: A column-vector y was passed when a 1d array was expected. Please change the shape of y to (n_samples,), for example using ravel().\n",
      "  return self._fit(X, y)\n",
      "/opt/homebrew/lib/python3.10/site-packages/sklearn/neighbors/_classification.py:233: DataConversionWarning: A column-vector y was passed when a 1d array was expected. Please change the shape of y to (n_samples,), for example using ravel().\n",
      "  return self._fit(X, y)\n",
      "/opt/homebrew/lib/python3.10/site-packages/sklearn/neighbors/_classification.py:233: DataConversionWarning: A column-vector y was passed when a 1d array was expected. Please change the shape of y to (n_samples,), for example using ravel().\n",
      "  return self._fit(X, y)\n",
      "/opt/homebrew/lib/python3.10/site-packages/sklearn/neighbors/_classification.py:233: DataConversionWarning: A column-vector y was passed when a 1d array was expected. Please change the shape of y to (n_samples,), for example using ravel().\n",
      "  return self._fit(X, y)\n",
      "/opt/homebrew/lib/python3.10/site-packages/sklearn/neighbors/_classification.py:233: DataConversionWarning: A column-vector y was passed when a 1d array was expected. Please change the shape of y to (n_samples,), for example using ravel().\n",
      "  return self._fit(X, y)\n",
      "/opt/homebrew/lib/python3.10/site-packages/sklearn/neighbors/_classification.py:233: DataConversionWarning: A column-vector y was passed when a 1d array was expected. Please change the shape of y to (n_samples,), for example using ravel().\n",
      "  return self._fit(X, y)\n"
     ]
    },
    {
     "name": "stdout",
     "output_type": "stream",
     "text": [
      "[CV 2/5] END algorithm=auto, metric=l2, n_neighbors=89, p=2, weights=uniform;, score=0.761 total time=   0.5s\n",
      "[CV 3/5] END algorithm=auto, metric=manhattan, n_neighbors=89, p=1, weights=uniform;, score=0.781 total time=   0.4s\n"
     ]
    },
    {
     "name": "stderr",
     "output_type": "stream",
     "text": [
      "/opt/homebrew/lib/python3.10/site-packages/sklearn/neighbors/_classification.py:233: DataConversionWarning: A column-vector y was passed when a 1d array was expected. Please change the shape of y to (n_samples,), for example using ravel().\n",
      "  return self._fit(X, y)\n",
      "/opt/homebrew/lib/python3.10/site-packages/sklearn/neighbors/_classification.py:233: DataConversionWarning: A column-vector y was passed when a 1d array was expected. Please change the shape of y to (n_samples,), for example using ravel().\n",
      "  return self._fit(X, y)\n"
     ]
    },
    {
     "name": "stdout",
     "output_type": "stream",
     "text": [
      "[CV 2/5] END algorithm=auto, metric=manhattan, n_neighbors=89, p=1, weights=distance;, score=0.774 total time=   0.5s\n",
      "[CV 1/5] END algorithm=auto, metric=manhattan, n_neighbors=89, p=2, weights=uniform;, score=0.758 total time=   0.4s\n",
      "[CV 5/5] END algorithm=auto, metric=manhattan, n_neighbors=89, p=2, weights=uniform;, score=0.783 total time=   0.5s\n",
      "[CV 2/5] END algorithm=auto, metric=manhattan, n_neighbors=89, p=2, weights=distance;, score=0.774 total time=   0.6s\n",
      "[CV 3/5] END algorithm=auto, metric=manhattan, n_neighbors=89, p=2, weights=distance;, score=0.787 total time=   0.5s\n",
      "[CV 5/5] END algorithm=auto, metric=manhattan, n_neighbors=89, p=2, weights=distance;, score=0.791 total time=   0.4s\n",
      "[CV 4/5] END algorithm=auto, metric=manhattan, n_neighbors=89, p=2, weights=distance;, score=0.787 total time=   0.5s\n"
     ]
    },
    {
     "name": "stderr",
     "output_type": "stream",
     "text": [
      "/opt/homebrew/lib/python3.10/site-packages/sklearn/neighbors/_classification.py:233: DataConversionWarning: A column-vector y was passed when a 1d array was expected. Please change the shape of y to (n_samples,), for example using ravel().\n",
      "  return self._fit(X, y)\n",
      "/opt/homebrew/lib/python3.10/site-packages/sklearn/neighbors/_classification.py:233: DataConversionWarning: A column-vector y was passed when a 1d array was expected. Please change the shape of y to (n_samples,), for example using ravel().\n",
      "  return self._fit(X, y)\n",
      "/opt/homebrew/lib/python3.10/site-packages/sklearn/neighbors/_classification.py:233: DataConversionWarning: A column-vector y was passed when a 1d array was expected. Please change the shape of y to (n_samples,), for example using ravel().\n",
      "  return self._fit(X, y)\n",
      "/opt/homebrew/lib/python3.10/site-packages/sklearn/neighbors/_classification.py:233: DataConversionWarning: A column-vector y was passed when a 1d array was expected. Please change the shape of y to (n_samples,), for example using ravel().\n",
      "  return self._fit(X, y)\n",
      "/opt/homebrew/lib/python3.10/site-packages/sklearn/neighbors/_classification.py:233: DataConversionWarning: A column-vector y was passed when a 1d array was expected. Please change the shape of y to (n_samples,), for example using ravel().\n",
      "  return self._fit(X, y)\n",
      "/opt/homebrew/lib/python3.10/site-packages/sklearn/neighbors/_classification.py:233: DataConversionWarning: A column-vector y was passed when a 1d array was expected. Please change the shape of y to (n_samples,), for example using ravel().\n",
      "  return self._fit(X, y)\n",
      "/opt/homebrew/lib/python3.10/site-packages/sklearn/neighbors/_classification.py:233: DataConversionWarning: A column-vector y was passed when a 1d array was expected. Please change the shape of y to (n_samples,), for example using ravel().\n",
      "  return self._fit(X, y)\n"
     ]
    },
    {
     "name": "stdout",
     "output_type": "stream",
     "text": [
      "[CV 4/5] END algorithm=auto, metric=manhattan, n_neighbors=89, p=1, weights=uniform;, score=0.777 total time=   0.5s\n",
      "[CV 3/5] END algorithm=auto, metric=manhattan, n_neighbors=89, p=1, weights=distance;, score=0.787 total time=   0.5s\n",
      "[CV 2/5] END algorithm=auto, metric=manhattan, n_neighbors=89, p=2, weights=uniform;, score=0.763 total time=   0.5s\n",
      "[CV 1/5] END algorithm=auto, metric=manhattan, n_neighbors=89, p=2, weights=distance;, score=0.767 total time=   0.5s\n"
     ]
    },
    {
     "name": "stderr",
     "output_type": "stream",
     "text": [
      "/opt/homebrew/lib/python3.10/site-packages/sklearn/neighbors/_classification.py:233: DataConversionWarning: A column-vector y was passed when a 1d array was expected. Please change the shape of y to (n_samples,), for example using ravel().\n",
      "  return self._fit(X, y)\n",
      "/opt/homebrew/lib/python3.10/site-packages/sklearn/neighbors/_classification.py:233: DataConversionWarning: A column-vector y was passed when a 1d array was expected. Please change the shape of y to (n_samples,), for example using ravel().\n",
      "  return self._fit(X, y)\n",
      "/opt/homebrew/lib/python3.10/site-packages/sklearn/neighbors/_classification.py:233: DataConversionWarning: A column-vector y was passed when a 1d array was expected. Please change the shape of y to (n_samples,), for example using ravel().\n",
      "  return self._fit(X, y)\n",
      "/opt/homebrew/lib/python3.10/site-packages/sklearn/neighbors/_classification.py:233: DataConversionWarning: A column-vector y was passed when a 1d array was expected. Please change the shape of y to (n_samples,), for example using ravel().\n",
      "  return self._fit(X, y)\n"
     ]
    },
    {
     "name": "stdout",
     "output_type": "stream",
     "text": [
      "[CV 1/5] END algorithm=auto, metric=nan_euclidean, n_neighbors=89, p=1, weights=uniform;, score=0.751 total time=   0.5s\n",
      "[CV 2/5] END algorithm=auto, metric=nan_euclidean, n_neighbors=89, p=1, weights=uniform;, score=0.761 total time=   0.6s\n",
      "[CV 3/5] END algorithm=auto, metric=nan_euclidean, n_neighbors=89, p=1, weights=uniform;, score=0.765 total time=   0.6s\n"
     ]
    },
    {
     "name": "stderr",
     "output_type": "stream",
     "text": [
      "/opt/homebrew/lib/python3.10/site-packages/sklearn/neighbors/_classification.py:233: DataConversionWarning: A column-vector y was passed when a 1d array was expected. Please change the shape of y to (n_samples,), for example using ravel().\n",
      "  return self._fit(X, y)\n",
      "/opt/homebrew/lib/python3.10/site-packages/sklearn/neighbors/_classification.py:233: DataConversionWarning: A column-vector y was passed when a 1d array was expected. Please change the shape of y to (n_samples,), for example using ravel().\n",
      "  return self._fit(X, y)\n",
      "/opt/homebrew/lib/python3.10/site-packages/sklearn/neighbors/_classification.py:233: DataConversionWarning: A column-vector y was passed when a 1d array was expected. Please change the shape of y to (n_samples,), for example using ravel().\n",
      "  return self._fit(X, y)\n"
     ]
    },
    {
     "name": "stdout",
     "output_type": "stream",
     "text": [
      "[CV 4/5] END algorithm=auto, metric=nan_euclidean, n_neighbors=89, p=1, weights=uniform;, score=0.776 total time=   0.6s\n",
      "[CV 5/5] END algorithm=auto, metric=nan_euclidean, n_neighbors=89, p=1, weights=uniform;, score=0.779 total time=   0.6s\n"
     ]
    },
    {
     "name": "stderr",
     "output_type": "stream",
     "text": [
      "/opt/homebrew/lib/python3.10/site-packages/sklearn/neighbors/_classification.py:233: DataConversionWarning: A column-vector y was passed when a 1d array was expected. Please change the shape of y to (n_samples,), for example using ravel().\n",
      "  return self._fit(X, y)\n",
      "/opt/homebrew/lib/python3.10/site-packages/sklearn/neighbors/_classification.py:233: DataConversionWarning: A column-vector y was passed when a 1d array was expected. Please change the shape of y to (n_samples,), for example using ravel().\n",
      "  return self._fit(X, y)\n"
     ]
    },
    {
     "name": "stdout",
     "output_type": "stream",
     "text": [
      "[CV 2/5] END algorithm=auto, metric=nan_euclidean, n_neighbors=89, p=1, weights=distance;, score=0.774 total time=   0.6s\n",
      "[CV 1/5] END algorithm=auto, metric=nan_euclidean, n_neighbors=89, p=1, weights=distance;, score=0.759 total time=   0.7s\n",
      "[CV 3/5] END algorithm=auto, metric=nan_euclidean, n_neighbors=89, p=1, weights=distance;, score=0.777 total time=   0.7s\n",
      "[CV 4/5] END algorithm=auto, metric=nan_euclidean, n_neighbors=89, p=1, weights=distance;, score=0.792 total time=   0.7s\n"
     ]
    },
    {
     "name": "stderr",
     "output_type": "stream",
     "text": [
      "/opt/homebrew/lib/python3.10/site-packages/sklearn/neighbors/_classification.py:233: DataConversionWarning: A column-vector y was passed when a 1d array was expected. Please change the shape of y to (n_samples,), for example using ravel().\n",
      "  return self._fit(X, y)\n",
      "/opt/homebrew/lib/python3.10/site-packages/sklearn/neighbors/_classification.py:233: DataConversionWarning: A column-vector y was passed when a 1d array was expected. Please change the shape of y to (n_samples,), for example using ravel().\n",
      "  return self._fit(X, y)\n",
      "/opt/homebrew/lib/python3.10/site-packages/sklearn/neighbors/_classification.py:233: DataConversionWarning: A column-vector y was passed when a 1d array was expected. Please change the shape of y to (n_samples,), for example using ravel().\n",
      "  return self._fit(X, y)\n",
      "/opt/homebrew/lib/python3.10/site-packages/sklearn/neighbors/_classification.py:233: DataConversionWarning: A column-vector y was passed when a 1d array was expected. Please change the shape of y to (n_samples,), for example using ravel().\n",
      "  return self._fit(X, y)\n"
     ]
    },
    {
     "name": "stdout",
     "output_type": "stream",
     "text": [
      "[CV 5/5] END algorithm=auto, metric=nan_euclidean, n_neighbors=89, p=1, weights=distance;, score=0.791 total time=   0.7s\n",
      "[CV 1/5] END algorithm=auto, metric=nan_euclidean, n_neighbors=89, p=2, weights=uniform;, score=0.751 total time=   0.7s\n",
      "[CV 2/5] END algorithm=auto, metric=nan_euclidean, n_neighbors=89, p=2, weights=uniform;, score=0.761 total time=   0.7s\n"
     ]
    },
    {
     "name": "stderr",
     "output_type": "stream",
     "text": [
      "/opt/homebrew/lib/python3.10/site-packages/sklearn/neighbors/_classification.py:233: DataConversionWarning: A column-vector y was passed when a 1d array was expected. Please change the shape of y to (n_samples,), for example using ravel().\n",
      "  return self._fit(X, y)\n",
      "/opt/homebrew/lib/python3.10/site-packages/sklearn/neighbors/_classification.py:233: DataConversionWarning: A column-vector y was passed when a 1d array was expected. Please change the shape of y to (n_samples,), for example using ravel().\n",
      "  return self._fit(X, y)\n",
      "/opt/homebrew/lib/python3.10/site-packages/sklearn/neighbors/_classification.py:233: DataConversionWarning: A column-vector y was passed when a 1d array was expected. Please change the shape of y to (n_samples,), for example using ravel().\n",
      "  return self._fit(X, y)\n"
     ]
    },
    {
     "name": "stdout",
     "output_type": "stream",
     "text": [
      "[CV 5/5] END algorithm=auto, metric=nan_euclidean, n_neighbors=89, p=2, weights=uniform;, score=0.779 total time=   0.5s\n",
      "[CV 3/5] END algorithm=auto, metric=nan_euclidean, n_neighbors=89, p=2, weights=uniform;, score=0.765 total time=   0.7s\n",
      "[CV 4/5] END algorithm=auto, metric=nan_euclidean, n_neighbors=89, p=2, weights=uniform;, score=0.776 total time=   0.7s\n",
      "[CV 1/5] END algorithm=auto, metric=nan_euclidean, n_neighbors=89, p=2, weights=distance;, score=0.759 total time=   0.6s\n",
      "[CV 2/5] END algorithm=auto, metric=nan_euclidean, n_neighbors=89, p=2, weights=distance;, score=0.774 total time=   0.6s\n",
      "[CV 3/5] END algorithm=auto, metric=nan_euclidean, n_neighbors=89, p=2, weights=distance;, score=0.777 total time=   0.5s\n",
      "[CV 5/5] END algorithm=auto, metric=nan_euclidean, n_neighbors=89, p=2, weights=distance;, score=0.791 total time=   0.5s\n",
      "[CV 4/5] END algorithm=auto, metric=nan_euclidean, n_neighbors=89, p=2, weights=distance;, score=0.792 total time=   0.6s\n",
      "Result of the best model on the test set:  [1 1 1 ... 0 0 0]\n",
      "{'algorithm': 'brute', 'metric': 'cosine', 'n_neighbors': 89, 'p': 1, 'weights': 'distance'}\n"
     ]
    }
   ],
   "source": [
    "from sklearn.model_selection import GridSearchCV \n",
    "from sklearn.neighbors import KNeighborsClassifier\n",
    "from sklearn.metrics import classification_report, confusion_matrix \n",
    "import warnings\n",
    "from sklearn.exceptions import DataConversionWarning\n",
    "warnings.filterwarnings(action='ignore', category=DataConversionWarning)\n",
    "warnings.filterwarnings(\"ignore\")\n",
    " \n",
    "dataset = data_loader(csv_file)\n",
    "best_channel_list = ['CP3', 'Cz', 'CPz', 'P3']\n",
    "best_channel_list = ['CP3', 'Cz', 'CPz', 'P3']\n",
    "reduced_dataset = channel_selection(dataset, best_channel_list)\n",
    "X_train, X_test, y_train, y_test = data_preparation(dataset=reduced_dataset, feature_subset=all_features)\n",
    "  \n",
    "# defining parameter range \n",
    "\n",
    "\n",
    "param_grid = {'n_neighbors': list(range(89,90)),\n",
    "              'weights':['uniform','distance'],\n",
    "              'algorithm':['ball_tree','kd_tree','brute','auto'],\n",
    "              'p':list(range(1,3)),\n",
    "              'metric':['cityblock','cosine', 'euclidean', 'haversine', 'l1', 'l2', 'manhattan', 'nan_euclidean']}  \n",
    "\n",
    "grid = GridSearchCV(KNeighborsClassifier(), param_grid, refit = True, verbose = 3, n_jobs= -1) \n",
    "  \n",
    "# fitting the model for grid search \n",
    "grid.fit(X_train, y_train) \n",
    "  \n",
    "# print how our model looks after hyper-parameter tuning \n",
    "#print(grid.best_estimator_) \n",
    "grid_predictions = grid.predict(X_test)\n",
    "print('Result of the best model on the test set: ', grid_predictions)\n",
    "print(grid.best_params_)\n",
    "\n",
    "\n"
   ]
  },
  {
   "cell_type": "code",
   "execution_count": 22,
   "metadata": {},
   "outputs": [
    {
     "name": "stdout",
     "output_type": "stream",
     "text": [
      "{'algorithm': 'brute', 'metric': 'cosine', 'n_neighbors': 89, 'p': 1, 'weights': 'distance'}\n"
     ]
    }
   ],
   "source": [
    "print(grid.best_params_)"
   ]
  },
  {
   "cell_type": "code",
   "execution_count": 23,
   "metadata": {},
   "outputs": [
    {
     "data": {
      "text/plain": [
       "0.7898640296662547"
      ]
     },
     "execution_count": 23,
     "metadata": {},
     "output_type": "execute_result"
    }
   ],
   "source": [
    "besto_model = KNeighborsClassifier(algorithm = 'brute',metric='cosine',weights='distance', n_neighbors= 89, p= 1)\n",
    "model = besto_model\n",
    "dataset = data_loader(csv_file)\n",
    "reduced_dataset = channel_selection(dataset, best_channel_list)\n",
    "X_train, X_test, y_train, y_test = data_preparation(dataset=reduced_dataset, feature_subset=all_features)\n",
    "\n",
    "model.fit(X_train, y_train)\n",
    "training_acc = model.score(X_train, y_train)\n",
    "test_acc = model.score(X_test, y_test)\n",
    "test_acc"
   ]
  },
  {
   "cell_type": "markdown",
   "metadata": {},
   "source": [
    "### DTC"
   ]
  },
  {
   "cell_type": "code",
   "execution_count": null,
   "metadata": {},
   "outputs": [],
   "source": [
    "from sklearn.model_selection import GridSearchCV \n",
    "from sklearn.tree import DecisionTreeClassifier\n",
    "from sklearn.metrics import classification_report, confusion_matrix \n",
    "import warnings\n",
    "from sklearn.exceptions import DataConversionWarning\n",
    "warnings.filterwarnings(action='ignore', category=DataConversionWarning)\n",
    "warnings.filterwarnings(\"ignore\")\n",
    " \n",
    "dataset = data_loader(csv_file)\n",
    "best_channel_list = ['CP3', 'Cz', 'CPz', 'P3']\n",
    "reduced_dataset = channel_selection(dataset, best_channel_list)\n",
    "X_train, X_test, y_train, y_test = data_preparation(dataset=reduced_dataset, feature_subset=all_features)\n",
    "  \n",
    "# defining parameter range \n",
    "depths = list(range(1, 100))\n",
    "param_grid = {'max_depth': depths}  \n",
    "\n",
    "grid = GridSearchCV(DecisionTreeClassifier(), param_grid, refit = True, verbose = 3, n_jobs= -1) \n",
    "  \n",
    "# fitting the model for grid search \n",
    "grid.fit(X_train, y_train) \n",
    "  \n",
    "# print how our model looks after hyper-parameter tuning \n",
    "#print(grid.best_estimator_) \n",
    "grid_predictions = grid.predict(X_test)\n",
    "test_acc = grid.score(X_test, y_test)\n",
    "print('Result of the best model on the test set: ', test_acc)\n",
    "print(grid.best_params_)"
   ]
  },
  {
   "cell_type": "markdown",
   "metadata": {},
   "source": [
    "### GBC "
   ]
  },
  {
   "cell_type": "code",
   "execution_count": null,
   "metadata": {},
   "outputs": [],
   "source": [
    "from sklearn.model_selection import GridSearchCV \n",
    "from sklearn.ensemble import GradientBoostingClassifier\n",
    "from sklearn.metrics import classification_report, confusion_matrix \n",
    "import warnings\n",
    "from sklearn.exceptions import DataConversionWarning\n",
    "warnings.filterwarnings(action='ignore', category=DataConversionWarning)\n",
    "warnings.filterwarnings(\"ignore\")\n",
    " \n",
    "dataset = data_loader(csv_file)\n",
    "best_channel_list = ['CP3', 'Cz', 'CPz', 'P3']\n",
    "reduced_dataset = channel_selection(dataset, best_channel_list)\n",
    "X_train, X_test, y_train, y_test = data_preparation(dataset=reduced_dataset, feature_subset=all_features)\n",
    "  \n",
    "# defining parameter range \n",
    "a='''param_grid = {'learning_rate': [0.01, 0.03, 0.06, 0.1, 0.15, 0.2, 0.25, 0.300000012, 0.4, 0.5, 0.6, 0.7],\n",
    "              'max_depth': [5,6,7,8,9,10,11,12,13,14],\n",
    "              'n_estimators': [50,65,80,100,115,130,150]}'''\n",
    "\n",
    "param_grid = {'learning_rate': [1.0],\n",
    "              'max_depth': [5,6,7,8,9,10,11,12,13,14],\n",
    "              'n_estimators': [50,65,80,100,115,130,150]}\n",
    "              \n",
    "grid = GridSearchCV(GradientBoostingClassifier(), param_grid, refit = True, verbose = 3, n_jobs= -1) \n",
    "  \n",
    "# fitting the model for grid search \n",
    "grid.fit(X_train, y_train) \n",
    "  \n",
    "# print how our model looks after hyper-parameter tuning \n",
    "#print(grid.best_estimator_) \n",
    "grid_predictions = grid.predict(X_test)\n",
    "test_acc = grid.score(X_test, y_test)\n",
    "print('Result of the best model on the test set: ', test_acc)\n",
    "print(grid.best_params_)"
   ]
  },
  {
   "cell_type": "code",
   "execution_count": 33,
   "metadata": {},
   "outputs": [
    {
     "name": "stdout",
     "output_type": "stream",
     "text": [
      "Result of the best model on the test set:  0.9237818181818181\n",
      "{'n_neighbors': 3}\n"
     ]
    }
   ],
   "source": [
    "grid_predictions = grid.predict(X_test)\n",
    "test_acc = grid.score(X_test, y_test)\n",
    "print('Result of the best model on the test set: ', test_acc)\n",
    "print(grid.best_params_)"
   ]
  },
  {
   "cell_type": "code",
   "execution_count": null,
   "metadata": {},
   "outputs": [],
   "source": [
    "dataset = data_loader(csv_file)\n",
    "best_channel_list = ['CP3', 'Cz', 'CPz', 'P3']\n",
    "reduced_dataset = channel_selection(dataset, best_channel_list)\n",
    "X_train, X_test, y_train, y_test = data_preparation(dataset=reduced_dataset, feature_subset=all_features)\n",
    "\n",
    "model = "
   ]
  },
  {
   "cell_type": "code",
   "execution_count": 27,
   "metadata": {},
   "outputs": [
    {
     "name": "stdout",
     "output_type": "stream",
     "text": [
      "Result of the best model on the test set:  0.8603213844252163\n",
      "{'learning_rate': 1.0, 'max_depth': 12, 'n_estimators': 80}\n",
      "Result of the best model on the test set:  0.8331273176761433\n"
     ]
    }
   ],
   "source": [
    "# print how our model looks after hyper-parameter tuning \n",
    "#print(grid.best_estimator_) \n",
    "grid_predictions = grid.predict(X_test)\n",
    "test_acc = grid.score(X_test, y_test)\n",
    "print('Result of the best model on the test set: ', test_acc)\n",
    "print(grid.best_params_)\n",
    "model = GradientBoostingClassifier(learning_rate= 0.01,  max_depth= 12, n_estimators= 500)\n",
    "model.fit(X_train, y_train) \n",
    "  \n",
    "# print how our model looks after hyper-parameter tuning \n",
    "#print(grid.best_estimator_) \n",
    "grid_predictions = model.predict(X_test)\n",
    "test_acc = model.score(X_test, y_test)\n",
    "print('Result of the best model on the test set: ', test_acc)"
   ]
  },
  {
   "cell_type": "markdown",
   "metadata": {},
   "source": [
    "## Yurteri's Method"
   ]
  },
  {
   "cell_type": "markdown",
   "metadata": {},
   "source": [
    "p_better = []\n",
    "for i in range(len(accuracies) - 1):\n",
    "    delta = accuracies[i+1] - accuracies[i]\n",
    "    if delta <= 0:\n",
    "        continue\n",
    "    else:\n",
    "        \n",
    "        p_better.append(p_all[i])\n",
    "\n",
    "data = data_preparation(selected_channels=selected_channels, selected_labels=selected_labels, feature_subset=p_better)\n",
    "for model in models:\n",
    "    training, test = model_training(data, model, stats=False, cm=False, verbose=True)"
   ]
  },
  {
   "cell_type": "markdown",
   "metadata": {},
   "source": [
    "import matplotlib.pyplot as plt\n",
    "plt.plot(np.linspace(1,len(accuracies),len(accuracies)), accuracies)\n",
    "plt.legend()\n",
    "plt.savefig('foo.png', bbox_inches='tight')\n",
    "plt.grid()\n",
    "plt.show()\n",
    "plt.legend(['GBC', 'K-NN', 'SVM', 'DTC', 'NN'])"
   ]
  }
 ],
 "metadata": {
  "kernelspec": {
   "display_name": "paws",
   "language": "python",
   "name": "python3"
  },
  "language_info": {
   "codemirror_mode": {
    "name": "ipython",
    "version": 3
   },
   "file_extension": ".py",
   "mimetype": "text/x-python",
   "name": "python",
   "nbconvert_exporter": "python",
   "pygments_lexer": "ipython3",
   "version": "3.10.10"
  }
 },
 "nbformat": 4,
 "nbformat_minor": 2
}
