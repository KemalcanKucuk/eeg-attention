{
 "cells": [
  {
   "cell_type": "code",
   "execution_count": null,
   "metadata": {},
   "outputs": [],
   "source": [
    "'''\n",
    "x = np.linspace(0.0, N*T, N, endpoint=False)\n",
    "\n",
    "\n",
    "\n",
    "import matplotlib.pyplot as plt\n",
    "plt.plot(xf, yf)\n",
    "\n",
    "\n",
    "plt.plot(xf[peaks], yf[peaks], 'ro', label='Selected Points', markersize=3)\n",
    "plt.grid()\n",
    "plt.show()\n",
    "'''\n",
    "\n"
   ]
  }
 ],
 "metadata": {
  "language_info": {
   "name": "python"
  }
 },
 "nbformat": 4,
 "nbformat_minor": 2
}
