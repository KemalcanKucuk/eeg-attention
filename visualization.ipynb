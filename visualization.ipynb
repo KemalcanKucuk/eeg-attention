{
 "cells": [
  {
   "cell_type": "code",
   "execution_count": null,
   "metadata": {},
   "outputs": [],
   "source": [
    "'''\n",
    "x = np.linspace(0.0, N*T, N, endpoint=False)\n",
    "\n",
    "\n",
    "\n",
    "import matplotlib.pyplot as plt\n",
    "plt.plot(xf, yf)\n",
    "\n",
    "\n",
    "plt.plot(xf[peaks], yf[peaks], 'ro', label='Selected Points', markersize=3)\n",
    "plt.grid()\n",
    "plt.show()\n",
    "\n",
    "\n",
    "\n",
    "\n",
    "\n",
    "\n",
    "\n",
    "\n",
    "\n",
    "\n",
    "\n",
    "\n",
    "\n",
    "\n",
    "from mpl_interactions import ioff, panhandler, zoom_factory\n",
    "import matplotlib.pyplot as plt\n",
    "%matplotlib widget\n",
    "\n",
    "with plt.ioff():\n",
    "    figure, axis = plt.subplots()\n",
    "# creating the bar plot\n",
    "plt.xlabel(\"Feature #\")\n",
    "plt.ylabel(\"Accuracy\")\n",
    "plt.title(\"Accuracy wrt feature amount\")\n",
    "plt.plot(np.linspace(1,len(accuracies),len(accuracies)), accuracies, color='green')\n",
    "disconnect_zoom = zoom_factory(axis)\n",
    "# Enable scrolling and panning with the help of MPL\n",
    "# Interactions library function like panhandler.\n",
    "pan_handler = panhandler(figure)\n",
    "display(figure.canvas)\n",
    "'''\n",
    "\n"
   ]
  }
 ],
 "metadata": {
  "language_info": {
   "name": "python"
  }
 },
 "nbformat": 4,
 "nbformat_minor": 2
}
